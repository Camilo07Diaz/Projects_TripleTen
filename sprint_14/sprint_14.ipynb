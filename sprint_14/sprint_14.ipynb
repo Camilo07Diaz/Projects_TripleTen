{
 "cells": [
  {
   "cell_type": "markdown",
   "metadata": {},
   "source": [
    "# Proyecto SQL"
   ]
  },
  {
   "cell_type": "markdown",
   "metadata": {},
   "source": [
    "En esta etapa del proyecto final, utilizaremos SQL para realizar un análisis sobre el comportamiento de venta de libros de una starup. \n",
    "\n",
    "Dentro del estudio, buscaremos identificar aspectos claves para el conocimiento y entendimiento de diferentes factores referentes al dinamismo de los libros. "
   ]
  },
  {
   "cell_type": "markdown",
   "metadata": {},
   "source": [
    "## Importamos las librerías "
   ]
  },
  {
   "cell_type": "code",
   "execution_count": 1,
   "metadata": {},
   "outputs": [
    {
     "name": "stdout",
     "output_type": "stream",
     "text": [
      "Tablas disponibles en la base de datos:\n",
      "['ratings', 'advertisment_costs', 'authors', 'orders', 'reviews', 'visits', 'books', 'users', 'publishers']\n",
      "\n",
      "Mostrando primeras filas de la tabla: ratings\n",
      "   rating_id  book_id       username  rating\n",
      "0          1        1     ryanfranco       4\n",
      "1          2        1  grantpatricia       2\n",
      "2          3        1   brandtandrea       5\n",
      "3          4        2       lorichen       3\n",
      "4          5        2    mariokeller       2\n",
      "\n",
      "Mostrando primeras filas de la tabla: advertisment_costs\n",
      "   id  sourceid         dt   costs\n",
      "0   1         1 2017-06-01  $75.20\n",
      "1   2         1 2017-06-02  $62.25\n",
      "2   3         1 2017-06-03  $36.53\n",
      "3   4         1 2017-06-04  $55.00\n",
      "4   5         1 2017-06-05  $57.08\n",
      "\n",
      "Mostrando primeras filas de la tabla: authors\n",
      "   author_id                          author\n",
      "0          1                      A.S. Byatt\n",
      "1          2  Aesop/Laura Harris/Laura Gibbs\n",
      "2          3                 Agatha Christie\n",
      "3          4                   Alan Brennert\n",
      "4          5        Alan Moore/David   Lloyd\n",
      "\n",
      "Mostrando primeras filas de la tabla: orders\n",
      "   id               buyts revenue                   uid\n",
      "0   1 2017-06-01 00:10:00  $17.00  10329302124590727494\n",
      "1   2 2017-06-01 00:25:00   $0.55  11627257723692907447\n",
      "2   3 2017-06-01 00:27:00   $0.37  17903680561304213844\n",
      "3   4 2017-06-01 00:29:00   $0.55  16109239769442553005\n",
      "4   5 2017-06-01 07:58:00   $0.37  14200605875248379450\n",
      "\n",
      "Mostrando primeras filas de la tabla: reviews\n",
      "   review_id  book_id       username  \\\n",
      "0          1        1   brandtandrea   \n",
      "1          2        1     ryanfranco   \n",
      "2          3        2       lorichen   \n",
      "3          4        3  johnsonamanda   \n",
      "4          5        3    scotttamara   \n",
      "\n",
      "                                                text  \n",
      "0  Mention society tell send professor analysis. ...  \n",
      "1  Foot glass pretty audience hit themselves. Amo...  \n",
      "2  Listen treat keep worry. Miss husband tax but ...  \n",
      "3  Finally month interesting blue could nature cu...  \n",
      "4  Nation purpose heavy give wait song will. List...  \n",
      "\n",
      "Mostrando primeras filas de la tabla: visits\n",
      "   id                   uid   device               endts  sourceid  \\\n",
      "0   0  16879256277535980062    touch 2017-12-20 17:38:00         4   \n",
      "1   1    104060357244891740  desktop 2018-02-19 17:21:00         2   \n",
      "2   2   7459035603376831527    touch 2017-07-01 01:54:00         5   \n",
      "3   3  16174680259334210214  desktop 2018-05-20 11:23:00         9   \n",
      "4   4   9969694820036681168  desktop 2017-12-27 14:06:00         3   \n",
      "\n",
      "              startts  \n",
      "0 2017-12-20 17:20:00  \n",
      "1 2018-02-19 16:53:00  \n",
      "2 2017-07-01 01:54:00  \n",
      "3 2018-05-20 10:59:00  \n",
      "4 2017-12-27 14:06:00  \n",
      "\n",
      "Mostrando primeras filas de la tabla: books\n",
      "   book_id  author_id                                              title  \\\n",
      "0        1        546                                       'Salem's Lot   \n",
      "1        2        465                 1 000 Places to See Before You Die   \n",
      "2        3        407  13 Little Blue Envelopes (Little Blue Envelope...   \n",
      "3        4         82  1491: New Revelations of the Americas Before C...   \n",
      "4        5        125                                               1776   \n",
      "\n",
      "   num_pages publication_date  publisher_id  \n",
      "0        594       2005-11-01            93  \n",
      "1        992       2003-05-22           336  \n",
      "2        322       2010-12-21           135  \n",
      "3        541       2006-10-10           309  \n",
      "4        386       2006-07-04           268  \n",
      "\n",
      "Mostrando primeras filas de la tabla: users\n",
      "   user_id       username\n",
      "0        1   lewisdesiree\n",
      "1        2          ulowe\n",
      "2        3  patrickhudson\n",
      "3        4    conradanita\n",
      "4        5      patrick05\n",
      "\n",
      "Mostrando primeras filas de la tabla: publishers\n",
      "   publisher_id                          publisher\n",
      "0             1                                Ace\n",
      "1             2                           Ace Book\n",
      "2             3                          Ace Books\n",
      "3             4                      Ace Hardcover\n",
      "4             5  Addison Wesley Publishing Company\n"
     ]
    }
   ],
   "source": [
    "\n",
    "\n",
    "# Importar librerías\n",
    "import pandas as pd\n",
    "from sqlalchemy import create_engine, inspect\n",
    "\n",
    "# Configuración de conexión\n",
    "db_config = {\n",
    "    'user': 'practicum_student',  # usuario\n",
    "    'pwd': 'QnmDH8Sc2TQLvy2G3Vvh7',  # contraseña\n",
    "    'host': 'yp-trainers-practicum.cluster-czs0gxyx2d8w.us-east-1.rds.amazonaws.com',\n",
    "    'port': 5432,  # puerto\n",
    "    'db': 'data-analyst-final-project-db'  # nombre de la base de datos\n",
    "}\n",
    "\n",
    "# Crear string de conexión\n",
    "connection_string = 'postgresql://{}:{}@{}:{}/{}'.format(\n",
    "    db_config['user'],\n",
    "    db_config['pwd'],\n",
    "    db_config['host'],\n",
    "    db_config['port'],\n",
    "    db_config['db']\n",
    ")\n",
    "\n",
    "# Conexión al motor\n",
    "engine = create_engine(connection_string, connect_args={'sslmode': 'require'})\n",
    "\n",
    "# 1. Listar todas las tablas disponibles\n",
    "inspector = inspect(engine)\n",
    "tables = inspector.get_table_names()\n",
    "print(\"Tablas disponibles en la base de datos:\")\n",
    "print(tables)\n",
    "\n",
    "\n",
    "# 2. Loop para leer y mostrar las primeras filas de cada tabla\n",
    "for table in tables:\n",
    "    print(f\"\\nMostrando primeras filas de la tabla: {table}\")\n",
    "    query = f\"SELECT * FROM {table} LIMIT 5;\"\n",
    "    df = pd.read_sql(query, con=engine)\n",
    "    print(df.head())\n"
   ]
  },
  {
   "cell_type": "markdown",
   "metadata": {},
   "source": [
    "Con lo anterior, revisamos las primeras filas de cada tabla para conocer la información contenida en cada una de ellas. "
   ]
  },
  {
   "cell_type": "markdown",
   "metadata": {},
   "source": [
    "## Libros publicados después del 1 de enero de 2000"
   ]
  },
  {
   "cell_type": "markdown",
   "metadata": {},
   "source": [
    "Usando SQL, hallaremos el total de numeros públicos después del 01/01/2020"
   ]
  },
  {
   "cell_type": "code",
   "execution_count": 2,
   "metadata": {},
   "outputs": [
    {
     "name": "stdout",
     "output_type": "stream",
     "text": [
      "   num_books\n",
      "0        819\n"
     ]
    }
   ],
   "source": [
    "\n",
    "query = \"\"\"\n",
    "SELECT COUNT(*) AS num_books\n",
    "FROM books\n",
    "WHERE publication_date > '2000-01-01';\n",
    "\"\"\"\n",
    "\n",
    "df = pd.read_sql(query, con=engine)\n",
    "print(df)\n"
   ]
  },
  {
   "cell_type": "markdown",
   "metadata": {},
   "source": [
    "En total, se publicaron 819 libros "
   ]
  },
  {
   "cell_type": "markdown",
   "metadata": {},
   "source": [
    "## Número de reseñas de usuarios y la calificación promedio de cada libro"
   ]
  },
  {
   "cell_type": "code",
   "execution_count": 3,
   "metadata": {},
   "outputs": [
    {
     "name": "stdout",
     "output_type": "stream",
     "text": [
      "    book_id  num_reviews  avg_rating\n",
      "0         1            2        3.67\n",
      "1         2            1        2.50\n",
      "2         3            3        4.67\n",
      "3         4            2        4.50\n",
      "4         5            4        4.00\n",
      "5         6            4        3.50\n",
      "6         7            3        3.00\n",
      "7         8            3        4.00\n",
      "8         9            2        4.25\n",
      "9        10            3        3.20\n",
      "10       11            3        4.25\n",
      "11       12            4        4.00\n",
      "12       13            2        3.00\n",
      "13       14            1        4.50\n",
      "14       15            5        4.39\n",
      "15       16            3        4.50\n",
      "16       17            4        5.00\n",
      "17       18            2        4.00\n",
      "18       19            4        4.00\n",
      "19       20            2        5.00\n"
     ]
    }
   ],
   "source": [
    "query = \"\"\"\n",
    "SELECT \n",
    "    r.book_id,\n",
    "    COUNT(DISTINCT r.review_id) AS num_reviews,\n",
    "    ROUND(AVG(rt.rating), 2) AS avg_rating\n",
    "FROM reviews r\n",
    "JOIN ratings rt ON r.book_id = rt.book_id\n",
    "GROUP BY r.book_id\n",
    "ORDER BY r.book_id;\n",
    "\"\"\"\n",
    "\n",
    "df = pd.read_sql(query, con=engine)\n",
    "print(df.head(20))"
   ]
  },
  {
   "cell_type": "markdown",
   "metadata": {},
   "source": [
    "## Editorial con mayor publicaciones de libros con más de 50 páginas "
   ]
  },
  {
   "cell_type": "code",
   "execution_count": 4,
   "metadata": {},
   "outputs": [
    {
     "name": "stdout",
     "output_type": "stream",
     "text": [
      "   publisher_id publisher_name  num_books\n",
      "0           212  Penguin Books         42\n"
     ]
    }
   ],
   "source": [
    "query = \"\"\"\n",
    "SELECT p.publisher_id,\n",
    "       p.publisher AS publisher_name,\n",
    "       COUNT(b.book_id) AS num_books\n",
    "FROM books b\n",
    "JOIN publishers p ON b.publisher_id = p.publisher_id\n",
    "WHERE b.num_pages > 50\n",
    "GROUP BY p.publisher_id, p.publisher\n",
    "ORDER BY num_books DESC\n",
    "LIMIT 1;\n",
    "\"\"\"\n",
    "\n",
    "df = pd.read_sql(query, con=engine)\n",
    "print(df)"
   ]
  },
  {
   "cell_type": "markdown",
   "metadata": {},
   "source": [
    "Descartando folletos (O pulicaciones similares) tenemos que Penguin Books ha publicado 42 con más de 50 páginas. "
   ]
  },
  {
   "cell_type": "markdown",
   "metadata": {},
   "source": [
    "## Autor con más alta calificación promedio del libro"
   ]
  },
  {
   "cell_type": "code",
   "execution_count": 5,
   "metadata": {},
   "outputs": [
    {
     "name": "stdout",
     "output_type": "stream",
     "text": [
      "   author_id                 author_name  author_avg_rating\n",
      "0        236  J.K. Rowling/Mary GrandPré               4.28\n"
     ]
    }
   ],
   "source": [
    "query = \"\"\"\n",
    "WITH book_stats AS (\n",
    "    SELECT \n",
    "        book_id,\n",
    "        COUNT(rating) AS num_ratings,\n",
    "        AVG(rating) AS avg_rating\n",
    "    FROM ratings\n",
    "    GROUP BY book_id\n",
    "    HAVING COUNT(rating) >= 50\n",
    ")\n",
    "SELECT \n",
    "    a.author_id,\n",
    "    a.author AS author_name,\n",
    "    ROUND(AVG(bs.avg_rating), 2) AS author_avg_rating\n",
    "FROM book_stats bs\n",
    "JOIN books b ON bs.book_id = b.book_id\n",
    "JOIN authors a ON b.author_id = a.author_id\n",
    "GROUP BY a.author_id, a.author\n",
    "ORDER BY author_avg_rating DESC\n",
    "LIMIT 1;\n",
    "\"\"\"\n",
    "\n",
    "df = pd.read_sql(query, con=engine)\n",
    "print(df)"
   ]
  },
  {
   "cell_type": "markdown",
   "metadata": {},
   "source": [
    "¡También votaría por J.K. Rowling! con al menos 50 calificaciones, tiene un promedio de calificación de 4.28. "
   ]
  },
  {
   "cell_type": "markdown",
   "metadata": {},
   "source": [
    "## Promedio de reseñas de texto entre los usuarios que calificaron más de 50 libros"
   ]
  },
  {
   "cell_type": "code",
   "execution_count": 6,
   "metadata": {},
   "outputs": [
    {
     "name": "stdout",
     "output_type": "stream",
     "text": [
      "   avg_reviews_per_user\n",
      "0                 24.33\n"
     ]
    }
   ],
   "source": [
    "query = \"\"\"\n",
    "WITH active_users AS (\n",
    "    SELECT \n",
    "        username,\n",
    "        COUNT(rating_id) AS num_ratings\n",
    "    FROM ratings\n",
    "    GROUP BY username\n",
    "    HAVING COUNT(rating_id) > 50\n",
    "),\n",
    "user_reviews AS (\n",
    "    SELECT \n",
    "        username,\n",
    "        COUNT(review_id) AS num_reviews\n",
    "    FROM reviews\n",
    "    GROUP BY username\n",
    ")\n",
    "SELECT \n",
    "    ROUND(AVG(ur.num_reviews), 2) AS avg_reviews_per_user\n",
    "FROM active_users au\n",
    "LEFT JOIN user_reviews ur ON au.username = ur.username;\n",
    "\"\"\"\n",
    "\n",
    "df = pd.read_sql(query, con=engine)\n",
    "print(df)"
   ]
  },
  {
   "cell_type": "code",
   "execution_count": null,
   "metadata": {},
   "outputs": [],
   "source": []
  }
 ],
 "metadata": {
  "kernelspec": {
   "display_name": "Python 3 (ipykernel)",
   "language": "python",
   "name": "python3"
  },
  "language_info": {
   "codemirror_mode": {
    "name": "ipython",
    "version": 3
   },
   "file_extension": ".py",
   "mimetype": "text/x-python",
   "name": "python",
   "nbconvert_exporter": "python",
   "pygments_lexer": "ipython3",
   "version": "3.9.23"
  }
 },
 "nbformat": 4,
 "nbformat_minor": 4
}
