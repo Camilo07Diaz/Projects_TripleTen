{
 "cells": [
  {
   "cell_type": "markdown",
   "metadata": {},
   "source": [
    "¡Hola, Camilo!\n",
    "\n",
    "Mi nombre es Tonatiuh Cruz. Me complace revisar tu proyecto hoy.\n",
    "\n",
    "Al identificar cualquier error inicialmente, simplemente los destacaré. Te animo a localizar y abordar los problemas de forma independiente como parte de tu preparación para un rol como data-analyst. En un entorno profesional, tu líder de equipo seguiría un enfoque similar. Si encuentras la tarea desafiante, proporcionaré una pista más específica en la próxima iteración.\n",
    "\n",
    "Encontrarás mis comentarios a continuación - **por favor no los muevas, modifiques o elimines**.\n",
    "\n",
    "Puedes encontrar mis comentarios en cajas verdes, amarillas o rojas como esta:\n",
    "\n",
    "<div class=\"alert alert-block alert-success\">\n",
    "<b>Comentario del revisor</b> <a class=\"tocSkip\"></a>\n",
    "\n",
    "Éxito. Todo está hecho correctamente.\n",
    "</div>\n",
    "\n",
    "<div class=\"alert alert-block alert-warning\">\n",
    "<b>Comentario del revisor</b> <a class=\"tocSkip\"></a>\n",
    "\n",
    "Observaciones. Algunas recomendaciones.\n",
    "</div>\n",
    "\n",
    "<div class=\"alert alert-block alert-danger\">\n",
    "<b>Comentario del revisor</b> <a class=\"tocSkip\"></a>\n",
    "\n",
    "Necesita corrección. El bloque requiere algunas correcciones. El trabajo no puede ser aceptado con comentarios en rojo.\n",
    "</div>\n",
    "\n",
    "Puedes responderme utilizando esto:\n",
    "\n",
    "<div class=\"alert alert-block alert-info\">"
   ]
  },
  {
   "cell_type": "markdown",
   "metadata": {},
   "source": [
    "<div class=\"alert alert-block alert-success\">\n",
    "<b>Resumen de la revisión 1</b> <a class=\"tocSkip\"></a>\n",
    "\n",
    "Hola Camilo! Has hecho un excelente trabajo con los ajustes, cada vez más cercas de convertirte en un analista de datos. Realizaste la carga de bases, su análisis inicial, sus ajustes, un análisis de algunos variables conmplementado con gráficas y el desarrollo de las pruebas de hipótesis. Solamente te dejo algunos comentarios para complementar el análisis. \n",
    "\n",
    "Sigue con el excelente trabajo!\n",
    "</div>"
   ]
  },
  {
   "cell_type": "markdown",
   "metadata": {},
   "source": [
    "# 1. Llamar las librerías"
   ]
  },
  {
   "cell_type": "code",
   "execution_count": null,
   "metadata": {},
   "outputs": [],
   "source": [
    "#Llamar todas las librerías"
   ]
  },
  {
   "cell_type": "code",
   "execution_count": null,
   "metadata": {
    "tags": [
     "e5c1f0c2-db9f-43a0-99b9-4875c52427e8"
    ]
   },
   "outputs": [],
   "source": [
    "import pandas as pd \n",
    "import math as mt \n",
    "import numpy as np \n",
    "from scipy import stats as st \n",
    "from math import factorial \n",
    "import seaborn as sns  # Cargar todas las librerías\n",
    "import matplotlib.pyplot as plt\n",
    "import scipy.stats as stats"
   ]
  },
  {
   "cell_type": "markdown",
   "metadata": {},
   "source": [
    "Se llaman los datos, se verifica la información del data set para visualizar de manera general la disposición de la información y evaluar las necesidades de ajsute de esta. "
   ]
  },
  {
   "cell_type": "code",
   "execution_count": null,
   "metadata": {},
   "outputs": [
    {
     "name": "stdout",
     "output_type": "stream",
     "text": [
      "<class 'pandas.core.frame.DataFrame'>\n",
      "RangeIndex: 16715 entries, 0 to 16714\n",
      "Data columns (total 11 columns):\n",
      " #   Column           Non-Null Count  Dtype  \n",
      "---  ------           --------------  -----  \n",
      " 0   Name             16713 non-null  object \n",
      " 1   Platform         16715 non-null  object \n",
      " 2   Year_of_Release  16446 non-null  float64\n",
      " 3   Genre            16713 non-null  object \n",
      " 4   NA_sales         16715 non-null  float64\n",
      " 5   EU_sales         16715 non-null  float64\n",
      " 6   JP_sales         16715 non-null  float64\n",
      " 7   Other_sales      16715 non-null  float64\n",
      " 8   Critic_Score     8137 non-null   float64\n",
      " 9   User_Score       10014 non-null  object \n",
      " 10  Rating           9949 non-null   object \n",
      "dtypes: float64(6), object(5)\n",
      "memory usage: 1.4+ MB\n"
     ]
    }
   ],
   "source": [
    "games_data= pd.read_csv(\"/datasets/games.csv\")\n",
    "games_data.info()\n"
   ]
  },
  {
   "cell_type": "markdown",
   "metadata": {},
   "source": [
    "<div class=\"alert alert-block alert-success\">\n",
    "<b>Comentario del revisor:</b> <a class=\"tocSkip\"></a>\n",
    "    \n",
    "Has realizado un excelente trabajo al importar los datos y las bibliotecas necesarias.\n",
    "</div>"
   ]
  },
  {
   "cell_type": "markdown",
   "metadata": {},
   "source": [
    "# 2. Conversión y ajuste de la información"
   ]
  },
  {
   "cell_type": "markdown",
   "metadata": {},
   "source": [
    "# 2.1. Preparación de los datos"
   ]
  },
  {
   "cell_type": "code",
   "execution_count": null,
   "metadata": {},
   "outputs": [
    {
     "name": "stdout",
     "output_type": "stream",
     "text": [
      "<class 'pandas.core.frame.DataFrame'>\n",
      "RangeIndex: 16715 entries, 0 to 16714\n",
      "Data columns (total 11 columns):\n",
      " #   Column           Non-Null Count  Dtype  \n",
      "---  ------           --------------  -----  \n",
      " 0   name             16713 non-null  object \n",
      " 1   platform         16715 non-null  object \n",
      " 2   year_of_release  16446 non-null  float64\n",
      " 3   genre            16713 non-null  object \n",
      " 4   na_sales         16715 non-null  float64\n",
      " 5   eu_sales         16715 non-null  float64\n",
      " 6   jp_sales         16715 non-null  float64\n",
      " 7   other_sales      16715 non-null  float64\n",
      " 8   critic_score     8137 non-null   float64\n",
      " 9   user_score       10014 non-null  object \n",
      " 10  rating           9949 non-null   object \n",
      "dtypes: float64(6), object(5)\n",
      "memory usage: 1.4+ MB\n"
     ]
    }
   ],
   "source": [
    "#En este espacio modificaremos los nombres de las columnas para dejarlos en minúscula. \n",
    "columns_lower={\"Name\":\"name\",\"Platform\":\"platform\",\"Year_of_Release\":\"year_of_release\",\"Genre\":\"genre\",\"NA_sales\":\"na_sales\",\"EU_sales\":\"eu_sales\",\"JP_sales\":\"jp_sales\",\"Other_sales\":\"other_sales\",\"Critic_Score\":\"critic_score\",\"User_Score\":\"user_score\",\"Rating\":\"rating\"}\n",
    "games_data.rename(columns=columns_lower,inplace=True)\n",
    "games_data.info()\n",
    "\n"
   ]
  },
  {
   "cell_type": "code",
   "execution_count": null,
   "metadata": {},
   "outputs": [
    {
     "name": "stdout",
     "output_type": "stream",
     "text": [
      "<class 'pandas.core.frame.DataFrame'>\n",
      "RangeIndex: 16715 entries, 0 to 16714\n",
      "Data columns (total 11 columns):\n",
      " #   Column           Non-Null Count  Dtype  \n",
      "---  ------           --------------  -----  \n",
      " 0   name             16713 non-null  object \n",
      " 1   platform         16715 non-null  object \n",
      " 2   year_of_release  16446 non-null  Int64  \n",
      " 3   genre            16713 non-null  object \n",
      " 4   na_sales         16715 non-null  float64\n",
      " 5   eu_sales         16715 non-null  float64\n",
      " 6   jp_sales         16715 non-null  float64\n",
      " 7   other_sales      16715 non-null  float64\n",
      " 8   critic_score     8137 non-null   float64\n",
      " 9   user_score       7590 non-null   float64\n",
      " 10  rating           9949 non-null   object \n",
      "dtypes: Int64(1), float64(6), object(4)\n",
      "memory usage: 1.4+ MB\n"
     ]
    }
   ],
   "source": [
    "#Acá convertiremos los datos de la columna \"year_of_release\" de float64 a int64 y los datos de la columna \"user_score\" de object a float64.\n",
    "games_data[\"year_of_release\"]=games_data[\"year_of_release\"].astype(\"Int64\")\n",
    "games_data[\"user_score\"] = pd.to_numeric(games_data[\"user_score\"], errors=\"coerce\")\n",
    "games_data.info()\n"
   ]
  },
  {
   "cell_type": "markdown",
   "metadata": {},
   "source": [
    " En el punto anterior, se convirtió el tipo de las columnas \"year_of_release\" y \"user_score\" a Int64 y float64, respectivamente. Este cambio se dio con el fin de manejar los datos, sin modificar la información contenida en cada columna. \n",
    " \n",
    " De manera particular, para los datos de la columna \"year_of_release\" en los que no se contaba con un dato sobre la fecha de lanzamiento, se mantuvo el <NA>. Por otra parte, para no afectar las calificaciones promedio de la columna \"user_score\", se mantuvieron los valores ausentes comom NaN, sin generar ningún reemplazo de esta información por promedios de las calificaciones existentes, esto con el fin de no generar posibles afectaciones en la evaluación estadística de la información más adelante. \n"
   ]
  },
  {
   "cell_type": "markdown",
   "metadata": {},
   "source": [
    "# 2.2. Revisión de datos"
   ]
  },
  {
   "cell_type": "code",
   "execution_count": null,
   "metadata": {},
   "outputs": [
    {
     "name": "stdout",
     "output_type": "stream",
     "text": [
      "<class 'pandas.core.frame.DataFrame'>\n",
      "Int64Index: 16713 entries, 0 to 16714\n",
      "Data columns (total 11 columns):\n",
      " #   Column           Non-Null Count  Dtype  \n",
      "---  ------           --------------  -----  \n",
      " 0   name             16713 non-null  object \n",
      " 1   platform         16713 non-null  object \n",
      " 2   year_of_release  16444 non-null  Int64  \n",
      " 3   genre            16713 non-null  object \n",
      " 4   na_sales         16713 non-null  float64\n",
      " 5   eu_sales         16713 non-null  float64\n",
      " 6   jp_sales         16713 non-null  float64\n",
      " 7   other_sales      16713 non-null  float64\n",
      " 8   critic_score     8137 non-null   float64\n",
      " 9   user_score       7590 non-null   float64\n",
      " 10  rating           9949 non-null   object \n",
      "dtypes: Int64(1), float64(6), object(4)\n",
      "memory usage: 1.5+ MB\n"
     ]
    }
   ],
   "source": [
    "games_data.dropna(subset=['name'],inplace=True)                                                                                                                                                                                                                                                                                                                                         \n",
    "games_data.info()"
   ]
  },
  {
   "cell_type": "markdown",
   "metadata": {},
   "source": [
    "# 2.3. Se verifica si existen filas duplicadas"
   ]
  },
  {
   "cell_type": "code",
   "execution_count": null,
   "metadata": {},
   "outputs": [
    {
     "name": "stdout",
     "output_type": "stream",
     "text": [
      "Duplicated rows: 0\n"
     ]
    }
   ],
   "source": [
    "# Verificar si hay filas duplicadas en el DataFrame\n",
    "duplicados = games_data.duplicated()\n",
    "\n",
    "# Ver cuántas filas están duplicadas\n",
    "print(f\"Duplicated rows: {duplicados.sum()}\")\n",
    "\n"
   ]
  },
  {
   "cell_type": "markdown",
   "metadata": {},
   "source": [
    "Se evidencia que no se cuentan con filas duplicadas, por lo que no es necesario hacer un proceso para una corrección alguna ante un eventual escenario de contar con valores duplicados. "
   ]
  },
  {
   "cell_type": "markdown",
   "metadata": {},
   "source": [
    "# 2.4. Revisión de datos para las columnas \"critic_score\", \"user_score\" y \"rating\". "
   ]
  },
  {
   "cell_type": "code",
   "execution_count": null,
   "metadata": {},
   "outputs": [
    {
     "data": {
      "image/png": "[encoded data removed]",
      "text/plain": [
       "<Figure size 1000x500 with 1 Axes>"
      ]
     },
     "metadata": {},
     "output_type": "display_data"
    }
   ],
   "source": [
    "\n",
    "#Se crea la figura\n",
    "plt.figure(figsize=(10, 5))\n",
    "\n",
    "#Histogramas superpuestos\n",
    "plt.hist(games_data[\"critic_score\"], bins=20, alpha=0.5, label=\"critic_score\", color=\"red\")\n",
    "plt.hist(games_data[\"user_score\"] * 10, bins=20, alpha=0.5, label=\"user_score\", color=\"yellow\")\n",
    "\n",
    "#Personalización\n",
    "plt.xlabel(\"Score\")\n",
    "plt.ylabel(\"Frequency\")\n",
    "plt.title(\"Distribution score (critic vs Users)\")\n",
    "plt.legend()  \n",
    "\n",
    "#Mostrar gráfico\n",
    "plt.show()"
   ]
  },
  {
   "cell_type": "markdown",
   "metadata": {},
   "source": [
    "Para la evaluación de qué medida estadística es más acertada para completar los datos ausentes en las columnas \"critic_score\" y \"user_score\", se implementó el uso de un histograma, esto con el fin de evidenciar factores como, sesgado de los datos y tendencia. \n",
    "\n",
    "En consideración de que se busca llenar los datos de ambas columnas y de que el rango de calificación de ambas son diferentes, dentro del código usado para la columna \"user_score\" se multiplicó por 10, para manejar el mismo rango de magnitud de la columna \"critic_score\" para la igualación de escalas. \n",
    "\n",
    "Una vez analizado el histograma, se evidencia en primera medida, una ligera asimetría negativa, lo que nos indica una distribución sesgada a la izquierda, así mismo, nos muestra que los datos se encuentran concentrado entre 60 y 90 y la poca presencia de valores de scores por debajo de 40, sin descartar que, aunque pocos, se encuentran algunos por debajo de dicho umbral. \n",
    "\n",
    "Por lo anterior, y en aras de evitar la influencia de los valores bajos atípicos dentro del ajuste de las columnas, se hará el uso de la mediana, así se maneja un ajuste de las columnas más conservador y evitar cualquier cambio en el sesgo. \n",
    "\n",
    "A continuación, calcularemos la mediana para las columnas \"critic_score\" y \"user_score\", luego la utilizaremos en las valores vacíos. "
   ]
  },
  {
   "cell_type": "markdown",
   "metadata": {},
   "source": [
    "Conociendo los valores de la mediana para cada una de las columnas, procedemos a reemplazar los valores NaN por los valores de mediana calculados. "
   ]
  },
  {
   "cell_type": "code",
   "execution_count": null,
   "metadata": {},
   "outputs": [
    {
     "name": "stdout",
     "output_type": "stream",
     "text": [
      "The median of critic_score is: 71.0\n"
     ]
    }
   ],
   "source": [
    "median_critic_score=games_data[\"critic_score\"].median()\n",
    "\n",
    "print(\"The median of critic_score is:\",median_critic_score)\n"
   ]
  },
  {
   "cell_type": "code",
   "execution_count": null,
   "metadata": {},
   "outputs": [
    {
     "name": "stdout",
     "output_type": "stream",
     "text": [
      "The median of user_score is: 7.5\n"
     ]
    }
   ],
   "source": [
    "median_user_score=games_data[\"user_score\"].median()\n",
    "\n",
    "print(\"The median of user_score is:\",median_user_score)"
   ]
  },
  {
   "cell_type": "markdown",
   "metadata": {},
   "source": [
    "Una vez conocida la mediana de los valores de las columnas \"critic_score\" y \"user_score\", procederemos a reemplazar estos valores en los espacios NaN de ambas columnas. \n",
    "\n",
    "Por otra parte, la columna \"rating\" sigue contando con una gran ausencia de calificación, para efectos de análisis, reemplazaremos los valores NaN por \"RP\" que, de acuerdo con la ESRB es un rating pending. "
   ]
  },
  {
   "cell_type": "code",
   "execution_count": null,
   "metadata": {
    "scrolled": false
   },
   "outputs": [
    {
     "name": "stdout",
     "output_type": "stream",
     "text": [
      "name                 0\n",
      "platform             0\n",
      "year_of_release    269\n",
      "genre                0\n",
      "na_sales             0\n",
      "eu_sales             0\n",
      "jp_sales             0\n",
      "other_sales          0\n",
      "critic_score         0\n",
      "user_score           0\n",
      "rating               0\n",
      "dtype: int64\n"
     ]
    }
   ],
   "source": [
    "games_data[\"critic_score\"]=games_data[\"critic_score\"].fillna(median_critic_score)\n",
    "games_data[\"user_score\"]=games_data[\"user_score\"].fillna(median_user_score)\n",
    "games_data[\"rating\"]=games_data[\"rating\"].fillna(\"RP\")\n",
    "\n",
    "print(games_data.isnull().sum())"
   ]
  },
  {
   "cell_type": "markdown",
   "metadata": {},
   "source": [
    "Ahora, con los datos ajustados. Procederemos a crear la columna \"total_sales\" que contiene la suma de venta totales por cada juego en Estados Unidos (\"na_sales\"), Europa (\"eu_sales\"), Japón(\"jp_sales\") y otras ventas (\"other_sales\"). "
   ]
  },
  {
   "cell_type": "code",
   "execution_count": null,
   "metadata": {},
   "outputs": [
    {
     "data": {
      "text/html": [
       "<div>\n",
       "<style scoped>\n",
       "    .dataframe tbody tr th:only-of-type {\n",
       "        vertical-align: middle;\n",
       "    }\n",
       "\n",
       "    .dataframe tbody tr th {\n",
       "        vertical-align: top;\n",
       "    }\n",
       "\n",
       "    .dataframe thead th {\n",
       "        text-align: right;\n",
       "    }\n",
       "</style>\n",
       "<table border=\"1\" class=\"dataframe\">\n",
       "  <thead>\n",
       "    <tr style=\"text-align: right;\">\n",
       "      <th></th>\n",
       "      <th>name</th>\n",
       "      <th>platform</th>\n",
       "      <th>year_of_release</th>\n",
       "      <th>genre</th>\n",
       "      <th>na_sales</th>\n",
       "      <th>eu_sales</th>\n",
       "      <th>jp_sales</th>\n",
       "      <th>other_sales</th>\n",
       "      <th>critic_score</th>\n",
       "      <th>user_score</th>\n",
       "      <th>rating</th>\n",
       "      <th>total_sales</th>\n",
       "    </tr>\n",
       "  </thead>\n",
       "  <tbody>\n",
       "    <tr>\n",
       "      <th>0</th>\n",
       "      <td>Wii Sports</td>\n",
       "      <td>Wii</td>\n",
       "      <td>2006</td>\n",
       "      <td>Sports</td>\n",
       "      <td>41.36</td>\n",
       "      <td>28.96</td>\n",
       "      <td>3.77</td>\n",
       "      <td>8.45</td>\n",
       "      <td>76.0</td>\n",
       "      <td>8.0</td>\n",
       "      <td>E</td>\n",
       "      <td>82.54</td>\n",
       "    </tr>\n",
       "    <tr>\n",
       "      <th>1</th>\n",
       "      <td>Super Mario Bros.</td>\n",
       "      <td>NES</td>\n",
       "      <td>1985</td>\n",
       "      <td>Platform</td>\n",
       "      <td>29.08</td>\n",
       "      <td>3.58</td>\n",
       "      <td>6.81</td>\n",
       "      <td>0.77</td>\n",
       "      <td>71.0</td>\n",
       "      <td>7.5</td>\n",
       "      <td>RP</td>\n",
       "      <td>40.24</td>\n",
       "    </tr>\n",
       "    <tr>\n",
       "      <th>2</th>\n",
       "      <td>Mario Kart Wii</td>\n",
       "      <td>Wii</td>\n",
       "      <td>2008</td>\n",
       "      <td>Racing</td>\n",
       "      <td>15.68</td>\n",
       "      <td>12.76</td>\n",
       "      <td>3.79</td>\n",
       "      <td>3.29</td>\n",
       "      <td>82.0</td>\n",
       "      <td>8.3</td>\n",
       "      <td>E</td>\n",
       "      <td>35.52</td>\n",
       "    </tr>\n",
       "    <tr>\n",
       "      <th>3</th>\n",
       "      <td>Wii Sports Resort</td>\n",
       "      <td>Wii</td>\n",
       "      <td>2009</td>\n",
       "      <td>Sports</td>\n",
       "      <td>15.61</td>\n",
       "      <td>10.93</td>\n",
       "      <td>3.28</td>\n",
       "      <td>2.95</td>\n",
       "      <td>80.0</td>\n",
       "      <td>8.0</td>\n",
       "      <td>E</td>\n",
       "      <td>32.77</td>\n",
       "    </tr>\n",
       "    <tr>\n",
       "      <th>4</th>\n",
       "      <td>Pokemon Red/Pokemon Blue</td>\n",
       "      <td>GB</td>\n",
       "      <td>1996</td>\n",
       "      <td>Role-Playing</td>\n",
       "      <td>11.27</td>\n",
       "      <td>8.89</td>\n",
       "      <td>10.22</td>\n",
       "      <td>1.00</td>\n",
       "      <td>71.0</td>\n",
       "      <td>7.5</td>\n",
       "      <td>RP</td>\n",
       "      <td>31.38</td>\n",
       "    </tr>\n",
       "  </tbody>\n",
       "</table>\n",
       "</div>"
      ],
      "text/plain": [
       "                       name platform  year_of_release         genre  na_sales  \\\n",
       "0                Wii Sports      Wii             2006        Sports     41.36   \n",
       "1         Super Mario Bros.      NES             1985      Platform     29.08   \n",
       "2            Mario Kart Wii      Wii             2008        Racing     15.68   \n",
       "3         Wii Sports Resort      Wii             2009        Sports     15.61   \n",
       "4  Pokemon Red/Pokemon Blue       GB             1996  Role-Playing     11.27   \n",
       "\n",
       "   eu_sales  jp_sales  other_sales  critic_score  user_score rating  \\\n",
       "0     28.96      3.77         8.45          76.0         8.0      E   \n",
       "1      3.58      6.81         0.77          71.0         7.5     RP   \n",
       "2     12.76      3.79         3.29          82.0         8.3      E   \n",
       "3     10.93      3.28         2.95          80.0         8.0      E   \n",
       "4      8.89     10.22         1.00          71.0         7.5     RP   \n",
       "\n",
       "   total_sales  \n",
       "0        82.54  \n",
       "1        40.24  \n",
       "2        35.52  \n",
       "3        32.77  \n",
       "4        31.38  "
      ]
     },
     "execution_count": 11,
     "metadata": {},
     "output_type": "execute_result"
    }
   ],
   "source": [
    "games_data[\"total_sales\"]=games_data[\"na_sales\"]+games_data[\"eu_sales\"]+games_data[\"jp_sales\"]+games_data[\"other_sales\"]\n",
    "\n",
    "games_data.head()\n",
    "                                                                                            "
   ]
  },
  {
   "cell_type": "markdown",
   "metadata": {},
   "source": [
    "<div class=\"alert alert-block alert-success\">\n",
    "<b>Comentario del revisor:</b> <a class=\"tocSkip\"></a>\n",
    "    \n",
    "Hola! Muy buen trabajo en la sección, ajustaste los nombres de las columnas a minúsculas con el uso de la función str.lower(), cambiaste el tipo de variable de la base de datos y muy buen trabajo con la suma de todas las ventas. \n",
    "\n",
    "Además, realizaste un análisis de valores nulos "
   ]
  },
  {
   "cell_type": "markdown",
   "metadata": {},
   "source": [
    "# 3. Análisis de datos"
   ]
  },
  {
   "cell_type": "markdown",
   "metadata": {},
   "source": [
    "Mira cuántos juegos fueron lanzados en diferentes años. ¿Son significativos los datos de cada período?"
   ]
  },
  {
   "cell_type": "code",
   "execution_count": null,
   "metadata": {},
   "outputs": [
    {
     "name": "stdout",
     "output_type": "stream",
     "text": [
      "1980       9\n",
      "1981      46\n",
      "1982      36\n",
      "1983      17\n",
      "1984      14\n",
      "1985      14\n",
      "1986      21\n",
      "1987      16\n",
      "1988      15\n",
      "1989      17\n",
      "1990      16\n",
      "1991      41\n",
      "1992      43\n",
      "1993      60\n",
      "1994     121\n",
      "1995     219\n",
      "1996     263\n",
      "1997     289\n",
      "1998     379\n",
      "1999     338\n",
      "2000     350\n",
      "2001     482\n",
      "2002     829\n",
      "2003     775\n",
      "2004     762\n",
      "2005     939\n",
      "2006    1006\n",
      "2007    1197\n",
      "2008    1427\n",
      "2009    1426\n",
      "2010    1255\n",
      "2011    1136\n",
      "2012     653\n",
      "2013     544\n",
      "2014     581\n",
      "2015     606\n",
      "2016     502\n",
      "Name: year_of_release, dtype: Int64\n"
     ]
    }
   ],
   "source": [
    "release_per_year=games_data[\"year_of_release\"].value_counts()\n",
    "release_per_year=release_per_year.sort_index()\n",
    "print(release_per_year)\n"
   ]
  },
  {
   "cell_type": "markdown",
   "metadata": {},
   "source": [
    "Es posible evidenciar un crecimiento conservador en el lanzamiento de juegos durante el periodo de 1980 - 1993, posteriormente, en el periodo 1994 - 2011 se presenta un crecimiento siginificativo en el lanzamiento de video juegos, para después dar inicio a una ralentización en la producción de video juegos, evidenciándose una caída prominente en el periodo 2012 - 2016.  "
   ]
  },
  {
   "cell_type": "markdown",
   "metadata": {},
   "source": [
    "Ahora, se agruparán las ventas por plataforma para visualizar sus características de ventas de manera general, se ilustrará en un diagrama de barras para facilidad de interpretación. "
   ]
  },
  {
   "cell_type": "code",
   "execution_count": null,
   "metadata": {
    "scrolled": true
   },
   "outputs": [
    {
     "name": "stdout",
     "output_type": "stream",
     "text": [
      "   platform  total_sales\n",
      "16      PS2      1255.77\n",
      "28     X360       971.42\n",
      "17      PS3       939.65\n",
      "26      Wii       907.51\n",
      "4        DS       806.12\n",
      "15       PS       730.86\n",
      "6       GBA       317.85\n",
      "18      PS4       314.14\n",
      "19      PSP       294.05\n",
      "13       PC       259.52\n",
      "2       3DS       259.00\n",
      "29       XB       257.74\n",
      "5        GB       255.46\n",
      "11      NES       251.05\n",
      "10      N64       218.68\n",
      "23     SNES       200.04\n",
      "7        GC       198.93\n",
      "30     XOne       159.32\n",
      "0      2600        96.98\n",
      "27     WiiU        82.19\n",
      "20      PSV        54.07\n",
      "21      SAT        33.59\n",
      "8       GEN        28.35\n",
      "3        DC        15.95\n",
      "22      SCD         1.86\n",
      "12       NG         1.44\n",
      "25       WS         1.42\n",
      "24     TG16         0.16\n",
      "1       3DO         0.10\n",
      "9        GG         0.04\n",
      "14     PCFX         0.03\n"
     ]
    }
   ],
   "source": [
    "platform_sales=games_data.groupby(\"platform\")[\"total_sales\"].sum().reset_index()\n",
    "platform_sales = platform_sales.sort_values(by=\"total_sales\", ascending=False)\n",
    "print(platform_sales)"
   ]
  },
  {
   "cell_type": "code",
   "execution_count": null,
   "metadata": {},
   "outputs": [
    {
     "data": {
      "image/png": "[encoded data removed]",
      "text/plain": [
       "<Figure size 1000x600 with 1 Axes>"
      ]
     },
     "metadata": {},
     "output_type": "display_data"
    }
   ],
   "source": [
    "plt.figure(figsize=(10, 6)) \n",
    "plt.bar(platform_sales['platform'], platform_sales['total_sales'], color='lightcoral')\n",
    "\n",
    "plt.xlabel('Platform')\n",
    "plt.ylabel('Total sales (millions)')\n",
    "plt.title('Total Sales per Platform')\n",
    "\n",
    "plt.xticks(rotation=90)\n",
    "\n",
    "plt.show()"
   ]
  },
  {
   "cell_type": "markdown",
   "metadata": {},
   "source": [
    "<div class=\"alert alert-block alert-success\">\n",
    "<b>Comentario del revisor:</b> <a class=\"tocSkip\"></a>\n",
    "    \n",
    "Gran trabajo, esta gráfica nos ayuda a entender el comportamiento del mercado de videojuegos en el tiempo\n",
    "\n",
    "\n"
   ]
  },
  {
   "cell_type": "markdown",
   "metadata": {},
   "source": [
    "Se evidencia que las plataformas PS2, X360, PS3, Wii, DS y PS lideran las ventas por plataforma, y que, a partir de ello la viariación es pronunciada. Por lo anteiror, tomaremos estas 6 plataformas para construir la distribución basada en los datos por cada año. "
   ]
  },
  {
   "cell_type": "code",
   "execution_count": null,
   "metadata": {},
   "outputs": [
    {
     "name": "stdout",
     "output_type": "stream",
     "text": [
      "16     PS2\n",
      "28    X360\n",
      "17     PS3\n",
      "26     Wii\n",
      "4       DS\n",
      "15      PS\n",
      "Name: platform, dtype: object\n"
     ]
    }
   ],
   "source": [
    "top_platforms = platform_sales.sort_values(by=\"total_sales\", ascending=False).head(6)[\"platform\"]\n",
    "print(top_platforms)"
   ]
  },
  {
   "cell_type": "code",
   "execution_count": null,
   "metadata": {},
   "outputs": [
    {
     "data": {
      "image/png": "[encoded data removed]",
      "text/plain": [
       "<Figure size 1200x600 with 1 Axes>"
      ]
     },
     "metadata": {},
     "output_type": "display_data"
    }
   ],
   "source": [
    "#Se filtran los datos solo para estas plataformas\n",
    "filtered_data = games_data[games_data[\"platform\"].isin(top_platforms)]\n",
    "\n",
    "#Se agrupan por año y plataforma, sumando las ventas\n",
    "sales_by_year = filtered_data.groupby([\"year_of_release\", \"platform\"])[\"total_sales\"].sum().reset_index()\n",
    "\n",
    "#Ahora, se realiza lo siguiente para la gráfica\n",
    "plt.figure(figsize=(12, 6))\n",
    "\n",
    "for platform in top_platforms:\n",
    "    yearly_sales = sales_by_year[sales_by_year[\"platform\"] == platform]\n",
    "    plt.plot(yearly_sales[\"year_of_release\"], yearly_sales[\"total_sales\"], marker=\"o\", label=platform)\n",
    "\n",
    "#Personalización del gráfico\n",
    "plt.xlabel(\"Year of release\")\n",
    "plt.ylabel(\"Total sales(millions)\")\n",
    "plt.title(\"Evolution of sales by year for top platform sellers\")\n",
    "plt.legend()\n",
    "plt.grid(True)\n",
    "\n",
    "\n",
    "plt.show()\n"
   ]
  },
  {
   "cell_type": "markdown",
   "metadata": {},
   "source": [
    "Con la distribución mostrada para cada plataforma es posible exrtraer información particular: \n",
    "\n",
    "- PS2: con un crecimiento exponencial durante los primeros años y una venta máxima cerca al 2005,que posterior a ello dio lugar a un decrecimiento exponencial en ventas. Manteniendo su pico histórico de ventas entre el 2000 y 2005.\n",
    "- X360: si bien su inicio en ventas se dio en el 2005, sólo hasta el 2010 alcanzó su histórico en ventas. \n",
    "- PS3: de manera similar a X360, requirió un periodo de aproximadamente 5 años para alcanzar su histório en ventas. \n",
    "- Wii:contó con un corto periodo en su alza en ventas, dando inicio de manera prematura a la recesión en ventas. \n",
    "- DS: siendo ieista plataforma el caso quizás más particular, con el incio en ventas en el año 1985 y unas ventas conservadoramente exponenciales hasta el 2004, tuvieron un alza en ventas durante el 2004 y 2006, para iniciar un decenso en ventas posterior a ello. \n",
    "- PS: ventas estándar con un histórico máximo cerca al 2008. "
   ]
  },
  {
   "cell_type": "code",
   "execution_count": null,
   "metadata": {},
   "outputs": [
    {
     "name": "stdout",
     "output_type": "stream",
     "text": [
      "Discontinued Platforms: \n",
      "    platform  first_year  last_year  platform_life\n",
      "0      2600        1980       1989              9\n",
      "1       3DO        1994       1995              1\n",
      "3        DC        1998       2008             10\n",
      "4        DS        1985       2013             28\n",
      "5        GB        1988       2001             13\n",
      "6       GBA        2000       2007              7\n",
      "7        GC        2001       2007              6\n",
      "8       GEN        1990       1994              4\n",
      "9        GG        1992       1992              0\n",
      "10      N64        1996       2002              6\n",
      "11      NES        1983       1994             11\n",
      "12       NG        1993       1996              3\n",
      "14     PCFX        1996       1996              0\n",
      "15       PS        1994       2003              9\n",
      "16      PS2        2000       2011             11\n",
      "19      PSP        2004       2015             11\n",
      "21      SAT        1994       1999              5\n",
      "22      SCD        1993       1994              1\n",
      "23     SNES        1990       1999              9\n",
      "24     TG16        1995       1995              0\n",
      "25       WS        1999       2001              2\n",
      "29       XB        2000       2008              8\n",
      "Average lifespan of a platform: 7.0 years\n",
      "Average time between the release of new platforms: 1.1 years\n"
     ]
    }
   ],
   "source": [
    "#Se eliminan las filas sin año de lanzamiento\n",
    "games_data = games_data.dropna(subset=[\"year_of_release\"])\n",
    "\n",
    "#Hallaremos el primer y último año de ventas para cada plataforma\n",
    "platform_lifetime = games_data.groupby(\"platform\")[\"year_of_release\"].agg([\"min\", \"max\"]).reset_index()\n",
    "platform_lifetime.columns = [\"platform\", \"first_year\", \"last_year\"]\n",
    "\n",
    "\n",
    "#Definiremos el último año en la base de datos\n",
    "latest_year = games_data[\"year_of_release\"].max()\n",
    "\n",
    "#Identificaremos plataformas que han desaparecido (última venta antes del año más reciente)\n",
    "disappeared_platforms = platform_lifetime[platform_lifetime[\"last_year\"] < latest_year]\n",
    "disappeared_platforms = disappeared_platforms.copy()\n",
    "\n",
    "#Calcularemos la duración de vida de cada plataforma\n",
    "disappeared_platforms.loc[:,\"platform_life\"] = disappeared_platforms[\"last_year\"] - disappeared_platforms[\"first_year\"]\n",
    "\n",
    "#Calcularemos el tiempo promedio de vida de una plataforma\n",
    "average_platform_life = disappeared_platforms[\"platform_life\"].mean()\n",
    "\n",
    "#Calcularemos el tiempo promedio de aparición de nuevas plataformas\n",
    "platform_appearance_gaps = platform_lifetime[\"first_year\"].diff().dropna()\n",
    "average_appearance_time = platform_appearance_gaps.mean()\n",
    "\n",
    "print(\"Discontinued Platforms: \\n\", disappeared_platforms)\n",
    "print(\"Average lifespan of a platform:\", round(average_platform_life, 2), \"years\")\n",
    "print(\"Average time between the release of new platforms:\", round(average_appearance_time, 2), \"years\")\n"
   ]
  },
  {
   "cell_type": "markdown",
   "metadata": {},
   "source": [
    "Ahora bien, en función de que debemos tomar los datos que nos permitan construir un modelo para el 2017, tendremos en consideración las siguientes actividades (que ya han sido desarrolladas previamente): \n",
    "   - Las plataformas con más ventas. \n",
    "   - El último año de lanzamiento de cada plataforma. \n",
    "   - El tiempo promedio de vida de una plataforma.\n",
    "\n",
    "Haciendo una evaluación integral de estas variables, usaremos el dataframe \"filtreted_data\" (El cual contiene las plataformas con mayores índices de ventas) para considerar, de este data frame, las plataformas con años de lanzamiento de videojuegos mayores o iguales a 2009, ya que en consideración de que requerimos hacer un análisis para el 2017, con datos del 2016, y el tiempo promedio de una plataforma es de 7 años, lo que nos da como resultado 2009, aplicaremos esta condición a nuestro dataframe. "
   ]
  },
  {
   "cell_type": "code",
   "execution_count": null,
   "metadata": {},
   "outputs": [
    {
     "name": "stdout",
     "output_type": "stream",
     "text": [
      "<class 'pandas.core.frame.DataFrame'>\n",
      "Int64Index: 3729 entries, 3 to 16710\n",
      "Data columns (total 12 columns):\n",
      " #   Column           Non-Null Count  Dtype  \n",
      "---  ------           --------------  -----  \n",
      " 0   name             3729 non-null   object \n",
      " 1   platform         3729 non-null   object \n",
      " 2   year_of_release  3729 non-null   Int64  \n",
      " 3   genre            3729 non-null   object \n",
      " 4   na_sales         3729 non-null   float64\n",
      " 5   eu_sales         3729 non-null   float64\n",
      " 6   jp_sales         3729 non-null   float64\n",
      " 7   other_sales      3729 non-null   float64\n",
      " 8   critic_score     3729 non-null   float64\n",
      " 9   user_score       3729 non-null   float64\n",
      " 10  rating           3729 non-null   object \n",
      " 11  total_sales      3729 non-null   float64\n",
      "dtypes: Int64(1), float64(7), object(4)\n",
      "memory usage: 382.4+ KB\n"
     ]
    }
   ],
   "source": [
    "best_data= filtered_data[filtered_data[\"year_of_release\"] >= 2009]\n",
    "best_data.info()"
   ]
  },
  {
   "cell_type": "markdown",
   "metadata": {},
   "source": [
    "Dicho esto, trabajaremos entonces con las siguientes plataformas: "
   ]
  },
  {
   "cell_type": "code",
   "execution_count": null,
   "metadata": {},
   "outputs": [
    {
     "name": "stdout",
     "output_type": "stream",
     "text": [
      "['Wii' 'X360' 'PS3' 'DS' 'PS2']\n"
     ]
    }
   ],
   "source": [
    "unique_platforms = best_data['platform'].unique()\n",
    "print(unique_platforms)"
   ]
  },
  {
   "cell_type": "code",
   "execution_count": null,
   "metadata": {},
   "outputs": [
    {
     "data": {
      "image/png": "[encoded data removed]",
      "text/plain": [
       "<Figure size 1200x800 with 1 Axes>"
      ]
     },
     "metadata": {},
     "output_type": "display_data"
    },
    {
     "name": "stdout",
     "output_type": "stream",
     "text": [
      "  platform  average_sales  median_sales\n",
      "0       DS       0.267352          0.10\n",
      "1      PS2       0.230426          0.10\n",
      "2      PS3       0.683796          0.25\n",
      "3      Wii       0.554761          0.18\n",
      "4     X360       0.787207          0.27\n"
     ]
    }
   ],
   "source": [
    "#Creamos el diagrama de caja (boxplot)\n",
    "plt.figure(figsize=(12, 8))\n",
    "sns.boxplot(data=best_data, x=\"platform\", y=\"total_sales\")\n",
    "\n",
    "#Mejoramos la legibilidad del gráfico\n",
    "plt.xticks(rotation=90)  # Rotar etiquetas para mejor visualización\n",
    "plt.title(\"Global distribution per platform\")\n",
    "plt.xlabel(\"Platform\")\n",
    "plt.ylabel(\"Global sales (millions)\")\n",
    "plt.ylim(0, 2)\n",
    "\n",
    "#Mostramos gráfico\n",
    "plt.show()\n",
    "\n",
    "#Calculamos la media y mediana de las ventas totales por plataforma\n",
    "platform_sales_stats = best_data.groupby(\"platform\")[\"total_sales\"].agg([\"mean\", \"median\"]).reset_index()\n",
    "\n",
    "#Renombramos columnas para mayor claridad\n",
    "platform_sales_stats.columns = [\"platform\", \"average_sales\", \"median_sales\"]\n",
    "\n",
    "#Mostramos resultados\n",
    "print(platform_sales_stats)"
   ]
  },
  {
   "cell_type": "markdown",
   "metadata": {},
   "source": [
    "<div class=\"alert alert-block alert-warning\">\n",
    "    <b>Comentario del revisor</b> <a class=\"tocSkip\"></a>\n",
    "    \n",
    "Muy buen trabajo con el desarrollo de la gráfica de cajas, este tipo de gráficos nos ayuda a comparar resultados de manera precisa. Solamente recuerda que los graficos de box-plot nos ayudan a identificar outliers que posteriomente en el desarrollo de las pruebas de hipótesis nos servirían eliminar para que no puedan sesgar nuestros resultados. \n",
    "</div>"
   ]
  },
  {
   "cell_type": "markdown",
   "metadata": {},
   "source": [
    "Con la anterior información obtuvimos que, de estas cinco plataformas que filtramos para el análisis, hay plataformas con ventas anuales mayores a otras, así: \n",
    "\n",
    "1. Xbox 360 - X360\n",
    "2. Play Station 3 - PS3\n",
    "3. Nintendo Wii - Wii\n",
    "4. Nintendo DS\n",
    "5. Play Station 2 - PS2\n",
    "\n",
    "A partir de esto, podemos confirmar que, si bien no hay una diferencia muy alta entre el promedio de ventas entre una y otra plataforma, sí hay una diferencia considerable en el promedio de ventas anuales entre la plataforma con un menor promedio (Play Station 2) y la plataforma con mayor promedio (Xbox 360). \n",
    "\n",
    "Adicionalmente, para todas las plataformas se presentan valores atípicos de venta, especialmente para Nintendo Wii y Nintendo DS."
   ]
  },
  {
   "cell_type": "markdown",
   "metadata": {},
   "source": [
    "Ahora, analizaremos como las críticas por usuarios y profesionales (user_score and critic_score) inciden en el comportamiento de las ventas, en este caso de la plataforma Play Statio 3 (PS3). "
   ]
  },
  {
   "cell_type": "code",
   "execution_count": null,
   "metadata": {},
   "outputs": [
    {
     "data": {
      "image/png": "[encoded data removed]",
      "text/plain": [
       "<Figure size 1400x600 with 2 Axes>"
      ]
     },
     "metadata": {},
     "output_type": "display_data"
    },
    {
     "name": "stdout",
     "output_type": "stream",
     "text": [
      "Correlation between critic score and sales: 0.40\n",
      "Correlation between users score and sales: 0.04\n"
     ]
    }
   ],
   "source": [
    "#Filtramos solo los juegos de PS3\n",
    "ps3_games = games_data[games_data[\"platform\"] == \"PS3\"].copy()\n",
    "\n",
    "#Creamos gráficos de dispersión\n",
    "fig, axes = plt.subplots(1, 2, figsize=(14, 6))\n",
    "\n",
    "#Gráfico de dispersión para Critic_Score vs Total_Sales\n",
    "sns.scatterplot(x=ps3_games[\"critic_score\"], y=ps3_games[\"total_sales\"], ax=axes[0])\n",
    "axes[0].set_title(\"Critic scores vs. Sales (PS3)\")\n",
    "axes[0].set_xlabel(\"Critic score\")\n",
    "axes[0].set_ylabel(\"Total sales (millions)\")\n",
    "axes[0].set_ylim(0,5)\n",
    "\n",
    "#Gráfico de dispersión para User_Score vs Total_Sales\n",
    "sns.scatterplot(x=ps3_games[\"user_score\"], y=ps3_games[\"total_sales\"], ax=axes[1])\n",
    "axes[1].set_title(\"Users score vs. Sales (PS3)\")\n",
    "axes[1].set_xlabel(\"Users score\")\n",
    "axes[1].set_ylabel(\"Total sales (millions)\")\n",
    "axes[1].set_ylim(0,5)\n",
    "\n",
    "plt.tight_layout()\n",
    "plt.show()\n",
    "\n",
    "#Calculamos la correlación\n",
    "correlation_critic = ps3_games[\"critic_score\"].corr(ps3_games[\"total_sales\"])\n",
    "correlation_user = ps3_games[\"user_score\"].corr(ps3_games[\"total_sales\"])\n",
    "\n",
    "print(f\"Correlation between critic score and sales: {correlation_critic:.2f}\")\n",
    "print(f\"Correlation between users score and sales: {correlation_user:.2f}\")"
   ]
  },
  {
   "cell_type": "markdown",
   "metadata": {},
   "source": [
    "<div class=\"alert alert-block alert-success\">\n",
    "    <b>Comentario del revisor</b> <a class=\"tocSkip\"></a>\n",
    "    \n",
    "Excelente forma de analizar la relación entre las ventas y las scores"
   ]
  },
  {
   "cell_type": "markdown",
   "metadata": {},
   "source": [
    "Ahora analizaremos el orden de magnitud de las correlaciones entre las críticas hechas por usuarios y profesionales y su incidencia en las ventas de la plataforma Play Statios 3 (PS3)"
   ]
  },
  {
   "cell_type": "code",
   "execution_count": null,
   "metadata": {},
   "outputs": [
    {
     "name": "stdout",
     "output_type": "stream",
     "text": [
      "The Correlation Between Critic Scores and Sales is: Moderated\n",
      "The Correlation Between User Scores and Sales is: Insignificant\n"
     ]
    }
   ],
   "source": [
    "if 0 < correlation_critic < 0.3:\n",
    "    print(\"The Correlation Between Critic Scores and Sales is: Insignificant\")\n",
    "elif 0.3 <= correlation_critic < 0.5:\n",
    "    print(\"The Correlation Between Critic Scores and Sales is: Moderated\")\n",
    "elif 0.5 <= correlation_critic < 1:\n",
    "    print(\"The Correlation Between Critic Scores and Sales is: Strong\")\n",
    "else:\n",
    "    print(\"Not determinated\")\n",
    "\n",
    "\n",
    "if 0 < correlation_user < 0.3:\n",
    "    print(\"The Correlation Between User Scores and Sales is: Insignificant\")\n",
    "elif 0.3 <= correlation_user < 0.5:\n",
    "    print(\"The Correlation Between User Scores and Sales is: Moderated\")\n",
    "elif 0.5 <= correlation_user < 1:\n",
    "    print(\"The Correlation Between User Scores and Sales is: Strong\")\n",
    "else:\n",
    "    print(\"Not determinated\")"
   ]
  },
  {
   "cell_type": "code",
   "execution_count": null,
   "metadata": {},
   "outputs": [
    {
     "name": "stdout",
     "output_type": "stream",
     "text": [
      "<class 'pandas.core.frame.DataFrame'>\n",
      "Int64Index: 988 entries, 0 to 987\n",
      "Data columns (total 5 columns):\n",
      " #   Column              Non-Null Count  Dtype  \n",
      "---  ------              --------------  -----  \n",
      " 0   name                988 non-null    object \n",
      " 1   platform_others     988 non-null    object \n",
      " 2   total_sales_others  988 non-null    float64\n",
      " 3   platform_ps3        988 non-null    object \n",
      " 4   total_sales_ps3     988 non-null    float64\n",
      "dtypes: float64(2), object(3)\n",
      "memory usage: 46.3+ KB\n"
     ]
    },
    {
     "data": {
      "text/html": [
       "<div>\n",
       "<style scoped>\n",
       "    .dataframe tbody tr th:only-of-type {\n",
       "        vertical-align: middle;\n",
       "    }\n",
       "\n",
       "    .dataframe tbody tr th {\n",
       "        vertical-align: top;\n",
       "    }\n",
       "\n",
       "    .dataframe thead th {\n",
       "        text-align: right;\n",
       "    }\n",
       "</style>\n",
       "<table border=\"1\" class=\"dataframe\">\n",
       "  <thead>\n",
       "    <tr style=\"text-align: right;\">\n",
       "      <th></th>\n",
       "      <th>name</th>\n",
       "      <th>platform_others</th>\n",
       "      <th>total_sales_others</th>\n",
       "      <th>platform_ps3</th>\n",
       "      <th>total_sales_ps3</th>\n",
       "    </tr>\n",
       "  </thead>\n",
       "  <tbody>\n",
       "    <tr>\n",
       "      <th>0</th>\n",
       "      <td>2010 FIFA World Cup South Africa</td>\n",
       "      <td>Wii</td>\n",
       "      <td>0.43</td>\n",
       "      <td>PS3</td>\n",
       "      <td>1.23</td>\n",
       "    </tr>\n",
       "    <tr>\n",
       "      <th>1</th>\n",
       "      <td>2010 FIFA World Cup South Africa</td>\n",
       "      <td>X360</td>\n",
       "      <td>0.85</td>\n",
       "      <td>PS3</td>\n",
       "      <td>1.23</td>\n",
       "    </tr>\n",
       "    <tr>\n",
       "      <th>2</th>\n",
       "      <td>2014 FIFA World Cup Brazil</td>\n",
       "      <td>X360</td>\n",
       "      <td>0.43</td>\n",
       "      <td>PS3</td>\n",
       "      <td>0.61</td>\n",
       "    </tr>\n",
       "    <tr>\n",
       "      <th>3</th>\n",
       "      <td>50 Cent: Blood on the Sand</td>\n",
       "      <td>X360</td>\n",
       "      <td>0.21</td>\n",
       "      <td>PS3</td>\n",
       "      <td>0.20</td>\n",
       "    </tr>\n",
       "    <tr>\n",
       "      <th>4</th>\n",
       "      <td>Ace Combat: Assault Horizon</td>\n",
       "      <td>X360</td>\n",
       "      <td>0.49</td>\n",
       "      <td>PS3</td>\n",
       "      <td>0.74</td>\n",
       "    </tr>\n",
       "    <tr>\n",
       "      <th>5</th>\n",
       "      <td>Adventure Time: Explore the Dungeon Because I ...</td>\n",
       "      <td>X360</td>\n",
       "      <td>0.08</td>\n",
       "      <td>PS3</td>\n",
       "      <td>0.04</td>\n",
       "    </tr>\n",
       "    <tr>\n",
       "      <th>6</th>\n",
       "      <td>Adventure Time: Finn &amp; Jake Investigations</td>\n",
       "      <td>X360</td>\n",
       "      <td>0.09</td>\n",
       "      <td>PS3</td>\n",
       "      <td>0.08</td>\n",
       "    </tr>\n",
       "    <tr>\n",
       "      <th>7</th>\n",
       "      <td>Afro Samurai</td>\n",
       "      <td>X360</td>\n",
       "      <td>0.23</td>\n",
       "      <td>PS3</td>\n",
       "      <td>0.20</td>\n",
       "    </tr>\n",
       "    <tr>\n",
       "      <th>8</th>\n",
       "      <td>Air Conflicts: Secret Wars</td>\n",
       "      <td>X360</td>\n",
       "      <td>0.09</td>\n",
       "      <td>PS3</td>\n",
       "      <td>0.19</td>\n",
       "    </tr>\n",
       "    <tr>\n",
       "      <th>9</th>\n",
       "      <td>Alice: Madness Returns</td>\n",
       "      <td>X360</td>\n",
       "      <td>0.49</td>\n",
       "      <td>PS3</td>\n",
       "      <td>0.58</td>\n",
       "    </tr>\n",
       "    <tr>\n",
       "      <th>10</th>\n",
       "      <td>Alien: Isolation</td>\n",
       "      <td>X360</td>\n",
       "      <td>0.27</td>\n",
       "      <td>PS3</td>\n",
       "      <td>0.33</td>\n",
       "    </tr>\n",
       "    <tr>\n",
       "      <th>11</th>\n",
       "      <td>Aliens vs Predator</td>\n",
       "      <td>X360</td>\n",
       "      <td>1.06</td>\n",
       "      <td>PS3</td>\n",
       "      <td>1.05</td>\n",
       "    </tr>\n",
       "    <tr>\n",
       "      <th>12</th>\n",
       "      <td>Aliens: Colonial Marines</td>\n",
       "      <td>X360</td>\n",
       "      <td>0.77</td>\n",
       "      <td>PS3</td>\n",
       "      <td>0.60</td>\n",
       "    </tr>\n",
       "    <tr>\n",
       "      <th>13</th>\n",
       "      <td>Alpha Protocol</td>\n",
       "      <td>X360</td>\n",
       "      <td>0.39</td>\n",
       "      <td>PS3</td>\n",
       "      <td>0.43</td>\n",
       "    </tr>\n",
       "    <tr>\n",
       "      <th>14</th>\n",
       "      <td>Anarchy Reigns</td>\n",
       "      <td>X360</td>\n",
       "      <td>0.17</td>\n",
       "      <td>PS3</td>\n",
       "      <td>0.21</td>\n",
       "    </tr>\n",
       "    <tr>\n",
       "      <th>15</th>\n",
       "      <td>Angry Birds Star Wars</td>\n",
       "      <td>Wii</td>\n",
       "      <td>0.26</td>\n",
       "      <td>PS3</td>\n",
       "      <td>0.29</td>\n",
       "    </tr>\n",
       "    <tr>\n",
       "      <th>16</th>\n",
       "      <td>Angry Birds Star Wars</td>\n",
       "      <td>X360</td>\n",
       "      <td>0.28</td>\n",
       "      <td>PS3</td>\n",
       "      <td>0.29</td>\n",
       "    </tr>\n",
       "    <tr>\n",
       "      <th>17</th>\n",
       "      <td>Angry Birds Trilogy</td>\n",
       "      <td>X360</td>\n",
       "      <td>0.25</td>\n",
       "      <td>PS3</td>\n",
       "      <td>0.17</td>\n",
       "    </tr>\n",
       "    <tr>\n",
       "      <th>18</th>\n",
       "      <td>Apache: Air Assault</td>\n",
       "      <td>X360</td>\n",
       "      <td>0.16</td>\n",
       "      <td>PS3</td>\n",
       "      <td>0.20</td>\n",
       "    </tr>\n",
       "    <tr>\n",
       "      <th>19</th>\n",
       "      <td>Arcana Heart 3</td>\n",
       "      <td>X360</td>\n",
       "      <td>0.04</td>\n",
       "      <td>PS3</td>\n",
       "      <td>0.20</td>\n",
       "    </tr>\n",
       "    <tr>\n",
       "      <th>20</th>\n",
       "      <td>Armored Core V</td>\n",
       "      <td>X360</td>\n",
       "      <td>0.21</td>\n",
       "      <td>PS3</td>\n",
       "      <td>0.39</td>\n",
       "    </tr>\n",
       "    <tr>\n",
       "      <th>21</th>\n",
       "      <td>Army of Two: The 40th Day</td>\n",
       "      <td>X360</td>\n",
       "      <td>0.95</td>\n",
       "      <td>PS3</td>\n",
       "      <td>0.84</td>\n",
       "    </tr>\n",
       "    <tr>\n",
       "      <th>22</th>\n",
       "      <td>Army of Two: The Devil's Cartel</td>\n",
       "      <td>X360</td>\n",
       "      <td>0.25</td>\n",
       "      <td>PS3</td>\n",
       "      <td>0.28</td>\n",
       "    </tr>\n",
       "    <tr>\n",
       "      <th>23</th>\n",
       "      <td>Ashes Cricket 2009</td>\n",
       "      <td>Wii</td>\n",
       "      <td>0.23</td>\n",
       "      <td>PS3</td>\n",
       "      <td>0.16</td>\n",
       "    </tr>\n",
       "    <tr>\n",
       "      <th>24</th>\n",
       "      <td>Ashes Cricket 2009</td>\n",
       "      <td>X360</td>\n",
       "      <td>0.20</td>\n",
       "      <td>PS3</td>\n",
       "      <td>0.16</td>\n",
       "    </tr>\n",
       "    <tr>\n",
       "      <th>25</th>\n",
       "      <td>Assassin's Creed II</td>\n",
       "      <td>X360</td>\n",
       "      <td>5.25</td>\n",
       "      <td>PS3</td>\n",
       "      <td>5.54</td>\n",
       "    </tr>\n",
       "    <tr>\n",
       "      <th>26</th>\n",
       "      <td>Assassin's Creed III</td>\n",
       "      <td>X360</td>\n",
       "      <td>5.29</td>\n",
       "      <td>PS3</td>\n",
       "      <td>6.44</td>\n",
       "    </tr>\n",
       "    <tr>\n",
       "      <th>27</th>\n",
       "      <td>Assassin's Creed IV: Black Flag</td>\n",
       "      <td>X360</td>\n",
       "      <td>3.31</td>\n",
       "      <td>PS3</td>\n",
       "      <td>3.71</td>\n",
       "    </tr>\n",
       "    <tr>\n",
       "      <th>28</th>\n",
       "      <td>Assassin's Creed: Brotherhood</td>\n",
       "      <td>X360</td>\n",
       "      <td>3.50</td>\n",
       "      <td>PS3</td>\n",
       "      <td>2.82</td>\n",
       "    </tr>\n",
       "    <tr>\n",
       "      <th>29</th>\n",
       "      <td>Assassin's Creed: Revelations</td>\n",
       "      <td>X360</td>\n",
       "      <td>4.19</td>\n",
       "      <td>PS3</td>\n",
       "      <td>4.22</td>\n",
       "    </tr>\n",
       "    <tr>\n",
       "      <th>30</th>\n",
       "      <td>Assassin's Creed: Rogue</td>\n",
       "      <td>X360</td>\n",
       "      <td>1.01</td>\n",
       "      <td>PS3</td>\n",
       "      <td>1.28</td>\n",
       "    </tr>\n",
       "    <tr>\n",
       "      <th>31</th>\n",
       "      <td>Asura's Wrath</td>\n",
       "      <td>X360</td>\n",
       "      <td>0.24</td>\n",
       "      <td>PS3</td>\n",
       "      <td>0.41</td>\n",
       "    </tr>\n",
       "    <tr>\n",
       "      <th>32</th>\n",
       "      <td>Avatar: The Game</td>\n",
       "      <td>DS</td>\n",
       "      <td>0.40</td>\n",
       "      <td>PS3</td>\n",
       "      <td>0.90</td>\n",
       "    </tr>\n",
       "    <tr>\n",
       "      <th>33</th>\n",
       "      <td>Avatar: The Game</td>\n",
       "      <td>Wii</td>\n",
       "      <td>0.71</td>\n",
       "      <td>PS3</td>\n",
       "      <td>0.90</td>\n",
       "    </tr>\n",
       "    <tr>\n",
       "      <th>34</th>\n",
       "      <td>Avatar: The Game</td>\n",
       "      <td>X360</td>\n",
       "      <td>0.77</td>\n",
       "      <td>PS3</td>\n",
       "      <td>0.90</td>\n",
       "    </tr>\n",
       "    <tr>\n",
       "      <th>35</th>\n",
       "      <td>Back to the Future: The Game</td>\n",
       "      <td>Wii</td>\n",
       "      <td>0.05</td>\n",
       "      <td>PS3</td>\n",
       "      <td>0.09</td>\n",
       "    </tr>\n",
       "    <tr>\n",
       "      <th>36</th>\n",
       "      <td>Back to the Future: The Game</td>\n",
       "      <td>X360</td>\n",
       "      <td>0.02</td>\n",
       "      <td>PS3</td>\n",
       "      <td>0.09</td>\n",
       "    </tr>\n",
       "    <tr>\n",
       "      <th>37</th>\n",
       "      <td>Bakugan Battle Brawlers: Defenders of the Core</td>\n",
       "      <td>DS</td>\n",
       "      <td>0.48</td>\n",
       "      <td>PS3</td>\n",
       "      <td>0.17</td>\n",
       "    </tr>\n",
       "    <tr>\n",
       "      <th>38</th>\n",
       "      <td>Bakugan Battle Brawlers: Defenders of the Core</td>\n",
       "      <td>Wii</td>\n",
       "      <td>0.15</td>\n",
       "      <td>PS3</td>\n",
       "      <td>0.17</td>\n",
       "    </tr>\n",
       "    <tr>\n",
       "      <th>39</th>\n",
       "      <td>Bakugan Battle Brawlers: Defenders of the Core</td>\n",
       "      <td>X360</td>\n",
       "      <td>0.14</td>\n",
       "      <td>PS3</td>\n",
       "      <td>0.17</td>\n",
       "    </tr>\n",
       "  </tbody>\n",
       "</table>\n",
       "</div>"
      ],
      "text/plain": [
       "                                                 name platform_others  \\\n",
       "0                    2010 FIFA World Cup South Africa             Wii   \n",
       "1                    2010 FIFA World Cup South Africa            X360   \n",
       "2                          2014 FIFA World Cup Brazil            X360   \n",
       "3                          50 Cent: Blood on the Sand            X360   \n",
       "4                         Ace Combat: Assault Horizon            X360   \n",
       "5   Adventure Time: Explore the Dungeon Because I ...            X360   \n",
       "6          Adventure Time: Finn & Jake Investigations            X360   \n",
       "7                                        Afro Samurai            X360   \n",
       "8                          Air Conflicts: Secret Wars            X360   \n",
       "9                              Alice: Madness Returns            X360   \n",
       "10                                   Alien: Isolation            X360   \n",
       "11                                 Aliens vs Predator            X360   \n",
       "12                           Aliens: Colonial Marines            X360   \n",
       "13                                     Alpha Protocol            X360   \n",
       "14                                     Anarchy Reigns            X360   \n",
       "15                              Angry Birds Star Wars             Wii   \n",
       "16                              Angry Birds Star Wars            X360   \n",
       "17                                Angry Birds Trilogy            X360   \n",
       "18                                Apache: Air Assault            X360   \n",
       "19                                     Arcana Heart 3            X360   \n",
       "20                                     Armored Core V            X360   \n",
       "21                          Army of Two: The 40th Day            X360   \n",
       "22                    Army of Two: The Devil's Cartel            X360   \n",
       "23                                 Ashes Cricket 2009             Wii   \n",
       "24                                 Ashes Cricket 2009            X360   \n",
       "25                                Assassin's Creed II            X360   \n",
       "26                               Assassin's Creed III            X360   \n",
       "27                    Assassin's Creed IV: Black Flag            X360   \n",
       "28                      Assassin's Creed: Brotherhood            X360   \n",
       "29                      Assassin's Creed: Revelations            X360   \n",
       "30                            Assassin's Creed: Rogue            X360   \n",
       "31                                      Asura's Wrath            X360   \n",
       "32                                   Avatar: The Game              DS   \n",
       "33                                   Avatar: The Game             Wii   \n",
       "34                                   Avatar: The Game            X360   \n",
       "35                       Back to the Future: The Game             Wii   \n",
       "36                       Back to the Future: The Game            X360   \n",
       "37     Bakugan Battle Brawlers: Defenders of the Core              DS   \n",
       "38     Bakugan Battle Brawlers: Defenders of the Core             Wii   \n",
       "39     Bakugan Battle Brawlers: Defenders of the Core            X360   \n",
       "\n",
       "    total_sales_others platform_ps3  total_sales_ps3  \n",
       "0                 0.43          PS3             1.23  \n",
       "1                 0.85          PS3             1.23  \n",
       "2                 0.43          PS3             0.61  \n",
       "3                 0.21          PS3             0.20  \n",
       "4                 0.49          PS3             0.74  \n",
       "5                 0.08          PS3             0.04  \n",
       "6                 0.09          PS3             0.08  \n",
       "7                 0.23          PS3             0.20  \n",
       "8                 0.09          PS3             0.19  \n",
       "9                 0.49          PS3             0.58  \n",
       "10                0.27          PS3             0.33  \n",
       "11                1.06          PS3             1.05  \n",
       "12                0.77          PS3             0.60  \n",
       "13                0.39          PS3             0.43  \n",
       "14                0.17          PS3             0.21  \n",
       "15                0.26          PS3             0.29  \n",
       "16                0.28          PS3             0.29  \n",
       "17                0.25          PS3             0.17  \n",
       "18                0.16          PS3             0.20  \n",
       "19                0.04          PS3             0.20  \n",
       "20                0.21          PS3             0.39  \n",
       "21                0.95          PS3             0.84  \n",
       "22                0.25          PS3             0.28  \n",
       "23                0.23          PS3             0.16  \n",
       "24                0.20          PS3             0.16  \n",
       "25                5.25          PS3             5.54  \n",
       "26                5.29          PS3             6.44  \n",
       "27                3.31          PS3             3.71  \n",
       "28                3.50          PS3             2.82  \n",
       "29                4.19          PS3             4.22  \n",
       "30                1.01          PS3             1.28  \n",
       "31                0.24          PS3             0.41  \n",
       "32                0.40          PS3             0.90  \n",
       "33                0.71          PS3             0.90  \n",
       "34                0.77          PS3             0.90  \n",
       "35                0.05          PS3             0.09  \n",
       "36                0.02          PS3             0.09  \n",
       "37                0.48          PS3             0.17  \n",
       "38                0.15          PS3             0.17  \n",
       "39                0.14          PS3             0.17  "
      ]
     },
     "execution_count": 24,
     "metadata": {},
     "output_type": "execute_result"
    }
   ],
   "source": [
    "ps3_games= best_data[best_data[\"platform\"]=='PS3']\n",
    "\n",
    "#Ahora obtenemos los juegos de PS3 que están disponibles en otras plataformas \n",
    "games_in_other_platforms = best_data[best_data['name'].isin(ps3_games['name']) & (best_data['platform'] != 'PS3')]\n",
    "\n",
    "#Agrupamos las ventas por nombre del juego y plataformas diferentes a PS3\n",
    "sales_by_game_platform = games_in_other_platforms.groupby(['name', 'platform'])['total_sales'].sum().reset_index()\n",
    "\n",
    "#Agrupamos las ventas de PS3 para poderlas comparar con otras plataformas\n",
    "ps3_sales = ps3_games.groupby(['name', 'platform'])['total_sales'].sum().reset_index()\n",
    "\n",
    "#Unificamos dataframes (PS3 y otras plataformas) \n",
    "sales_by_game_platform = pd.merge(sales_by_game_platform, ps3_sales, on='name',suffixes=(\"_others\",\"_ps3\"))\n",
    "\n",
    "#Verificamos las primeras filas de los datos\n",
    "sales_by_game_platform.info()\n",
    "sales_by_game_platform.head(40)\n"
   ]
  },
  {
   "cell_type": "markdown",
   "metadata": {},
   "source": [
    "Con lo anterior podemos concluir que son 988 juegos de la Play Station 3 (ps3) que son comercializados en otras plataformas. Sin embargo, no se marca una tendencia clara en cuanto a que en los juegos de Play Station 3 tengan mayores en ventas en su propia plataforma, puesto que hay casos en los que su comercialización es mayor en otras plataformas. Sin embargo, sí podemos concluir que son cerca de 1000 juegos de Play Station 3 que están presentes en otras plataformas. "
   ]
  },
  {
   "cell_type": "markdown",
   "metadata": {},
   "source": [
    "Ahora, revisaremos el comportamiento de los juegos en función del género. Revisaremos qué generos son más rentables. "
   ]
  },
  {
   "cell_type": "code",
   "execution_count": null,
   "metadata": {},
   "outputs": [
    {
     "data": {
      "image/png": "[encoded data removed]",
      "text/plain": [
       "<Figure size 1200x800 with 1 Axes>"
      ]
     },
     "metadata": {},
     "output_type": "display_data"
    },
    {
     "name": "stdout",
     "output_type": "stream",
     "text": [
      "           genre  total_sales\n",
      "0         Action       537.15\n",
      "8        Shooter       358.94\n",
      "10        Sports       349.21\n",
      "3           Misc       260.53\n",
      "7   Role-Playing       170.18\n",
      "6         Racing        98.77\n",
      "4       Platform        90.88\n",
      "2       Fighting        75.78\n",
      "1      Adventure        53.29\n",
      "9     Simulation        49.19\n",
      "5         Puzzle        32.47\n",
      "11      Strategy        18.70\n"
     ]
    }
   ],
   "source": [
    "# Agrupamos los datos por género y sumar las ventas totales\n",
    "sales_by_genre = best_data.groupby('genre')['total_sales'].sum().reset_index()\n",
    "\n",
    "# Ordenamos los géneros por ventas totales de mayor a menor\n",
    "sales_by_genre = sales_by_genre.sort_values(by='total_sales', ascending=False)\n",
    "\n",
    "# Visualización: Diagrama de barras\n",
    "plt.figure(figsize=(12, 8))\n",
    "sns.barplot(data=sales_by_genre, x='genre', y='total_sales', palette='Set3')\n",
    "\n",
    "# Títulos y etiquetas\n",
    "plt.title('Sales distribution by genre', fontsize=16)\n",
    "plt.xlabel('Genre', fontsize=12)\n",
    "plt.ylabel('Total sales (millions)', fontsize=12)\n",
    "\n",
    "# Rotar las etiquetas del eje X para que se lean mejor\n",
    "plt.xticks(rotation=45, ha=\"right\")\n",
    "\n",
    "# Mostrar el gráfico\n",
    "plt.show()\n",
    "\n",
    "# Verificar los primeros datos agrupados\n",
    "print(sales_by_genre.head(12))"
   ]
  },
  {
   "cell_type": "markdown",
   "metadata": {},
   "source": [
    "Evidentemente el género de acción se lleva el primer lugar en ventas con una diferencia notoria sobre los otros géneros, por lo que la rentabilidad mayor se daría con la promoción y venta de esté género. \n",
    "\n",
    "Para los últimos géneros (Puzzle y Strategy) podemos presumir la dificultad de su comercialización y la gran diferencia en comparación con el género más comercializado. "
   ]
  },
  {
   "cell_type": "markdown",
   "metadata": {},
   "source": [
    "# 4. Perfil de usuario por región"
   ]
  },
  {
   "cell_type": "markdown",
   "metadata": {},
   "source": [
    "Ahora, perfilaremos las regiones (Norte América, Europa y Japón) para analizar su comportamiento en el consumo de video juegoos ¿Qué plataformas son las más usadas? ¿Cuáles son los géneros más jugados? Y si las clasificaciones ESRB afectan el comportamiento de ventas en cada región. \n",
    "\n",
    "En consideración de que estamos realizando un análisis para un lanzamiento para el 2017, seguiremos usando el dataframe best_data, que evalúa las plataformas que se encuentran dentro de los parámetros necesarios para la evaluación que estamos realizando (Las plataformas con más ventas, el último año de lanzamiento de cada plataforma, el tiempo promedio de vida de una plataforma)"
   ]
  },
  {
   "cell_type": "code",
   "execution_count": null,
   "metadata": {},
   "outputs": [
    {
     "name": "stdout",
     "output_type": "stream",
     "text": [
      "  platform      NA      EU     JP\n",
      "0       DS  120.61   53.89  52.11\n",
      "1      PS2   11.68    6.61   2.74\n",
      "2      PS3  291.90  255.00  68.29\n",
      "3      Wii  235.75  124.22  34.32\n",
      "4     X360  408.18  196.72   7.41\n"
     ]
    },
    {
     "data": {
      "image/png": "[encoded data removed]",
      "text/plain": [
       "<Figure size 1000x600 with 1 Axes>"
      ]
     },
     "metadata": {},
     "output_type": "display_data"
    }
   ],
   "source": [
    "#Agrupamos por plataforma y sumamos las ventas en cada región\n",
    "top_platforms_na = best_data.groupby('platform')['na_sales'].sum().nlargest(5)\n",
    "top_platforms_eu = best_data.groupby('platform')['eu_sales'].sum().nlargest(5)\n",
    "top_platforms_jp = best_data.groupby('platform')['jp_sales'].sum().nlargest(5)\n",
    "\n",
    "#Convertimos a DataFrame\n",
    "top_platforms = pd.DataFrame({\n",
    "    'NA': top_platforms_na,\n",
    "    'EU': top_platforms_eu,\n",
    "    'JP': top_platforms_jp\n",
    "}).reset_index()\n",
    "\n",
    "#Visualizamos los datos\n",
    "print(top_platforms)\n",
    "\n",
    "top_platforms.plot(x= 'platform', kind='bar', figsize=(10, 6))\n",
    "plt.title('Top 5 platforms by region')\n",
    "plt.xlabel('Platform')\n",
    "plt.ylabel('Sales (millions)')\n",
    "plt.xticks(rotation=45)\n",
    "plt.show()"
   ]
  },
  {
   "cell_type": "code",
   "execution_count": null,
   "metadata": {},
   "outputs": [
    {
     "name": "stdout",
     "output_type": "stream",
     "text": [
      "          genre      NA      EU     JP\n",
      "0        Action  261.10  174.96  38.14\n",
      "1          Misc  146.29   73.14  15.43\n",
      "2        Racing     NaN   41.67    NaN\n",
      "3  Role-Playing   72.25     NaN  47.44\n",
      "4       Shooter  192.73  115.31   9.98\n",
      "5        Sports  183.55  109.98  17.00\n"
     ]
    },
    {
     "data": {
      "image/png": "[encoded data removed]",
      "text/plain": [
       "<Figure size 1000x600 with 1 Axes>"
      ]
     },
     "metadata": {},
     "output_type": "display_data"
    }
   ],
   "source": [
    "top_genre_na = best_data.groupby('genre')['na_sales'].sum().nlargest(5)\n",
    "top_genre_eu = best_data.groupby('genre')['eu_sales'].sum().nlargest(5)\n",
    "top_genre_jp = best_data.groupby('genre')['jp_sales'].sum().nlargest(5)\n",
    "\n",
    "#Convertimos a DataFrame\n",
    "top_platforms = pd.DataFrame({\n",
    "    'NA': top_genre_na,\n",
    "    'EU': top_genre_eu,\n",
    "    'JP': top_genre_jp\n",
    "}).reset_index()\n",
    "\n",
    "#Visualizamos los datos\n",
    "print(top_platforms)\n",
    "\n",
    "top_platforms.plot(x= 'genre', kind='bar', figsize=(10, 6))\n",
    "plt.title('Top 5 genre by region')\n",
    "plt.xlabel('Genre')\n",
    "plt.ylabel('Sales (millions)')\n",
    "plt.xticks(rotation=45)\n",
    "plt.show()"
   ]
  },
  {
   "cell_type": "code",
   "execution_count": null,
   "metadata": {},
   "outputs": [
    {
     "data": {
      "image/png": "[encoded data removed]",
      "text/plain": [
       "<Figure size 1000x600 with 1 Axes>"
      ]
     },
     "metadata": {},
     "output_type": "display_data"
    },
    {
     "data": {
      "text/html": [
       "<div>\n",
       "<style scoped>\n",
       "    .dataframe tbody tr th:only-of-type {\n",
       "        vertical-align: middle;\n",
       "    }\n",
       "\n",
       "    .dataframe tbody tr th {\n",
       "        vertical-align: top;\n",
       "    }\n",
       "\n",
       "    .dataframe thead th {\n",
       "        text-align: right;\n",
       "    }\n",
       "</style>\n",
       "<table border=\"1\" class=\"dataframe\">\n",
       "  <thead>\n",
       "    <tr style=\"text-align: right;\">\n",
       "      <th></th>\n",
       "      <th>na_sales</th>\n",
       "      <th>eu_sales</th>\n",
       "      <th>jp_sales</th>\n",
       "    </tr>\n",
       "    <tr>\n",
       "      <th>rating</th>\n",
       "      <th></th>\n",
       "      <th></th>\n",
       "      <th></th>\n",
       "    </tr>\n",
       "  </thead>\n",
       "  <tbody>\n",
       "    <tr>\n",
       "      <th>E</th>\n",
       "      <td>315.56</td>\n",
       "      <td>172.92</td>\n",
       "      <td>30.16</td>\n",
       "    </tr>\n",
       "    <tr>\n",
       "      <th>E10+</th>\n",
       "      <td>152.50</td>\n",
       "      <td>82.15</td>\n",
       "      <td>11.27</td>\n",
       "    </tr>\n",
       "    <tr>\n",
       "      <th>EC</th>\n",
       "      <td>1.23</td>\n",
       "      <td>0.00</td>\n",
       "      <td>0.00</td>\n",
       "    </tr>\n",
       "    <tr>\n",
       "      <th>M</th>\n",
       "      <td>324.77</td>\n",
       "      <td>205.12</td>\n",
       "      <td>25.12</td>\n",
       "    </tr>\n",
       "    <tr>\n",
       "      <th>RP</th>\n",
       "      <td>107.98</td>\n",
       "      <td>85.98</td>\n",
       "      <td>69.93</td>\n",
       "    </tr>\n",
       "    <tr>\n",
       "      <th>T</th>\n",
       "      <td>166.08</td>\n",
       "      <td>90.27</td>\n",
       "      <td>28.39</td>\n",
       "    </tr>\n",
       "  </tbody>\n",
       "</table>\n",
       "</div>"
      ],
      "text/plain": [
       "        na_sales  eu_sales  jp_sales\n",
       "rating                              \n",
       "E         315.56    172.92     30.16\n",
       "E10+      152.50     82.15     11.27\n",
       "EC          1.23      0.00      0.00\n",
       "M         324.77    205.12     25.12\n",
       "RP        107.98     85.98     69.93\n",
       "T         166.08     90.27     28.39"
      ]
     },
     "execution_count": 27,
     "metadata": {},
     "output_type": "execute_result"
    }
   ],
   "source": [
    "esrb_sales = best_data.groupby('rating')[['na_sales', 'eu_sales', 'jp_sales']].sum()\n",
    "\n",
    "esrb_sales.plot(kind='bar', figsize=(10, 6))\n",
    "plt.title('Impact of the ESRB Rating on Sales by Region')\n",
    "plt.xlabel('Clasification ESRB')\n",
    "plt.ylabel('Sales (millions)')\n",
    "plt.xticks(rotation=45)\n",
    "plt.show()\n",
    "\n",
    "#Visualizamos los datos\n",
    "esrb_sales.head(10)"
   ]
  },
  {
   "cell_type": "markdown",
   "metadata": {},
   "source": [
    "Con los resultados obtenidos, haremos un perfil para cada región: \n",
    "\n",
    "1. Norte América. \n",
    "- Gran preferencia por los gráficos y demás servicios ofrecidos por Xbox 360, siendo esta con más de 400.000.000 la más vendida en esta región. Play Station 3 se ubica en segundo lugar con pooco más de 291.000.000 de ventas. \n",
    "- Los juegos de acción y disparos son los preferidos por los Norte Americanos, siendo el género de acción el más consumido con una gran diferencia. No se deben descartar los juegos de deportes, estando estos muy cerca al género de disparos. Para el caso de racing, no se presentan datos de consumo de este género en esta región.  \n",
    "- ¡En Norte América se presenta un consumo de video juegos desde la adolecencia! A partir de los 17 años, se presenta una predominancia en el consumo de los videojuegos, además, el consumo de videojuegos a cualquier edad también es común en esta región. \n",
    "\n",
    "2. Europa.\n",
    "- Aquí se presenta un comportamiento de consumos menos pronunciado, siendo Play Station 3, con 255.000.000 de ventas la plataforma más adquirida por los habitantes del viejo continente. Sin embargo, Xbox 360 está justo en segundo lugar, con una diferencia no muy grande a las ventas de Play Station 3. \n",
    "- Al igual que Norte América, los europeos prefieren los juegos de acción, y en segundo y tercer los géneros de disparos y deportes. Sin embargo, se presenta una diferencia considerable de consumos entre la región de Norte América y Europa. \n",
    "- Se presenta un comportamiento similar al de Norte América, eso sí, en menor proporción. \n",
    "\n",
    "3. Japón. \n",
    "- En general los consumos de las 5 principales plataformas está muy por debajo en comparación con Norte América y Europa, sin embargo, se destaca el uso de Play Station 3, estando Nintendo DS por detrás, con una diferencia de más de 10.000.000 de ventas en comparación al primer lugar. \n",
    "- El protagista en esta región es totalmente diferente al género predominante en las otras dos regiones, los juegos de roles toman la delantera en cuestión de consumo en la región oriental, sin embargo, algunos japoneses prefieren también el género de acción, por tanto este se sitúa en el segundo lugar. \n",
    "- En este lado del mundo, no se cuenta con una caracterización muy regulada para la compra de videojuegos. Pero con los datos obtenidos, se evidencia una ligera tendencia de consumo de video juegos a partir de los 13 años. \n"
   ]
  },
  {
   "cell_type": "markdown",
   "metadata": {},
   "source": [
    "# 5. Hipótesis"
   ]
  },
  {
   "cell_type": "markdown",
   "metadata": {},
   "source": [
    "Para probar estas hipótesis, utilizaremos una prueba t de Student para dos muestras independientes, ya que queremos comparar las medias de dos grupos diferentes.\n",
    "\n",
    "Nivel de significancia: Elegiremos α = 0.05 (5%) como umbral estándar para determinar si hay diferencias significativas.\n",
    "\n",
    "Criterio de prueba: \n",
    "\n",
    "Si el valor p (p-value) es menor que α = 0.05, rechazamos la hipótesis nula.\n",
    "Si el valor p es mayor que 0.05, no hay suficiente evidencia para rechazar la hipótesis nula"
   ]
  },
  {
   "cell_type": "markdown",
   "metadata": {},
   "source": [
    "# 5.1. Las calificaciones promedio de los usuarios para las plataformas Xbox One y PC son las mismas.\n"
   ]
  },
  {
   "cell_type": "markdown",
   "metadata": {},
   "source": [
    "Hipotesis 1:  Las calificaciones promedio de los usuarios para las plataformas Xbox One y PC son las mismas.\n",
    "\n",
    "Hipótesis nula (H₀): Las calificaciones promedio de los usuarios para Xbox One y PC son iguales.\n",
    "\n",
    "Hipótesis alternativa (H₁): Las calificaciones promedio de los usuarios para Xbox One y PC son diferentes.."
   ]
  },
  {
   "cell_type": "code",
   "execution_count": null,
   "metadata": {},
   "outputs": [
    {
     "name": "stdout",
     "output_type": "stream",
     "text": [
      "Valor estadístico de Levene: 0.0025412636379186955\n",
      "Valor p de Levene: 0.9598032879564389\n",
      "No podemos rechazar la hipótesis nula de varianzas iguales. Las varianzas son iguales.\n",
      "Valor t: -3.9282568125128257\n",
      "Valor p: 9.043321920431166e-05\n",
      "Rechazamos la hipótesis nula. Las calificaciones promedio de los usuarios son diferentes para Xbox One y PC.\n"
     ]
    }
   ],
   "source": [
    "# Filtrar los datos para Xbox One y PC\n",
    "xone_data = games_data[games_data['platform'] == 'XOne']['user_score'].dropna()\n",
    "pc_data = games_data[games_data['platform'] == 'PC']['user_score'].dropna()\n",
    "\n",
    "# Realizamos la prueba de Levene para comparar las varianzas\n",
    "levene_stat, levene_p_value = stats.levene(xone_data, pc_data)\n",
    "\n",
    "# Mostramos el resultado de la prueba de Levene\n",
    "print(f\"Valor estadístico de Levene: {levene_stat}\")\n",
    "print(f\"Valor p de Levene: {levene_p_value}\")\n",
    "\n",
    "# Establecemos el umbral de significancia (alpha)\n",
    "alpha = 0.05\n",
    "\n",
    "# Comprobamos si podemos rechazar la hipótesis nula de igualdad de varianzas\n",
    "if levene_p_value < alpha:\n",
    "    print(\"Rechazamos la hipótesis nula de varianzas iguales. Las varianzas son diferentes.\")\n",
    "    equal_var = False\n",
    "else:\n",
    "    print(\"No podemos rechazar la hipótesis nula de varianzas iguales. Las varianzas son iguales.\")\n",
    "    equal_var = True\n",
    "\n",
    "# Usamos una prueba t de Student para comparar las medias de las dos muestras\n",
    "t_stat, p_value = stats.ttest_ind(xone_data, pc_data, equal_var=equal_var)\n",
    "\n",
    "# Mostramos el resultado de la prueba t\n",
    "print(f\"Valor t: {t_stat}\")\n",
    "print(f\"Valor p: {p_value}\")\n",
    "\n",
    "# Comprobamos si podemos rechazar la hipótesis nula\n",
    "if p_value < alpha:\n",
    "    print(\"Rechazamos la hipótesis nula. Las calificaciones promedio de los usuarios son diferentes para Xbox One y PC.\")\n",
    "else:\n",
    "    print(\"No podemos rechazar la hipótesis nula. No hay suficiente evidencia para decir que las calificaciones promedio de los usuarios son diferentes entre Xbox One y PC.\")"
   ]
  },
  {
   "cell_type": "code",
   "execution_count": null,
   "metadata": {},
   "outputs": [
    {
     "name": "stdout",
     "output_type": "stream",
     "text": [
      "Valor estadístico de Levene: 0.08043097837126932\n",
      "Valor p de Levene: 0.7767246731839648\n",
      "No podemos rechazar la hipótesis nula de varianzas iguales. Las varianzas son iguales.\n",
      "Valor t: 0.5749833308868352\n",
      "Valor p: 0.5653256242787754\n",
      "No podemos rechazar la hipótesis nula. No hay suficiente evidencia para decir que las calificaciones promedio de los usuarios son diferentes entre Acción y Deportes.\n"
     ]
    }
   ],
   "source": [
    "# Filtramos los datos para los géneros de Acción y Deportes\n",
    "action_data = games_data[games_data['genre'] == 'Action']['user_score'].dropna()\n",
    "sports_data = games_data[games_data['genre'] == 'Sports']['user_score'].dropna()\n",
    "\n",
    "# Realizamos la prueba de Levene para comparar las varianzas\n",
    "levene_stat, levene_p_value = stats.levene(action_data, sports_data)\n",
    "\n",
    "# Mostramos el resultado de la prueba de Levene\n",
    "print(f\"Valor estadístico de Levene: {levene_stat}\")\n",
    "print(f\"Valor p de Levene: {levene_p_value}\")\n",
    "\n",
    "# Establecemos el umbral de significancia (alpha)\n",
    "alpha = 0.05\n",
    "\n",
    "# Comprobamos si podemos rechazar la hipótesis nula de igualdad de varianzas\n",
    "if levene_p_value < alpha:\n",
    "    print(\"Rechazamos la hipótesis nula de varianzas iguales. Las varianzas son diferentes.\")\n",
    "    equal_var = False\n",
    "else:\n",
    "    print(\"No podemos rechazar la hipótesis nula de varianzas iguales. Las varianzas son iguales.\")\n",
    "    equal_var = True\n",
    "\n",
    "# Usamos una prueba t de Student para comparar las medias de las dos muestras\n",
    "t_stat, p_value = stats.ttest_ind(action_data, sports_data, equal_var=equal_var)\n",
    "\n",
    "# Mostramos el resultado de la prueba t\n",
    "print(f\"Valor t: {t_stat}\")\n",
    "print(f\"Valor p: {p_value}\")\n",
    "\n",
    "# Comprobamos si podemos rechazar la hipótesis nula\n",
    "if p_value < alpha:\n",
    "    print(\"Rechazamos la hipótesis nula. Las calificaciones promedio de los usuarios para Acción y Deportes son diferentes.\")\n",
    "else:\n",
    "    print(\"No podemos rechazar la hipótesis nula. No hay suficiente evidencia para decir que las calificaciones promedio de los usuarios son diferentes entre Acción y Deportes.\")"
   ]
  },
  {
   "cell_type": "markdown",
   "metadata": {},
   "source": [
    " <div class=\"alert alert-block alert-danger\">\n",
    "<b>Comentario revisor</b> <a class=\"tocSkip\"></a>\n",
    "\n",
    "Para estas pruebas te recomiendo hacer una prueba de  Levene  para mostrar si las varianzas son iguales y agregarlo dentro de la función. Actualmente lo colocar como equal_var=True. Para esto, primero debes calcular las varianzas para cada uno de las plataformas y en un segundo tiempo debes de hacer uso de la siguiente función: \n",
    "    \n",
    "    levene(xone_data, pc_data)\n",
    "    \n",
    "Adoptaremos un nivel de significancia de 0.05; si el valor p resultante es mayor a 0.05, no podemos rechazar la hipótesis nula, y si es menor a 0.05, rechazamos la hipótesis nula, indicando que las varianzas no son iguales. \n",
    "    \n",
    "Solamente recuerda que la prueba de levene no es sustituto a la prueba de st.ttest_ind, más bien es complemento para saber que colocar dentro del elemento \"equal_var\". En este caso como rechazamos la hipótesis de varianzas iguales debemos de colocar False. Es por eso que para terminar la prueba debes de realizar la prueba de st.ttest_ind considernado el resultado de la prueba realizada de levene    \n",
    "</div>"
   ]
  },
  {
   "cell_type": "markdown",
   "metadata": {},
   "source": [
    " <div class=\"alert alert-block alert-success\">\n",
    "<b>Comentario revisor</b> <a class=\"tocSkip\"></a>\n",
    "\n",
    "Gran trabajo con el ajuste!"
   ]
  },
  {
   "cell_type": "markdown",
   "metadata": {},
   "source": [
    "# 6. Conclusión general"
   ]
  },
  {
   "cell_type": "markdown",
   "metadata": {},
   "source": [
    "Durante este proyecto abordamos un tema fascinante y que, tal como se evidencia, ha sido tendencia y de gran consumo durante décadas. Ahora bien, nuestro objetivo fue realizar un análisis con datos del 2016 para un lanzamiento del 2017, para este análisis, evaluamos datos que contenían información tal como, nombres de diferentes juegos, plataformas (Xbox, PlayStation, Nintendo, etc), años de lanzamiento de diferentes juegos, género, consumo por regiones dividias en Norte América, Europa, Japón y \"otras\", críticas por usuarios y profesionales en este nicho, y un rating ESRB. \n",
    "\n",
    "Para nuestro análisis, iniciamos con una  revisión, organización y limpieza de los datos objeto de estudio (Numerales 2 y 3), en los cuales dimos la forma más óptima a la información para poder adelantar los análisis requeridos. Dentro del análisis estudiamos variables muy importantes para obtener respuestas a nuestras consultas, tales como: \n",
    "- Las plataformas con más ventas.\n",
    "- El último año de lanzamiento de cada plataforma.\n",
    "- El tiempo promedio de vida de una plataforma.\n",
    "\n",
    "En respuesta a estas, obtuvimos que de las más de 30 plataformas, estas 5 han sido las que han tenido un mayor comportamiento positivo en el periodo en los últimos años: \n",
    "\n",
    "1. Xbox 360 - X360\n",
    "2. Play Station 3 - PS3\n",
    "3. Nintendo Wii - Wii\n",
    "4. Nintendo DS\n",
    "5. Play Station 2 - PS2\n",
    "\n",
    "Que la frecuencia con la que se lanza una nueva plataforma es de aproximadamente 1.1 años y que su tiempo promedio de dinamismo en el mercado puede ser de hasta 7 años. \n",
    "\n",
    "¿Para que nos sirve esta información? \n",
    "\n",
    "Para responder preguntas cómo ¿Qué plataforma debo promocionar en el 2017? ¿Las plataformas vigentes cuánto tiempo más podrían mantenerse en tendencia? ¿Debo promocionar nuevas plataformas emergentes o plataformas existentes relativamente nuevas?\n",
    "\n",
    "Si bien planteé preguntas interesantes que, a la luz de mi proyecto de lanzamiento son un gran punto de partida, debo analizar más a profundidad la información para ser más preciso en mis apreciaciones, por tal motivo, analizamos los consumos por región de acuerdo a las plataformas, géneros y consumos por edad (Rating ESRB), obteniendo lo siguiente: \n",
    "\n",
    "1. Norte América.\n",
    "- Gran preferencia por los gráficos y demás servicios ofrecidos por Xbox 360, siendo esta con más de 400.000.000 la más vendida en esta región. Play Station 3 se ubica en segundo lugar con pooco más de 291.000.000 de ventas.\n",
    "- Los juegos de acción y disparos son los preferidos por los Norte Americanos, siendo el género de acción el más consumido con una gran diferencia. No se deben descartar los juegos de deportes, estando estos muy cerca al género de disparos. Para el caso de racing, no se presentan datos de consumo de este género en esta región.\n",
    "- ¡En Norte América se presenta un consumo de video juegos desde la adolecencia! A partir de los 17 años, se presenta una predominancia en el consumo de los videojuegos, además, el consumo de videojuegos a cualquier edad también es común en esta región.\n",
    "2. Europa.\n",
    "- Aquí se presenta un comportamiento de consumos menos pronunciado, siendo Play Station 3, con 255.000.000 de ventas la plataforma más adquirida por los habitantes del viejo continente. Sin embargo, Xbox 360 está justo en segundo lugar, con una diferencia no muy grande a las ventas de Play Station 3.\n",
    "- Al igual que Norte América, los europeos prefieren los juegos de acción, y en segundo y tercer los géneros de disparos y deportes. Sin embargo, se presenta una diferencia considerable de consumos entre la región de Norte América y Europa.\n",
    "- Se presenta un comportamiento similar al de Norte América, eso sí, en menor proporción.\n",
    "3. Japón.\n",
    "- En general los consumos de las 5 principales plataformas está muy por debajo en comparación con Norte América y Europa, sin embargo, se destaca el uso de Play Station 3, estando Nintendo DS por detrás, con una diferencia de más de 10.000.000 de ventas en comparación al primer lugar.\n",
    "- El protagista en esta región es totalmente diferente al género predominante en las otras dos regiones, los juegos de roles toman la delantera en cuestión de consumo en la región oriental, sin embargo, algunos japoneses prefieren también el género de acción, por tanto este se sitúa en el segundo lugar.\n",
    "- En este lado del mundo, no se cuenta con una caracterización muy regulada para la compra de videojuegos. Pero con los datos obtenidos, se evidencia una ligera tendencia de consumo de video juegos a partir de los 13 años.\n",
    "\n",
    "¡Es un gran avance y responde en gran medida mis preguntas iniciales! \n",
    "\n",
    "Adicionalmente, factores como las críticas de los usuarios y de los profesionales no se deben descartar, por lo que su consideración también fue importante en este proceso. \n",
    "\n",
    "Ahora ¿Qué producto debería promocionar para el lanzamiento 2017?\n",
    "\n",
    "Desde mi perspectiva, debería promocionarse un video juego del género de acción, por su alta demanda en la mayoría de las regiones. \n",
    "\n",
    "¿En qué plataformas? Con base en los tiempos de vigencia y el periodo de lanzamiento de nuevas plataformas, propondría el desarrollo de video juegos en plataformas existentes como PlayStation 4 (ps4) puesto que es una plataforma \"nueva\" y el desarrollo de una actualización en plataformas de Xbox y Nintendo, para atender así las demandas de consumo mayores de cada región. \n",
    "\n",
    "¡Esperamos entonces en el 2017 contar con un nuevo juego de acción, estaré pendiente de comprar mi PlayStation 4 para jugar!"
   ]
  },
  {
   "cell_type": "markdown",
   "metadata": {},
   "source": [
    "<div class=\"alert alert-block alert-warning\">\n",
    "<b>Comentario revisor</b> <a class=\"tocSkip\"></a>\n",
    "\n",
    "Camilo, en general creo que hiciste un muy buen trabajo con el proyecto, pudiste limpiar y trabajar las bases de datos de beuna manera. Además, el análisis explorario de datos fue completo al mostrar resultados relevantes que pueden ser de mucha utilidad para la toma de decisiones y desarrollaste las pruebas de hipótesis de una buena manera. No obstante, recuerda que siempre podemos mejorar y te menciono algunos puntos que debes considerar:\n",
    "\n",
    "\n",
    "*  Considerar eliminar registros atipicos que puedan sesgar nuestros resultados. \n",
    "    \n",
    "*  Verificar los supuestos de las pruebas de hipótesis. \n",
    "    \n",
    "</div>"
   ]
  }
 ],
 "metadata": {
  "ExecuteTimeLog": [
   {
    "duration": 9,
    "start_time": "2025-03-26T00:40:25.675Z"
   },
   {
    "duration": 152,
    "start_time": "2025-03-26T00:40:54.225Z"
   },
   {
    "duration": 11,
    "start_time": "2025-03-26T00:41:13.962Z"
   },
   {
    "duration": 2560,
    "start_time": "2025-03-26T00:41:18.751Z"
   },
   {
    "duration": 42,
    "start_time": "2025-03-26T00:41:21.313Z"
   },
   {
    "duration": 32,
    "start_time": "2025-03-26T00:41:45.206Z"
   },
   {
    "duration": 99,
    "start_time": "2025-03-26T00:42:37.177Z"
   },
   {
    "duration": 51,
    "start_time": "2025-03-26T00:42:45.725Z"
   },
   {
    "duration": 2,
    "start_time": "2025-03-26T00:48:13.650Z"
   },
   {
    "duration": 3,
    "start_time": "2025-03-26T00:48:15.327Z"
   },
   {
    "duration": 2,
    "start_time": "2025-03-26T00:48:17.275Z"
   },
   {
    "duration": 51,
    "start_time": "2025-03-26T00:48:22.857Z"
   },
   {
    "duration": 16,
    "start_time": "2025-03-26T00:54:24.121Z"
   },
   {
    "duration": 5,
    "start_time": "2025-03-26T00:55:24.154Z"
   },
   {
    "duration": 13,
    "start_time": "2025-03-26T00:55:30.132Z"
   },
   {
    "duration": 12,
    "start_time": "2025-03-26T00:55:39.294Z"
   },
   {
    "duration": 2,
    "start_time": "2025-03-26T00:55:48.489Z"
   },
   {
    "duration": 9,
    "start_time": "2025-03-26T00:59:05.392Z"
   },
   {
    "duration": 10,
    "start_time": "2025-03-26T00:59:11.037Z"
   },
   {
    "duration": 10,
    "start_time": "2025-03-26T00:59:15.881Z"
   },
   {
    "duration": 16,
    "start_time": "2025-03-26T00:59:28.311Z"
   },
   {
    "duration": 4,
    "start_time": "2025-03-26T01:00:11.694Z"
   },
   {
    "duration": 753,
    "start_time": "2025-03-26T01:00:20.416Z"
   },
   {
    "duration": 14,
    "start_time": "2025-03-26T01:00:45.293Z"
   },
   {
    "duration": 9,
    "start_time": "2025-03-26T01:01:05.981Z"
   },
   {
    "duration": 12,
    "start_time": "2025-03-26T01:04:24.024Z"
   },
   {
    "duration": 32,
    "start_time": "2025-03-26T01:07:03.327Z"
   },
   {
    "duration": 26,
    "start_time": "2025-03-26T01:07:16.096Z"
   },
   {
    "duration": 22,
    "start_time": "2025-03-26T01:08:50.475Z"
   },
   {
    "duration": 34,
    "start_time": "2025-03-26T01:09:05.363Z"
   },
   {
    "duration": 311,
    "start_time": "2025-03-26T01:17:25.987Z"
   },
   {
    "duration": 24,
    "start_time": "2025-03-26T01:23:59.980Z"
   },
   {
    "duration": 14,
    "start_time": "2025-03-26T01:24:17.761Z"
   },
   {
    "duration": 5,
    "start_time": "2025-03-26T01:24:37.184Z"
   },
   {
    "duration": 10,
    "start_time": "2025-03-26T01:24:39.557Z"
   },
   {
    "duration": 17,
    "start_time": "2025-03-26T01:24:57.097Z"
   },
   {
    "duration": 148,
    "start_time": "2025-03-26T01:25:36.177Z"
   },
   {
    "duration": 20,
    "start_time": "2025-03-26T01:28:05.455Z"
   },
   {
    "duration": 5,
    "start_time": "2025-03-26T01:31:29.660Z"
   },
   {
    "duration": 18,
    "start_time": "2025-03-26T01:32:15.356Z"
   },
   {
    "duration": 28,
    "start_time": "2025-03-26T01:32:28.410Z"
   },
   {
    "duration": 14,
    "start_time": "2025-03-26T01:34:43.640Z"
   },
   {
    "duration": 75,
    "start_time": "2025-03-26T01:34:55.951Z"
   },
   {
    "duration": 9,
    "start_time": "2025-03-26T01:36:25.542Z"
   },
   {
    "duration": 17,
    "start_time": "2025-03-26T01:36:51.970Z"
   },
   {
    "duration": 12,
    "start_time": "2025-03-26T01:38:36.519Z"
   },
   {
    "duration": 15,
    "start_time": "2025-03-26T01:39:25.307Z"
   },
   {
    "duration": 50,
    "start_time": "2025-03-26T01:40:30.236Z"
   },
   {
    "duration": 14,
    "start_time": "2025-03-26T01:40:38.162Z"
   },
   {
    "duration": 56,
    "start_time": "2025-03-26T01:40:41.248Z"
   },
   {
    "duration": 3,
    "start_time": "2025-03-26T01:40:52.684Z"
   },
   {
    "duration": 32,
    "start_time": "2025-03-26T01:40:55.447Z"
   },
   {
    "duration": 12,
    "start_time": "2025-03-26T01:40:58.496Z"
   },
   {
    "duration": 12,
    "start_time": "2025-03-26T01:41:02.846Z"
   },
   {
    "duration": 46,
    "start_time": "2025-03-26T01:41:06.197Z"
   },
   {
    "duration": 3,
    "start_time": "2025-03-26T01:41:16.706Z"
   },
   {
    "duration": 29,
    "start_time": "2025-03-26T01:41:18.910Z"
   },
   {
    "duration": 2,
    "start_time": "2025-03-26T01:41:25.474Z"
   },
   {
    "duration": 13,
    "start_time": "2025-03-26T01:41:28.006Z"
   },
   {
    "duration": 46,
    "start_time": "2025-03-26T01:41:29.063Z"
   },
   {
    "duration": 11,
    "start_time": "2025-03-26T01:41:50.187Z"
   },
   {
    "duration": 22,
    "start_time": "2025-03-26T01:42:04.227Z"
   },
   {
    "duration": 11,
    "start_time": "2025-03-26T01:42:14.398Z"
   },
   {
    "duration": 71,
    "start_time": "2025-03-26T01:43:36.941Z"
   },
   {
    "duration": 104,
    "start_time": "2025-03-26T01:43:55.110Z"
   },
   {
    "duration": 93,
    "start_time": "2025-03-26T01:45:13.826Z"
   },
   {
    "duration": 74,
    "start_time": "2025-03-26T01:47:09.938Z"
   },
   {
    "duration": 12,
    "start_time": "2025-03-26T01:47:43.196Z"
   },
   {
    "duration": 12,
    "start_time": "2025-03-26T01:49:45.901Z"
   },
   {
    "duration": 17,
    "start_time": "2025-03-26T01:51:05.212Z"
   },
   {
    "duration": 25,
    "start_time": "2025-03-26T01:51:59.395Z"
   },
   {
    "duration": 12,
    "start_time": "2025-03-26T01:53:02.928Z"
   },
   {
    "duration": 13,
    "start_time": "2025-03-26T01:53:08.663Z"
   },
   {
    "duration": 841,
    "start_time": "2025-03-26T02:08:27.324Z"
   },
   {
    "duration": 3,
    "start_time": "2025-03-26T02:08:29.102Z"
   },
   {
    "duration": 270,
    "start_time": "2025-03-26T02:08:34.294Z"
   },
   {
    "duration": 3,
    "start_time": "2025-03-26T02:08:40.999Z"
   },
   {
    "duration": 34,
    "start_time": "2025-03-26T02:08:43.392Z"
   },
   {
    "duration": 12,
    "start_time": "2025-03-26T02:08:47.544Z"
   },
   {
    "duration": 32,
    "start_time": "2025-03-26T02:08:51.021Z"
   },
   {
    "duration": 23,
    "start_time": "2025-03-26T02:09:05.073Z"
   },
   {
    "duration": 31,
    "start_time": "2025-03-26T02:09:26.897Z"
   },
   {
    "duration": 12,
    "start_time": "2025-03-26T02:10:02.192Z"
   },
   {
    "duration": 3,
    "start_time": "2025-03-26T02:28:57.459Z"
   },
   {
    "duration": 30,
    "start_time": "2025-03-26T02:29:01.061Z"
   },
   {
    "duration": 12,
    "start_time": "2025-03-26T02:29:03.622Z"
   },
   {
    "duration": 14,
    "start_time": "2025-03-26T02:29:05.924Z"
   },
   {
    "duration": 12,
    "start_time": "2025-03-26T02:29:09.355Z"
   },
   {
    "duration": 14,
    "start_time": "2025-03-26T02:30:40.570Z"
   },
   {
    "duration": 8,
    "start_time": "2025-03-26T02:30:43.450Z"
   },
   {
    "duration": 18,
    "start_time": "2025-03-26T02:30:58.954Z"
   },
   {
    "duration": 16,
    "start_time": "2025-03-26T02:32:40.053Z"
   },
   {
    "duration": 15,
    "start_time": "2025-03-26T02:33:57.823Z"
   },
   {
    "duration": 14,
    "start_time": "2025-03-26T02:34:17.680Z"
   },
   {
    "duration": 14,
    "start_time": "2025-03-26T02:34:29.078Z"
   },
   {
    "duration": 15,
    "start_time": "2025-03-26T02:34:39.528Z"
   },
   {
    "duration": 13,
    "start_time": "2025-03-26T02:35:01.210Z"
   },
   {
    "duration": 14,
    "start_time": "2025-03-26T02:35:13.188Z"
   },
   {
    "duration": 3,
    "start_time": "2025-03-26T02:35:16.030Z"
   },
   {
    "duration": 32,
    "start_time": "2025-03-26T02:35:19.163Z"
   },
   {
    "duration": 12,
    "start_time": "2025-03-26T02:35:21.660Z"
   },
   {
    "duration": 15,
    "start_time": "2025-03-26T02:35:23.717Z"
   },
   {
    "duration": 19,
    "start_time": "2025-03-26T02:35:27.107Z"
   },
   {
    "duration": 14,
    "start_time": "2025-03-26T02:35:30.793Z"
   },
   {
    "duration": 3,
    "start_time": "2025-03-26T02:35:35.853Z"
   },
   {
    "duration": 34,
    "start_time": "2025-03-26T02:35:38.033Z"
   },
   {
    "duration": 13,
    "start_time": "2025-03-26T02:35:40.798Z"
   },
   {
    "duration": 16,
    "start_time": "2025-03-26T02:35:44.184Z"
   },
   {
    "duration": 18,
    "start_time": "2025-03-26T02:35:48.285Z"
   },
   {
    "duration": 13,
    "start_time": "2025-03-26T02:36:07.305Z"
   },
   {
    "duration": 14,
    "start_time": "2025-03-26T02:36:24.173Z"
   },
   {
    "duration": 15,
    "start_time": "2025-03-26T02:36:38.170Z"
   },
   {
    "duration": 15,
    "start_time": "2025-03-26T02:36:41.945Z"
   },
   {
    "duration": 3,
    "start_time": "2025-03-26T02:36:45.785Z"
   },
   {
    "duration": 32,
    "start_time": "2025-03-26T02:36:49.699Z"
   },
   {
    "duration": 13,
    "start_time": "2025-03-26T02:36:53.209Z"
   },
   {
    "duration": 14,
    "start_time": "2025-03-26T02:36:59.708Z"
   },
   {
    "duration": 2557,
    "start_time": "2025-03-27T00:19:38.150Z"
   },
   {
    "duration": 48,
    "start_time": "2025-03-27T00:19:41.481Z"
   },
   {
    "duration": 12,
    "start_time": "2025-03-27T00:19:47.990Z"
   },
   {
    "duration": 22,
    "start_time": "2025-03-27T00:19:50.763Z"
   },
   {
    "duration": 15,
    "start_time": "2025-03-27T00:19:55.122Z"
   },
   {
    "duration": 13,
    "start_time": "2025-03-27T00:29:25.160Z"
   },
   {
    "duration": 215,
    "start_time": "2025-03-27T00:30:25.993Z"
   },
   {
    "duration": 21,
    "start_time": "2025-03-27T00:31:18.015Z"
   },
   {
    "duration": 11,
    "start_time": "2025-03-27T00:32:31.249Z"
   },
   {
    "duration": 184,
    "start_time": "2025-03-27T00:51:54.194Z"
   },
   {
    "duration": 176,
    "start_time": "2025-03-27T00:52:41.810Z"
   },
   {
    "duration": 176,
    "start_time": "2025-03-27T00:52:49.972Z"
   },
   {
    "duration": 240,
    "start_time": "2025-03-27T00:53:23.556Z"
   },
   {
    "duration": 175,
    "start_time": "2025-03-27T00:54:00.556Z"
   },
   {
    "duration": 721,
    "start_time": "2025-03-27T00:54:07.941Z"
   },
   {
    "duration": 191,
    "start_time": "2025-03-27T00:54:14.345Z"
   },
   {
    "duration": 5,
    "start_time": "2025-03-27T01:12:11.270Z"
   },
   {
    "duration": 5,
    "start_time": "2025-03-27T01:13:25.303Z"
   },
   {
    "duration": 5,
    "start_time": "2025-03-27T01:13:35.312Z"
   },
   {
    "duration": 5,
    "start_time": "2025-03-27T01:13:53.445Z"
   },
   {
    "duration": 4,
    "start_time": "2025-03-27T01:16:55.757Z"
   },
   {
    "duration": 3,
    "start_time": "2025-03-27T01:17:01.062Z"
   },
   {
    "duration": 3,
    "start_time": "2025-03-27T01:17:28.036Z"
   },
   {
    "duration": 11,
    "start_time": "2025-03-27T01:17:40.151Z"
   },
   {
    "duration": 20,
    "start_time": "2025-03-27T01:18:13.239Z"
   },
   {
    "duration": 8,
    "start_time": "2025-03-27T01:18:43.817Z"
   },
   {
    "duration": 9,
    "start_time": "2025-03-27T01:19:25.705Z"
   },
   {
    "duration": 31,
    "start_time": "2025-03-27T01:19:45.729Z"
   },
   {
    "duration": 31,
    "start_time": "2025-03-27T01:20:01.667Z"
   },
   {
    "duration": 5,
    "start_time": "2025-03-27T01:20:17.973Z"
   },
   {
    "duration": 31,
    "start_time": "2025-03-27T01:20:21.108Z"
   },
   {
    "duration": 5,
    "start_time": "2025-03-27T01:21:06.898Z"
   },
   {
    "duration": 4,
    "start_time": "2025-03-27T01:21:29.375Z"
   },
   {
    "duration": 30,
    "start_time": "2025-03-27T01:21:39.928Z"
   },
   {
    "duration": 5,
    "start_time": "2025-03-27T01:22:10.506Z"
   },
   {
    "duration": 5,
    "start_time": "2025-03-27T01:22:17.717Z"
   },
   {
    "duration": 4,
    "start_time": "2025-03-27T01:23:02.096Z"
   },
   {
    "duration": 4,
    "start_time": "2025-03-27T01:23:04.803Z"
   },
   {
    "duration": 186,
    "start_time": "2025-03-27T01:23:12.953Z"
   },
   {
    "duration": 183,
    "start_time": "2025-03-27T01:23:30.291Z"
   },
   {
    "duration": 3,
    "start_time": "2025-03-27T01:23:38.342Z"
   },
   {
    "duration": 32,
    "start_time": "2025-03-27T01:23:41.842Z"
   },
   {
    "duration": 12,
    "start_time": "2025-03-27T01:23:46.024Z"
   },
   {
    "duration": 16,
    "start_time": "2025-03-27T01:23:49.072Z"
   },
   {
    "duration": 15,
    "start_time": "2025-03-27T01:23:54.686Z"
   },
   {
    "duration": 10,
    "start_time": "2025-03-27T01:23:58.046Z"
   },
   {
    "duration": 178,
    "start_time": "2025-03-27T01:24:00.724Z"
   },
   {
    "duration": 4,
    "start_time": "2025-03-27T01:25:15.848Z"
   },
   {
    "duration": 4,
    "start_time": "2025-03-27T01:25:18.131Z"
   },
   {
    "duration": 3,
    "start_time": "2025-03-27T01:27:58.894Z"
   },
   {
    "duration": 16,
    "start_time": "2025-03-27T01:28:01.028Z"
   },
   {
    "duration": 4,
    "start_time": "2025-03-27T01:28:07.680Z"
   },
   {
    "duration": 23,
    "start_time": "2025-03-27T01:28:17.702Z"
   },
   {
    "duration": 44,
    "start_time": "2025-03-27T01:28:40.899Z"
   },
   {
    "duration": 30,
    "start_time": "2025-03-27T01:28:55.250Z"
   },
   {
    "duration": 7,
    "start_time": "2025-03-27T01:33:30.626Z"
   },
   {
    "duration": 8,
    "start_time": "2025-03-27T01:37:24.928Z"
   },
   {
    "duration": 7,
    "start_time": "2025-03-27T01:37:58.982Z"
   },
   {
    "duration": 13,
    "start_time": "2025-03-27T01:38:01.481Z"
   },
   {
    "duration": 8,
    "start_time": "2025-03-27T01:38:03.767Z"
   },
   {
    "duration": 39,
    "start_time": "2025-03-27T01:38:17.706Z"
   },
   {
    "duration": 50,
    "start_time": "2025-03-27T01:40:13.137Z"
   },
   {
    "duration": 49,
    "start_time": "2025-03-27T01:40:41.719Z"
   },
   {
    "duration": 32,
    "start_time": "2025-03-27T01:41:01.478Z"
   },
   {
    "duration": 13,
    "start_time": "2025-03-27T01:50:00.318Z"
   },
   {
    "duration": 9,
    "start_time": "2025-03-27T01:51:33.281Z"
   },
   {
    "duration": 15,
    "start_time": "2025-03-27T01:51:37.561Z"
   },
   {
    "duration": 12,
    "start_time": "2025-03-27T01:56:34.406Z"
   },
   {
    "duration": 5,
    "start_time": "2025-03-27T02:03:30.494Z"
   },
   {
    "duration": 2546,
    "start_time": "2025-03-29T15:05:45.944Z"
   },
   {
    "duration": 3,
    "start_time": "2025-03-29T15:05:53.144Z"
   },
   {
    "duration": 3,
    "start_time": "2025-03-29T15:05:55.418Z"
   },
   {
    "duration": 42,
    "start_time": "2025-03-29T15:05:58.189Z"
   },
   {
    "duration": 30,
    "start_time": "2025-03-29T15:06:04.740Z"
   },
   {
    "duration": 11,
    "start_time": "2025-03-29T15:06:08.616Z"
   },
   {
    "duration": 15,
    "start_time": "2025-03-29T15:06:11.507Z"
   },
   {
    "duration": 19,
    "start_time": "2025-03-29T15:06:17.182Z"
   },
   {
    "duration": 12,
    "start_time": "2025-03-29T15:06:21.600Z"
   },
   {
    "duration": 182,
    "start_time": "2025-03-29T15:06:25.582Z"
   },
   {
    "duration": 4,
    "start_time": "2025-03-29T15:06:37.032Z"
   },
   {
    "duration": 4,
    "start_time": "2025-03-29T15:06:40.341Z"
   },
   {
    "duration": 10,
    "start_time": "2025-03-29T15:06:43.655Z"
   },
   {
    "duration": 15,
    "start_time": "2025-03-29T15:06:46.718Z"
   },
   {
    "duration": 6,
    "start_time": "2025-03-29T15:06:50.781Z"
   },
   {
    "duration": 7,
    "start_time": "2025-03-29T15:27:28.075Z"
   },
   {
    "duration": 8,
    "start_time": "2025-03-29T15:34:10.222Z"
   },
   {
    "duration": 225,
    "start_time": "2025-03-29T15:34:38.272Z"
   },
   {
    "duration": 15,
    "start_time": "2025-03-29T15:34:44.897Z"
   },
   {
    "duration": 7,
    "start_time": "2025-03-29T15:34:52.362Z"
   },
   {
    "duration": 12,
    "start_time": "2025-03-29T15:36:08.449Z"
   },
   {
    "duration": 12,
    "start_time": "2025-03-29T15:36:31.189Z"
   },
   {
    "duration": 209,
    "start_time": "2025-03-29T15:39:46.987Z"
   },
   {
    "duration": 756,
    "start_time": "2025-03-29T15:40:48.806Z"
   },
   {
    "duration": 219,
    "start_time": "2025-03-29T15:40:56.266Z"
   },
   {
    "duration": 7,
    "start_time": "2025-03-29T15:41:10.886Z"
   },
   {
    "duration": 194,
    "start_time": "2025-03-29T15:41:23.868Z"
   },
   {
    "duration": 178,
    "start_time": "2025-03-29T15:41:31.362Z"
   },
   {
    "duration": 213,
    "start_time": "2025-03-29T15:41:57.473Z"
   },
   {
    "duration": 14,
    "start_time": "2025-03-29T15:46:40.656Z"
   },
   {
    "duration": 13,
    "start_time": "2025-03-29T15:47:33.223Z"
   },
   {
    "duration": 8,
    "start_time": "2025-03-29T15:47:47.107Z"
   },
   {
    "duration": 207,
    "start_time": "2025-03-29T15:47:56.018Z"
   },
   {
    "duration": 5,
    "start_time": "2025-03-29T15:47:59.903Z"
   },
   {
    "duration": 220,
    "start_time": "2025-03-29T15:53:17.227Z"
   },
   {
    "duration": 205,
    "start_time": "2025-03-29T15:57:47.180Z"
   },
   {
    "duration": 182,
    "start_time": "2025-03-29T15:59:40.605Z"
   },
   {
    "duration": 180,
    "start_time": "2025-03-29T16:00:38.492Z"
   },
   {
    "duration": 5,
    "start_time": "2025-03-29T16:05:33.242Z"
   },
   {
    "duration": 11,
    "start_time": "2025-03-29T16:05:54.184Z"
   },
   {
    "duration": 26,
    "start_time": "2025-03-29T16:06:22.128Z"
   },
   {
    "duration": 24,
    "start_time": "2025-03-29T16:06:30.146Z"
   },
   {
    "duration": 27,
    "start_time": "2025-03-29T16:06:52.649Z"
   },
   {
    "duration": 357,
    "start_time": "2025-03-29T16:09:10.912Z"
   },
   {
    "duration": 5,
    "start_time": "2025-03-29T16:09:25.089Z"
   },
   {
    "duration": 33,
    "start_time": "2025-03-29T16:09:34.515Z"
   },
   {
    "duration": 335,
    "start_time": "2025-03-29T16:09:49.592Z"
   },
   {
    "duration": 25,
    "start_time": "2025-03-29T16:10:15.819Z"
   },
   {
    "duration": 203,
    "start_time": "2025-03-29T16:10:44.712Z"
   },
   {
    "duration": 200,
    "start_time": "2025-03-29T16:11:10.819Z"
   },
   {
    "duration": 193,
    "start_time": "2025-03-29T16:11:28.299Z"
   },
   {
    "duration": 199,
    "start_time": "2025-03-29T16:22:07.824Z"
   },
   {
    "duration": 200,
    "start_time": "2025-03-29T16:22:16.059Z"
   },
   {
    "duration": 186,
    "start_time": "2025-03-29T16:22:31.159Z"
   },
   {
    "duration": 11,
    "start_time": "2025-03-29T16:37:54.394Z"
   },
   {
    "duration": 14,
    "start_time": "2025-03-29T16:43:17.803Z"
   },
   {
    "duration": 17,
    "start_time": "2025-03-29T16:43:36.969Z"
   },
   {
    "duration": 15,
    "start_time": "2025-03-29T16:48:09.300Z"
   },
   {
    "duration": 15,
    "start_time": "2025-03-29T16:48:35.931Z"
   },
   {
    "duration": 20,
    "start_time": "2025-03-29T16:52:08.225Z"
   },
   {
    "duration": 27,
    "start_time": "2025-03-29T16:55:36.800Z"
   },
   {
    "duration": 15,
    "start_time": "2025-03-29T16:56:02.841Z"
   },
   {
    "duration": 14,
    "start_time": "2025-03-29T17:00:45.159Z"
   },
   {
    "duration": 14,
    "start_time": "2025-03-29T17:02:32.007Z"
   },
   {
    "duration": 15,
    "start_time": "2025-03-29T17:02:43.814Z"
   },
   {
    "duration": 183,
    "start_time": "2025-03-29T17:04:28.865Z"
   },
   {
    "duration": 15,
    "start_time": "2025-03-29T17:05:14.644Z"
   },
   {
    "duration": 14,
    "start_time": "2025-03-29T17:09:21.294Z"
   },
   {
    "duration": 17,
    "start_time": "2025-03-29T17:15:54.478Z"
   },
   {
    "duration": 16,
    "start_time": "2025-03-29T17:20:23.926Z"
   },
   {
    "duration": 5,
    "start_time": "2025-03-29T17:20:29.233Z"
   },
   {
    "duration": 4,
    "start_time": "2025-03-29T17:34:00.002Z"
   },
   {
    "duration": 11,
    "start_time": "2025-03-29T17:34:10.826Z"
   },
   {
    "duration": 4,
    "start_time": "2025-03-29T17:34:34.879Z"
   },
   {
    "duration": 4,
    "start_time": "2025-03-29T17:34:40.218Z"
   },
   {
    "duration": 13,
    "start_time": "2025-03-29T17:35:09.227Z"
   },
   {
    "duration": 10,
    "start_time": "2025-03-29T17:35:22.911Z"
   },
   {
    "duration": 9,
    "start_time": "2025-03-29T17:36:10.200Z"
   },
   {
    "duration": 9,
    "start_time": "2025-03-29T17:36:20.507Z"
   },
   {
    "duration": 9,
    "start_time": "2025-03-29T17:36:25.826Z"
   },
   {
    "duration": 21,
    "start_time": "2025-03-29T17:36:39.892Z"
   },
   {
    "duration": 10,
    "start_time": "2025-03-29T17:36:58.103Z"
   },
   {
    "duration": 18,
    "start_time": "2025-03-29T17:37:09.753Z"
   },
   {
    "duration": 25,
    "start_time": "2025-03-29T17:37:16.979Z"
   },
   {
    "duration": 397,
    "start_time": "2025-03-29T17:59:44.069Z"
   },
   {
    "duration": 27,
    "start_time": "2025-03-29T18:01:25.625Z"
   },
   {
    "duration": 25,
    "start_time": "2025-03-29T18:01:53.778Z"
   },
   {
    "duration": 25,
    "start_time": "2025-03-29T18:02:11.578Z"
   },
   {
    "duration": 168,
    "start_time": "2025-03-29T18:02:28.272Z"
   },
   {
    "duration": 4,
    "start_time": "2025-03-29T18:07:33.992Z"
   },
   {
    "duration": 4,
    "start_time": "2025-03-29T18:07:48.470Z"
   },
   {
    "duration": 3,
    "start_time": "2025-03-29T18:08:00.314Z"
   },
   {
    "duration": 6,
    "start_time": "2025-03-29T18:08:07.664Z"
   },
   {
    "duration": 3,
    "start_time": "2025-03-29T18:08:15.275Z"
   },
   {
    "duration": 3,
    "start_time": "2025-03-29T18:08:23.988Z"
   },
   {
    "duration": 4,
    "start_time": "2025-03-29T18:08:31.859Z"
   },
   {
    "duration": 3,
    "start_time": "2025-03-29T18:08:44.571Z"
   },
   {
    "duration": 3,
    "start_time": "2025-03-29T18:09:00.113Z"
   },
   {
    "duration": 5,
    "start_time": "2025-03-29T18:09:11.930Z"
   },
   {
    "duration": 9,
    "start_time": "2025-03-29T18:09:32.368Z"
   },
   {
    "duration": 4,
    "start_time": "2025-03-29T18:09:57.149Z"
   },
   {
    "duration": 338,
    "start_time": "2025-03-29T18:10:02.244Z"
   },
   {
    "duration": 178,
    "start_time": "2025-03-29T18:12:22.706Z"
   },
   {
    "duration": 161,
    "start_time": "2025-03-29T18:12:30.833Z"
   },
   {
    "duration": 168,
    "start_time": "2025-03-29T18:12:37.732Z"
   },
   {
    "duration": 171,
    "start_time": "2025-03-29T18:12:47.559Z"
   },
   {
    "duration": 160,
    "start_time": "2025-03-29T18:12:56.598Z"
   },
   {
    "duration": 162,
    "start_time": "2025-03-29T18:13:05.668Z"
   },
   {
    "duration": 162,
    "start_time": "2025-03-29T18:14:07.693Z"
   },
   {
    "duration": 163,
    "start_time": "2025-03-29T18:15:24.060Z"
   },
   {
    "duration": 2528,
    "start_time": "2025-03-29T18:48:48.175Z"
   },
   {
    "duration": 47,
    "start_time": "2025-03-29T18:48:50.705Z"
   },
   {
    "duration": 14,
    "start_time": "2025-03-29T18:48:55.098Z"
   },
   {
    "duration": 15,
    "start_time": "2025-03-29T18:48:56.023Z"
   },
   {
    "duration": 14,
    "start_time": "2025-03-29T18:48:58.333Z"
   },
   {
    "duration": 11,
    "start_time": "2025-03-29T18:49:00.070Z"
   },
   {
    "duration": 199,
    "start_time": "2025-03-29T18:49:02.895Z"
   },
   {
    "duration": 5,
    "start_time": "2025-03-29T18:49:08.301Z"
   },
   {
    "duration": 4,
    "start_time": "2025-03-29T18:49:08.721Z"
   },
   {
    "duration": 9,
    "start_time": "2025-03-29T18:49:10.570Z"
   },
   {
    "duration": 15,
    "start_time": "2025-03-29T18:49:12.065Z"
   },
   {
    "duration": 7,
    "start_time": "2025-03-29T18:49:14.085Z"
   },
   {
    "duration": 215,
    "start_time": "2025-03-29T18:49:18.620Z"
   },
   {
    "duration": 15,
    "start_time": "2025-03-29T18:49:23.747Z"
   },
   {
    "duration": 3,
    "start_time": "2025-03-29T18:49:33.432Z"
   },
   {
    "duration": 31,
    "start_time": "2025-03-29T18:49:36.910Z"
   },
   {
    "duration": 12,
    "start_time": "2025-03-29T18:49:39.963Z"
   },
   {
    "duration": 15,
    "start_time": "2025-03-29T18:49:42.762Z"
   },
   {
    "duration": 13,
    "start_time": "2025-03-29T18:49:47.797Z"
   },
   {
    "duration": 11,
    "start_time": "2025-03-29T18:49:50.574Z"
   },
   {
    "duration": 241,
    "start_time": "2025-03-29T18:49:55.284Z"
   },
   {
    "duration": 174,
    "start_time": "2025-03-29T18:50:01.179Z"
   },
   {
    "duration": 3,
    "start_time": "2025-03-29T18:50:04.940Z"
   },
   {
    "duration": 4,
    "start_time": "2025-03-29T18:50:07.378Z"
   },
   {
    "duration": 9,
    "start_time": "2025-03-29T18:50:10.110Z"
   },
   {
    "duration": 14,
    "start_time": "2025-03-29T18:50:13.996Z"
   },
   {
    "duration": 7,
    "start_time": "2025-03-29T18:50:16.359Z"
   },
   {
    "duration": 16,
    "start_time": "2025-03-29T18:50:20.750Z"
   },
   {
    "duration": 17,
    "start_time": "2025-03-29T18:50:29.034Z"
   },
   {
    "duration": 8,
    "start_time": "2025-03-29T18:50:39.545Z"
   },
   {
    "duration": 17,
    "start_time": "2025-03-29T18:50:45.380Z"
   },
   {
    "duration": 201,
    "start_time": "2025-03-29T18:50:54.291Z"
   },
   {
    "duration": 3,
    "start_time": "2025-03-29T18:50:58.308Z"
   },
   {
    "duration": 201,
    "start_time": "2025-03-29T18:51:07.303Z"
   },
   {
    "duration": 16,
    "start_time": "2025-03-29T18:51:11.858Z"
   },
   {
    "duration": 9,
    "start_time": "2025-03-29T18:51:15.881Z"
   },
   {
    "duration": 4,
    "start_time": "2025-03-29T18:51:20.338Z"
   },
   {
    "duration": 171,
    "start_time": "2025-03-29T18:51:28.097Z"
   },
   {
    "duration": 177,
    "start_time": "2025-03-29T18:52:11.586Z"
   },
   {
    "duration": 221,
    "start_time": "2025-03-29T18:53:00.154Z"
   },
   {
    "duration": 171,
    "start_time": "2025-03-29T18:54:53.323Z"
   },
   {
    "duration": 212,
    "start_time": "2025-03-29T20:33:40.833Z"
   },
   {
    "duration": 3248,
    "start_time": "2025-03-29T20:33:45.611Z"
   },
   {
    "duration": 52,
    "start_time": "2025-03-29T20:33:48.862Z"
   },
   {
    "duration": 18,
    "start_time": "2025-03-29T20:33:52.301Z"
   },
   {
    "duration": 21,
    "start_time": "2025-03-29T20:33:54.274Z"
   },
   {
    "duration": 15,
    "start_time": "2025-03-29T20:33:58.336Z"
   },
   {
    "duration": 12,
    "start_time": "2025-03-29T20:34:01.144Z"
   },
   {
    "duration": 258,
    "start_time": "2025-03-29T20:34:03.759Z"
   },
   {
    "duration": 5,
    "start_time": "2025-03-29T20:34:10.043Z"
   },
   {
    "duration": 4,
    "start_time": "2025-03-29T20:34:11.865Z"
   },
   {
    "duration": 11,
    "start_time": "2025-03-29T20:34:14.147Z"
   },
   {
    "duration": 20,
    "start_time": "2025-03-29T20:34:16.636Z"
   },
   {
    "duration": 18,
    "start_time": "2025-03-29T20:34:18.899Z"
   },
   {
    "duration": 9,
    "start_time": "2025-03-29T20:34:22.519Z"
   },
   {
    "duration": 285,
    "start_time": "2025-03-29T20:34:26.239Z"
   },
   {
    "duration": 14,
    "start_time": "2025-03-29T20:34:29.804Z"
   },
   {
    "duration": 316,
    "start_time": "2025-03-29T20:34:33.560Z"
   },
   {
    "duration": 19,
    "start_time": "2025-03-29T20:34:42.638Z"
   },
   {
    "duration": 13,
    "start_time": "2025-03-29T20:34:45.612Z"
   },
   {
    "duration": 3,
    "start_time": "2025-03-29T20:34:48.764Z"
   },
   {
    "duration": 12,
    "start_time": "2025-03-29T20:34:54.170Z"
   },
   {
    "duration": 4,
    "start_time": "2025-03-29T20:34:56.956Z"
   },
   {
    "duration": 224,
    "start_time": "2025-03-29T20:34:59.546Z"
   },
   {
    "duration": 7,
    "start_time": "2025-03-29T20:35:24.871Z"
   },
   {
    "duration": 195,
    "start_time": "2025-03-29T20:39:47.068Z"
   },
   {
    "duration": 467,
    "start_time": "2025-03-29T20:43:18.981Z"
   },
   {
    "duration": 342,
    "start_time": "2025-03-29T20:44:50.318Z"
   },
   {
    "duration": 362,
    "start_time": "2025-03-29T20:48:04.428Z"
   },
   {
    "duration": 378,
    "start_time": "2025-03-29T20:48:14.902Z"
   },
   {
    "duration": 383,
    "start_time": "2025-03-29T20:48:55.756Z"
   },
   {
    "duration": 365,
    "start_time": "2025-03-29T20:50:19.026Z"
   },
   {
    "duration": 6,
    "start_time": "2025-03-29T21:10:09.928Z"
   },
   {
    "duration": 7,
    "start_time": "2025-03-29T21:11:16.147Z"
   },
   {
    "duration": 4,
    "start_time": "2025-03-29T21:11:28.387Z"
   },
   {
    "duration": 5,
    "start_time": "2025-03-29T21:11:51.492Z"
   },
   {
    "duration": 0,
    "start_time": "2025-03-29T21:18:32.840Z"
   },
   {
    "duration": 0,
    "start_time": "2025-03-29T21:19:04.186Z"
   },
   {
    "duration": 0,
    "start_time": "2025-03-29T21:19:13.841Z"
   },
   {
    "duration": 0,
    "start_time": "2025-03-29T21:19:23.819Z"
   },
   {
    "duration": 3362,
    "start_time": "2025-03-29T21:19:26.269Z"
   },
   {
    "duration": 0,
    "start_time": "2025-03-29T21:19:37.406Z"
   },
   {
    "duration": 0,
    "start_time": "2025-03-29T21:19:49.078Z"
   },
   {
    "duration": 0,
    "start_time": "2025-03-29T21:20:03.559Z"
   },
   {
    "duration": 0,
    "start_time": "2025-03-29T21:20:14.573Z"
   },
   {
    "duration": 30162,
    "start_time": "2025-03-29T21:20:16.295Z"
   },
   {
    "duration": 0,
    "start_time": "2025-03-29T21:21:27.366Z"
   },
   {
    "duration": 0,
    "start_time": "2025-03-29T21:22:22.788Z"
   },
   {
    "duration": 3,
    "start_time": "2025-03-29T21:22:24.146Z"
   },
   {
    "duration": 31,
    "start_time": "2025-03-29T21:22:26.983Z"
   },
   {
    "duration": 13,
    "start_time": "2025-03-29T21:22:30.560Z"
   },
   {
    "duration": 17,
    "start_time": "2025-03-29T21:22:34.185Z"
   },
   {
    "duration": 15,
    "start_time": "2025-03-29T21:22:37.646Z"
   },
   {
    "duration": 14,
    "start_time": "2025-03-29T21:22:40.977Z"
   },
   {
    "duration": 183,
    "start_time": "2025-03-29T21:22:44.647Z"
   },
   {
    "duration": 4,
    "start_time": "2025-03-29T21:22:48.466Z"
   },
   {
    "duration": 5,
    "start_time": "2025-03-29T21:22:51.363Z"
   },
   {
    "duration": 10,
    "start_time": "2025-03-29T21:22:53.556Z"
   },
   {
    "duration": 15,
    "start_time": "2025-03-29T21:22:56.691Z"
   },
   {
    "duration": 6,
    "start_time": "2025-03-29T21:22:59.620Z"
   },
   {
    "duration": 10,
    "start_time": "2025-03-29T21:23:02.647Z"
   },
   {
    "duration": 235,
    "start_time": "2025-03-29T21:23:05.298Z"
   },
   {
    "duration": 6,
    "start_time": "2025-03-29T21:23:08.549Z"
   },
   {
    "duration": 193,
    "start_time": "2025-03-29T21:23:12.742Z"
   },
   {
    "duration": 19,
    "start_time": "2025-03-29T21:23:17.682Z"
   },
   {
    "duration": 12,
    "start_time": "2025-03-29T21:23:21.792Z"
   },
   {
    "duration": 5,
    "start_time": "2025-03-29T21:23:25.641Z"
   },
   {
    "duration": 187,
    "start_time": "2025-03-29T21:23:31.052Z"
   },
   {
    "duration": 409,
    "start_time": "2025-03-29T21:23:34.723Z"
   },
   {
    "duration": 355,
    "start_time": "2025-03-29T21:23:39.582Z"
   },
   {
    "duration": 5,
    "start_time": "2025-03-29T21:23:44.207Z"
   },
   {
    "duration": 28653,
    "start_time": "2025-03-29T21:23:46.927Z"
   },
   {
    "duration": 4,
    "start_time": "2025-03-29T21:24:15.594Z"
   },
   {
    "duration": 4,
    "start_time": "2025-03-29T21:24:43.576Z"
   },
   {
    "duration": 429,
    "start_time": "2025-03-29T21:47:14.903Z"
   },
   {
    "duration": 417,
    "start_time": "2025-03-29T21:47:49.612Z"
   },
   {
    "duration": 411,
    "start_time": "2025-03-29T21:48:00.212Z"
   },
   {
    "duration": 193,
    "start_time": "2025-03-29T21:48:20.276Z"
   },
   {
    "duration": 191,
    "start_time": "2025-03-29T21:48:40.710Z"
   },
   {
    "duration": 195,
    "start_time": "2025-03-29T21:48:51.119Z"
   },
   {
    "duration": 173,
    "start_time": "2025-03-29T21:49:18.834Z"
   },
   {
    "duration": 179,
    "start_time": "2025-03-29T21:49:30.681Z"
   },
   {
    "duration": 180,
    "start_time": "2025-03-29T21:49:42.678Z"
   },
   {
    "duration": 16,
    "start_time": "2025-03-29T21:59:12.237Z"
   },
   {
    "duration": 17,
    "start_time": "2025-03-29T21:59:28.889Z"
   },
   {
    "duration": 11,
    "start_time": "2025-03-29T22:00:05.149Z"
   },
   {
    "duration": 177,
    "start_time": "2025-03-29T22:00:57.595Z"
   },
   {
    "duration": 5,
    "start_time": "2025-03-29T22:01:07.828Z"
   },
   {
    "duration": 173,
    "start_time": "2025-03-29T22:01:23.555Z"
   },
   {
    "duration": 12,
    "start_time": "2025-03-29T22:01:35.142Z"
   },
   {
    "duration": 15,
    "start_time": "2025-03-29T22:01:38.139Z"
   },
   {
    "duration": 13,
    "start_time": "2025-03-29T22:01:40.630Z"
   },
   {
    "duration": 13,
    "start_time": "2025-03-29T22:01:43.061Z"
   },
   {
    "duration": 32,
    "start_time": "2025-03-29T22:01:46.655Z"
   },
   {
    "duration": 3,
    "start_time": "2025-03-29T22:01:48.899Z"
   },
   {
    "duration": 358,
    "start_time": "2025-03-29T22:01:54.106Z"
   },
   {
    "duration": 3,
    "start_time": "2025-03-29T22:02:05.260Z"
   },
   {
    "duration": 31,
    "start_time": "2025-03-29T22:02:07.622Z"
   },
   {
    "duration": 13,
    "start_time": "2025-03-29T22:02:10.316Z"
   },
   {
    "duration": 17,
    "start_time": "2025-03-29T22:02:13.364Z"
   },
   {
    "duration": 16,
    "start_time": "2025-03-29T22:02:16.410Z"
   },
   {
    "duration": 13,
    "start_time": "2025-03-29T22:02:20.874Z"
   },
   {
    "duration": 186,
    "start_time": "2025-03-29T22:02:23.166Z"
   },
   {
    "duration": 4,
    "start_time": "2025-03-29T22:02:45.739Z"
   },
   {
    "duration": 4,
    "start_time": "2025-03-29T22:03:35.765Z"
   },
   {
    "duration": 4,
    "start_time": "2025-03-29T22:03:48.199Z"
   },
   {
    "duration": 10,
    "start_time": "2025-03-29T22:04:00.950Z"
   },
   {
    "duration": 17,
    "start_time": "2025-03-29T22:04:03.204Z"
   },
   {
    "duration": 6,
    "start_time": "2025-03-29T22:04:06.461Z"
   },
   {
    "duration": 12,
    "start_time": "2025-03-29T22:04:11.560Z"
   },
   {
    "duration": 238,
    "start_time": "2025-03-29T22:04:15.009Z"
   },
   {
    "duration": 5,
    "start_time": "2025-03-29T22:04:18.935Z"
   },
   {
    "duration": 244,
    "start_time": "2025-03-29T22:04:23.359Z"
   },
   {
    "duration": 5,
    "start_time": "2025-03-29T22:04:26.649Z"
   },
   {
    "duration": 199,
    "start_time": "2025-03-29T22:04:31.178Z"
   },
   {
    "duration": 18,
    "start_time": "2025-03-29T22:04:35.759Z"
   },
   {
    "duration": 13,
    "start_time": "2025-03-29T22:04:39.871Z"
   },
   {
    "duration": 3,
    "start_time": "2025-03-29T22:04:42.755Z"
   },
   {
    "duration": 184,
    "start_time": "2025-03-29T22:04:45.959Z"
   },
   {
    "duration": 364,
    "start_time": "2025-03-29T22:04:50.031Z"
   },
   {
    "duration": 6,
    "start_time": "2025-03-29T22:04:53.144Z"
   },
   {
    "duration": 184,
    "start_time": "2025-03-29T22:04:59.833Z"
   },
   {
    "duration": 6,
    "start_time": "2025-03-29T22:13:48.181Z"
   },
   {
    "duration": 5,
    "start_time": "2025-03-29T22:14:04.399Z"
   },
   {
    "duration": 5,
    "start_time": "2025-03-29T22:14:16.885Z"
   },
   {
    "duration": 19995,
    "start_time": "2025-03-29T22:15:26.923Z"
   },
   {
    "duration": 11,
    "start_time": "2025-03-29T22:21:49.443Z"
   },
   {
    "duration": 14,
    "start_time": "2025-03-29T22:22:07.651Z"
   },
   {
    "duration": 13,
    "start_time": "2025-03-29T22:23:34.243Z"
   },
   {
    "duration": 7,
    "start_time": "2025-03-29T22:23:43.111Z"
   },
   {
    "duration": 18,
    "start_time": "2025-03-29T22:23:46.345Z"
   },
   {
    "duration": 38,
    "start_time": "2025-03-29T22:24:27.074Z"
   },
   {
    "duration": 16,
    "start_time": "2025-03-29T22:26:13.946Z"
   },
   {
    "duration": 19,
    "start_time": "2025-03-29T22:26:40.337Z"
   },
   {
    "duration": 18,
    "start_time": "2025-03-29T22:27:04.146Z"
   },
   {
    "duration": 23,
    "start_time": "2025-03-29T22:28:20.714Z"
   },
   {
    "duration": 35,
    "start_time": "2025-03-29T22:32:36.110Z"
   },
   {
    "duration": 28,
    "start_time": "2025-03-29T22:33:18.744Z"
   },
   {
    "duration": 27,
    "start_time": "2025-03-29T22:36:42.544Z"
   },
   {
    "duration": 41,
    "start_time": "2025-03-29T22:37:07.851Z"
   },
   {
    "duration": 17,
    "start_time": "2025-03-29T22:38:50.529Z"
   },
   {
    "duration": 18,
    "start_time": "2025-03-29T22:39:21.226Z"
   },
   {
    "duration": 19,
    "start_time": "2025-03-29T22:42:50.146Z"
   },
   {
    "duration": 25,
    "start_time": "2025-03-29T22:43:07.898Z"
   },
   {
    "duration": 32,
    "start_time": "2025-03-29T22:43:21.363Z"
   },
   {
    "duration": 33,
    "start_time": "2025-03-29T22:47:26.627Z"
   },
   {
    "duration": 31,
    "start_time": "2025-03-29T22:47:57.031Z"
   },
   {
    "duration": 191,
    "start_time": "2025-03-29T22:54:59.951Z"
   },
   {
    "duration": 191,
    "start_time": "2025-03-29T23:00:20.424Z"
   },
   {
    "duration": 185,
    "start_time": "2025-03-29T23:09:56.392Z"
   },
   {
    "duration": 3,
    "start_time": "2025-03-29T23:14:57.024Z"
   },
   {
    "duration": 3,
    "start_time": "2025-03-29T23:18:25.363Z"
   },
   {
    "duration": 12,
    "start_time": "2025-03-29T23:23:56.657Z"
   },
   {
    "duration": 173,
    "start_time": "2025-03-29T23:28:57.669Z"
   },
   {
    "duration": 163,
    "start_time": "2025-03-29T23:30:00.394Z"
   },
   {
    "duration": 175,
    "start_time": "2025-03-29T23:33:13.739Z"
   },
   {
    "duration": 169,
    "start_time": "2025-03-29T23:33:26.129Z"
   },
   {
    "duration": 166,
    "start_time": "2025-03-29T23:33:36.159Z"
   },
   {
    "duration": 169,
    "start_time": "2025-03-29T23:34:34.398Z"
   },
   {
    "duration": 10,
    "start_time": "2025-03-29T23:37:44.172Z"
   },
   {
    "duration": 94,
    "start_time": "2025-03-29T23:43:57.853Z"
   },
   {
    "duration": 63,
    "start_time": "2025-03-29T23:44:14.657Z"
   },
   {
    "duration": 5,
    "start_time": "2025-03-29T23:44:30.616Z"
   },
   {
    "duration": 175,
    "start_time": "2025-03-29T23:44:50.104Z"
   },
   {
    "duration": 171,
    "start_time": "2025-03-29T23:45:54.454Z"
   },
   {
    "duration": 2,
    "start_time": "2025-03-30T00:25:03.032Z"
   },
   {
    "duration": 112,
    "start_time": "2025-03-30T00:33:02.886Z"
   },
   {
    "duration": 9,
    "start_time": "2025-03-30T00:34:59.104Z"
   },
   {
    "duration": 10,
    "start_time": "2025-03-30T00:40:25.240Z"
   },
   {
    "duration": 9,
    "start_time": "2025-03-30T00:41:21.180Z"
   },
   {
    "duration": 9,
    "start_time": "2025-03-30T00:45:46.936Z"
   },
   {
    "duration": 9,
    "start_time": "2025-03-30T00:46:24.915Z"
   },
   {
    "duration": 9,
    "start_time": "2025-03-30T00:47:17.325Z"
   },
   {
    "duration": 10,
    "start_time": "2025-03-30T00:48:29.272Z"
   },
   {
    "duration": 18,
    "start_time": "2025-03-30T00:49:56.981Z"
   },
   {
    "duration": 12,
    "start_time": "2025-03-30T00:50:27.775Z"
   },
   {
    "duration": 12,
    "start_time": "2025-03-30T00:50:31.500Z"
   },
   {
    "duration": 23,
    "start_time": "2025-03-30T00:52:32.190Z"
   },
   {
    "duration": 10,
    "start_time": "2025-03-30T00:52:51.060Z"
   },
   {
    "duration": 11,
    "start_time": "2025-03-30T00:54:42.926Z"
   },
   {
    "duration": 10,
    "start_time": "2025-03-30T01:00:13.840Z"
   },
   {
    "duration": 3,
    "start_time": "2025-03-30T01:02:52.804Z"
   },
   {
    "duration": 31,
    "start_time": "2025-03-30T01:02:55.494Z"
   },
   {
    "duration": 13,
    "start_time": "2025-03-30T01:02:57.996Z"
   },
   {
    "duration": 17,
    "start_time": "2025-03-30T01:03:00.203Z"
   },
   {
    "duration": 14,
    "start_time": "2025-03-30T01:03:03.923Z"
   },
   {
    "duration": 13,
    "start_time": "2025-03-30T01:03:06.304Z"
   },
   {
    "duration": 183,
    "start_time": "2025-03-30T01:03:10.257Z"
   },
   {
    "duration": 5,
    "start_time": "2025-03-30T01:03:13.420Z"
   },
   {
    "duration": 5,
    "start_time": "2025-03-30T01:03:15.773Z"
   },
   {
    "duration": 11,
    "start_time": "2025-03-30T01:03:17.954Z"
   },
   {
    "duration": 15,
    "start_time": "2025-03-30T01:03:20.956Z"
   },
   {
    "duration": 6,
    "start_time": "2025-03-30T01:03:24.221Z"
   },
   {
    "duration": 10,
    "start_time": "2025-03-30T01:03:31.101Z"
   },
   {
    "duration": 225,
    "start_time": "2025-03-30T01:03:35.271Z"
   },
   {
    "duration": 233,
    "start_time": "2025-03-30T01:03:42.013Z"
   },
   {
    "duration": 5,
    "start_time": "2025-03-30T01:03:45.919Z"
   },
   {
    "duration": 192,
    "start_time": "2025-03-30T01:03:48.261Z"
   },
   {
    "duration": 16,
    "start_time": "2025-03-30T01:04:17.628Z"
   },
   {
    "duration": 12,
    "start_time": "2025-03-30T01:04:21.324Z"
   },
   {
    "duration": 10,
    "start_time": "2025-03-30T01:04:26.893Z"
   },
   {
    "duration": 4,
    "start_time": "2025-03-30T01:04:30.553Z"
   },
   {
    "duration": 183,
    "start_time": "2025-03-30T01:04:34.898Z"
   },
   {
    "duration": 400,
    "start_time": "2025-03-30T01:04:40.081Z"
   },
   {
    "duration": 4,
    "start_time": "2025-03-30T01:04:43.410Z"
   },
   {
    "duration": 190,
    "start_time": "2025-03-30T01:04:49.944Z"
   },
   {
    "duration": 168,
    "start_time": "2025-03-30T01:04:53.905Z"
   },
   {
    "duration": 167,
    "start_time": "2025-03-30T01:04:57.449Z"
   },
   {
    "duration": 10,
    "start_time": "2025-03-30T01:05:08.552Z"
   },
   {
    "duration": 9,
    "start_time": "2025-03-30T01:05:12.649Z"
   },
   {
    "duration": 9,
    "start_time": "2025-03-30T01:35:24.831Z"
   },
   {
    "duration": 9,
    "start_time": "2025-03-30T01:35:29.433Z"
   },
   {
    "duration": 2570,
    "start_time": "2025-04-02T02:34:10.172Z"
   },
   {
    "duration": 45,
    "start_time": "2025-04-02T02:34:12.744Z"
   },
   {
    "duration": 12,
    "start_time": "2025-04-02T02:34:15.278Z"
   },
   {
    "duration": 15,
    "start_time": "2025-04-02T02:34:17.701Z"
   },
   {
    "duration": 15,
    "start_time": "2025-04-02T02:34:20.973Z"
   },
   {
    "duration": 14,
    "start_time": "2025-04-02T02:34:24.907Z"
   },
   {
    "duration": 181,
    "start_time": "2025-04-02T02:34:28.235Z"
   },
   {
    "duration": 9,
    "start_time": "2025-04-02T02:34:33.091Z"
   },
   {
    "duration": 4,
    "start_time": "2025-04-02T02:34:35.210Z"
   },
   {
    "duration": 9,
    "start_time": "2025-04-02T02:34:39.496Z"
   },
   {
    "duration": 16,
    "start_time": "2025-04-02T02:34:49.359Z"
   },
   {
    "duration": 7,
    "start_time": "2025-04-02T02:34:53.774Z"
   },
   {
    "duration": 8,
    "start_time": "2025-04-02T02:34:57.502Z"
   },
   {
    "duration": 210,
    "start_time": "2025-04-02T02:35:02.728Z"
   },
   {
    "duration": 4,
    "start_time": "2025-04-02T02:35:06.220Z"
   },
   {
    "duration": 202,
    "start_time": "2025-04-02T02:35:08.445Z"
   },
   {
    "duration": 15,
    "start_time": "2025-04-02T02:35:13.363Z"
   },
   {
    "duration": 10,
    "start_time": "2025-04-02T02:35:17.459Z"
   },
   {
    "duration": 3,
    "start_time": "2025-04-02T02:35:20.192Z"
   },
   {
    "duration": 176,
    "start_time": "2025-04-02T02:35:25.305Z"
   },
   {
    "duration": 392,
    "start_time": "2025-04-02T02:36:17.935Z"
   },
   {
    "duration": 423,
    "start_time": "2025-04-02T02:36:24.506Z"
   },
   {
    "duration": 4,
    "start_time": "2025-04-02T02:36:27.588Z"
   },
   {
    "duration": 29,
    "start_time": "2025-04-02T02:36:30.805Z"
   },
   {
    "duration": 199,
    "start_time": "2025-04-02T02:36:36.563Z"
   },
   {
    "duration": 181,
    "start_time": "2025-04-02T02:36:40.447Z"
   },
   {
    "duration": 184,
    "start_time": "2025-04-02T02:36:44.289Z"
   },
   {
    "duration": 9,
    "start_time": "2025-04-02T02:36:48.382Z"
   },
   {
    "duration": 11,
    "start_time": "2025-04-02T02:36:50.683Z"
   },
   {
    "duration": 10,
    "start_time": "2025-04-02T02:43:09.546Z"
   },
   {
    "duration": 10,
    "start_time": "2025-04-02T02:47:07.592Z"
   }
  ],
  "kernelspec": {
   "display_name": "Python 3",
   "language": "python",
   "name": "python3"
  },
  "language_info": {
   "codemirror_mode": {
    "name": "ipython",
    "version": 3
   },
   "file_extension": ".py",
   "mimetype": "text/x-python",
   "name": "python",
   "nbconvert_exporter": "python",
   "pygments_lexer": "ipython3",
   "version": "3.13.3"
  },
  "toc": {
   "base_numbering": 1,
   "nav_menu": {},
   "number_sections": true,
   "sideBar": true,
   "skip_h1_title": true,
   "title_cell": "Table of Contents",
   "title_sidebar": "Contents",
   "toc_cell": false,
   "toc_position": {},
   "toc_section_display": true,
   "toc_window_display": false
  }
 },
 "nbformat": 4,
 "nbformat_minor": 2
}
