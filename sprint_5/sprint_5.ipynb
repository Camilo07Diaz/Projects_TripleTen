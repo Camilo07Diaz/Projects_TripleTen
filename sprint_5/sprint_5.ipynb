{
 "cells": [
  {
   "cell_type": "markdown",
   "metadata": {
    "id": "3rYiDeEH0q0f"
   },
   "source": [
    "# ¿Cuál es la mejor tarifa?\n",
    "\n",
    "Trabajas como analista para el operador de telecomunicaciones Megaline. La empresa ofrece a sus clientes dos tarifas de prepago, Surf y Ultimate. El departamento comercial quiere saber cuál de las tarifas genera más ingresos para poder ajustar el presupuesto de publicidad.\n",
    "\n",
    "Vas a realizar un análisis preliminar de las tarifas basado en una selección de clientes relativamente pequeña. Tendrás los datos de 500 clientes de Megaline: quiénes son los clientes, de dónde son, qué tarifa usan, así como la cantidad de llamadas que hicieron y los mensajes de texto que enviaron en 2018. Tu trabajo es analizar el comportamiento de los clientes y determinar qué tarifa de prepago genera más ingresos."
   ]
  },
  {
   "cell_type": "markdown",
   "metadata": {
    "id": "MQi4IPy70q0y"
   },
   "source": [
    "## Inicialización"
   ]
  },
  {
   "cell_type": "code",
   "execution_count": null,
   "metadata": {
    "id": "MtYIuBxu0q0z"
   },
   "outputs": [],
   "source": [
    "import pandas as pd \n",
    "import math as mt \n",
    "import numpy as np \n",
    "from scipy import stats as st \n",
    "from math import factorial \n",
    "import seaborn as sns  # Cargar todas las librerías\n",
    "import matplotlib.pyplot as plt\n",
    "import scipy.stats as stats"
   ]
  },
  {
   "cell_type": "markdown",
   "metadata": {
    "id": "4ysWWC5i0q00"
   },
   "source": [
    "## Cargar datos"
   ]
  },
  {
   "cell_type": "code",
   "execution_count": null,
   "metadata": {
    "id": "CCqPW7rS0q01"
   },
   "outputs": [],
   "source": [
    "users=pd.read_csv('/datasets/megaline_users.csv')\n",
    "calls=pd.read_csv('/datasets/megaline_calls.csv')# Carga los archivos de datos en diferentes DataFrames\n",
    "messages=pd.read_csv('/datasets/megaline_messages.csv')\n",
    "internet=pd.read_csv('/datasets/megaline_internet.csv')\n",
    "plans=pd.read_csv('/datasets/megaline_plans.csv')"
   ]
  },
  {
   "cell_type": "markdown",
   "metadata": {
    "id": "69qqoJ3r0q01"
   },
   "source": [
    "## Preparar los datos"
   ]
  },
  {
   "cell_type": "markdown",
   "metadata": {
    "id": "vUuZw80S0q01"
   },
   "source": []
  },
  {
   "cell_type": "markdown",
   "metadata": {
    "id": "ohBhimvH0q01"
   },
   "source": [
    "## Tarifas"
   ]
  },
  {
   "cell_type": "code",
   "execution_count": null,
   "metadata": {
    "id": "GptqP3Q40q02"
   },
   "outputs": [
    {
     "name": "stdout",
     "output_type": "stream",
     "text": [
      "<class 'pandas.core.frame.DataFrame'>\n",
      "RangeIndex: 2 entries, 0 to 1\n",
      "Data columns (total 8 columns):\n",
      " #   Column                 Non-Null Count  Dtype  \n",
      "---  ------                 --------------  -----  \n",
      " 0   messages_included      2 non-null      int64  \n",
      " 1   mb_per_month_included  2 non-null      int64  \n",
      " 2   minutes_included       2 non-null      int64  \n",
      " 3   usd_monthly_pay        2 non-null      int64  \n",
      " 4   usd_per_gb             2 non-null      int64  \n",
      " 5   usd_per_message        2 non-null      float64\n",
      " 6   usd_per_minute         2 non-null      float64\n",
      " 7   plan_name              2 non-null      object \n",
      "dtypes: float64(2), int64(5), object(1)\n",
      "memory usage: 256.0+ bytes\n"
     ]
    }
   ],
   "source": [
    "plans.info() # Imprime la información general/resumida sobre el DataFrame de las tarifas\n",
    "\n"
   ]
  },
  {
   "cell_type": "code",
   "execution_count": null,
   "metadata": {
    "id": "64xzjwL70q02"
   },
   "outputs": [
    {
     "name": "stdout",
     "output_type": "stream",
     "text": [
      "   messages_included  mb_per_month_included  minutes_included  \\\n",
      "0                 50                  15360               500   \n",
      "1               1000                  30720              3000   \n",
      "\n",
      "   usd_monthly_pay  usd_per_gb  usd_per_message  usd_per_minute plan_name  \n",
      "0               20          10             0.03            0.03      surf  \n",
      "1               70           7             0.01            0.01  ultimate  \n"
     ]
    }
   ],
   "source": [
    "print(plans.head()) # Imprime una muestra de los datos para las tarifas\n",
    "\n"
   ]
  },
  {
   "cell_type": "markdown",
   "metadata": {
    "id": "mEc_3_hs0q02"
   },
   "source": [
    "Una vez revisada tanto la información general, como impresa la muestra de los datos para las tarifas, considero que se cuenta con la información necesaria, correcta y requerida para continuar con el análisis. Sin embargo, con base en lo requerido para el análisis, la columna \"mb_per_month_included\" deberá ser cambiada a gb. "
   ]
  },
  {
   "cell_type": "markdown",
   "metadata": {
    "id": "R3C05i1l0q03"
   },
   "source": [
    "## Corregir datos"
   ]
  },
  {
   "cell_type": "markdown",
   "metadata": {
    "id": "bIi8StZI0q03"
   },
   "source": [
    "[Corrige los problemas obvios con los datos basándote en las observaciones iniciales.]"
   ]
  },
  {
   "cell_type": "code",
   "execution_count": null,
   "metadata": {
    "id": "Y7SVmjGn0q03"
   },
   "outputs": [
    {
     "name": "stdout",
     "output_type": "stream",
     "text": [
      "<class 'pandas.core.frame.DataFrame'>\n",
      "RangeIndex: 2 entries, 0 to 1\n",
      "Data columns (total 9 columns):\n",
      " #   Column                 Non-Null Count  Dtype  \n",
      "---  ------                 --------------  -----  \n",
      " 0   messages_included      2 non-null      int64  \n",
      " 1   mb_per_month_included  2 non-null      int64  \n",
      " 2   minutes_included       2 non-null      int64  \n",
      " 3   usd_monthly_fee        2 non-null      int64  \n",
      " 4   usd_per_gb             2 non-null      int64  \n",
      " 5   usd_per_message        2 non-null      float64\n",
      " 6   usd_per_minute         2 non-null      float64\n",
      " 7   plan_name              2 non-null      object \n",
      " 8   gb_per_month_included  2 non-null      int64  \n",
      "dtypes: float64(2), int64(6), object(1)\n",
      "memory usage: 272.0+ bytes\n",
      "   messages_included  mb_per_month_included  minutes_included  \\\n",
      "0                 50                  15360               500   \n",
      "1               1000                  30720              3000   \n",
      "\n",
      "   usd_monthly_fee  usd_per_gb  usd_per_message  usd_per_minute plan_name  \\\n",
      "0               20          10             0.03            0.03      surf   \n",
      "1               70           7             0.01            0.01  ultimate   \n",
      "\n",
      "   gb_per_month_included  \n",
      "0                     15  \n",
      "1                     30  \n"
     ]
    }
   ],
   "source": [
    "plans['gb_per_month_included'] = (plans['mb_per_month_included'] / 1024).astype('int')\n",
    "plans.rename(columns={'usd_monthly_pay': 'usd_monthly_fee'}, inplace=True)\n",
    "plans.info()\n",
    "print(plans)\n"
   ]
  },
  {
   "cell_type": "markdown",
   "metadata": {
    "id": "LJir7bml0q03"
   },
   "source": [
    "## Enriquecer los datos"
   ]
  },
  {
   "cell_type": "markdown",
   "metadata": {
    "id": "eqADpCfg0q04"
   },
   "source": [
    "Una vez agregada la columna \"gb_per_month_included\" con el la cantidad de GB por plan, modificado el tipo por int64 y modificado el nombre usd_monthly_pay por usd_monthly_fee, considero que no se requieren ajustes adicionales. "
   ]
  },
  {
   "cell_type": "markdown",
   "metadata": {
    "id": "1n2X6WXf0q04"
   },
   "source": [
    "## Usuarios/as"
   ]
  },
  {
   "cell_type": "code",
   "execution_count": null,
   "metadata": {
    "id": "2NgjWFqx0q05"
   },
   "outputs": [
    {
     "name": "stdout",
     "output_type": "stream",
     "text": [
      "<class 'pandas.core.frame.DataFrame'>\n",
      "RangeIndex: 500 entries, 0 to 499\n",
      "Data columns (total 8 columns):\n",
      " #   Column      Non-Null Count  Dtype \n",
      "---  ------      --------------  ----- \n",
      " 0   user_id     500 non-null    int64 \n",
      " 1   first_name  500 non-null    object\n",
      " 2   last_name   500 non-null    object\n",
      " 3   age         500 non-null    int64 \n",
      " 4   city        500 non-null    object\n",
      " 5   reg_date    500 non-null    object\n",
      " 6   plan        500 non-null    object\n",
      " 7   churn_date  34 non-null     object\n",
      "dtypes: int64(2), object(6)\n",
      "memory usage: 31.4+ KB\n"
     ]
    }
   ],
   "source": [
    "# Imprime la información general/resumida sobre el DataFrame de usuarios\n",
    "\n",
    "users.info()\n"
   ]
  },
  {
   "cell_type": "code",
   "execution_count": null,
   "metadata": {
    "id": "1IN1L9uh0q05"
   },
   "outputs": [
    {
     "data": {
      "text/html": [
       "<div>\n",
       "<style scoped>\n",
       "    .dataframe tbody tr th:only-of-type {\n",
       "        vertical-align: middle;\n",
       "    }\n",
       "\n",
       "    .dataframe tbody tr th {\n",
       "        vertical-align: top;\n",
       "    }\n",
       "\n",
       "    .dataframe thead th {\n",
       "        text-align: right;\n",
       "    }\n",
       "</style>\n",
       "<table border=\"1\" class=\"dataframe\">\n",
       "  <thead>\n",
       "    <tr style=\"text-align: right;\">\n",
       "      <th></th>\n",
       "      <th>user_id</th>\n",
       "      <th>first_name</th>\n",
       "      <th>last_name</th>\n",
       "      <th>age</th>\n",
       "      <th>city</th>\n",
       "      <th>reg_date</th>\n",
       "      <th>plan</th>\n",
       "      <th>churn_date</th>\n",
       "    </tr>\n",
       "  </thead>\n",
       "  <tbody>\n",
       "    <tr>\n",
       "      <th>0</th>\n",
       "      <td>1000</td>\n",
       "      <td>Anamaria</td>\n",
       "      <td>Bauer</td>\n",
       "      <td>45</td>\n",
       "      <td>Atlanta-Sandy Springs-Roswell, GA MSA</td>\n",
       "      <td>2018-12-24</td>\n",
       "      <td>ultimate</td>\n",
       "      <td>NaN</td>\n",
       "    </tr>\n",
       "    <tr>\n",
       "      <th>1</th>\n",
       "      <td>1001</td>\n",
       "      <td>Mickey</td>\n",
       "      <td>Wilkerson</td>\n",
       "      <td>28</td>\n",
       "      <td>Seattle-Tacoma-Bellevue, WA MSA</td>\n",
       "      <td>2018-08-13</td>\n",
       "      <td>surf</td>\n",
       "      <td>NaN</td>\n",
       "    </tr>\n",
       "    <tr>\n",
       "      <th>2</th>\n",
       "      <td>1002</td>\n",
       "      <td>Carlee</td>\n",
       "      <td>Hoffman</td>\n",
       "      <td>36</td>\n",
       "      <td>Las Vegas-Henderson-Paradise, NV MSA</td>\n",
       "      <td>2018-10-21</td>\n",
       "      <td>surf</td>\n",
       "      <td>NaN</td>\n",
       "    </tr>\n",
       "    <tr>\n",
       "      <th>3</th>\n",
       "      <td>1003</td>\n",
       "      <td>Reynaldo</td>\n",
       "      <td>Jenkins</td>\n",
       "      <td>52</td>\n",
       "      <td>Tulsa, OK MSA</td>\n",
       "      <td>2018-01-28</td>\n",
       "      <td>surf</td>\n",
       "      <td>NaN</td>\n",
       "    </tr>\n",
       "    <tr>\n",
       "      <th>4</th>\n",
       "      <td>1004</td>\n",
       "      <td>Leonila</td>\n",
       "      <td>Thompson</td>\n",
       "      <td>40</td>\n",
       "      <td>Seattle-Tacoma-Bellevue, WA MSA</td>\n",
       "      <td>2018-05-23</td>\n",
       "      <td>surf</td>\n",
       "      <td>NaN</td>\n",
       "    </tr>\n",
       "    <tr>\n",
       "      <th>5</th>\n",
       "      <td>1005</td>\n",
       "      <td>Livia</td>\n",
       "      <td>Shields</td>\n",
       "      <td>31</td>\n",
       "      <td>Dallas-Fort Worth-Arlington, TX MSA</td>\n",
       "      <td>2018-11-29</td>\n",
       "      <td>surf</td>\n",
       "      <td>NaN</td>\n",
       "    </tr>\n",
       "    <tr>\n",
       "      <th>6</th>\n",
       "      <td>1006</td>\n",
       "      <td>Jesusa</td>\n",
       "      <td>Bradford</td>\n",
       "      <td>73</td>\n",
       "      <td>San Francisco-Oakland-Berkeley, CA MSA</td>\n",
       "      <td>2018-11-27</td>\n",
       "      <td>ultimate</td>\n",
       "      <td>2018-12-18</td>\n",
       "    </tr>\n",
       "    <tr>\n",
       "      <th>7</th>\n",
       "      <td>1007</td>\n",
       "      <td>Eusebio</td>\n",
       "      <td>Welch</td>\n",
       "      <td>42</td>\n",
       "      <td>Grand Rapids-Kentwood, MI MSA</td>\n",
       "      <td>2018-07-11</td>\n",
       "      <td>surf</td>\n",
       "      <td>NaN</td>\n",
       "    </tr>\n",
       "    <tr>\n",
       "      <th>8</th>\n",
       "      <td>1008</td>\n",
       "      <td>Emely</td>\n",
       "      <td>Hoffman</td>\n",
       "      <td>53</td>\n",
       "      <td>Orlando-Kissimmee-Sanford, FL MSA</td>\n",
       "      <td>2018-08-03</td>\n",
       "      <td>ultimate</td>\n",
       "      <td>NaN</td>\n",
       "    </tr>\n",
       "    <tr>\n",
       "      <th>9</th>\n",
       "      <td>1009</td>\n",
       "      <td>Gerry</td>\n",
       "      <td>Little</td>\n",
       "      <td>19</td>\n",
       "      <td>San Jose-Sunnyvale-Santa Clara, CA MSA</td>\n",
       "      <td>2018-04-22</td>\n",
       "      <td>surf</td>\n",
       "      <td>NaN</td>\n",
       "    </tr>\n",
       "    <tr>\n",
       "      <th>10</th>\n",
       "      <td>1010</td>\n",
       "      <td>Wilber</td>\n",
       "      <td>Blair</td>\n",
       "      <td>52</td>\n",
       "      <td>Dallas-Fort Worth-Arlington, TX MSA</td>\n",
       "      <td>2018-03-09</td>\n",
       "      <td>surf</td>\n",
       "      <td>NaN</td>\n",
       "    </tr>\n",
       "    <tr>\n",
       "      <th>11</th>\n",
       "      <td>1011</td>\n",
       "      <td>Halina</td>\n",
       "      <td>Henry</td>\n",
       "      <td>73</td>\n",
       "      <td>Cleveland-Elyria, OH MSA</td>\n",
       "      <td>2018-01-18</td>\n",
       "      <td>ultimate</td>\n",
       "      <td>NaN</td>\n",
       "    </tr>\n",
       "    <tr>\n",
       "      <th>12</th>\n",
       "      <td>1012</td>\n",
       "      <td>Jonelle</td>\n",
       "      <td>Mcbride</td>\n",
       "      <td>59</td>\n",
       "      <td>Chicago-Naperville-Elgin, IL-IN-WI MSA</td>\n",
       "      <td>2018-06-28</td>\n",
       "      <td>surf</td>\n",
       "      <td>2018-11-16</td>\n",
       "    </tr>\n",
       "    <tr>\n",
       "      <th>13</th>\n",
       "      <td>1013</td>\n",
       "      <td>Nicolas</td>\n",
       "      <td>Snider</td>\n",
       "      <td>50</td>\n",
       "      <td>Knoxville, TN MSA</td>\n",
       "      <td>2018-12-01</td>\n",
       "      <td>ultimate</td>\n",
       "      <td>NaN</td>\n",
       "    </tr>\n",
       "    <tr>\n",
       "      <th>14</th>\n",
       "      <td>1014</td>\n",
       "      <td>Edmundo</td>\n",
       "      <td>Simon</td>\n",
       "      <td>61</td>\n",
       "      <td>New York-Newark-Jersey City, NY-NJ-PA MSA</td>\n",
       "      <td>2018-11-25</td>\n",
       "      <td>surf</td>\n",
       "      <td>NaN</td>\n",
       "    </tr>\n",
       "    <tr>\n",
       "      <th>15</th>\n",
       "      <td>1015</td>\n",
       "      <td>Beata</td>\n",
       "      <td>Carpenter</td>\n",
       "      <td>26</td>\n",
       "      <td>Pittsburgh, PA MSA</td>\n",
       "      <td>2018-12-05</td>\n",
       "      <td>surf</td>\n",
       "      <td>NaN</td>\n",
       "    </tr>\n",
       "    <tr>\n",
       "      <th>16</th>\n",
       "      <td>1016</td>\n",
       "      <td>Jann</td>\n",
       "      <td>Salinas</td>\n",
       "      <td>30</td>\n",
       "      <td>Fresno, CA MSA</td>\n",
       "      <td>2018-10-25</td>\n",
       "      <td>surf</td>\n",
       "      <td>NaN</td>\n",
       "    </tr>\n",
       "    <tr>\n",
       "      <th>17</th>\n",
       "      <td>1017</td>\n",
       "      <td>Boris</td>\n",
       "      <td>Gates</td>\n",
       "      <td>61</td>\n",
       "      <td>Washington-Arlington-Alexandria, DC-VA-MD-WV MSA</td>\n",
       "      <td>2018-08-26</td>\n",
       "      <td>surf</td>\n",
       "      <td>NaN</td>\n",
       "    </tr>\n",
       "    <tr>\n",
       "      <th>18</th>\n",
       "      <td>1018</td>\n",
       "      <td>Dennis</td>\n",
       "      <td>Grimes</td>\n",
       "      <td>70</td>\n",
       "      <td>Indianapolis-Carmel-Anderson, IN MSA</td>\n",
       "      <td>2018-10-17</td>\n",
       "      <td>surf</td>\n",
       "      <td>NaN</td>\n",
       "    </tr>\n",
       "    <tr>\n",
       "      <th>19</th>\n",
       "      <td>1019</td>\n",
       "      <td>Shizue</td>\n",
       "      <td>Landry</td>\n",
       "      <td>34</td>\n",
       "      <td>Jacksonville, FL MSA</td>\n",
       "      <td>2018-01-16</td>\n",
       "      <td>surf</td>\n",
       "      <td>NaN</td>\n",
       "    </tr>\n",
       "  </tbody>\n",
       "</table>\n",
       "</div>"
      ],
      "text/plain": [
       "    user_id first_name  last_name  age  \\\n",
       "0      1000   Anamaria      Bauer   45   \n",
       "1      1001     Mickey  Wilkerson   28   \n",
       "2      1002     Carlee    Hoffman   36   \n",
       "3      1003   Reynaldo    Jenkins   52   \n",
       "4      1004    Leonila   Thompson   40   \n",
       "5      1005      Livia    Shields   31   \n",
       "6      1006     Jesusa   Bradford   73   \n",
       "7      1007    Eusebio      Welch   42   \n",
       "8      1008      Emely    Hoffman   53   \n",
       "9      1009      Gerry     Little   19   \n",
       "10     1010     Wilber      Blair   52   \n",
       "11     1011     Halina      Henry   73   \n",
       "12     1012    Jonelle    Mcbride   59   \n",
       "13     1013    Nicolas     Snider   50   \n",
       "14     1014    Edmundo      Simon   61   \n",
       "15     1015      Beata  Carpenter   26   \n",
       "16     1016       Jann    Salinas   30   \n",
       "17     1017      Boris      Gates   61   \n",
       "18     1018     Dennis     Grimes   70   \n",
       "19     1019     Shizue     Landry   34   \n",
       "\n",
       "                                                city    reg_date      plan  \\\n",
       "0              Atlanta-Sandy Springs-Roswell, GA MSA  2018-12-24  ultimate   \n",
       "1                    Seattle-Tacoma-Bellevue, WA MSA  2018-08-13      surf   \n",
       "2               Las Vegas-Henderson-Paradise, NV MSA  2018-10-21      surf   \n",
       "3                                      Tulsa, OK MSA  2018-01-28      surf   \n",
       "4                    Seattle-Tacoma-Bellevue, WA MSA  2018-05-23      surf   \n",
       "5                Dallas-Fort Worth-Arlington, TX MSA  2018-11-29      surf   \n",
       "6             San Francisco-Oakland-Berkeley, CA MSA  2018-11-27  ultimate   \n",
       "7                      Grand Rapids-Kentwood, MI MSA  2018-07-11      surf   \n",
       "8                  Orlando-Kissimmee-Sanford, FL MSA  2018-08-03  ultimate   \n",
       "9             San Jose-Sunnyvale-Santa Clara, CA MSA  2018-04-22      surf   \n",
       "10               Dallas-Fort Worth-Arlington, TX MSA  2018-03-09      surf   \n",
       "11                          Cleveland-Elyria, OH MSA  2018-01-18  ultimate   \n",
       "12            Chicago-Naperville-Elgin, IL-IN-WI MSA  2018-06-28      surf   \n",
       "13                                 Knoxville, TN MSA  2018-12-01  ultimate   \n",
       "14         New York-Newark-Jersey City, NY-NJ-PA MSA  2018-11-25      surf   \n",
       "15                                Pittsburgh, PA MSA  2018-12-05      surf   \n",
       "16                                    Fresno, CA MSA  2018-10-25      surf   \n",
       "17  Washington-Arlington-Alexandria, DC-VA-MD-WV MSA  2018-08-26      surf   \n",
       "18              Indianapolis-Carmel-Anderson, IN MSA  2018-10-17      surf   \n",
       "19                              Jacksonville, FL MSA  2018-01-16      surf   \n",
       "\n",
       "    churn_date  \n",
       "0          NaN  \n",
       "1          NaN  \n",
       "2          NaN  \n",
       "3          NaN  \n",
       "4          NaN  \n",
       "5          NaN  \n",
       "6   2018-12-18  \n",
       "7          NaN  \n",
       "8          NaN  \n",
       "9          NaN  \n",
       "10         NaN  \n",
       "11         NaN  \n",
       "12  2018-11-16  \n",
       "13         NaN  \n",
       "14         NaN  \n",
       "15         NaN  \n",
       "16         NaN  \n",
       "17         NaN  \n",
       "18         NaN  \n",
       "19         NaN  "
      ]
     },
     "execution_count": 7,
     "metadata": {},
     "output_type": "execute_result"
    }
   ],
   "source": [
    "# Imprime una muestra de datos para usuarios\n",
    "users.head(20)"
   ]
  },
  {
   "cell_type": "markdown",
   "metadata": {
    "id": "dCZoUq4f0q06"
   },
   "source": [
    "De una muestra aleatoria de 20 de los 500 datos, se evidencia que en términos generales no se presentan datos incorrectos en su tipo; sin embargo, en la columna \"churn_date\" está en tipo object pero para evaluación de las fechas de deserción, sería conveniente convertir estas a formato datetime, y los valores que no puedan convertirse a formato datetime (Los NaN) los reemplazaré por NaT usando error=\"coerce\"."
   ]
  },
  {
   "cell_type": "markdown",
   "metadata": {
    "id": "BX5FQh_I0q06"
   },
   "source": [
    "### Corregir los datos"
   ]
  },
  {
   "cell_type": "markdown",
   "metadata": {
    "id": "8OdKMwJv0q06"
   },
   "source": [
    "La única corrección realizada se dio en la columna \"churn_date\", en la que di un formato específico de fehca (YYYY-mm-dd) y los valores ausentes, los modifiqué a NaT (Not a Time), luego tomaré otra muestra aleatoria de 20. "
   ]
  },
  {
   "cell_type": "code",
   "execution_count": null,
   "metadata": {
    "id": "yUqX-K0C0q07"
   },
   "outputs": [
    {
     "name": "stdout",
     "output_type": "stream",
     "text": [
      "<class 'pandas.core.frame.DataFrame'>\n",
      "RangeIndex: 500 entries, 0 to 499\n",
      "Data columns (total 8 columns):\n",
      " #   Column      Non-Null Count  Dtype         \n",
      "---  ------      --------------  -----         \n",
      " 0   user_id     500 non-null    int64         \n",
      " 1   first_name  500 non-null    object        \n",
      " 2   last_name   500 non-null    object        \n",
      " 3   age         500 non-null    int64         \n",
      " 4   city        500 non-null    object        \n",
      " 5   reg_date    500 non-null    datetime64[ns]\n",
      " 6   plan        500 non-null    object        \n",
      " 7   churn_date  34 non-null     datetime64[ns]\n",
      "dtypes: datetime64[ns](2), int64(2), object(4)\n",
      "memory usage: 31.4+ KB\n"
     ]
    }
   ],
   "source": [
    "users['churn_date'] = pd.to_datetime(users['churn_date'], format= \"%Y-%m-%d\",errors='coerce')\n",
    "users['reg_date'] = pd.to_datetime(users['reg_date'], format= \"%Y-%m-%d\",errors='coerce')\n",
    "users.sample(20)\n",
    "users.info()"
   ]
  },
  {
   "cell_type": "markdown",
   "metadata": {
    "id": "ycwuARJp0q07"
   },
   "source": [
    "### Enriquecer los datos"
   ]
  },
  {
   "cell_type": "markdown",
   "metadata": {
    "id": "96NIh4CJ0q08"
   },
   "source": [
    "Una vez realizadas las modificaciones en el numeral 1.7.1, no considero necesario hacer otras modificaciones. "
   ]
  },
  {
   "cell_type": "markdown",
   "metadata": {
    "id": "o7MeKCid0q08"
   },
   "source": [
    "## Llamadas"
   ]
  },
  {
   "cell_type": "code",
   "execution_count": null,
   "metadata": {
    "id": "6dDlnoDm0q08"
   },
   "outputs": [
    {
     "name": "stdout",
     "output_type": "stream",
     "text": [
      "<class 'pandas.core.frame.DataFrame'>\n",
      "RangeIndex: 137735 entries, 0 to 137734\n",
      "Data columns (total 4 columns):\n",
      " #   Column     Non-Null Count   Dtype  \n",
      "---  ------     --------------   -----  \n",
      " 0   id         137735 non-null  object \n",
      " 1   user_id    137735 non-null  int64  \n",
      " 2   call_date  137735 non-null  object \n",
      " 3   duration   137735 non-null  float64\n",
      "dtypes: float64(1), int64(1), object(2)\n",
      "memory usage: 4.2+ MB\n"
     ]
    }
   ],
   "source": [
    "calls.info() # Imprime la información general/resumida sobre el DataFrame de las llamadas\n"
   ]
  },
  {
   "cell_type": "code",
   "execution_count": null,
   "metadata": {
    "id": "kuh1vlNB0q09"
   },
   "outputs": [
    {
     "data": {
      "text/html": [
       "<div>\n",
       "<style scoped>\n",
       "    .dataframe tbody tr th:only-of-type {\n",
       "        vertical-align: middle;\n",
       "    }\n",
       "\n",
       "    .dataframe tbody tr th {\n",
       "        vertical-align: top;\n",
       "    }\n",
       "\n",
       "    .dataframe thead th {\n",
       "        text-align: right;\n",
       "    }\n",
       "</style>\n",
       "<table border=\"1\" class=\"dataframe\">\n",
       "  <thead>\n",
       "    <tr style=\"text-align: right;\">\n",
       "      <th></th>\n",
       "      <th>id</th>\n",
       "      <th>user_id</th>\n",
       "      <th>call_date</th>\n",
       "      <th>duration</th>\n",
       "    </tr>\n",
       "  </thead>\n",
       "  <tbody>\n",
       "    <tr>\n",
       "      <th>0</th>\n",
       "      <td>1000_93</td>\n",
       "      <td>1000</td>\n",
       "      <td>2018-12-27</td>\n",
       "      <td>8.52</td>\n",
       "    </tr>\n",
       "    <tr>\n",
       "      <th>1</th>\n",
       "      <td>1000_145</td>\n",
       "      <td>1000</td>\n",
       "      <td>2018-12-27</td>\n",
       "      <td>13.66</td>\n",
       "    </tr>\n",
       "    <tr>\n",
       "      <th>2</th>\n",
       "      <td>1000_247</td>\n",
       "      <td>1000</td>\n",
       "      <td>2018-12-27</td>\n",
       "      <td>14.48</td>\n",
       "    </tr>\n",
       "    <tr>\n",
       "      <th>3</th>\n",
       "      <td>1000_309</td>\n",
       "      <td>1000</td>\n",
       "      <td>2018-12-28</td>\n",
       "      <td>5.76</td>\n",
       "    </tr>\n",
       "    <tr>\n",
       "      <th>4</th>\n",
       "      <td>1000_380</td>\n",
       "      <td>1000</td>\n",
       "      <td>2018-12-30</td>\n",
       "      <td>4.22</td>\n",
       "    </tr>\n",
       "    <tr>\n",
       "      <th>5</th>\n",
       "      <td>1000_388</td>\n",
       "      <td>1000</td>\n",
       "      <td>2018-12-31</td>\n",
       "      <td>2.20</td>\n",
       "    </tr>\n",
       "    <tr>\n",
       "      <th>6</th>\n",
       "      <td>1000_510</td>\n",
       "      <td>1000</td>\n",
       "      <td>2018-12-27</td>\n",
       "      <td>5.75</td>\n",
       "    </tr>\n",
       "    <tr>\n",
       "      <th>7</th>\n",
       "      <td>1000_521</td>\n",
       "      <td>1000</td>\n",
       "      <td>2018-12-28</td>\n",
       "      <td>14.18</td>\n",
       "    </tr>\n",
       "    <tr>\n",
       "      <th>8</th>\n",
       "      <td>1000_530</td>\n",
       "      <td>1000</td>\n",
       "      <td>2018-12-28</td>\n",
       "      <td>5.77</td>\n",
       "    </tr>\n",
       "    <tr>\n",
       "      <th>9</th>\n",
       "      <td>1000_544</td>\n",
       "      <td>1000</td>\n",
       "      <td>2018-12-26</td>\n",
       "      <td>4.40</td>\n",
       "    </tr>\n",
       "    <tr>\n",
       "      <th>10</th>\n",
       "      <td>1000_693</td>\n",
       "      <td>1000</td>\n",
       "      <td>2018-12-31</td>\n",
       "      <td>4.31</td>\n",
       "    </tr>\n",
       "    <tr>\n",
       "      <th>11</th>\n",
       "      <td>1000_705</td>\n",
       "      <td>1000</td>\n",
       "      <td>2018-12-31</td>\n",
       "      <td>12.78</td>\n",
       "    </tr>\n",
       "    <tr>\n",
       "      <th>12</th>\n",
       "      <td>1000_735</td>\n",
       "      <td>1000</td>\n",
       "      <td>2018-12-29</td>\n",
       "      <td>1.70</td>\n",
       "    </tr>\n",
       "    <tr>\n",
       "      <th>13</th>\n",
       "      <td>1000_778</td>\n",
       "      <td>1000</td>\n",
       "      <td>2018-12-28</td>\n",
       "      <td>3.29</td>\n",
       "    </tr>\n",
       "    <tr>\n",
       "      <th>14</th>\n",
       "      <td>1000_826</td>\n",
       "      <td>1000</td>\n",
       "      <td>2018-12-26</td>\n",
       "      <td>9.96</td>\n",
       "    </tr>\n",
       "    <tr>\n",
       "      <th>15</th>\n",
       "      <td>1000_842</td>\n",
       "      <td>1000</td>\n",
       "      <td>2018-12-27</td>\n",
       "      <td>5.85</td>\n",
       "    </tr>\n",
       "    <tr>\n",
       "      <th>16</th>\n",
       "      <td>1001_0</td>\n",
       "      <td>1001</td>\n",
       "      <td>2018-09-06</td>\n",
       "      <td>10.06</td>\n",
       "    </tr>\n",
       "    <tr>\n",
       "      <th>17</th>\n",
       "      <td>1001_1</td>\n",
       "      <td>1001</td>\n",
       "      <td>2018-10-12</td>\n",
       "      <td>1.00</td>\n",
       "    </tr>\n",
       "    <tr>\n",
       "      <th>18</th>\n",
       "      <td>1001_2</td>\n",
       "      <td>1001</td>\n",
       "      <td>2018-10-17</td>\n",
       "      <td>15.83</td>\n",
       "    </tr>\n",
       "    <tr>\n",
       "      <th>19</th>\n",
       "      <td>1001_4</td>\n",
       "      <td>1001</td>\n",
       "      <td>2018-12-05</td>\n",
       "      <td>0.00</td>\n",
       "    </tr>\n",
       "    <tr>\n",
       "      <th>20</th>\n",
       "      <td>1001_5</td>\n",
       "      <td>1001</td>\n",
       "      <td>2018-12-13</td>\n",
       "      <td>6.27</td>\n",
       "    </tr>\n",
       "    <tr>\n",
       "      <th>21</th>\n",
       "      <td>1001_6</td>\n",
       "      <td>1001</td>\n",
       "      <td>2018-12-04</td>\n",
       "      <td>7.19</td>\n",
       "    </tr>\n",
       "    <tr>\n",
       "      <th>22</th>\n",
       "      <td>1001_8</td>\n",
       "      <td>1001</td>\n",
       "      <td>2018-11-17</td>\n",
       "      <td>2.45</td>\n",
       "    </tr>\n",
       "    <tr>\n",
       "      <th>23</th>\n",
       "      <td>1001_9</td>\n",
       "      <td>1001</td>\n",
       "      <td>2018-11-19</td>\n",
       "      <td>2.40</td>\n",
       "    </tr>\n",
       "    <tr>\n",
       "      <th>24</th>\n",
       "      <td>1001_11</td>\n",
       "      <td>1001</td>\n",
       "      <td>2018-11-09</td>\n",
       "      <td>1.00</td>\n",
       "    </tr>\n",
       "    <tr>\n",
       "      <th>25</th>\n",
       "      <td>1001_13</td>\n",
       "      <td>1001</td>\n",
       "      <td>2018-12-24</td>\n",
       "      <td>0.00</td>\n",
       "    </tr>\n",
       "    <tr>\n",
       "      <th>26</th>\n",
       "      <td>1001_19</td>\n",
       "      <td>1001</td>\n",
       "      <td>2018-11-15</td>\n",
       "      <td>30.00</td>\n",
       "    </tr>\n",
       "    <tr>\n",
       "      <th>27</th>\n",
       "      <td>1001_20</td>\n",
       "      <td>1001</td>\n",
       "      <td>2018-09-21</td>\n",
       "      <td>5.75</td>\n",
       "    </tr>\n",
       "    <tr>\n",
       "      <th>28</th>\n",
       "      <td>1001_23</td>\n",
       "      <td>1001</td>\n",
       "      <td>2018-10-27</td>\n",
       "      <td>0.98</td>\n",
       "    </tr>\n",
       "    <tr>\n",
       "      <th>29</th>\n",
       "      <td>1001_26</td>\n",
       "      <td>1001</td>\n",
       "      <td>2018-10-28</td>\n",
       "      <td>5.90</td>\n",
       "    </tr>\n",
       "    <tr>\n",
       "      <th>30</th>\n",
       "      <td>1001_29</td>\n",
       "      <td>1001</td>\n",
       "      <td>2018-09-30</td>\n",
       "      <td>14.78</td>\n",
       "    </tr>\n",
       "    <tr>\n",
       "      <th>31</th>\n",
       "      <td>1001_30</td>\n",
       "      <td>1001</td>\n",
       "      <td>2018-10-17</td>\n",
       "      <td>0.00</td>\n",
       "    </tr>\n",
       "    <tr>\n",
       "      <th>32</th>\n",
       "      <td>1001_31</td>\n",
       "      <td>1001</td>\n",
       "      <td>2018-11-03</td>\n",
       "      <td>0.00</td>\n",
       "    </tr>\n",
       "    <tr>\n",
       "      <th>33</th>\n",
       "      <td>1001_32</td>\n",
       "      <td>1001</td>\n",
       "      <td>2018-11-25</td>\n",
       "      <td>3.99</td>\n",
       "    </tr>\n",
       "    <tr>\n",
       "      <th>34</th>\n",
       "      <td>1001_35</td>\n",
       "      <td>1001</td>\n",
       "      <td>2018-12-21</td>\n",
       "      <td>0.00</td>\n",
       "    </tr>\n",
       "    <tr>\n",
       "      <th>35</th>\n",
       "      <td>1001_37</td>\n",
       "      <td>1001</td>\n",
       "      <td>2018-11-17</td>\n",
       "      <td>15.85</td>\n",
       "    </tr>\n",
       "    <tr>\n",
       "      <th>36</th>\n",
       "      <td>1001_39</td>\n",
       "      <td>1001</td>\n",
       "      <td>2018-12-07</td>\n",
       "      <td>11.13</td>\n",
       "    </tr>\n",
       "    <tr>\n",
       "      <th>37</th>\n",
       "      <td>1001_40</td>\n",
       "      <td>1001</td>\n",
       "      <td>2018-09-30</td>\n",
       "      <td>18.60</td>\n",
       "    </tr>\n",
       "    <tr>\n",
       "      <th>38</th>\n",
       "      <td>1001_42</td>\n",
       "      <td>1001</td>\n",
       "      <td>2018-08-28</td>\n",
       "      <td>13.27</td>\n",
       "    </tr>\n",
       "    <tr>\n",
       "      <th>39</th>\n",
       "      <td>1001_43</td>\n",
       "      <td>1001</td>\n",
       "      <td>2018-12-13</td>\n",
       "      <td>0.00</td>\n",
       "    </tr>\n",
       "    <tr>\n",
       "      <th>40</th>\n",
       "      <td>1001_44</td>\n",
       "      <td>1001</td>\n",
       "      <td>2018-12-01</td>\n",
       "      <td>6.13</td>\n",
       "    </tr>\n",
       "    <tr>\n",
       "      <th>41</th>\n",
       "      <td>1001_46</td>\n",
       "      <td>1001</td>\n",
       "      <td>2018-11-03</td>\n",
       "      <td>0.95</td>\n",
       "    </tr>\n",
       "    <tr>\n",
       "      <th>42</th>\n",
       "      <td>1001_47</td>\n",
       "      <td>1001</td>\n",
       "      <td>2018-11-08</td>\n",
       "      <td>6.36</td>\n",
       "    </tr>\n",
       "    <tr>\n",
       "      <th>43</th>\n",
       "      <td>1001_51</td>\n",
       "      <td>1001</td>\n",
       "      <td>2018-09-14</td>\n",
       "      <td>16.03</td>\n",
       "    </tr>\n",
       "    <tr>\n",
       "      <th>44</th>\n",
       "      <td>1001_52</td>\n",
       "      <td>1001</td>\n",
       "      <td>2018-11-23</td>\n",
       "      <td>0.00</td>\n",
       "    </tr>\n",
       "    <tr>\n",
       "      <th>45</th>\n",
       "      <td>1001_53</td>\n",
       "      <td>1001</td>\n",
       "      <td>2018-10-24</td>\n",
       "      <td>0.00</td>\n",
       "    </tr>\n",
       "    <tr>\n",
       "      <th>46</th>\n",
       "      <td>1001_54</td>\n",
       "      <td>1001</td>\n",
       "      <td>2018-12-11</td>\n",
       "      <td>8.21</td>\n",
       "    </tr>\n",
       "    <tr>\n",
       "      <th>47</th>\n",
       "      <td>1001_57</td>\n",
       "      <td>1001</td>\n",
       "      <td>2018-12-16</td>\n",
       "      <td>21.30</td>\n",
       "    </tr>\n",
       "    <tr>\n",
       "      <th>48</th>\n",
       "      <td>1001_59</td>\n",
       "      <td>1001</td>\n",
       "      <td>2018-12-19</td>\n",
       "      <td>9.29</td>\n",
       "    </tr>\n",
       "    <tr>\n",
       "      <th>49</th>\n",
       "      <td>1001_60</td>\n",
       "      <td>1001</td>\n",
       "      <td>2018-12-16</td>\n",
       "      <td>0.00</td>\n",
       "    </tr>\n",
       "  </tbody>\n",
       "</table>\n",
       "</div>"
      ],
      "text/plain": [
       "          id  user_id   call_date  duration\n",
       "0    1000_93     1000  2018-12-27      8.52\n",
       "1   1000_145     1000  2018-12-27     13.66\n",
       "2   1000_247     1000  2018-12-27     14.48\n",
       "3   1000_309     1000  2018-12-28      5.76\n",
       "4   1000_380     1000  2018-12-30      4.22\n",
       "5   1000_388     1000  2018-12-31      2.20\n",
       "6   1000_510     1000  2018-12-27      5.75\n",
       "7   1000_521     1000  2018-12-28     14.18\n",
       "8   1000_530     1000  2018-12-28      5.77\n",
       "9   1000_544     1000  2018-12-26      4.40\n",
       "10  1000_693     1000  2018-12-31      4.31\n",
       "11  1000_705     1000  2018-12-31     12.78\n",
       "12  1000_735     1000  2018-12-29      1.70\n",
       "13  1000_778     1000  2018-12-28      3.29\n",
       "14  1000_826     1000  2018-12-26      9.96\n",
       "15  1000_842     1000  2018-12-27      5.85\n",
       "16    1001_0     1001  2018-09-06     10.06\n",
       "17    1001_1     1001  2018-10-12      1.00\n",
       "18    1001_2     1001  2018-10-17     15.83\n",
       "19    1001_4     1001  2018-12-05      0.00\n",
       "20    1001_5     1001  2018-12-13      6.27\n",
       "21    1001_6     1001  2018-12-04      7.19\n",
       "22    1001_8     1001  2018-11-17      2.45\n",
       "23    1001_9     1001  2018-11-19      2.40\n",
       "24   1001_11     1001  2018-11-09      1.00\n",
       "25   1001_13     1001  2018-12-24      0.00\n",
       "26   1001_19     1001  2018-11-15     30.00\n",
       "27   1001_20     1001  2018-09-21      5.75\n",
       "28   1001_23     1001  2018-10-27      0.98\n",
       "29   1001_26     1001  2018-10-28      5.90\n",
       "30   1001_29     1001  2018-09-30     14.78\n",
       "31   1001_30     1001  2018-10-17      0.00\n",
       "32   1001_31     1001  2018-11-03      0.00\n",
       "33   1001_32     1001  2018-11-25      3.99\n",
       "34   1001_35     1001  2018-12-21      0.00\n",
       "35   1001_37     1001  2018-11-17     15.85\n",
       "36   1001_39     1001  2018-12-07     11.13\n",
       "37   1001_40     1001  2018-09-30     18.60\n",
       "38   1001_42     1001  2018-08-28     13.27\n",
       "39   1001_43     1001  2018-12-13      0.00\n",
       "40   1001_44     1001  2018-12-01      6.13\n",
       "41   1001_46     1001  2018-11-03      0.95\n",
       "42   1001_47     1001  2018-11-08      6.36\n",
       "43   1001_51     1001  2018-09-14     16.03\n",
       "44   1001_52     1001  2018-11-23      0.00\n",
       "45   1001_53     1001  2018-10-24      0.00\n",
       "46   1001_54     1001  2018-12-11      8.21\n",
       "47   1001_57     1001  2018-12-16     21.30\n",
       "48   1001_59     1001  2018-12-19      9.29\n",
       "49   1001_60     1001  2018-12-16      0.00"
      ]
     },
     "execution_count": 10,
     "metadata": {},
     "output_type": "execute_result"
    }
   ],
   "source": [
    "calls.head(50)# Imprime una muestra de datos para las llamadas\n",
    "\n"
   ]
  },
  {
   "cell_type": "markdown",
   "metadata": {
    "id": "DOAxYJSx0q09"
   },
   "source": [
    "Una vez analizadas las muestras, identifico la necesidad de modificar el dtype para la columnas call_date a formato datetime y duration a int, redondeando al número entero mayor más próximo, dado que Megaline realiza esto. "
   ]
  },
  {
   "cell_type": "markdown",
   "metadata": {
    "id": "S7hzxmbX0q0-"
   },
   "source": [
    "### Corregir los datos"
   ]
  },
  {
   "cell_type": "markdown",
   "metadata": {
    "id": "YxWyAjD20q0-"
   },
   "source": [
    "Se modificará el dtype para las columnas call_date a formato datetime y la columa duration a int, redondeando el valor entero mayor más próximo, esto usando el código np.ceil(). "
   ]
  },
  {
   "cell_type": "code",
   "execution_count": null,
   "metadata": {
    "id": "S2r8xA4f0q0-"
   },
   "outputs": [
    {
     "name": "stdout",
     "output_type": "stream",
     "text": [
      "<class 'pandas.core.frame.DataFrame'>\n",
      "RangeIndex: 137735 entries, 0 to 137734\n",
      "Data columns (total 4 columns):\n",
      " #   Column     Non-Null Count   Dtype         \n",
      "---  ------     --------------   -----         \n",
      " 0   id         137735 non-null  object        \n",
      " 1   user_id    137735 non-null  int64         \n",
      " 2   call_date  137735 non-null  datetime64[ns]\n",
      " 3   duration   137735 non-null  int64         \n",
      "dtypes: datetime64[ns](1), int64(2), object(1)\n",
      "memory usage: 4.2+ MB\n"
     ]
    },
    {
     "data": {
      "text/html": [
       "<div>\n",
       "<style scoped>\n",
       "    .dataframe tbody tr th:only-of-type {\n",
       "        vertical-align: middle;\n",
       "    }\n",
       "\n",
       "    .dataframe tbody tr th {\n",
       "        vertical-align: top;\n",
       "    }\n",
       "\n",
       "    .dataframe thead th {\n",
       "        text-align: right;\n",
       "    }\n",
       "</style>\n",
       "<table border=\"1\" class=\"dataframe\">\n",
       "  <thead>\n",
       "    <tr style=\"text-align: right;\">\n",
       "      <th></th>\n",
       "      <th>id</th>\n",
       "      <th>user_id</th>\n",
       "      <th>call_date</th>\n",
       "      <th>duration</th>\n",
       "    </tr>\n",
       "  </thead>\n",
       "  <tbody>\n",
       "    <tr>\n",
       "      <th>15487</th>\n",
       "      <td>1061_429</td>\n",
       "      <td>1061</td>\n",
       "      <td>2018-12-11</td>\n",
       "      <td>5</td>\n",
       "    </tr>\n",
       "    <tr>\n",
       "      <th>132026</th>\n",
       "      <td>1475_173</td>\n",
       "      <td>1475</td>\n",
       "      <td>2018-09-17</td>\n",
       "      <td>8</td>\n",
       "    </tr>\n",
       "    <tr>\n",
       "      <th>95149</th>\n",
       "      <td>1337_75</td>\n",
       "      <td>1337</td>\n",
       "      <td>2018-12-07</td>\n",
       "      <td>8</td>\n",
       "    </tr>\n",
       "    <tr>\n",
       "      <th>24402</th>\n",
       "      <td>1092_291</td>\n",
       "      <td>1092</td>\n",
       "      <td>2018-12-20</td>\n",
       "      <td>1</td>\n",
       "    </tr>\n",
       "    <tr>\n",
       "      <th>94734</th>\n",
       "      <td>1336_644</td>\n",
       "      <td>1336</td>\n",
       "      <td>2018-06-25</td>\n",
       "      <td>0</td>\n",
       "    </tr>\n",
       "    <tr>\n",
       "      <th>66485</th>\n",
       "      <td>1240_343</td>\n",
       "      <td>1240</td>\n",
       "      <td>2018-07-16</td>\n",
       "      <td>3</td>\n",
       "    </tr>\n",
       "    <tr>\n",
       "      <th>3832</th>\n",
       "      <td>1016_49</td>\n",
       "      <td>1016</td>\n",
       "      <td>2018-10-30</td>\n",
       "      <td>0</td>\n",
       "    </tr>\n",
       "    <tr>\n",
       "      <th>129803</th>\n",
       "      <td>1467_39</td>\n",
       "      <td>1467</td>\n",
       "      <td>2018-10-02</td>\n",
       "      <td>0</td>\n",
       "    </tr>\n",
       "    <tr>\n",
       "      <th>62233</th>\n",
       "      <td>1223_410</td>\n",
       "      <td>1223</td>\n",
       "      <td>2018-08-14</td>\n",
       "      <td>15</td>\n",
       "    </tr>\n",
       "    <tr>\n",
       "      <th>3692</th>\n",
       "      <td>1014_330</td>\n",
       "      <td>1014</td>\n",
       "      <td>2018-12-06</td>\n",
       "      <td>3</td>\n",
       "    </tr>\n",
       "    <tr>\n",
       "      <th>132165</th>\n",
       "      <td>1476_93</td>\n",
       "      <td>1476</td>\n",
       "      <td>2018-07-25</td>\n",
       "      <td>7</td>\n",
       "    </tr>\n",
       "    <tr>\n",
       "      <th>17115</th>\n",
       "      <td>1066_218</td>\n",
       "      <td>1066</td>\n",
       "      <td>2018-03-25</td>\n",
       "      <td>5</td>\n",
       "    </tr>\n",
       "    <tr>\n",
       "      <th>59689</th>\n",
       "      <td>1215_74</td>\n",
       "      <td>1215</td>\n",
       "      <td>2018-12-14</td>\n",
       "      <td>0</td>\n",
       "    </tr>\n",
       "    <tr>\n",
       "      <th>65239</th>\n",
       "      <td>1236_535</td>\n",
       "      <td>1236</td>\n",
       "      <td>2018-11-30</td>\n",
       "      <td>9</td>\n",
       "    </tr>\n",
       "    <tr>\n",
       "      <th>5243</th>\n",
       "      <td>1022_509</td>\n",
       "      <td>1022</td>\n",
       "      <td>2018-07-24</td>\n",
       "      <td>14</td>\n",
       "    </tr>\n",
       "    <tr>\n",
       "      <th>20444</th>\n",
       "      <td>1077_411</td>\n",
       "      <td>1077</td>\n",
       "      <td>2018-08-22</td>\n",
       "      <td>9</td>\n",
       "    </tr>\n",
       "    <tr>\n",
       "      <th>86720</th>\n",
       "      <td>1320_389</td>\n",
       "      <td>1320</td>\n",
       "      <td>2018-08-19</td>\n",
       "      <td>20</td>\n",
       "    </tr>\n",
       "    <tr>\n",
       "      <th>94750</th>\n",
       "      <td>1336_664</td>\n",
       "      <td>1336</td>\n",
       "      <td>2018-09-02</td>\n",
       "      <td>1</td>\n",
       "    </tr>\n",
       "    <tr>\n",
       "      <th>132036</th>\n",
       "      <td>1475_183</td>\n",
       "      <td>1475</td>\n",
       "      <td>2018-12-16</td>\n",
       "      <td>0</td>\n",
       "    </tr>\n",
       "    <tr>\n",
       "      <th>59999</th>\n",
       "      <td>1215_384</td>\n",
       "      <td>1215</td>\n",
       "      <td>2018-10-21</td>\n",
       "      <td>0</td>\n",
       "    </tr>\n",
       "  </tbody>\n",
       "</table>\n",
       "</div>"
      ],
      "text/plain": [
       "              id  user_id  call_date  duration\n",
       "15487   1061_429     1061 2018-12-11         5\n",
       "132026  1475_173     1475 2018-09-17         8\n",
       "95149    1337_75     1337 2018-12-07         8\n",
       "24402   1092_291     1092 2018-12-20         1\n",
       "94734   1336_644     1336 2018-06-25         0\n",
       "66485   1240_343     1240 2018-07-16         3\n",
       "3832     1016_49     1016 2018-10-30         0\n",
       "129803   1467_39     1467 2018-10-02         0\n",
       "62233   1223_410     1223 2018-08-14        15\n",
       "3692    1014_330     1014 2018-12-06         3\n",
       "132165   1476_93     1476 2018-07-25         7\n",
       "17115   1066_218     1066 2018-03-25         5\n",
       "59689    1215_74     1215 2018-12-14         0\n",
       "65239   1236_535     1236 2018-11-30         9\n",
       "5243    1022_509     1022 2018-07-24        14\n",
       "20444   1077_411     1077 2018-08-22         9\n",
       "86720   1320_389     1320 2018-08-19        20\n",
       "94750   1336_664     1336 2018-09-02         1\n",
       "132036  1475_183     1475 2018-12-16         0\n",
       "59999   1215_384     1215 2018-10-21         0"
      ]
     },
     "execution_count": 8,
     "metadata": {},
     "output_type": "execute_result"
    }
   ],
   "source": [
    "calls['call_date'] = pd.to_datetime(calls['call_date'], format= \"%Y-%m-%d\",errors='coerce')\n",
    "calls['duration']=np.ceil(calls['duration']).astype(int)\n",
    "\n",
    "\n",
    "calls.info()\n",
    "calls.sample(20)"
   ]
  },
  {
   "cell_type": "markdown",
   "metadata": {
    "id": "KrMgTrlG0q0_"
   },
   "source": [
    "### Enriquecer los datos"
   ]
  },
  {
   "cell_type": "markdown",
   "metadata": {
    "id": "a9MbmEvE0q0_"
   },
   "source": [
    "Con base en lo realizado en el punto 1.8.1, no considero necesario a este punto hacer adiciones. "
   ]
  },
  {
   "cell_type": "markdown",
   "metadata": {
    "id": "mOUZSi180q0_"
   },
   "source": [
    "## Mensajes"
   ]
  },
  {
   "cell_type": "code",
   "execution_count": null,
   "metadata": {
    "id": "R-bYJpdV0q1A"
   },
   "outputs": [
    {
     "name": "stdout",
     "output_type": "stream",
     "text": [
      "<class 'pandas.core.frame.DataFrame'>\n",
      "RangeIndex: 76051 entries, 0 to 76050\n",
      "Data columns (total 3 columns):\n",
      " #   Column        Non-Null Count  Dtype \n",
      "---  ------        --------------  ----- \n",
      " 0   id            76051 non-null  object\n",
      " 1   user_id       76051 non-null  int64 \n",
      " 2   message_date  76051 non-null  object\n",
      "dtypes: int64(1), object(2)\n",
      "memory usage: 1.7+ MB\n"
     ]
    }
   ],
   "source": [
    "# Imprime la información general/resumida sobre el DataFrame de los mensajes\n",
    "messages.info()\n",
    "\n",
    "\n"
   ]
  },
  {
   "cell_type": "code",
   "execution_count": null,
   "metadata": {
    "id": "mCEl2iGE0q1A"
   },
   "outputs": [
    {
     "data": {
      "text/html": [
       "<div>\n",
       "<style scoped>\n",
       "    .dataframe tbody tr th:only-of-type {\n",
       "        vertical-align: middle;\n",
       "    }\n",
       "\n",
       "    .dataframe tbody tr th {\n",
       "        vertical-align: top;\n",
       "    }\n",
       "\n",
       "    .dataframe thead th {\n",
       "        text-align: right;\n",
       "    }\n",
       "</style>\n",
       "<table border=\"1\" class=\"dataframe\">\n",
       "  <thead>\n",
       "    <tr style=\"text-align: right;\">\n",
       "      <th></th>\n",
       "      <th>id</th>\n",
       "      <th>user_id</th>\n",
       "      <th>message_date</th>\n",
       "    </tr>\n",
       "  </thead>\n",
       "  <tbody>\n",
       "    <tr>\n",
       "      <th>57761</th>\n",
       "      <td>1364_24</td>\n",
       "      <td>1364</td>\n",
       "      <td>2018-12-07</td>\n",
       "    </tr>\n",
       "    <tr>\n",
       "      <th>16421</th>\n",
       "      <td>1110_312</td>\n",
       "      <td>1110</td>\n",
       "      <td>2018-10-26</td>\n",
       "    </tr>\n",
       "    <tr>\n",
       "      <th>16471</th>\n",
       "      <td>1110_362</td>\n",
       "      <td>1110</td>\n",
       "      <td>2018-12-31</td>\n",
       "    </tr>\n",
       "    <tr>\n",
       "      <th>40866</th>\n",
       "      <td>1261_540</td>\n",
       "      <td>1261</td>\n",
       "      <td>2018-03-28</td>\n",
       "    </tr>\n",
       "    <tr>\n",
       "      <th>53997</th>\n",
       "      <td>1343_80</td>\n",
       "      <td>1343</td>\n",
       "      <td>2018-09-30</td>\n",
       "    </tr>\n",
       "    <tr>\n",
       "      <th>38038</th>\n",
       "      <td>1251_90</td>\n",
       "      <td>1251</td>\n",
       "      <td>2018-07-05</td>\n",
       "    </tr>\n",
       "    <tr>\n",
       "      <th>25808</th>\n",
       "      <td>1155_183</td>\n",
       "      <td>1155</td>\n",
       "      <td>2018-09-16</td>\n",
       "    </tr>\n",
       "    <tr>\n",
       "      <th>17848</th>\n",
       "      <td>1115_717</td>\n",
       "      <td>1115</td>\n",
       "      <td>2018-12-13</td>\n",
       "    </tr>\n",
       "    <tr>\n",
       "      <th>57340</th>\n",
       "      <td>1362_420</td>\n",
       "      <td>1362</td>\n",
       "      <td>2018-06-03</td>\n",
       "    </tr>\n",
       "    <tr>\n",
       "      <th>67505</th>\n",
       "      <td>1438_71</td>\n",
       "      <td>1438</td>\n",
       "      <td>2018-11-22</td>\n",
       "    </tr>\n",
       "    <tr>\n",
       "      <th>7711</th>\n",
       "      <td>1060_47</td>\n",
       "      <td>1060</td>\n",
       "      <td>2018-11-06</td>\n",
       "    </tr>\n",
       "    <tr>\n",
       "      <th>14007</th>\n",
       "      <td>1096_138</td>\n",
       "      <td>1096</td>\n",
       "      <td>2018-12-26</td>\n",
       "    </tr>\n",
       "    <tr>\n",
       "      <th>70701</th>\n",
       "      <td>1460_198</td>\n",
       "      <td>1460</td>\n",
       "      <td>2018-06-30</td>\n",
       "    </tr>\n",
       "    <tr>\n",
       "      <th>36850</th>\n",
       "      <td>1247_14</td>\n",
       "      <td>1247</td>\n",
       "      <td>2018-09-20</td>\n",
       "    </tr>\n",
       "    <tr>\n",
       "      <th>44197</th>\n",
       "      <td>1293_1140</td>\n",
       "      <td>1293</td>\n",
       "      <td>2018-09-28</td>\n",
       "    </tr>\n",
       "    <tr>\n",
       "      <th>65409</th>\n",
       "      <td>1420_6</td>\n",
       "      <td>1420</td>\n",
       "      <td>2018-10-26</td>\n",
       "    </tr>\n",
       "    <tr>\n",
       "      <th>67778</th>\n",
       "      <td>1439_172</td>\n",
       "      <td>1439</td>\n",
       "      <td>2018-07-31</td>\n",
       "    </tr>\n",
       "    <tr>\n",
       "      <th>8299</th>\n",
       "      <td>1061_305</td>\n",
       "      <td>1061</td>\n",
       "      <td>2018-08-14</td>\n",
       "    </tr>\n",
       "    <tr>\n",
       "      <th>27242</th>\n",
       "      <td>1167_199</td>\n",
       "      <td>1167</td>\n",
       "      <td>2018-11-07</td>\n",
       "    </tr>\n",
       "    <tr>\n",
       "      <th>51748</th>\n",
       "      <td>1335_339</td>\n",
       "      <td>1335</td>\n",
       "      <td>2018-07-28</td>\n",
       "    </tr>\n",
       "  </tbody>\n",
       "</table>\n",
       "</div>"
      ],
      "text/plain": [
       "              id  user_id message_date\n",
       "57761    1364_24     1364   2018-12-07\n",
       "16421   1110_312     1110   2018-10-26\n",
       "16471   1110_362     1110   2018-12-31\n",
       "40866   1261_540     1261   2018-03-28\n",
       "53997    1343_80     1343   2018-09-30\n",
       "38038    1251_90     1251   2018-07-05\n",
       "25808   1155_183     1155   2018-09-16\n",
       "17848   1115_717     1115   2018-12-13\n",
       "57340   1362_420     1362   2018-06-03\n",
       "67505    1438_71     1438   2018-11-22\n",
       "7711     1060_47     1060   2018-11-06\n",
       "14007   1096_138     1096   2018-12-26\n",
       "70701   1460_198     1460   2018-06-30\n",
       "36850    1247_14     1247   2018-09-20\n",
       "44197  1293_1140     1293   2018-09-28\n",
       "65409     1420_6     1420   2018-10-26\n",
       "67778   1439_172     1439   2018-07-31\n",
       "8299    1061_305     1061   2018-08-14\n",
       "27242   1167_199     1167   2018-11-07\n",
       "51748   1335_339     1335   2018-07-28"
      ]
     },
     "execution_count": 13,
     "metadata": {},
     "output_type": "execute_result"
    }
   ],
   "source": [
    "messages.sample(20)# Imprime una muestra de datos para los mensajes\n",
    "\n"
   ]
  },
  {
   "cell_type": "markdown",
   "metadata": {
    "id": "04xDj7KH0q1A"
   },
   "source": [
    "No evidencio ningún problema o datos inadecuados, sin embargo, identifico la necesidad de cambiar el tipo para la columna message_date de object a datetime, esto lo realizaré usando .astype() "
   ]
  },
  {
   "cell_type": "markdown",
   "metadata": {
    "id": "Sprfak900q1B"
   },
   "source": [
    "### Corregir los datos"
   ]
  },
  {
   "cell_type": "markdown",
   "metadata": {
    "id": "eGw7d9j10q1B"
   },
   "source": [
    "Modificaré el tipo para la columna message_date de object a date time "
   ]
  },
  {
   "cell_type": "code",
   "execution_count": null,
   "metadata": {
    "id": "vsllvkoa0q1B"
   },
   "outputs": [
    {
     "name": "stdout",
     "output_type": "stream",
     "text": [
      "<class 'pandas.core.frame.DataFrame'>\n",
      "RangeIndex: 76051 entries, 0 to 76050\n",
      "Data columns (total 3 columns):\n",
      " #   Column        Non-Null Count  Dtype         \n",
      "---  ------        --------------  -----         \n",
      " 0   id            76051 non-null  object        \n",
      " 1   user_id       76051 non-null  int64         \n",
      " 2   message_date  76051 non-null  datetime64[ns]\n",
      "dtypes: datetime64[ns](1), int64(1), object(1)\n",
      "memory usage: 1.7+ MB\n"
     ]
    },
    {
     "data": {
      "text/html": [
       "<div>\n",
       "<style scoped>\n",
       "    .dataframe tbody tr th:only-of-type {\n",
       "        vertical-align: middle;\n",
       "    }\n",
       "\n",
       "    .dataframe tbody tr th {\n",
       "        vertical-align: top;\n",
       "    }\n",
       "\n",
       "    .dataframe thead th {\n",
       "        text-align: right;\n",
       "    }\n",
       "</style>\n",
       "<table border=\"1\" class=\"dataframe\">\n",
       "  <thead>\n",
       "    <tr style=\"text-align: right;\">\n",
       "      <th></th>\n",
       "      <th>id</th>\n",
       "      <th>user_id</th>\n",
       "      <th>message_date</th>\n",
       "    </tr>\n",
       "  </thead>\n",
       "  <tbody>\n",
       "    <tr>\n",
       "      <th>0</th>\n",
       "      <td>1000_125</td>\n",
       "      <td>1000</td>\n",
       "      <td>2018-12-27</td>\n",
       "    </tr>\n",
       "    <tr>\n",
       "      <th>1</th>\n",
       "      <td>1000_160</td>\n",
       "      <td>1000</td>\n",
       "      <td>2018-12-31</td>\n",
       "    </tr>\n",
       "    <tr>\n",
       "      <th>2</th>\n",
       "      <td>1000_223</td>\n",
       "      <td>1000</td>\n",
       "      <td>2018-12-31</td>\n",
       "    </tr>\n",
       "    <tr>\n",
       "      <th>3</th>\n",
       "      <td>1000_251</td>\n",
       "      <td>1000</td>\n",
       "      <td>2018-12-27</td>\n",
       "    </tr>\n",
       "    <tr>\n",
       "      <th>4</th>\n",
       "      <td>1000_255</td>\n",
       "      <td>1000</td>\n",
       "      <td>2018-12-26</td>\n",
       "    </tr>\n",
       "    <tr>\n",
       "      <th>5</th>\n",
       "      <td>1000_346</td>\n",
       "      <td>1000</td>\n",
       "      <td>2018-12-29</td>\n",
       "    </tr>\n",
       "    <tr>\n",
       "      <th>6</th>\n",
       "      <td>1000_386</td>\n",
       "      <td>1000</td>\n",
       "      <td>2018-12-30</td>\n",
       "    </tr>\n",
       "    <tr>\n",
       "      <th>7</th>\n",
       "      <td>1000_413</td>\n",
       "      <td>1000</td>\n",
       "      <td>2018-12-31</td>\n",
       "    </tr>\n",
       "    <tr>\n",
       "      <th>8</th>\n",
       "      <td>1000_502</td>\n",
       "      <td>1000</td>\n",
       "      <td>2018-12-27</td>\n",
       "    </tr>\n",
       "    <tr>\n",
       "      <th>9</th>\n",
       "      <td>1000_525</td>\n",
       "      <td>1000</td>\n",
       "      <td>2018-12-28</td>\n",
       "    </tr>\n",
       "    <tr>\n",
       "      <th>10</th>\n",
       "      <td>1000_567</td>\n",
       "      <td>1000</td>\n",
       "      <td>2018-12-25</td>\n",
       "    </tr>\n",
       "    <tr>\n",
       "      <th>11</th>\n",
       "      <td>1001_1</td>\n",
       "      <td>1001</td>\n",
       "      <td>2018-11-14</td>\n",
       "    </tr>\n",
       "    <tr>\n",
       "      <th>12</th>\n",
       "      <td>1001_2</td>\n",
       "      <td>1001</td>\n",
       "      <td>2018-08-17</td>\n",
       "    </tr>\n",
       "    <tr>\n",
       "      <th>13</th>\n",
       "      <td>1001_5</td>\n",
       "      <td>1001</td>\n",
       "      <td>2018-12-05</td>\n",
       "    </tr>\n",
       "    <tr>\n",
       "      <th>14</th>\n",
       "      <td>1001_7</td>\n",
       "      <td>1001</td>\n",
       "      <td>2018-11-28</td>\n",
       "    </tr>\n",
       "    <tr>\n",
       "      <th>15</th>\n",
       "      <td>1001_9</td>\n",
       "      <td>1001</td>\n",
       "      <td>2018-10-23</td>\n",
       "    </tr>\n",
       "    <tr>\n",
       "      <th>16</th>\n",
       "      <td>1001_10</td>\n",
       "      <td>1001</td>\n",
       "      <td>2018-09-01</td>\n",
       "    </tr>\n",
       "    <tr>\n",
       "      <th>17</th>\n",
       "      <td>1001_11</td>\n",
       "      <td>1001</td>\n",
       "      <td>2018-11-18</td>\n",
       "    </tr>\n",
       "    <tr>\n",
       "      <th>18</th>\n",
       "      <td>1001_17</td>\n",
       "      <td>1001</td>\n",
       "      <td>2018-12-11</td>\n",
       "    </tr>\n",
       "    <tr>\n",
       "      <th>19</th>\n",
       "      <td>1001_18</td>\n",
       "      <td>1001</td>\n",
       "      <td>2018-10-01</td>\n",
       "    </tr>\n",
       "  </tbody>\n",
       "</table>\n",
       "</div>"
      ],
      "text/plain": [
       "          id  user_id message_date\n",
       "0   1000_125     1000   2018-12-27\n",
       "1   1000_160     1000   2018-12-31\n",
       "2   1000_223     1000   2018-12-31\n",
       "3   1000_251     1000   2018-12-27\n",
       "4   1000_255     1000   2018-12-26\n",
       "5   1000_346     1000   2018-12-29\n",
       "6   1000_386     1000   2018-12-30\n",
       "7   1000_413     1000   2018-12-31\n",
       "8   1000_502     1000   2018-12-27\n",
       "9   1000_525     1000   2018-12-28\n",
       "10  1000_567     1000   2018-12-25\n",
       "11    1001_1     1001   2018-11-14\n",
       "12    1001_2     1001   2018-08-17\n",
       "13    1001_5     1001   2018-12-05\n",
       "14    1001_7     1001   2018-11-28\n",
       "15    1001_9     1001   2018-10-23\n",
       "16   1001_10     1001   2018-09-01\n",
       "17   1001_11     1001   2018-11-18\n",
       "18   1001_17     1001   2018-12-11\n",
       "19   1001_18     1001   2018-10-01"
      ]
     },
     "execution_count": 10,
     "metadata": {},
     "output_type": "execute_result"
    }
   ],
   "source": [
    "messages['message_date'] = pd.to_datetime(messages['message_date'], format= \"%Y-%m-%d\",errors='coerce')\n",
    "messages.info()\n",
    "messages.head(20)\n"
   ]
  },
  {
   "cell_type": "markdown",
   "metadata": {
    "id": "HvLid7iD0q1B"
   },
   "source": [
    "### Enriquecer los datos"
   ]
  },
  {
   "cell_type": "markdown",
   "metadata": {
    "id": "8nhPFKIe0q1C"
   },
   "source": [
    "Una vez realizadas las modificaciones en el numeral 1.9.1, no considero necesario hacer otras modificaciones."
   ]
  },
  {
   "cell_type": "markdown",
   "metadata": {
    "id": "bStkaxn40q1C"
   },
   "source": [
    "## Internet"
   ]
  },
  {
   "cell_type": "code",
   "execution_count": null,
   "metadata": {
    "id": "e-Uz5qyn0q1C"
   },
   "outputs": [
    {
     "name": "stdout",
     "output_type": "stream",
     "text": [
      "<class 'pandas.core.frame.DataFrame'>\n",
      "RangeIndex: 104825 entries, 0 to 104824\n",
      "Data columns (total 4 columns):\n",
      " #   Column        Non-Null Count   Dtype  \n",
      "---  ------        --------------   -----  \n",
      " 0   id            104825 non-null  object \n",
      " 1   user_id       104825 non-null  int64  \n",
      " 2   session_date  104825 non-null  object \n",
      " 3   mb_used       104825 non-null  float64\n",
      "dtypes: float64(1), int64(1), object(2)\n",
      "memory usage: 3.2+ MB\n"
     ]
    }
   ],
   "source": [
    "# Imprime la información general/resumida sobre el DataFrame de internet\n",
    "internet.info()\n"
   ]
  },
  {
   "cell_type": "code",
   "execution_count": null,
   "metadata": {
    "id": "9r3x_XLw0q1C"
   },
   "outputs": [
    {
     "data": {
      "text/html": [
       "<div>\n",
       "<style scoped>\n",
       "    .dataframe tbody tr th:only-of-type {\n",
       "        vertical-align: middle;\n",
       "    }\n",
       "\n",
       "    .dataframe tbody tr th {\n",
       "        vertical-align: top;\n",
       "    }\n",
       "\n",
       "    .dataframe thead th {\n",
       "        text-align: right;\n",
       "    }\n",
       "</style>\n",
       "<table border=\"1\" class=\"dataframe\">\n",
       "  <thead>\n",
       "    <tr style=\"text-align: right;\">\n",
       "      <th></th>\n",
       "      <th>id</th>\n",
       "      <th>user_id</th>\n",
       "      <th>session_date</th>\n",
       "      <th>mb_used</th>\n",
       "    </tr>\n",
       "  </thead>\n",
       "  <tbody>\n",
       "    <tr>\n",
       "      <th>46849</th>\n",
       "      <td>1209_62</td>\n",
       "      <td>1209</td>\n",
       "      <td>2018-10-01</td>\n",
       "      <td>249.33</td>\n",
       "    </tr>\n",
       "    <tr>\n",
       "      <th>39449</th>\n",
       "      <td>1177_133</td>\n",
       "      <td>1177</td>\n",
       "      <td>2018-11-26</td>\n",
       "      <td>395.01</td>\n",
       "    </tr>\n",
       "    <tr>\n",
       "      <th>26630</th>\n",
       "      <td>1123_125</td>\n",
       "      <td>1123</td>\n",
       "      <td>2018-12-04</td>\n",
       "      <td>64.24</td>\n",
       "    </tr>\n",
       "    <tr>\n",
       "      <th>91770</th>\n",
       "      <td>1425_115</td>\n",
       "      <td>1425</td>\n",
       "      <td>2018-10-23</td>\n",
       "      <td>0.00</td>\n",
       "    </tr>\n",
       "    <tr>\n",
       "      <th>93121</th>\n",
       "      <td>1434_363</td>\n",
       "      <td>1434</td>\n",
       "      <td>2018-11-18</td>\n",
       "      <td>97.34</td>\n",
       "    </tr>\n",
       "    <tr>\n",
       "      <th>67995</th>\n",
       "      <td>1316_294</td>\n",
       "      <td>1316</td>\n",
       "      <td>2018-07-01</td>\n",
       "      <td>609.85</td>\n",
       "    </tr>\n",
       "    <tr>\n",
       "      <th>48612</th>\n",
       "      <td>1216_107</td>\n",
       "      <td>1216</td>\n",
       "      <td>2018-11-16</td>\n",
       "      <td>431.36</td>\n",
       "    </tr>\n",
       "    <tr>\n",
       "      <th>73491</th>\n",
       "      <td>1346_71</td>\n",
       "      <td>1346</td>\n",
       "      <td>2018-07-15</td>\n",
       "      <td>79.94</td>\n",
       "    </tr>\n",
       "    <tr>\n",
       "      <th>14951</th>\n",
       "      <td>1068_67</td>\n",
       "      <td>1068</td>\n",
       "      <td>2018-10-28</td>\n",
       "      <td>28.01</td>\n",
       "    </tr>\n",
       "    <tr>\n",
       "      <th>96503</th>\n",
       "      <td>1453_70</td>\n",
       "      <td>1453</td>\n",
       "      <td>2018-12-30</td>\n",
       "      <td>673.94</td>\n",
       "    </tr>\n",
       "    <tr>\n",
       "      <th>103344</th>\n",
       "      <td>1494_226</td>\n",
       "      <td>1494</td>\n",
       "      <td>2018-11-15</td>\n",
       "      <td>616.06</td>\n",
       "    </tr>\n",
       "    <tr>\n",
       "      <th>54413</th>\n",
       "      <td>1246_314</td>\n",
       "      <td>1246</td>\n",
       "      <td>2018-08-19</td>\n",
       "      <td>699.25</td>\n",
       "    </tr>\n",
       "    <tr>\n",
       "      <th>56447</th>\n",
       "      <td>1255_107</td>\n",
       "      <td>1255</td>\n",
       "      <td>2018-08-30</td>\n",
       "      <td>415.42</td>\n",
       "    </tr>\n",
       "    <tr>\n",
       "      <th>104434</th>\n",
       "      <td>1498_508</td>\n",
       "      <td>1498</td>\n",
       "      <td>2018-08-31</td>\n",
       "      <td>226.84</td>\n",
       "    </tr>\n",
       "    <tr>\n",
       "      <th>100927</th>\n",
       "      <td>1478_78</td>\n",
       "      <td>1478</td>\n",
       "      <td>2018-12-31</td>\n",
       "      <td>222.92</td>\n",
       "    </tr>\n",
       "    <tr>\n",
       "      <th>63192</th>\n",
       "      <td>1291_317</td>\n",
       "      <td>1291</td>\n",
       "      <td>2018-09-21</td>\n",
       "      <td>13.78</td>\n",
       "    </tr>\n",
       "    <tr>\n",
       "      <th>31582</th>\n",
       "      <td>1144_315</td>\n",
       "      <td>1144</td>\n",
       "      <td>2018-07-29</td>\n",
       "      <td>478.95</td>\n",
       "    </tr>\n",
       "    <tr>\n",
       "      <th>100503</th>\n",
       "      <td>1476_8</td>\n",
       "      <td>1476</td>\n",
       "      <td>2018-09-27</td>\n",
       "      <td>486.72</td>\n",
       "    </tr>\n",
       "    <tr>\n",
       "      <th>24982</th>\n",
       "      <td>1115_178</td>\n",
       "      <td>1115</td>\n",
       "      <td>2018-12-20</td>\n",
       "      <td>0.00</td>\n",
       "    </tr>\n",
       "    <tr>\n",
       "      <th>39115</th>\n",
       "      <td>1175_325</td>\n",
       "      <td>1175</td>\n",
       "      <td>2018-10-02</td>\n",
       "      <td>482.52</td>\n",
       "    </tr>\n",
       "    <tr>\n",
       "      <th>2333</th>\n",
       "      <td>1011_73</td>\n",
       "      <td>1011</td>\n",
       "      <td>2018-07-12</td>\n",
       "      <td>0.00</td>\n",
       "    </tr>\n",
       "    <tr>\n",
       "      <th>33463</th>\n",
       "      <td>1152_12</td>\n",
       "      <td>1152</td>\n",
       "      <td>2018-11-02</td>\n",
       "      <td>388.35</td>\n",
       "    </tr>\n",
       "    <tr>\n",
       "      <th>8111</th>\n",
       "      <td>1043_212</td>\n",
       "      <td>1043</td>\n",
       "      <td>2018-09-23</td>\n",
       "      <td>153.16</td>\n",
       "    </tr>\n",
       "    <tr>\n",
       "      <th>102794</th>\n",
       "      <td>1492_27</td>\n",
       "      <td>1492</td>\n",
       "      <td>2018-12-08</td>\n",
       "      <td>392.73</td>\n",
       "    </tr>\n",
       "    <tr>\n",
       "      <th>96148</th>\n",
       "      <td>1449_70</td>\n",
       "      <td>1449</td>\n",
       "      <td>2018-10-24</td>\n",
       "      <td>649.61</td>\n",
       "    </tr>\n",
       "    <tr>\n",
       "      <th>94020</th>\n",
       "      <td>1439_73</td>\n",
       "      <td>1439</td>\n",
       "      <td>2018-11-24</td>\n",
       "      <td>177.70</td>\n",
       "    </tr>\n",
       "    <tr>\n",
       "      <th>86238</th>\n",
       "      <td>1400_373</td>\n",
       "      <td>1400</td>\n",
       "      <td>2018-03-14</td>\n",
       "      <td>219.64</td>\n",
       "    </tr>\n",
       "    <tr>\n",
       "      <th>64245</th>\n",
       "      <td>1295_55</td>\n",
       "      <td>1295</td>\n",
       "      <td>2018-11-25</td>\n",
       "      <td>1210.26</td>\n",
       "    </tr>\n",
       "    <tr>\n",
       "      <th>31733</th>\n",
       "      <td>1144_474</td>\n",
       "      <td>1144</td>\n",
       "      <td>2018-07-29</td>\n",
       "      <td>563.84</td>\n",
       "    </tr>\n",
       "    <tr>\n",
       "      <th>48614</th>\n",
       "      <td>1216_109</td>\n",
       "      <td>1216</td>\n",
       "      <td>2018-10-02</td>\n",
       "      <td>0.00</td>\n",
       "    </tr>\n",
       "    <tr>\n",
       "      <th>47395</th>\n",
       "      <td>1212_37</td>\n",
       "      <td>1212</td>\n",
       "      <td>2018-11-30</td>\n",
       "      <td>767.20</td>\n",
       "    </tr>\n",
       "    <tr>\n",
       "      <th>15714</th>\n",
       "      <td>1071_350</td>\n",
       "      <td>1071</td>\n",
       "      <td>2018-07-18</td>\n",
       "      <td>0.00</td>\n",
       "    </tr>\n",
       "    <tr>\n",
       "      <th>88163</th>\n",
       "      <td>1406_480</td>\n",
       "      <td>1406</td>\n",
       "      <td>2018-11-26</td>\n",
       "      <td>795.75</td>\n",
       "    </tr>\n",
       "    <tr>\n",
       "      <th>95358</th>\n",
       "      <td>1445_6</td>\n",
       "      <td>1445</td>\n",
       "      <td>2018-05-09</td>\n",
       "      <td>711.19</td>\n",
       "    </tr>\n",
       "    <tr>\n",
       "      <th>19385</th>\n",
       "      <td>1088_87</td>\n",
       "      <td>1088</td>\n",
       "      <td>2018-07-20</td>\n",
       "      <td>594.07</td>\n",
       "    </tr>\n",
       "    <tr>\n",
       "      <th>617</th>\n",
       "      <td>1004_244</td>\n",
       "      <td>1004</td>\n",
       "      <td>2018-08-15</td>\n",
       "      <td>576.01</td>\n",
       "    </tr>\n",
       "    <tr>\n",
       "      <th>34552</th>\n",
       "      <td>1156_149</td>\n",
       "      <td>1156</td>\n",
       "      <td>2018-08-17</td>\n",
       "      <td>229.23</td>\n",
       "    </tr>\n",
       "    <tr>\n",
       "      <th>22579</th>\n",
       "      <td>1103_124</td>\n",
       "      <td>1103</td>\n",
       "      <td>2018-09-23</td>\n",
       "      <td>100.58</td>\n",
       "    </tr>\n",
       "    <tr>\n",
       "      <th>27272</th>\n",
       "      <td>1126_393</td>\n",
       "      <td>1126</td>\n",
       "      <td>2018-06-25</td>\n",
       "      <td>211.71</td>\n",
       "    </tr>\n",
       "    <tr>\n",
       "      <th>54321</th>\n",
       "      <td>1246_222</td>\n",
       "      <td>1246</td>\n",
       "      <td>2018-08-30</td>\n",
       "      <td>216.06</td>\n",
       "    </tr>\n",
       "    <tr>\n",
       "      <th>64302</th>\n",
       "      <td>1295_179</td>\n",
       "      <td>1295</td>\n",
       "      <td>2018-09-14</td>\n",
       "      <td>509.13</td>\n",
       "    </tr>\n",
       "    <tr>\n",
       "      <th>7162</th>\n",
       "      <td>1041_2</td>\n",
       "      <td>1041</td>\n",
       "      <td>2018-12-05</td>\n",
       "      <td>590.02</td>\n",
       "    </tr>\n",
       "    <tr>\n",
       "      <th>47920</th>\n",
       "      <td>1214_294</td>\n",
       "      <td>1214</td>\n",
       "      <td>2018-03-29</td>\n",
       "      <td>103.18</td>\n",
       "    </tr>\n",
       "    <tr>\n",
       "      <th>98093</th>\n",
       "      <td>1462_66</td>\n",
       "      <td>1462</td>\n",
       "      <td>2018-10-21</td>\n",
       "      <td>199.57</td>\n",
       "    </tr>\n",
       "    <tr>\n",
       "      <th>12693</th>\n",
       "      <td>1061_190</td>\n",
       "      <td>1061</td>\n",
       "      <td>2018-10-05</td>\n",
       "      <td>484.77</td>\n",
       "    </tr>\n",
       "    <tr>\n",
       "      <th>98769</th>\n",
       "      <td>1466_250</td>\n",
       "      <td>1466</td>\n",
       "      <td>2018-05-19</td>\n",
       "      <td>595.90</td>\n",
       "    </tr>\n",
       "    <tr>\n",
       "      <th>102709</th>\n",
       "      <td>1491_192</td>\n",
       "      <td>1491</td>\n",
       "      <td>2018-07-23</td>\n",
       "      <td>0.00</td>\n",
       "    </tr>\n",
       "    <tr>\n",
       "      <th>45620</th>\n",
       "      <td>1202_253</td>\n",
       "      <td>1202</td>\n",
       "      <td>2018-11-12</td>\n",
       "      <td>0.00</td>\n",
       "    </tr>\n",
       "    <tr>\n",
       "      <th>10507</th>\n",
       "      <td>1054_40</td>\n",
       "      <td>1054</td>\n",
       "      <td>2018-08-22</td>\n",
       "      <td>344.17</td>\n",
       "    </tr>\n",
       "    <tr>\n",
       "      <th>9975</th>\n",
       "      <td>1050_398</td>\n",
       "      <td>1050</td>\n",
       "      <td>2018-10-13</td>\n",
       "      <td>682.04</td>\n",
       "    </tr>\n",
       "  </tbody>\n",
       "</table>\n",
       "</div>"
      ],
      "text/plain": [
       "              id  user_id session_date  mb_used\n",
       "46849    1209_62     1209   2018-10-01   249.33\n",
       "39449   1177_133     1177   2018-11-26   395.01\n",
       "26630   1123_125     1123   2018-12-04    64.24\n",
       "91770   1425_115     1425   2018-10-23     0.00\n",
       "93121   1434_363     1434   2018-11-18    97.34\n",
       "67995   1316_294     1316   2018-07-01   609.85\n",
       "48612   1216_107     1216   2018-11-16   431.36\n",
       "73491    1346_71     1346   2018-07-15    79.94\n",
       "14951    1068_67     1068   2018-10-28    28.01\n",
       "96503    1453_70     1453   2018-12-30   673.94\n",
       "103344  1494_226     1494   2018-11-15   616.06\n",
       "54413   1246_314     1246   2018-08-19   699.25\n",
       "56447   1255_107     1255   2018-08-30   415.42\n",
       "104434  1498_508     1498   2018-08-31   226.84\n",
       "100927   1478_78     1478   2018-12-31   222.92\n",
       "63192   1291_317     1291   2018-09-21    13.78\n",
       "31582   1144_315     1144   2018-07-29   478.95\n",
       "100503    1476_8     1476   2018-09-27   486.72\n",
       "24982   1115_178     1115   2018-12-20     0.00\n",
       "39115   1175_325     1175   2018-10-02   482.52\n",
       "2333     1011_73     1011   2018-07-12     0.00\n",
       "33463    1152_12     1152   2018-11-02   388.35\n",
       "8111    1043_212     1043   2018-09-23   153.16\n",
       "102794   1492_27     1492   2018-12-08   392.73\n",
       "96148    1449_70     1449   2018-10-24   649.61\n",
       "94020    1439_73     1439   2018-11-24   177.70\n",
       "86238   1400_373     1400   2018-03-14   219.64\n",
       "64245    1295_55     1295   2018-11-25  1210.26\n",
       "31733   1144_474     1144   2018-07-29   563.84\n",
       "48614   1216_109     1216   2018-10-02     0.00\n",
       "47395    1212_37     1212   2018-11-30   767.20\n",
       "15714   1071_350     1071   2018-07-18     0.00\n",
       "88163   1406_480     1406   2018-11-26   795.75\n",
       "95358     1445_6     1445   2018-05-09   711.19\n",
       "19385    1088_87     1088   2018-07-20   594.07\n",
       "617     1004_244     1004   2018-08-15   576.01\n",
       "34552   1156_149     1156   2018-08-17   229.23\n",
       "22579   1103_124     1103   2018-09-23   100.58\n",
       "27272   1126_393     1126   2018-06-25   211.71\n",
       "54321   1246_222     1246   2018-08-30   216.06\n",
       "64302   1295_179     1295   2018-09-14   509.13\n",
       "7162      1041_2     1041   2018-12-05   590.02\n",
       "47920   1214_294     1214   2018-03-29   103.18\n",
       "98093    1462_66     1462   2018-10-21   199.57\n",
       "12693   1061_190     1061   2018-10-05   484.77\n",
       "98769   1466_250     1466   2018-05-19   595.90\n",
       "102709  1491_192     1491   2018-07-23     0.00\n",
       "45620   1202_253     1202   2018-11-12     0.00\n",
       "10507    1054_40     1054   2018-08-22   344.17\n",
       "9975    1050_398     1050   2018-10-13   682.04"
      ]
     },
     "execution_count": 16,
     "metadata": {},
     "output_type": "execute_result"
    }
   ],
   "source": [
    "# Imprime una muestra de datos para el tráfico de internet\n",
    "\n",
    "internet.sample(50)"
   ]
  },
  {
   "cell_type": "markdown",
   "metadata": {
    "id": "EzOG5ik30q1D"
   },
   "source": [
    "Una vez revisada la información, considero necesario necesario convertir los datos de la columna \"mb_used\" a consumo en gb. Adicionalmente, es necesario convertir el tipo de la columna \"session_date\" a datetime. "
   ]
  },
  {
   "cell_type": "markdown",
   "metadata": {
    "id": "yA0tkPFg0q1D"
   },
   "source": [
    "### Corregir los datos"
   ]
  },
  {
   "cell_type": "markdown",
   "metadata": {
    "id": "zlZMuIEK0q1D"
   },
   "source": [
    "Únicamente modifiqué el tipo de la columna \"session_date\" a datetime. Intenté además modificar la información de las filas de la columna \"mb_used\" pero al ser datos tan pequeños, recibí 0 en la nueva columna, por tanto suprimí está modificación. "
   ]
  },
  {
   "cell_type": "code",
   "execution_count": null,
   "metadata": {
    "id": "zVeanzdd0q1E"
   },
   "outputs": [
    {
     "name": "stdout",
     "output_type": "stream",
     "text": [
      "<class 'pandas.core.frame.DataFrame'>\n",
      "RangeIndex: 104825 entries, 0 to 104824\n",
      "Data columns (total 4 columns):\n",
      " #   Column        Non-Null Count   Dtype         \n",
      "---  ------        --------------   -----         \n",
      " 0   id            104825 non-null  object        \n",
      " 1   user_id       104825 non-null  int64         \n",
      " 2   session_date  104825 non-null  datetime64[ns]\n",
      " 3   mb_used       104825 non-null  float64       \n",
      "dtypes: datetime64[ns](1), float64(1), int64(1), object(1)\n",
      "memory usage: 3.2+ MB\n"
     ]
    },
    {
     "data": {
      "text/html": [
       "<div>\n",
       "<style scoped>\n",
       "    .dataframe tbody tr th:only-of-type {\n",
       "        vertical-align: middle;\n",
       "    }\n",
       "\n",
       "    .dataframe tbody tr th {\n",
       "        vertical-align: top;\n",
       "    }\n",
       "\n",
       "    .dataframe thead th {\n",
       "        text-align: right;\n",
       "    }\n",
       "</style>\n",
       "<table border=\"1\" class=\"dataframe\">\n",
       "  <thead>\n",
       "    <tr style=\"text-align: right;\">\n",
       "      <th></th>\n",
       "      <th>id</th>\n",
       "      <th>user_id</th>\n",
       "      <th>session_date</th>\n",
       "      <th>mb_used</th>\n",
       "    </tr>\n",
       "  </thead>\n",
       "  <tbody>\n",
       "    <tr>\n",
       "      <th>43944</th>\n",
       "      <td>1195_81</td>\n",
       "      <td>1195</td>\n",
       "      <td>2018-11-07</td>\n",
       "      <td>505.99</td>\n",
       "    </tr>\n",
       "    <tr>\n",
       "      <th>5846</th>\n",
       "      <td>1032_7</td>\n",
       "      <td>1032</td>\n",
       "      <td>2018-12-26</td>\n",
       "      <td>428.77</td>\n",
       "    </tr>\n",
       "    <tr>\n",
       "      <th>36413</th>\n",
       "      <td>1164_96</td>\n",
       "      <td>1164</td>\n",
       "      <td>2018-08-04</td>\n",
       "      <td>151.17</td>\n",
       "    </tr>\n",
       "    <tr>\n",
       "      <th>86106</th>\n",
       "      <td>1400_240</td>\n",
       "      <td>1400</td>\n",
       "      <td>2018-10-01</td>\n",
       "      <td>732.67</td>\n",
       "    </tr>\n",
       "    <tr>\n",
       "      <th>13296</th>\n",
       "      <td>1062_266</td>\n",
       "      <td>1062</td>\n",
       "      <td>2018-05-15</td>\n",
       "      <td>580.32</td>\n",
       "    </tr>\n",
       "    <tr>\n",
       "      <th>18443</th>\n",
       "      <td>1082_140</td>\n",
       "      <td>1082</td>\n",
       "      <td>2018-08-02</td>\n",
       "      <td>1020.04</td>\n",
       "    </tr>\n",
       "    <tr>\n",
       "      <th>27983</th>\n",
       "      <td>1128_137</td>\n",
       "      <td>1128</td>\n",
       "      <td>2018-07-17</td>\n",
       "      <td>307.82</td>\n",
       "    </tr>\n",
       "    <tr>\n",
       "      <th>47332</th>\n",
       "      <td>1211_209</td>\n",
       "      <td>1211</td>\n",
       "      <td>2018-11-20</td>\n",
       "      <td>748.52</td>\n",
       "    </tr>\n",
       "    <tr>\n",
       "      <th>58357</th>\n",
       "      <td>1263_161</td>\n",
       "      <td>1263</td>\n",
       "      <td>2018-12-19</td>\n",
       "      <td>896.32</td>\n",
       "    </tr>\n",
       "    <tr>\n",
       "      <th>76408</th>\n",
       "      <td>1359_88</td>\n",
       "      <td>1359</td>\n",
       "      <td>2018-09-24</td>\n",
       "      <td>466.52</td>\n",
       "    </tr>\n",
       "    <tr>\n",
       "      <th>16625</th>\n",
       "      <td>1075_58</td>\n",
       "      <td>1075</td>\n",
       "      <td>2018-11-01</td>\n",
       "      <td>413.75</td>\n",
       "    </tr>\n",
       "    <tr>\n",
       "      <th>97046</th>\n",
       "      <td>1457_10</td>\n",
       "      <td>1457</td>\n",
       "      <td>2018-12-07</td>\n",
       "      <td>0.00</td>\n",
       "    </tr>\n",
       "    <tr>\n",
       "      <th>55415</th>\n",
       "      <td>1251_226</td>\n",
       "      <td>1251</td>\n",
       "      <td>2018-11-06</td>\n",
       "      <td>784.60</td>\n",
       "    </tr>\n",
       "    <tr>\n",
       "      <th>70001</th>\n",
       "      <td>1327_141</td>\n",
       "      <td>1327</td>\n",
       "      <td>2018-10-06</td>\n",
       "      <td>440.64</td>\n",
       "    </tr>\n",
       "    <tr>\n",
       "      <th>44034</th>\n",
       "      <td>1196_32</td>\n",
       "      <td>1196</td>\n",
       "      <td>2018-03-12</td>\n",
       "      <td>0.00</td>\n",
       "    </tr>\n",
       "    <tr>\n",
       "      <th>80875</th>\n",
       "      <td>1377_300</td>\n",
       "      <td>1377</td>\n",
       "      <td>2018-09-11</td>\n",
       "      <td>0.00</td>\n",
       "    </tr>\n",
       "    <tr>\n",
       "      <th>13396</th>\n",
       "      <td>1062_366</td>\n",
       "      <td>1062</td>\n",
       "      <td>2018-04-27</td>\n",
       "      <td>314.07</td>\n",
       "    </tr>\n",
       "    <tr>\n",
       "      <th>41697</th>\n",
       "      <td>1185_734</td>\n",
       "      <td>1185</td>\n",
       "      <td>2018-08-06</td>\n",
       "      <td>155.41</td>\n",
       "    </tr>\n",
       "    <tr>\n",
       "      <th>60732</th>\n",
       "      <td>1277_35</td>\n",
       "      <td>1277</td>\n",
       "      <td>2018-10-18</td>\n",
       "      <td>717.11</td>\n",
       "    </tr>\n",
       "    <tr>\n",
       "      <th>37623</th>\n",
       "      <td>1170_597</td>\n",
       "      <td>1170</td>\n",
       "      <td>2018-10-20</td>\n",
       "      <td>384.90</td>\n",
       "    </tr>\n",
       "    <tr>\n",
       "      <th>67756</th>\n",
       "      <td>1314_94</td>\n",
       "      <td>1314</td>\n",
       "      <td>2018-12-17</td>\n",
       "      <td>236.30</td>\n",
       "    </tr>\n",
       "    <tr>\n",
       "      <th>83950</th>\n",
       "      <td>1391_210</td>\n",
       "      <td>1391</td>\n",
       "      <td>2018-11-17</td>\n",
       "      <td>127.75</td>\n",
       "    </tr>\n",
       "    <tr>\n",
       "      <th>94836</th>\n",
       "      <td>1441_87</td>\n",
       "      <td>1441</td>\n",
       "      <td>2018-12-09</td>\n",
       "      <td>572.56</td>\n",
       "    </tr>\n",
       "    <tr>\n",
       "      <th>90575</th>\n",
       "      <td>1417_166</td>\n",
       "      <td>1417</td>\n",
       "      <td>2018-08-19</td>\n",
       "      <td>432.85</td>\n",
       "    </tr>\n",
       "    <tr>\n",
       "      <th>64058</th>\n",
       "      <td>1293_669</td>\n",
       "      <td>1293</td>\n",
       "      <td>2018-09-07</td>\n",
       "      <td>857.40</td>\n",
       "    </tr>\n",
       "    <tr>\n",
       "      <th>50886</th>\n",
       "      <td>1227_48</td>\n",
       "      <td>1227</td>\n",
       "      <td>2018-12-31</td>\n",
       "      <td>203.00</td>\n",
       "    </tr>\n",
       "    <tr>\n",
       "      <th>38005</th>\n",
       "      <td>1171_376</td>\n",
       "      <td>1171</td>\n",
       "      <td>2018-03-30</td>\n",
       "      <td>354.49</td>\n",
       "    </tr>\n",
       "    <tr>\n",
       "      <th>17349</th>\n",
       "      <td>1078_15</td>\n",
       "      <td>1078</td>\n",
       "      <td>2018-12-26</td>\n",
       "      <td>502.95</td>\n",
       "    </tr>\n",
       "    <tr>\n",
       "      <th>80845</th>\n",
       "      <td>1377_270</td>\n",
       "      <td>1377</td>\n",
       "      <td>2018-08-19</td>\n",
       "      <td>685.04</td>\n",
       "    </tr>\n",
       "    <tr>\n",
       "      <th>45273</th>\n",
       "      <td>1201_135</td>\n",
       "      <td>1201</td>\n",
       "      <td>2018-10-05</td>\n",
       "      <td>128.46</td>\n",
       "    </tr>\n",
       "    <tr>\n",
       "      <th>30022</th>\n",
       "      <td>1138_253</td>\n",
       "      <td>1138</td>\n",
       "      <td>2018-09-23</td>\n",
       "      <td>486.58</td>\n",
       "    </tr>\n",
       "    <tr>\n",
       "      <th>95860</th>\n",
       "      <td>1447_50</td>\n",
       "      <td>1447</td>\n",
       "      <td>2018-12-22</td>\n",
       "      <td>748.33</td>\n",
       "    </tr>\n",
       "    <tr>\n",
       "      <th>21069</th>\n",
       "      <td>1098_98</td>\n",
       "      <td>1098</td>\n",
       "      <td>2018-10-15</td>\n",
       "      <td>80.06</td>\n",
       "    </tr>\n",
       "    <tr>\n",
       "      <th>86543</th>\n",
       "      <td>1402_72</td>\n",
       "      <td>1402</td>\n",
       "      <td>2018-10-09</td>\n",
       "      <td>674.03</td>\n",
       "    </tr>\n",
       "    <tr>\n",
       "      <th>13840</th>\n",
       "      <td>1064_288</td>\n",
       "      <td>1064</td>\n",
       "      <td>2018-09-02</td>\n",
       "      <td>1195.71</td>\n",
       "    </tr>\n",
       "    <tr>\n",
       "      <th>69506</th>\n",
       "      <td>1324_224</td>\n",
       "      <td>1324</td>\n",
       "      <td>2018-09-20</td>\n",
       "      <td>210.85</td>\n",
       "    </tr>\n",
       "    <tr>\n",
       "      <th>38233</th>\n",
       "      <td>1171_604</td>\n",
       "      <td>1171</td>\n",
       "      <td>2018-12-08</td>\n",
       "      <td>679.85</td>\n",
       "    </tr>\n",
       "    <tr>\n",
       "      <th>4000</th>\n",
       "      <td>1022_411</td>\n",
       "      <td>1022</td>\n",
       "      <td>2018-10-18</td>\n",
       "      <td>133.66</td>\n",
       "    </tr>\n",
       "    <tr>\n",
       "      <th>48991</th>\n",
       "      <td>1219_101</td>\n",
       "      <td>1219</td>\n",
       "      <td>2018-12-13</td>\n",
       "      <td>0.00</td>\n",
       "    </tr>\n",
       "    <tr>\n",
       "      <th>89528</th>\n",
       "      <td>1413_35</td>\n",
       "      <td>1413</td>\n",
       "      <td>2018-12-15</td>\n",
       "      <td>385.85</td>\n",
       "    </tr>\n",
       "    <tr>\n",
       "      <th>17760</th>\n",
       "      <td>1080_91</td>\n",
       "      <td>1080</td>\n",
       "      <td>2018-11-01</td>\n",
       "      <td>136.34</td>\n",
       "    </tr>\n",
       "    <tr>\n",
       "      <th>81504</th>\n",
       "      <td>1382_37</td>\n",
       "      <td>1382</td>\n",
       "      <td>2018-10-17</td>\n",
       "      <td>395.69</td>\n",
       "    </tr>\n",
       "    <tr>\n",
       "      <th>6375</th>\n",
       "      <td>1036_148</td>\n",
       "      <td>1036</td>\n",
       "      <td>2018-10-08</td>\n",
       "      <td>334.36</td>\n",
       "    </tr>\n",
       "    <tr>\n",
       "      <th>42153</th>\n",
       "      <td>1187_330</td>\n",
       "      <td>1187</td>\n",
       "      <td>2018-11-07</td>\n",
       "      <td>473.42</td>\n",
       "    </tr>\n",
       "    <tr>\n",
       "      <th>12891</th>\n",
       "      <td>1061_388</td>\n",
       "      <td>1061</td>\n",
       "      <td>2018-08-04</td>\n",
       "      <td>399.44</td>\n",
       "    </tr>\n",
       "    <tr>\n",
       "      <th>69778</th>\n",
       "      <td>1326_50</td>\n",
       "      <td>1326</td>\n",
       "      <td>2018-11-19</td>\n",
       "      <td>478.17</td>\n",
       "    </tr>\n",
       "    <tr>\n",
       "      <th>80788</th>\n",
       "      <td>1377_213</td>\n",
       "      <td>1377</td>\n",
       "      <td>2018-08-22</td>\n",
       "      <td>25.86</td>\n",
       "    </tr>\n",
       "    <tr>\n",
       "      <th>16067</th>\n",
       "      <td>1072_536</td>\n",
       "      <td>1072</td>\n",
       "      <td>2018-08-27</td>\n",
       "      <td>448.94</td>\n",
       "    </tr>\n",
       "    <tr>\n",
       "      <th>13730</th>\n",
       "      <td>1064_178</td>\n",
       "      <td>1064</td>\n",
       "      <td>2018-10-11</td>\n",
       "      <td>472.07</td>\n",
       "    </tr>\n",
       "    <tr>\n",
       "      <th>53565</th>\n",
       "      <td>1241_50</td>\n",
       "      <td>1241</td>\n",
       "      <td>2018-09-25</td>\n",
       "      <td>122.77</td>\n",
       "    </tr>\n",
       "  </tbody>\n",
       "</table>\n",
       "</div>"
      ],
      "text/plain": [
       "             id  user_id session_date  mb_used\n",
       "43944   1195_81     1195   2018-11-07   505.99\n",
       "5846     1032_7     1032   2018-12-26   428.77\n",
       "36413   1164_96     1164   2018-08-04   151.17\n",
       "86106  1400_240     1400   2018-10-01   732.67\n",
       "13296  1062_266     1062   2018-05-15   580.32\n",
       "18443  1082_140     1082   2018-08-02  1020.04\n",
       "27983  1128_137     1128   2018-07-17   307.82\n",
       "47332  1211_209     1211   2018-11-20   748.52\n",
       "58357  1263_161     1263   2018-12-19   896.32\n",
       "76408   1359_88     1359   2018-09-24   466.52\n",
       "16625   1075_58     1075   2018-11-01   413.75\n",
       "97046   1457_10     1457   2018-12-07     0.00\n",
       "55415  1251_226     1251   2018-11-06   784.60\n",
       "70001  1327_141     1327   2018-10-06   440.64\n",
       "44034   1196_32     1196   2018-03-12     0.00\n",
       "80875  1377_300     1377   2018-09-11     0.00\n",
       "13396  1062_366     1062   2018-04-27   314.07\n",
       "41697  1185_734     1185   2018-08-06   155.41\n",
       "60732   1277_35     1277   2018-10-18   717.11\n",
       "37623  1170_597     1170   2018-10-20   384.90\n",
       "67756   1314_94     1314   2018-12-17   236.30\n",
       "83950  1391_210     1391   2018-11-17   127.75\n",
       "94836   1441_87     1441   2018-12-09   572.56\n",
       "90575  1417_166     1417   2018-08-19   432.85\n",
       "64058  1293_669     1293   2018-09-07   857.40\n",
       "50886   1227_48     1227   2018-12-31   203.00\n",
       "38005  1171_376     1171   2018-03-30   354.49\n",
       "17349   1078_15     1078   2018-12-26   502.95\n",
       "80845  1377_270     1377   2018-08-19   685.04\n",
       "45273  1201_135     1201   2018-10-05   128.46\n",
       "30022  1138_253     1138   2018-09-23   486.58\n",
       "95860   1447_50     1447   2018-12-22   748.33\n",
       "21069   1098_98     1098   2018-10-15    80.06\n",
       "86543   1402_72     1402   2018-10-09   674.03\n",
       "13840  1064_288     1064   2018-09-02  1195.71\n",
       "69506  1324_224     1324   2018-09-20   210.85\n",
       "38233  1171_604     1171   2018-12-08   679.85\n",
       "4000   1022_411     1022   2018-10-18   133.66\n",
       "48991  1219_101     1219   2018-12-13     0.00\n",
       "89528   1413_35     1413   2018-12-15   385.85\n",
       "17760   1080_91     1080   2018-11-01   136.34\n",
       "81504   1382_37     1382   2018-10-17   395.69\n",
       "6375   1036_148     1036   2018-10-08   334.36\n",
       "42153  1187_330     1187   2018-11-07   473.42\n",
       "12891  1061_388     1061   2018-08-04   399.44\n",
       "69778   1326_50     1326   2018-11-19   478.17\n",
       "80788  1377_213     1377   2018-08-22    25.86\n",
       "16067  1072_536     1072   2018-08-27   448.94\n",
       "13730  1064_178     1064   2018-10-11   472.07\n",
       "53565   1241_50     1241   2018-09-25   122.77"
      ]
     },
     "execution_count": 12,
     "metadata": {},
     "output_type": "execute_result"
    }
   ],
   "source": [
    "internet['session_date'] = pd.to_datetime(internet['session_date'], format= \"%Y-%m-%d\",errors='coerce')\n",
    "internet.info()\n",
    "internet.sample(50)"
   ]
  },
  {
   "cell_type": "markdown",
   "metadata": {
    "id": "e8_mLF4a0q1E"
   },
   "source": [
    "### Enriquecer los datos"
   ]
  },
  {
   "cell_type": "markdown",
   "metadata": {
    "id": "xhNdn2tE0q1E"
   },
   "source": [
    "Una vez realizadas las modificaciones en el numeral 1.9.1, no considero necesario hacer otras modificaciones."
   ]
  },
  {
   "cell_type": "markdown",
   "metadata": {
    "id": "3UA2cqIW0q1E"
   },
   "source": [
    "## Estudiar las condiciones de las tarifas"
   ]
  },
  {
   "cell_type": "markdown",
   "metadata": {
    "id": "T86Sqltq0q1F"
   },
   "source": [
    "Si bien la indicación dice \"imprime\" usaré .head() para visualizar mejor la información.\n"
   ]
  },
  {
   "cell_type": "code",
   "execution_count": null,
   "metadata": {
    "id": "i409op8p0q1F"
   },
   "outputs": [
    {
     "data": {
      "text/html": [
       "<div>\n",
       "<style scoped>\n",
       "    .dataframe tbody tr th:only-of-type {\n",
       "        vertical-align: middle;\n",
       "    }\n",
       "\n",
       "    .dataframe tbody tr th {\n",
       "        vertical-align: top;\n",
       "    }\n",
       "\n",
       "    .dataframe thead th {\n",
       "        text-align: right;\n",
       "    }\n",
       "</style>\n",
       "<table border=\"1\" class=\"dataframe\">\n",
       "  <thead>\n",
       "    <tr style=\"text-align: right;\">\n",
       "      <th></th>\n",
       "      <th>messages_included</th>\n",
       "      <th>mb_per_month_included</th>\n",
       "      <th>minutes_included</th>\n",
       "      <th>usd_monthly_fee</th>\n",
       "      <th>usd_per_gb</th>\n",
       "      <th>usd_per_message</th>\n",
       "      <th>usd_per_minute</th>\n",
       "      <th>plan</th>\n",
       "      <th>gb_per_month_included</th>\n",
       "    </tr>\n",
       "  </thead>\n",
       "  <tbody>\n",
       "    <tr>\n",
       "      <th>0</th>\n",
       "      <td>50</td>\n",
       "      <td>15360</td>\n",
       "      <td>500</td>\n",
       "      <td>20</td>\n",
       "      <td>10</td>\n",
       "      <td>0.03</td>\n",
       "      <td>0.03</td>\n",
       "      <td>surf</td>\n",
       "      <td>15</td>\n",
       "    </tr>\n",
       "    <tr>\n",
       "      <th>1</th>\n",
       "      <td>1000</td>\n",
       "      <td>30720</td>\n",
       "      <td>3000</td>\n",
       "      <td>70</td>\n",
       "      <td>7</td>\n",
       "      <td>0.01</td>\n",
       "      <td>0.01</td>\n",
       "      <td>ultimate</td>\n",
       "      <td>30</td>\n",
       "    </tr>\n",
       "  </tbody>\n",
       "</table>\n",
       "</div>"
      ],
      "text/plain": [
       "   messages_included  mb_per_month_included  minutes_included  \\\n",
       "0                 50                  15360               500   \n",
       "1               1000                  30720              3000   \n",
       "\n",
       "   usd_monthly_fee  usd_per_gb  usd_per_message  usd_per_minute      plan  \\\n",
       "0               20          10             0.03            0.03      surf   \n",
       "1               70           7             0.01            0.01  ultimate   \n",
       "\n",
       "   gb_per_month_included  \n",
       "0                     15  \n",
       "1                     30  "
      ]
     },
     "execution_count": 18,
     "metadata": {},
     "output_type": "execute_result"
    }
   ],
   "source": [
    "# Imprime las condiciones de la tarifa y asegúrate de que te quedan claras\n",
    "plans.rename(columns={'plan_name': 'plan'}, inplace=True)\n",
    "plans.head()\n"
   ]
  },
  {
   "cell_type": "markdown",
   "metadata": {},
   "source": [
    "Respuesta estudiante: Una vez revisada la información, es posible evidenciar las dos condiciones, una ofrecida por Surf y la otra por Ultimate. La tabla nos permite visualizar lo que ambos planes incluyen de manera estándar, su tarifa mensual fija y los recargos por consumos adicionales. A grandes rasgos, Ultimate si bien tiene un costo más elevado, ofrece mayores beneficiones dentro de su paquete. "
   ]
  },
  {
   "cell_type": "markdown",
   "metadata": {
    "id": "hMR1tP5d0q1F"
   },
   "source": [
    "## Agregar datos por usuario\n",
    "\n",
    "Se agregará una serie que clasifique la duración de las llamadas de cada user_id por mes, así, podríamos determinar si está dentro de los parámetros estándar del plan adquirido. Además, para verificar si está consumiendo más minutos de llamadas que los incluidos en el plan, agregaré otra serie en la que, dependiendo de la empresa con la cual adquirió el plan, me determine si debe o no pagar un cargo adicional, esto se realizará por usuario. "
   ]
  },
  {
   "cell_type": "code",
   "execution_count": null,
   "metadata": {
    "id": "A332cedB0q1G"
   },
   "outputs": [
    {
     "name": "stdout",
     "output_type": "stream",
     "text": [
      "      user_id year_month  call_date\n",
      "0        1000    2018-12         16\n",
      "1        1001    2018-08         27\n",
      "2        1001    2018-09         49\n",
      "3        1001    2018-10         65\n",
      "4        1001    2018-11         64\n",
      "...       ...        ...        ...\n",
      "2253     1498    2018-12         39\n",
      "2254     1499    2018-09         41\n",
      "2255     1499    2018-10         53\n",
      "2256     1499    2018-11         45\n",
      "2257     1499    2018-12         65\n",
      "\n",
      "[2258 rows x 3 columns]\n"
     ]
    }
   ],
   "source": [
    "\n",
    "#Extraemos el mes para poder consolidar la información de cada usuario por mes\n",
    "calls['year_month']=calls['call_date'].dt.to_period('M')\n",
    "#Creamos una columna para consolidar la cantidad de llamadas totales por usuario por mes\n",
    "total_calls_monthly=calls.groupby(['user_id','year_month'])['call_date'].count().reset_index()\n",
    "\n",
    "\n",
    "print(total_calls_monthly)\n",
    "\n"
   ]
  },
  {
   "cell_type": "code",
   "execution_count": null,
   "metadata": {
    "id": "aw2cmuql0q1G"
   },
   "outputs": [
    {
     "name": "stdout",
     "output_type": "stream",
     "text": [
      "      user_id year_month  duration\n",
      "0        1000    2018-12       124\n",
      "1        1001    2018-08       182\n",
      "2        1001    2018-09       315\n",
      "3        1001    2018-10       393\n",
      "4        1001    2018-11       426\n",
      "...       ...        ...       ...\n",
      "2253     1498    2018-12       339\n",
      "2254     1499    2018-09       346\n",
      "2255     1499    2018-10       385\n",
      "2256     1499    2018-11       308\n",
      "2257     1499    2018-12       496\n",
      "\n",
      "[2258 rows x 3 columns]\n"
     ]
    }
   ],
   "source": [
    "# Calcula la cantidad de minutos usados por cada usuario al mes. Guarda el resultado.\n",
    "#Redondeo la duración de las llamadas \n",
    "calls['duration']=np.ceil(calls['duration']).astype(int)\n",
    "#Extremos el mes para poder consolidar la información de cada usuario por mes\n",
    "calls['year_month']=calls['call_date'].dt.to_period('M')\n",
    "#Creamos una columna para consolidar la duración total por usuario por mes\n",
    "total_duration_monthly=calls.groupby(['user_id','year_month'])['duration'].sum().reset_index()\n",
    "\n",
    "\n",
    "print(total_duration_monthly)\n",
    "\n"
   ]
  },
  {
   "cell_type": "code",
   "execution_count": null,
   "metadata": {
    "id": "CcQvNHn60q1G"
   },
   "outputs": [
    {
     "name": "stdout",
     "output_type": "stream",
     "text": [
      "      user_id year_month  message_date\n",
      "0        1000    2018-12            11\n",
      "1        1001    2018-08            30\n",
      "2        1001    2018-09            44\n",
      "3        1001    2018-10            53\n",
      "4        1001    2018-11            36\n",
      "...       ...        ...           ...\n",
      "1801     1496    2018-09            21\n",
      "1802     1496    2018-10            18\n",
      "1803     1496    2018-11            13\n",
      "1804     1496    2018-12            11\n",
      "1805     1497    2018-12            50\n",
      "\n",
      "[1806 rows x 3 columns]\n"
     ]
    }
   ],
   "source": [
    "\n",
    "#Extraemos el mes para poder consolidar la información de cada usuario por mes\n",
    "messages['year_month']=messages['message_date'].dt.to_period('M')\n",
    "#Creamos una columna para consolidar la cantidad de mensajes totales enviados por usuario por mes\n",
    "total_messages_monthly=messages.groupby(['user_id','year_month'])['message_date'].count().reset_index()\n",
    "\n",
    "\n",
    "print(total_messages_monthly)\n",
    "# Calcula el número de mensajes enviados por cada usuario al mes. Guarda el resultado.\n",
    "\n"
   ]
  },
  {
   "cell_type": "code",
   "execution_count": null,
   "metadata": {
    "id": "H1AqN2eG0q1H",
    "scrolled": true
   },
   "outputs": [
    {
     "name": "stdout",
     "output_type": "stream",
     "text": [
      "      user_id year_month   mb_used  gb_used\n",
      "0        1000    2018-12   1901.47        2\n",
      "1        1001    2018-08   6919.15        7\n",
      "2        1001    2018-09  13314.82       14\n",
      "3        1001    2018-10  22330.49       22\n",
      "4        1001    2018-11  18504.30       19\n",
      "...       ...        ...       ...      ...\n",
      "2272     1498    2018-12  23137.69       23\n",
      "2273     1499    2018-09  12984.76       13\n",
      "2274     1499    2018-10  19492.43       20\n",
      "2275     1499    2018-11  16813.83       17\n",
      "2276     1499    2018-12  22059.21       22\n",
      "\n",
      "[2277 rows x 4 columns]\n"
     ]
    }
   ],
   "source": [
    "\n",
    "#Extraemos el mes para poder consolidar la información de cada usuario por mes\n",
    "internet['year_month']=internet['session_date'].dt.to_period('M')\n",
    "#Creamos una columna para consolidar la duración total por usuario por mes\n",
    "total_traffic_monthly=internet.groupby(['user_id','year_month'])['mb_used'].sum().reset_index()\n",
    "\n",
    "total_traffic_monthly['gb_used'] = (total_traffic_monthly['mb_used'] / 1024)\n",
    "total_traffic_monthly['gb_used']=np.ceil(total_traffic_monthly['gb_used']).astype(int)\n",
    "\n",
    "\n",
    "print(total_traffic_monthly)\n",
    "\n",
    "# Calcula el volumen del tráfico de Internet usado por cada usuario al mes. Guarda el resultado.\n",
    "\n"
   ]
  },
  {
   "cell_type": "markdown",
   "metadata": {
    "id": "VDfYXnj80q1H"
   },
   "source": [
    "Para esto, necesitaremos usar .merge, esto con el fin de crear un data frame que combine los datos que hasta el momento hemos obtenido. "
   ]
  },
  {
   "cell_type": "code",
   "execution_count": null,
   "metadata": {
    "id": "FW99ykyf0q1H"
   },
   "outputs": [
    {
     "data": {
      "text/html": [
       "<div>\n",
       "<style scoped>\n",
       "    .dataframe tbody tr th:only-of-type {\n",
       "        vertical-align: middle;\n",
       "    }\n",
       "\n",
       "    .dataframe tbody tr th {\n",
       "        vertical-align: top;\n",
       "    }\n",
       "\n",
       "    .dataframe thead th {\n",
       "        text-align: right;\n",
       "    }\n",
       "</style>\n",
       "<table border=\"1\" class=\"dataframe\">\n",
       "  <thead>\n",
       "    <tr style=\"text-align: right;\">\n",
       "      <th></th>\n",
       "      <th>user_id</th>\n",
       "      <th>year_month</th>\n",
       "      <th>call_date</th>\n",
       "      <th>duration</th>\n",
       "      <th>message_date</th>\n",
       "      <th>mb_used</th>\n",
       "      <th>gb_used</th>\n",
       "    </tr>\n",
       "  </thead>\n",
       "  <tbody>\n",
       "    <tr>\n",
       "      <th>0</th>\n",
       "      <td>1000</td>\n",
       "      <td>2018-12</td>\n",
       "      <td>16.0</td>\n",
       "      <td>124.0</td>\n",
       "      <td>11.0</td>\n",
       "      <td>1901.47</td>\n",
       "      <td>2.0</td>\n",
       "    </tr>\n",
       "    <tr>\n",
       "      <th>1</th>\n",
       "      <td>1001</td>\n",
       "      <td>2018-08</td>\n",
       "      <td>27.0</td>\n",
       "      <td>182.0</td>\n",
       "      <td>30.0</td>\n",
       "      <td>6919.15</td>\n",
       "      <td>7.0</td>\n",
       "    </tr>\n",
       "    <tr>\n",
       "      <th>2</th>\n",
       "      <td>1001</td>\n",
       "      <td>2018-09</td>\n",
       "      <td>49.0</td>\n",
       "      <td>315.0</td>\n",
       "      <td>44.0</td>\n",
       "      <td>13314.82</td>\n",
       "      <td>14.0</td>\n",
       "    </tr>\n",
       "    <tr>\n",
       "      <th>3</th>\n",
       "      <td>1001</td>\n",
       "      <td>2018-10</td>\n",
       "      <td>65.0</td>\n",
       "      <td>393.0</td>\n",
       "      <td>53.0</td>\n",
       "      <td>22330.49</td>\n",
       "      <td>22.0</td>\n",
       "    </tr>\n",
       "    <tr>\n",
       "      <th>4</th>\n",
       "      <td>1001</td>\n",
       "      <td>2018-11</td>\n",
       "      <td>64.0</td>\n",
       "      <td>426.0</td>\n",
       "      <td>36.0</td>\n",
       "      <td>18504.30</td>\n",
       "      <td>19.0</td>\n",
       "    </tr>\n",
       "    <tr>\n",
       "      <th>5</th>\n",
       "      <td>1001</td>\n",
       "      <td>2018-12</td>\n",
       "      <td>56.0</td>\n",
       "      <td>412.0</td>\n",
       "      <td>44.0</td>\n",
       "      <td>19369.18</td>\n",
       "      <td>19.0</td>\n",
       "    </tr>\n",
       "    <tr>\n",
       "      <th>6</th>\n",
       "      <td>1002</td>\n",
       "      <td>2018-10</td>\n",
       "      <td>11.0</td>\n",
       "      <td>59.0</td>\n",
       "      <td>15.0</td>\n",
       "      <td>6552.01</td>\n",
       "      <td>7.0</td>\n",
       "    </tr>\n",
       "    <tr>\n",
       "      <th>7</th>\n",
       "      <td>1002</td>\n",
       "      <td>2018-11</td>\n",
       "      <td>55.0</td>\n",
       "      <td>386.0</td>\n",
       "      <td>32.0</td>\n",
       "      <td>19345.08</td>\n",
       "      <td>19.0</td>\n",
       "    </tr>\n",
       "    <tr>\n",
       "      <th>8</th>\n",
       "      <td>1002</td>\n",
       "      <td>2018-12</td>\n",
       "      <td>47.0</td>\n",
       "      <td>384.0</td>\n",
       "      <td>41.0</td>\n",
       "      <td>14396.24</td>\n",
       "      <td>15.0</td>\n",
       "    </tr>\n",
       "    <tr>\n",
       "      <th>9</th>\n",
       "      <td>1003</td>\n",
       "      <td>2018-12</td>\n",
       "      <td>149.0</td>\n",
       "      <td>1104.0</td>\n",
       "      <td>50.0</td>\n",
       "      <td>27044.14</td>\n",
       "      <td>27.0</td>\n",
       "    </tr>\n",
       "    <tr>\n",
       "      <th>10</th>\n",
       "      <td>1004</td>\n",
       "      <td>2018-05</td>\n",
       "      <td>21.0</td>\n",
       "      <td>193.0</td>\n",
       "      <td>7.0</td>\n",
       "      <td>6547.21</td>\n",
       "      <td>7.0</td>\n",
       "    </tr>\n",
       "    <tr>\n",
       "      <th>11</th>\n",
       "      <td>1004</td>\n",
       "      <td>2018-06</td>\n",
       "      <td>44.0</td>\n",
       "      <td>275.0</td>\n",
       "      <td>18.0</td>\n",
       "      <td>20672.82</td>\n",
       "      <td>21.0</td>\n",
       "    </tr>\n",
       "    <tr>\n",
       "      <th>12</th>\n",
       "      <td>1004</td>\n",
       "      <td>2018-07</td>\n",
       "      <td>49.0</td>\n",
       "      <td>381.0</td>\n",
       "      <td>26.0</td>\n",
       "      <td>24516.62</td>\n",
       "      <td>24.0</td>\n",
       "    </tr>\n",
       "    <tr>\n",
       "      <th>13</th>\n",
       "      <td>1004</td>\n",
       "      <td>2018-08</td>\n",
       "      <td>49.0</td>\n",
       "      <td>354.0</td>\n",
       "      <td>25.0</td>\n",
       "      <td>27981.74</td>\n",
       "      <td>28.0</td>\n",
       "    </tr>\n",
       "    <tr>\n",
       "      <th>14</th>\n",
       "      <td>1004</td>\n",
       "      <td>2018-09</td>\n",
       "      <td>42.0</td>\n",
       "      <td>301.0</td>\n",
       "      <td>21.0</td>\n",
       "      <td>18852.72</td>\n",
       "      <td>19.0</td>\n",
       "    </tr>\n",
       "    <tr>\n",
       "      <th>15</th>\n",
       "      <td>1004</td>\n",
       "      <td>2018-10</td>\n",
       "      <td>61.0</td>\n",
       "      <td>365.0</td>\n",
       "      <td>24.0</td>\n",
       "      <td>14541.63</td>\n",
       "      <td>15.0</td>\n",
       "    </tr>\n",
       "    <tr>\n",
       "      <th>16</th>\n",
       "      <td>1004</td>\n",
       "      <td>2018-11</td>\n",
       "      <td>54.0</td>\n",
       "      <td>476.0</td>\n",
       "      <td>25.0</td>\n",
       "      <td>21850.78</td>\n",
       "      <td>22.0</td>\n",
       "    </tr>\n",
       "    <tr>\n",
       "      <th>17</th>\n",
       "      <td>1004</td>\n",
       "      <td>2018-12</td>\n",
       "      <td>50.0</td>\n",
       "      <td>427.0</td>\n",
       "      <td>31.0</td>\n",
       "      <td>21389.29</td>\n",
       "      <td>21.0</td>\n",
       "    </tr>\n",
       "    <tr>\n",
       "      <th>18</th>\n",
       "      <td>1005</td>\n",
       "      <td>2018-12</td>\n",
       "      <td>59.0</td>\n",
       "      <td>496.0</td>\n",
       "      <td>11.0</td>\n",
       "      <td>17140.17</td>\n",
       "      <td>17.0</td>\n",
       "    </tr>\n",
       "    <tr>\n",
       "      <th>19</th>\n",
       "      <td>1006</td>\n",
       "      <td>2018-11</td>\n",
       "      <td>2.0</td>\n",
       "      <td>10.0</td>\n",
       "      <td>15.0</td>\n",
       "      <td>2068.37</td>\n",
       "      <td>3.0</td>\n",
       "    </tr>\n",
       "  </tbody>\n",
       "</table>\n",
       "</div>"
      ],
      "text/plain": [
       "    user_id year_month  call_date  duration  message_date   mb_used  gb_used\n",
       "0      1000    2018-12       16.0     124.0          11.0   1901.47      2.0\n",
       "1      1001    2018-08       27.0     182.0          30.0   6919.15      7.0\n",
       "2      1001    2018-09       49.0     315.0          44.0  13314.82     14.0\n",
       "3      1001    2018-10       65.0     393.0          53.0  22330.49     22.0\n",
       "4      1001    2018-11       64.0     426.0          36.0  18504.30     19.0\n",
       "5      1001    2018-12       56.0     412.0          44.0  19369.18     19.0\n",
       "6      1002    2018-10       11.0      59.0          15.0   6552.01      7.0\n",
       "7      1002    2018-11       55.0     386.0          32.0  19345.08     19.0\n",
       "8      1002    2018-12       47.0     384.0          41.0  14396.24     15.0\n",
       "9      1003    2018-12      149.0    1104.0          50.0  27044.14     27.0\n",
       "10     1004    2018-05       21.0     193.0           7.0   6547.21      7.0\n",
       "11     1004    2018-06       44.0     275.0          18.0  20672.82     21.0\n",
       "12     1004    2018-07       49.0     381.0          26.0  24516.62     24.0\n",
       "13     1004    2018-08       49.0     354.0          25.0  27981.74     28.0\n",
       "14     1004    2018-09       42.0     301.0          21.0  18852.72     19.0\n",
       "15     1004    2018-10       61.0     365.0          24.0  14541.63     15.0\n",
       "16     1004    2018-11       54.0     476.0          25.0  21850.78     22.0\n",
       "17     1004    2018-12       50.0     427.0          31.0  21389.29     21.0\n",
       "18     1005    2018-12       59.0     496.0          11.0  17140.17     17.0\n",
       "19     1006    2018-11        2.0      10.0          15.0   2068.37      3.0"
      ]
     },
     "execution_count": 23,
     "metadata": {},
     "output_type": "execute_result"
    }
   ],
   "source": [
    "# Fusiona los datos de llamadas, minutos, mensajes e Internet con base en user_id y month\n",
    "users_consolidated_1 = total_calls_monthly.merge(total_duration_monthly, on=['user_id','year_month'], how='outer')\n",
    "users_consolidated_2=users_consolidated_1.merge(total_messages_monthly, on=['user_id','year_month'], how='outer')\n",
    "users_consolidated_3=users_consolidated_2.merge(total_traffic_monthly, on=['user_id','year_month'], how='outer')\n",
    "\n",
    "#Mostramos el resultado del DataFrame creado\n",
    "users_consolidated_3.head(20)"
   ]
  },
  {
   "cell_type": "code",
   "execution_count": null,
   "metadata": {
    "id": "0dNOXHag0q1H"
   },
   "outputs": [
    {
     "name": "stdout",
     "output_type": "stream",
     "text": [
      "      user_id  first_name  last_name  age  \\\n",
      "0        1000    Anamaria      Bauer   45   \n",
      "1        1001      Mickey  Wilkerson   28   \n",
      "2        1001      Mickey  Wilkerson   28   \n",
      "3        1001      Mickey  Wilkerson   28   \n",
      "4        1001      Mickey  Wilkerson   28   \n",
      "...       ...         ...        ...  ...   \n",
      "2288     1349  Florentina       Diaz   69   \n",
      "2289     1361     Jacelyn    Hoffman   45   \n",
      "2290     1482      Armand      Glenn   70   \n",
      "2291     1108    Porfirio       Kane   45   \n",
      "2292     1311     Cherlyn   Saunders   69   \n",
      "\n",
      "                                           city   reg_date churn_date  \\\n",
      "0         Atlanta-Sandy Springs-Roswell, GA MSA 2018-12-24        NaT   \n",
      "1               Seattle-Tacoma-Bellevue, WA MSA 2018-08-13        NaT   \n",
      "2               Seattle-Tacoma-Bellevue, WA MSA 2018-08-13        NaT   \n",
      "3               Seattle-Tacoma-Bellevue, WA MSA 2018-08-13        NaT   \n",
      "4               Seattle-Tacoma-Bellevue, WA MSA 2018-08-13        NaT   \n",
      "...                                         ...        ...        ...   \n",
      "2288         Boston-Cambridge-Newton, MA-NH MSA 2018-10-01        NaT   \n",
      "2289                  Birmingham-Hoover, AL MSA 2018-04-14        NaT   \n",
      "2290  New York-Newark-Jersey City, NY-NJ-PA MSA 2018-01-01        NaT   \n",
      "2291                     Salt Lake City, UT MSA 2018-12-30        NaT   \n",
      "2292                      Memphis, TN-MS-AR MSA 2018-06-27        NaT   \n",
      "\n",
      "          plan  messages_included  mb_per_month_included  ...  \\\n",
      "0     ultimate               1000                  30720  ...   \n",
      "1         surf                 50                  15360  ...   \n",
      "2         surf                 50                  15360  ...   \n",
      "3         surf                 50                  15360  ...   \n",
      "4         surf                 50                  15360  ...   \n",
      "...        ...                ...                    ...  ...   \n",
      "2288      surf                 50                  15360  ...   \n",
      "2289      surf                 50                  15360  ...   \n",
      "2290  ultimate               1000                  30720  ...   \n",
      "2291  ultimate               1000                  30720  ...   \n",
      "2292  ultimate               1000                  30720  ...   \n",
      "\n",
      "      usd_monthly_fee  usd_per_gb  usd_per_message  usd_per_minute  \\\n",
      "0                  70           7             0.01            0.01   \n",
      "1                  20          10             0.03            0.03   \n",
      "2                  20          10             0.03            0.03   \n",
      "3                  20          10             0.03            0.03   \n",
      "4                  20          10             0.03            0.03   \n",
      "...               ...         ...              ...             ...   \n",
      "2288               20          10             0.03            0.03   \n",
      "2289               20          10             0.03            0.03   \n",
      "2290               70           7             0.01            0.01   \n",
      "2291               70           7             0.01            0.01   \n",
      "2292               70           7             0.01            0.01   \n",
      "\n",
      "      year_month  call_date duration  message_date   mb_used  gb_used  \n",
      "0        2018-12       16.0    124.0          11.0   1901.47      2.0  \n",
      "1        2018-08       27.0    182.0          30.0   6919.15      7.0  \n",
      "2        2018-09       49.0    315.0          44.0  13314.82     14.0  \n",
      "3        2018-10       65.0    393.0          53.0  22330.49     22.0  \n",
      "4        2018-11       64.0    426.0          36.0  18504.30     19.0  \n",
      "...          ...        ...      ...           ...       ...      ...  \n",
      "2288     2018-12        NaN      NaN          61.0  13039.91     13.0  \n",
      "2289     2018-05        NaN      NaN           2.0   1519.69      2.0  \n",
      "2290     2018-10        NaN      NaN           2.0       NaN      NaN  \n",
      "2291     2018-12        NaN      NaN           NaN    233.17      1.0  \n",
      "2292     2018-06        NaN      NaN           NaN   1498.83      2.0  \n",
      "\n",
      "[2293 rows x 22 columns]\n"
     ]
    }
   ],
   "source": [
    "# Añade la información de la tarifa\n",
    "users_plus_plan=plans.merge(users,on='plan',how='right')\n",
    "users_consolidated_4=users_plus_plan.merge(users_consolidated_3,on=['user_id'],how='right')\n",
    "users_consolidated_5=['user_id','first_name','last_name','age','city','reg_date','churn_date','plan',\"messages_included\",\"mb_per_month_included\",\"gb_per_month_included\",\"minutes_included\",\"usd_monthly_fee\",\"usd_per_gb\",\"usd_per_message\",\"usd_per_minute\",\"year_month\",\"call_date\",\"duration\",\"message_date\",\"mb_used\",\"gb_used\"]\n",
    "users_consolidated_4=users_consolidated_4[users_consolidated_5]\n",
    "print(users_consolidated_4)\n",
    "\n"
   ]
  },
  {
   "cell_type": "markdown",
   "metadata": {
    "id": "1IwGo4wg0q1I"
   },
   "source": [
    "[Calcula los ingresos mensuales por usuario (resta el límite del paquete gratuito del número total de llamadas, mensajes de texto y datos; multiplica el resultado por el valor del plan de llamadas; añade la tarifa mensual en función del plan de llamadas). Nota: Dadas las condiciones del plan, ¡esto podría no ser tan trivial como un par de líneas! Así que no pasa nada si dedicas algo de tiempo a ello.]"
   ]
  },
  {
   "cell_type": "code",
   "execution_count": null,
   "metadata": {
    "id": "5FGCf_c60q1I"
   },
   "outputs": [
    {
     "data": {
      "text/html": [
       "<div>\n",
       "<style scoped>\n",
       "    .dataframe tbody tr th:only-of-type {\n",
       "        vertical-align: middle;\n",
       "    }\n",
       "\n",
       "    .dataframe tbody tr th {\n",
       "        vertical-align: top;\n",
       "    }\n",
       "\n",
       "    .dataframe thead th {\n",
       "        text-align: right;\n",
       "    }\n",
       "</style>\n",
       "<table border=\"1\" class=\"dataframe\">\n",
       "  <thead>\n",
       "    <tr style=\"text-align: right;\">\n",
       "      <th></th>\n",
       "      <th>user_id</th>\n",
       "      <th>first_name</th>\n",
       "      <th>last_name</th>\n",
       "      <th>age</th>\n",
       "      <th>city</th>\n",
       "      <th>reg_date</th>\n",
       "      <th>churn_date</th>\n",
       "      <th>plan</th>\n",
       "      <th>messages_included</th>\n",
       "      <th>mb_per_month_included</th>\n",
       "      <th>...</th>\n",
       "      <th>year_month</th>\n",
       "      <th>call_date</th>\n",
       "      <th>duration</th>\n",
       "      <th>message_date</th>\n",
       "      <th>mb_used</th>\n",
       "      <th>gb_used</th>\n",
       "      <th>extra_fee_calls</th>\n",
       "      <th>extra_fee_message</th>\n",
       "      <th>extra_fee_internet</th>\n",
       "      <th>income_monthly_user</th>\n",
       "    </tr>\n",
       "  </thead>\n",
       "  <tbody>\n",
       "    <tr>\n",
       "      <th>0</th>\n",
       "      <td>1000</td>\n",
       "      <td>Anamaria</td>\n",
       "      <td>Bauer</td>\n",
       "      <td>45</td>\n",
       "      <td>Atlanta-Sandy Springs-Roswell, GA MSA</td>\n",
       "      <td>2018-12-24</td>\n",
       "      <td>NaT</td>\n",
       "      <td>ultimate</td>\n",
       "      <td>1000</td>\n",
       "      <td>30720</td>\n",
       "      <td>...</td>\n",
       "      <td>2018-12</td>\n",
       "      <td>16.0</td>\n",
       "      <td>124.0</td>\n",
       "      <td>11.0</td>\n",
       "      <td>1901.47</td>\n",
       "      <td>2.0</td>\n",
       "      <td>0</td>\n",
       "      <td>0.00</td>\n",
       "      <td>0.0</td>\n",
       "      <td>70.00</td>\n",
       "    </tr>\n",
       "    <tr>\n",
       "      <th>1</th>\n",
       "      <td>1001</td>\n",
       "      <td>Mickey</td>\n",
       "      <td>Wilkerson</td>\n",
       "      <td>28</td>\n",
       "      <td>Seattle-Tacoma-Bellevue, WA MSA</td>\n",
       "      <td>2018-08-13</td>\n",
       "      <td>NaT</td>\n",
       "      <td>surf</td>\n",
       "      <td>50</td>\n",
       "      <td>15360</td>\n",
       "      <td>...</td>\n",
       "      <td>2018-08</td>\n",
       "      <td>27.0</td>\n",
       "      <td>182.0</td>\n",
       "      <td>30.0</td>\n",
       "      <td>6919.15</td>\n",
       "      <td>7.0</td>\n",
       "      <td>0</td>\n",
       "      <td>0.00</td>\n",
       "      <td>0.0</td>\n",
       "      <td>20.00</td>\n",
       "    </tr>\n",
       "    <tr>\n",
       "      <th>2</th>\n",
       "      <td>1001</td>\n",
       "      <td>Mickey</td>\n",
       "      <td>Wilkerson</td>\n",
       "      <td>28</td>\n",
       "      <td>Seattle-Tacoma-Bellevue, WA MSA</td>\n",
       "      <td>2018-08-13</td>\n",
       "      <td>NaT</td>\n",
       "      <td>surf</td>\n",
       "      <td>50</td>\n",
       "      <td>15360</td>\n",
       "      <td>...</td>\n",
       "      <td>2018-09</td>\n",
       "      <td>49.0</td>\n",
       "      <td>315.0</td>\n",
       "      <td>44.0</td>\n",
       "      <td>13314.82</td>\n",
       "      <td>14.0</td>\n",
       "      <td>0</td>\n",
       "      <td>0.00</td>\n",
       "      <td>0.0</td>\n",
       "      <td>20.00</td>\n",
       "    </tr>\n",
       "    <tr>\n",
       "      <th>3</th>\n",
       "      <td>1001</td>\n",
       "      <td>Mickey</td>\n",
       "      <td>Wilkerson</td>\n",
       "      <td>28</td>\n",
       "      <td>Seattle-Tacoma-Bellevue, WA MSA</td>\n",
       "      <td>2018-08-13</td>\n",
       "      <td>NaT</td>\n",
       "      <td>surf</td>\n",
       "      <td>50</td>\n",
       "      <td>15360</td>\n",
       "      <td>...</td>\n",
       "      <td>2018-10</td>\n",
       "      <td>65.0</td>\n",
       "      <td>393.0</td>\n",
       "      <td>53.0</td>\n",
       "      <td>22330.49</td>\n",
       "      <td>22.0</td>\n",
       "      <td>0</td>\n",
       "      <td>0.09</td>\n",
       "      <td>70.0</td>\n",
       "      <td>90.09</td>\n",
       "    </tr>\n",
       "    <tr>\n",
       "      <th>4</th>\n",
       "      <td>1001</td>\n",
       "      <td>Mickey</td>\n",
       "      <td>Wilkerson</td>\n",
       "      <td>28</td>\n",
       "      <td>Seattle-Tacoma-Bellevue, WA MSA</td>\n",
       "      <td>2018-08-13</td>\n",
       "      <td>NaT</td>\n",
       "      <td>surf</td>\n",
       "      <td>50</td>\n",
       "      <td>15360</td>\n",
       "      <td>...</td>\n",
       "      <td>2018-11</td>\n",
       "      <td>64.0</td>\n",
       "      <td>426.0</td>\n",
       "      <td>36.0</td>\n",
       "      <td>18504.30</td>\n",
       "      <td>19.0</td>\n",
       "      <td>0</td>\n",
       "      <td>0.00</td>\n",
       "      <td>40.0</td>\n",
       "      <td>60.00</td>\n",
       "    </tr>\n",
       "    <tr>\n",
       "      <th>5</th>\n",
       "      <td>1001</td>\n",
       "      <td>Mickey</td>\n",
       "      <td>Wilkerson</td>\n",
       "      <td>28</td>\n",
       "      <td>Seattle-Tacoma-Bellevue, WA MSA</td>\n",
       "      <td>2018-08-13</td>\n",
       "      <td>NaT</td>\n",
       "      <td>surf</td>\n",
       "      <td>50</td>\n",
       "      <td>15360</td>\n",
       "      <td>...</td>\n",
       "      <td>2018-12</td>\n",
       "      <td>56.0</td>\n",
       "      <td>412.0</td>\n",
       "      <td>44.0</td>\n",
       "      <td>19369.18</td>\n",
       "      <td>19.0</td>\n",
       "      <td>0</td>\n",
       "      <td>0.00</td>\n",
       "      <td>40.0</td>\n",
       "      <td>60.00</td>\n",
       "    </tr>\n",
       "    <tr>\n",
       "      <th>6</th>\n",
       "      <td>1002</td>\n",
       "      <td>Carlee</td>\n",
       "      <td>Hoffman</td>\n",
       "      <td>36</td>\n",
       "      <td>Las Vegas-Henderson-Paradise, NV MSA</td>\n",
       "      <td>2018-10-21</td>\n",
       "      <td>NaT</td>\n",
       "      <td>surf</td>\n",
       "      <td>50</td>\n",
       "      <td>15360</td>\n",
       "      <td>...</td>\n",
       "      <td>2018-10</td>\n",
       "      <td>11.0</td>\n",
       "      <td>59.0</td>\n",
       "      <td>15.0</td>\n",
       "      <td>6552.01</td>\n",
       "      <td>7.0</td>\n",
       "      <td>0</td>\n",
       "      <td>0.00</td>\n",
       "      <td>0.0</td>\n",
       "      <td>20.00</td>\n",
       "    </tr>\n",
       "    <tr>\n",
       "      <th>7</th>\n",
       "      <td>1002</td>\n",
       "      <td>Carlee</td>\n",
       "      <td>Hoffman</td>\n",
       "      <td>36</td>\n",
       "      <td>Las Vegas-Henderson-Paradise, NV MSA</td>\n",
       "      <td>2018-10-21</td>\n",
       "      <td>NaT</td>\n",
       "      <td>surf</td>\n",
       "      <td>50</td>\n",
       "      <td>15360</td>\n",
       "      <td>...</td>\n",
       "      <td>2018-11</td>\n",
       "      <td>55.0</td>\n",
       "      <td>386.0</td>\n",
       "      <td>32.0</td>\n",
       "      <td>19345.08</td>\n",
       "      <td>19.0</td>\n",
       "      <td>0</td>\n",
       "      <td>0.00</td>\n",
       "      <td>40.0</td>\n",
       "      <td>60.00</td>\n",
       "    </tr>\n",
       "    <tr>\n",
       "      <th>8</th>\n",
       "      <td>1002</td>\n",
       "      <td>Carlee</td>\n",
       "      <td>Hoffman</td>\n",
       "      <td>36</td>\n",
       "      <td>Las Vegas-Henderson-Paradise, NV MSA</td>\n",
       "      <td>2018-10-21</td>\n",
       "      <td>NaT</td>\n",
       "      <td>surf</td>\n",
       "      <td>50</td>\n",
       "      <td>15360</td>\n",
       "      <td>...</td>\n",
       "      <td>2018-12</td>\n",
       "      <td>47.0</td>\n",
       "      <td>384.0</td>\n",
       "      <td>41.0</td>\n",
       "      <td>14396.24</td>\n",
       "      <td>15.0</td>\n",
       "      <td>0</td>\n",
       "      <td>0.00</td>\n",
       "      <td>0.0</td>\n",
       "      <td>20.00</td>\n",
       "    </tr>\n",
       "    <tr>\n",
       "      <th>9</th>\n",
       "      <td>1003</td>\n",
       "      <td>Reynaldo</td>\n",
       "      <td>Jenkins</td>\n",
       "      <td>52</td>\n",
       "      <td>Tulsa, OK MSA</td>\n",
       "      <td>2018-01-28</td>\n",
       "      <td>NaT</td>\n",
       "      <td>surf</td>\n",
       "      <td>50</td>\n",
       "      <td>15360</td>\n",
       "      <td>...</td>\n",
       "      <td>2018-12</td>\n",
       "      <td>149.0</td>\n",
       "      <td>1104.0</td>\n",
       "      <td>50.0</td>\n",
       "      <td>27044.14</td>\n",
       "      <td>27.0</td>\n",
       "      <td>0</td>\n",
       "      <td>0.00</td>\n",
       "      <td>120.0</td>\n",
       "      <td>140.00</td>\n",
       "    </tr>\n",
       "  </tbody>\n",
       "</table>\n",
       "<p>10 rows × 26 columns</p>\n",
       "</div>"
      ],
      "text/plain": [
       "   user_id first_name  last_name  age                                   city  \\\n",
       "0     1000   Anamaria      Bauer   45  Atlanta-Sandy Springs-Roswell, GA MSA   \n",
       "1     1001     Mickey  Wilkerson   28        Seattle-Tacoma-Bellevue, WA MSA   \n",
       "2     1001     Mickey  Wilkerson   28        Seattle-Tacoma-Bellevue, WA MSA   \n",
       "3     1001     Mickey  Wilkerson   28        Seattle-Tacoma-Bellevue, WA MSA   \n",
       "4     1001     Mickey  Wilkerson   28        Seattle-Tacoma-Bellevue, WA MSA   \n",
       "5     1001     Mickey  Wilkerson   28        Seattle-Tacoma-Bellevue, WA MSA   \n",
       "6     1002     Carlee    Hoffman   36   Las Vegas-Henderson-Paradise, NV MSA   \n",
       "7     1002     Carlee    Hoffman   36   Las Vegas-Henderson-Paradise, NV MSA   \n",
       "8     1002     Carlee    Hoffman   36   Las Vegas-Henderson-Paradise, NV MSA   \n",
       "9     1003   Reynaldo    Jenkins   52                          Tulsa, OK MSA   \n",
       "\n",
       "    reg_date churn_date      plan  messages_included  mb_per_month_included  \\\n",
       "0 2018-12-24        NaT  ultimate               1000                  30720   \n",
       "1 2018-08-13        NaT      surf                 50                  15360   \n",
       "2 2018-08-13        NaT      surf                 50                  15360   \n",
       "3 2018-08-13        NaT      surf                 50                  15360   \n",
       "4 2018-08-13        NaT      surf                 50                  15360   \n",
       "5 2018-08-13        NaT      surf                 50                  15360   \n",
       "6 2018-10-21        NaT      surf                 50                  15360   \n",
       "7 2018-10-21        NaT      surf                 50                  15360   \n",
       "8 2018-10-21        NaT      surf                 50                  15360   \n",
       "9 2018-01-28        NaT      surf                 50                  15360   \n",
       "\n",
       "   ...  year_month  call_date  duration  message_date   mb_used  gb_used  \\\n",
       "0  ...     2018-12       16.0     124.0          11.0   1901.47      2.0   \n",
       "1  ...     2018-08       27.0     182.0          30.0   6919.15      7.0   \n",
       "2  ...     2018-09       49.0     315.0          44.0  13314.82     14.0   \n",
       "3  ...     2018-10       65.0     393.0          53.0  22330.49     22.0   \n",
       "4  ...     2018-11       64.0     426.0          36.0  18504.30     19.0   \n",
       "5  ...     2018-12       56.0     412.0          44.0  19369.18     19.0   \n",
       "6  ...     2018-10       11.0      59.0          15.0   6552.01      7.0   \n",
       "7  ...     2018-11       55.0     386.0          32.0  19345.08     19.0   \n",
       "8  ...     2018-12       47.0     384.0          41.0  14396.24     15.0   \n",
       "9  ...     2018-12      149.0    1104.0          50.0  27044.14     27.0   \n",
       "\n",
       "  extra_fee_calls  extra_fee_message  extra_fee_internet  income_monthly_user  \n",
       "0               0               0.00                 0.0                70.00  \n",
       "1               0               0.00                 0.0                20.00  \n",
       "2               0               0.00                 0.0                20.00  \n",
       "3               0               0.09                70.0                90.09  \n",
       "4               0               0.00                40.0                60.00  \n",
       "5               0               0.00                40.0                60.00  \n",
       "6               0               0.00                 0.0                20.00  \n",
       "7               0               0.00                40.0                60.00  \n",
       "8               0               0.00                 0.0                20.00  \n",
       "9               0               0.00               120.0               140.00  \n",
       "\n",
       "[10 rows x 26 columns]"
      ]
     },
     "execution_count": 25,
     "metadata": {},
     "output_type": "execute_result"
    }
   ],
   "source": [
    "# Calcula el ingreso mensual para cada usuario\n",
    "\n",
    "def calculate_extra_fee_calls(row):\n",
    "    if row['plan'] == 'surf' and row['minutes_included'] > row[\"minutes_included\"]:\n",
    "        return (row['duration'] - row[\"minutes_included\"]) * row[\"usd_per_minute\"]\n",
    "    elif row['plan'] == 'ultimate' and row['duration'] > row[\"minutes_included\"]:\n",
    "        return (row['duration'] - row[\"minutes_included\"]) * row[\"usd_per_minute\"]\n",
    "    else:\n",
    "        return 0\n",
    "\n",
    "\n",
    "def calculate_extra_fee_messages(row):\n",
    "    if row['plan'] == 'surf' and row['message_date'] > row[\"messages_included\"]:\n",
    "        return (row['message_date'] - row[\"messages_included\"]) * row[\"usd_per_message\"]\n",
    "    elif row['plan'] == 'ultimate' and row['message_date'] > row[\"messages_included\"]:\n",
    "        return (row['message_date'] - row[\"messages_included\"]) * row[\"usd_per_message\"]\n",
    "    else:\n",
    "        return 0\n",
    "    \n",
    "def calculate_extra_fee_internet(row):\n",
    "    if row['plan'] == 'surf' and row['gb_used'] > row[\"gb_per_month_included\"]:\n",
    "        return (row['gb_used'] - row[\"gb_per_month_included\"]) * row[\"usd_per_gb\"]\n",
    "    elif row['plan'] == 'ultimate' and row['gb_used'] > row[\"gb_per_month_included\"]:\n",
    "        return (row['gb_used'] - row[\"gb_per_month_included\"]) * row[\"usd_per_gb\"]\n",
    "    else:\n",
    "        return 0\n",
    "\n",
    "users_consolidated_4['extra_fee_calls'] = users_consolidated_4.apply(calculate_extra_fee_calls, axis=1)\n",
    "users_consolidated_4['extra_fee_message'] = users_consolidated_4.apply(calculate_extra_fee_messages, axis=1)\n",
    "users_consolidated_4['extra_fee_internet'] = users_consolidated_4.apply(calculate_extra_fee_internet, axis=1)\n",
    "\n",
    "for user in users_consolidated_4:\n",
    "    users_consolidated_4['income_monthly_user']=users_consolidated_4['usd_monthly_fee']+users_consolidated_4['extra_fee_calls']+users_consolidated_4['extra_fee_message']+users_consolidated_4['extra_fee_internet']\n",
    "\n",
    "users_consolidated_4.head(10)\n",
    "\n"
   ]
  },
  {
   "cell_type": "markdown",
   "metadata": {
    "id": "-jtyHzJb0q1I"
   },
   "source": [
    "## Estudia el comportamiento de usuario"
   ]
  },
  {
   "cell_type": "markdown",
   "metadata": {
    "id": "AxU3Y0N70q1J"
   },
   "source": [
    "[Calcula algunas estadísticas descriptivas para los datos agregados y fusionados que nos sean útiles y que muestren un panorama general captado por los datos. Dibuja gráficos útiles para facilitar la comprensión. Dado que la tarea principal es comparar las tarifas y decidir cuál es más rentable, las estadísticas y gráficas deben calcularse por tarifa.]\n",
    "\n",
    "[En los comentarios hallarás pistas relevantes para las llamadas, pero no las hay para los mensajes e Internet. Sin embargo, el principio del estudio estadístico que se aplica para ellos es el mismo que para las llamadas.]"
   ]
  },
  {
   "cell_type": "markdown",
   "metadata": {
    "id": "vtW4CJEe0q1J"
   },
   "source": [
    "### Llamadas"
   ]
  },
  {
   "cell_type": "code",
   "execution_count": null,
   "metadata": {
    "id": "Jf5v5--k0q1J"
   },
   "outputs": [
    {
     "data": {
      "image/png": "[encoded data removed]",
      "text/plain": [
       "<Figure size 1200x600 with 1 Axes>"
      ]
     },
     "metadata": {},
     "output_type": "display_data"
    }
   ],
   "source": [
    "# Compara la duración promedio de llamadas por cada plan y por cada mes. Traza un gráfico de barras para visualizarla.\n",
    "\n",
    "# Agrupar los datos por 'plan' y 'year_month' y calcular la duración promedio de las llamadas\n",
    "avg_duration_by_plan_and_month = users_consolidated_4.groupby(['plan', 'year_month'])['duration'].mean().reset_index()\n",
    "\n",
    "# Configuración del gráfico\n",
    "color_palette = {'surf': 'blue', 'ultimate': 'red'}\n",
    "plt.figure(figsize=(12, 6))\n",
    "\n",
    "# Usar Seaborn para crear un gráfico de barras\n",
    "sns.barplot(x='year_month', y='duration', hue='plan', data=avg_duration_by_plan_and_month, palette=color_palette)\n",
    "\n",
    "# Añadir título y etiquetas\n",
    "plt.title('Duración Promedio de Llamadas por Plan y Mes', fontsize=16)\n",
    "plt.xlabel('Mes', fontsize=12)\n",
    "plt.ylabel('Duración Promedio de Llamadas (minutos)', fontsize=12)\n",
    "plt.xticks(rotation=45)  # Rotar las etiquetas del eje x para mayor claridad\n",
    "\n",
    "# Mostrar el gráfico\n",
    "plt.tight_layout()\n",
    "plt.show()"
   ]
  },
  {
   "cell_type": "code",
   "execution_count": null,
   "metadata": {
    "id": "QoLqW1S_0q1J"
   },
   "outputs": [
    {
     "data": {
      "image/png": "[encoded data removed]",
      "text/plain": [
       "<Figure size 1200x600 with 1 Axes>"
      ]
     },
     "metadata": {},
     "output_type": "display_data"
    }
   ],
   "source": [
    "# Compara el número de minutos mensuales que necesitan los usuarios de cada plan. Traza un histograma.\n",
    "\n",
    "# Agrupar los datos por 'plan', 'user_id' y 'year_month', y calcular la duración total de las llamadas por mes\n",
    "minutes_monthly = users_consolidated_4.groupby(['plan', 'user_id', 'year_month'])['duration'].sum().reset_index()\n",
    "\n",
    "# Configuración del gráfico\n",
    "color_palette = {'surf': 'blue', 'ultimate': 'red'}\n",
    "plt.figure(figsize=(12, 6))\n",
    "\n",
    "# Usar Seaborn para crear el histograma\n",
    "sns.histplot(data=minutes_monthly, x='duration', hue='plan', kde=True, bins=30, palette=color_palette)\n",
    "\n",
    "# Añadir título y etiquetas\n",
    "plt.title('Distribución de los Minutos Mensuales por Plan', fontsize=16)\n",
    "plt.xlabel('Minutos Mensuales', fontsize=12)\n",
    "plt.ylabel('Frecuencia', fontsize=12)\n",
    "\n",
    "# Mostrar el gráfico\n",
    "plt.tight_layout()\n",
    "plt.show()"
   ]
  },
  {
   "cell_type": "markdown",
   "metadata": {
    "id": "bLS9T8OH0q1K"
   },
   "source": [
    "[Calcula la media y la variable de la duración de las llamadas para averiguar si los usuarios de los distintos planes se comportan de forma diferente al realizar sus llamadas.]"
   ]
  },
  {
   "cell_type": "code",
   "execution_count": null,
   "metadata": {
    "id": "oSndbAnt0q1K"
   },
   "outputs": [
    {
     "name": "stdout",
     "output_type": "stream",
     "text": [
      "               Media      Varianza  Desviación Estándar\n",
      "plan                                                   \n",
      "surf      428.749523  54968.279461           234.453150\n",
      "ultimate  430.450000  57844.464812           240.508762\n"
     ]
    }
   ],
   "source": [
    "\n",
    "income_monthly = users_consolidated_4.groupby(['plan', 'user_id', 'year_month'])['duration'].sum().reset_index()\n",
    "\n",
    "#Calculo las métricas por plan, para tenerlas divididas \n",
    "stats_by_plan = income_monthly.groupby('plan')['duration'].agg(['mean', 'var', 'std'])\n",
    "\n",
    "#Modifico el nombre de las columnas \n",
    "stats_by_plan.columns = ['Media', 'Varianza', 'Desviación Estándar']\n",
    "\n",
    "print(stats_by_plan)"
   ]
  },
  {
   "cell_type": "code",
   "execution_count": null,
   "metadata": {
    "id": "nZzoRUKc0q1K"
   },
   "outputs": [
    {
     "data": {
      "image/png": "[encoded data removed]",
      "text/plain": [
       "<Figure size 1000x600 with 1 Axes>"
      ]
     },
     "metadata": {},
     "output_type": "display_data"
    }
   ],
   "source": [
    "# Traza un diagrama de caja para visualizar la distribución de la duración mensual de llamadas\n",
    "\n",
    "# Traza un diagrama de caja (boxplot)\n",
    "plt.figure(figsize=(10, 6))  \n",
    "sns.boxplot(x='plan', y='duration', data=users_consolidated_4, palette={'surf': 'blue', 'ultimate': 'red'})\n",
    "\n",
    "# Personalizar el gráfico\n",
    "plt.title('Distribución de la duración mensual de llamadas por plan')\n",
    "plt.xlabel('Plan')\n",
    "plt.ylabel('Duración de llamadas mensual (minutos)')\n",
    "plt.show()"
   ]
  },
  {
   "cell_type": "markdown",
   "metadata": {
    "id": "r627zBO50q1K"
   },
   "source": [
    "Considero que hay una variación considerable en función del plan adquirido. Respecto a los usuarios con el plan surf, es posible evidenciar que dado la restricción en el límite de minutos, tienden a incurrir en cargos adicionales sobre su factura. \n",
    "\n",
    "Ahora bien, los usuarios de ultimate en promedio no alcanzan a sobrepasar el número de minutos que ofrece su plan. "
   ]
  },
  {
   "cell_type": "markdown",
   "metadata": {
    "id": "8idKy8Wh0q1L"
   },
   "source": [
    "### Mensajes"
   ]
  },
  {
   "cell_type": "code",
   "execution_count": null,
   "metadata": {
    "id": "NXLxiTit0q1L"
   },
   "outputs": [
    {
     "data": {
      "image/png": "[encoded data removed]",
      "text/plain": [
       "<Figure size 1200x600 with 1 Axes>"
      ]
     },
     "metadata": {},
     "output_type": "display_data"
    }
   ],
   "source": [
    "# Compara el número de mensajes por cada plan y por cada mes. Traza un gráfico de barras para visualizarla.\n",
    "\n",
    "# Agrupar los datos por 'plan' y 'year_month' y calcular el número promedio de mensajes\n",
    "avg_message_by_plan_and_month = users_consolidated_4.groupby(['plan', 'year_month'])['message_date'].mean().reset_index()\n",
    "\n",
    "# Configuración del gráfico\n",
    "color_palette = {'surf': 'blue', 'ultimate': 'red'}\n",
    "plt.figure(figsize=(12, 6))\n",
    "\n",
    "# Usar Seaborn para crear un gráfico de barras\n",
    "sns.barplot(x='year_month', y='message_date', hue='plan', data=avg_message_by_plan_and_month, palette=color_palette)\n",
    "\n",
    "# Añadir título y etiquetas\n",
    "plt.title('Mensajes Promedio por Plan y Mes', fontsize=16)\n",
    "plt.xlabel('Mes', fontsize=12)\n",
    "plt.ylabel('Mensajes Promedio', fontsize=12)\n",
    "plt.xticks(rotation=45)  # Rotar las etiquetas del eje x para mayor claridad\n",
    "\n",
    "# Mostrar el gráfico\n",
    "plt.tight_layout()\n",
    "plt.show()\n"
   ]
  },
  {
   "cell_type": "code",
   "execution_count": null,
   "metadata": {
    "id": "GRI_R7xF0q1L"
   },
   "outputs": [
    {
     "data": {
      "image/png": "[encoded data removed]",
      "text/plain": [
       "<Figure size 1200x600 with 1 Axes>"
      ]
     },
     "metadata": {},
     "output_type": "display_data"
    }
   ],
   "source": [
    "# Compara el número de menesajes mensuales que necesitan los usuarios de cada plan. Traza un histograma.\n",
    "\n",
    "# Agrupar los datos por 'plan', 'user_id' y 'year_month', y calcular los mensajes por mes\n",
    "minutes_monthly = users_consolidated_4.groupby(['plan', 'user_id', 'year_month'])['message_date'].sum().reset_index()\n",
    "\n",
    "# Configuración del gráfico\n",
    "color_palette = {'surf': 'blue', 'ultimate': 'red'}\n",
    "plt.figure(figsize=(12, 6))\n",
    "\n",
    "# Usar Seaborn para crear el histograma\n",
    "sns.histplot(data=minutes_monthly, x='message_date', hue='plan', kde=True, bins=30, palette=color_palette)\n",
    "\n",
    "# Añadir título y etiquetas\n",
    "plt.title('Distribución de los mensajes', fontsize=16)\n",
    "plt.xlabel('Mensajes Mensuales', fontsize=12)\n",
    "plt.ylabel('Frecuencia', fontsize=12)\n",
    "\n",
    "# Mostrar el gráfico\n",
    "plt.tight_layout()\n",
    "plt.show()\n",
    "\n"
   ]
  },
  {
   "cell_type": "code",
   "execution_count": null,
   "metadata": {},
   "outputs": [
    {
     "name": "stdout",
     "output_type": "stream",
     "text": [
      "              Media     Varianza  Desviación Estándar\n",
      "plan                                                 \n",
      "surf      31.159568  1126.724522            33.566717\n",
      "ultimate  37.551389  1208.756744            34.767179\n"
     ]
    }
   ],
   "source": [
    "income_monthly = users_consolidated_4.groupby(['plan', 'user_id', 'year_month'])['message_date'].sum().reset_index()\n",
    "\n",
    "#Calculo las métricas por plan, para tenerlas divididas \n",
    "stats_by_plan = income_monthly.groupby('plan')['message_date'].agg(['mean', 'var', 'std'])\n",
    "\n",
    "#Modifico el nombre de las columnas \n",
    "stats_by_plan.columns = ['Media', 'Varianza', 'Desviación Estándar']\n",
    "\n",
    "print(stats_by_plan)"
   ]
  },
  {
   "cell_type": "code",
   "execution_count": null,
   "metadata": {},
   "outputs": [
    {
     "data": {
      "image/png": "[encoded data removed]",
      "text/plain": [
       "<Figure size 1000x600 with 1 Axes>"
      ]
     },
     "metadata": {},
     "output_type": "display_data"
    }
   ],
   "source": [
    "# Traza un diagrama de caja para visualizar la distribución de la duración mensual de los mensajes\n",
    "\n",
    "# Traza un diagrama de caja (boxplot)\n",
    "plt.figure(figsize=(10, 6))  \n",
    "sns.boxplot(x='plan', y='message_date', data=users_consolidated_4, palette={'surf': 'blue', 'ultimate': 'red'})\n",
    "\n",
    "# Personalizar el gráfico\n",
    "plt.title('Distribución de los mensajes enviados por plan')\n",
    "plt.xlabel('Plan')\n",
    "plt.ylabel('Mensajes enviados mensualmente')\n",
    "plt.show()"
   ]
  },
  {
   "cell_type": "markdown",
   "metadata": {
    "id": "390SSL480q1M"
   },
   "source": [
    "Se presenta un comportamiento similar al de las llamadas, los usuarios de ambos planes tienden a estar dentro del rango de mensajes que les ofrece su plan, sin perjucio de contar con algunos usuarios que sobrepasan dicha condición lo que, por defecto, les incurrirá en cargos adicionales por envío de SMS. "
   ]
  },
  {
   "cell_type": "markdown",
   "metadata": {
    "id": "42YSypXz0q1M"
   },
   "source": [
    "### Internet"
   ]
  },
  {
   "cell_type": "code",
   "execution_count": null,
   "metadata": {
    "id": "lSuKPtjh0q1M"
   },
   "outputs": [
    {
     "data": {
      "image/png": "[encoded data removed]",
      "text/plain": [
       "<Figure size 1200x600 with 1 Axes>"
      ]
     },
     "metadata": {},
     "output_type": "display_data"
    }
   ],
   "source": [
    "# Compara el número de gb por cada plan y por cada mes. Traza un gráfico de barras para visualizarla.\n",
    "\n",
    "# Agrupar los datos por 'plan' y 'year_month' y calcular el número promedio de gb\n",
    "avg_gb_by_plan_and_month = users_consolidated_4.groupby(['plan', 'year_month'])['gb_used'].mean().reset_index()\n",
    "\n",
    "# Configuración del gráfico\n",
    "color_palette = {'surf': 'blue', 'ultimate': 'red'}\n",
    "plt.figure(figsize=(12, 6))\n",
    "\n",
    "# Usar Seaborn para crear un gráfico de barras\n",
    "sns.barplot(x='year_month', y='gb_used', hue='plan', data=avg_gb_by_plan_and_month, palette=color_palette)\n",
    "\n",
    "# Añadir título y etiquetas\n",
    "plt.title('GB Promedio por Plan y Mes', fontsize=16)\n",
    "plt.xlabel('Mes', fontsize=12)\n",
    "plt.ylabel('GB Promedio', fontsize=12)\n",
    "plt.xticks(rotation=45)  # Rotar las etiquetas del eje x para mayor claridad\n",
    "\n",
    "# Mostrar el gráfico\n",
    "plt.tight_layout()\n",
    "plt.show()\n"
   ]
  },
  {
   "cell_type": "code",
   "execution_count": null,
   "metadata": {
    "id": "wnh8jYXi0q1N"
   },
   "outputs": [
    {
     "data": {
      "image/png": "[encoded data removed]",
      "text/plain": [
       "<Figure size 1200x600 with 1 Axes>"
      ]
     },
     "metadata": {},
     "output_type": "display_data"
    }
   ],
   "source": [
    "# Compara el número de GB mensuales que necesitan los usuarios de cada plan. Traza un histograma.\n",
    "\n",
    "# Agrupar los datos por 'plan', 'user_id' y 'year_month', y calcular los GB por mes\n",
    "gb_monthly = users_consolidated_4.groupby(['plan', 'user_id', 'year_month'])['gb_used'].sum().reset_index()\n",
    "\n",
    "# Configuración del gráfico\n",
    "color_palette = {'surf': 'blue', 'ultimate': 'red'}\n",
    "plt.figure(figsize=(12, 6))\n",
    "\n",
    "# Usar Seaborn para crear el histograma\n",
    "sns.histplot(data=gb_monthly, x='gb_used', hue='plan', kde=True, bins=30, palette=color_palette)\n",
    "\n",
    "# Añadir título y etiquetas\n",
    "plt.title('Distribución de los GB', fontsize=16)\n",
    "plt.xlabel('GB Mensuales', fontsize=12)\n",
    "plt.ylabel('Frecuencia', fontsize=12)\n",
    "\n",
    "# Mostrar el gráfico\n",
    "plt.tight_layout()\n",
    "plt.show()\n"
   ]
  },
  {
   "cell_type": "code",
   "execution_count": null,
   "metadata": {
    "id": "5VlyJ9ry0q1N"
   },
   "outputs": [
    {
     "name": "stdout",
     "output_type": "stream",
     "text": [
      "              Media  Varianza  Desviación Estándar\n",
      "plan                                              \n",
      "surf      16.670693  61.58360             7.847522\n",
      "ultimate  17.306944  58.83055             7.670108\n"
     ]
    }
   ],
   "source": [
    "income_monthly = users_consolidated_4.groupby(['plan', 'user_id', 'year_month'])['gb_used'].sum().reset_index()\n",
    "\n",
    "#Calculo las métricas por plan, para tenerlas divididas \n",
    "stats_by_plan = income_monthly.groupby('plan')['gb_used'].agg(['mean', 'var', 'std'])\n",
    "\n",
    "#Modifico el nombre de las columnas \n",
    "stats_by_plan.columns = ['Media', 'Varianza', 'Desviación Estándar']\n",
    "\n",
    "print(stats_by_plan)"
   ]
  },
  {
   "cell_type": "code",
   "execution_count": null,
   "metadata": {},
   "outputs": [
    {
     "data": {
      "image/png": "[encoded data removed]",
      "text/plain": [
       "<Figure size 1000x600 with 1 Axes>"
      ]
     },
     "metadata": {},
     "output_type": "display_data"
    }
   ],
   "source": [
    "# Traza un diagrama de caja para visualizar la distribución de los GB usados por mes\n",
    "\n",
    "# Traza un diagrama de caja (boxplot)\n",
    "plt.figure(figsize=(10, 6))  \n",
    "sns.boxplot(x='plan', y='gb_used', data=users_consolidated_4, palette={'surf': 'blue', 'ultimate': 'red'})\n",
    "\n",
    "# Personalizar el gráfico\n",
    "plt.title('Distribución de los GB usados por plan')\n",
    "plt.xlabel('Plan')\n",
    "plt.ylabel('GB usados mensualmente')\n",
    "plt.show()"
   ]
  },
  {
   "cell_type": "markdown",
   "metadata": {
    "id": "UN9zwuMP0q1N"
   },
   "source": [
    "Para el caso del servicio de datos (en GB) es posible evidenciar una alta demanda e incurrencia en cargos adicionales para los usuarios de ultimate, ya que la mayoría de usuarios usan más de 15 GB mensualmente; por otro lado, los usuarios de surf, aunque con cierta varianza, tienden a mantener su uso dentro de lo ofrecido por surf. "
   ]
  },
  {
   "cell_type": "markdown",
   "metadata": {
    "id": "tCijq3260q1N"
   },
   "source": [
    "## Ingreso"
   ]
  },
  {
   "cell_type": "markdown",
   "metadata": {
    "id": "9nq5IAcy0q1O"
   },
   "source": [
    "[Del mismo modo que has estudiado el comportamiento de los usuarios, describe estadísticamente los ingresos de los planes.]"
   ]
  },
  {
   "cell_type": "code",
   "execution_count": null,
   "metadata": {
    "id": "tz-dq_V00q1O"
   },
   "outputs": [
    {
     "data": {
      "image/png": "[encoded data removed]",
      "text/plain": [
       "<Figure size 1200x600 with 1 Axes>"
      ]
     },
     "metadata": {},
     "output_type": "display_data"
    }
   ],
   "source": [
    "# Compara el income por cada plan y por cada mes. Traza un gráfico de barras para visualizarla.\n",
    "\n",
    "# Agrupar los datos por 'plan' y 'year_month' y calcular el income por mes\n",
    "avg_income_by_plan_and_month = users_consolidated_4.groupby(['plan', 'year_month'])['income_monthly_user'].mean().reset_index()\n",
    "\n",
    "# Configuración del gráfico\n",
    "color_palette = {'surf': 'blue', 'ultimate': 'red'}\n",
    "plt.figure(figsize=(12, 6))\n",
    "\n",
    "# Usar Seaborn para crear un gráfico de barras\n",
    "sns.barplot(x='year_month', y='income_monthly_user', hue='plan', data=avg_income_by_plan_and_month, palette=color_palette)\n",
    "\n",
    "# Añadir título y etiquetas\n",
    "plt.title('Income promedio por Plan y Mes', fontsize=16)\n",
    "plt.xlabel('Mes', fontsize=12)\n",
    "plt.ylabel('Income promedio en USD', fontsize=12)\n",
    "plt.xticks(rotation=45)  # Rotar las etiquetas del eje x para mayor claridad\n",
    "\n",
    "# Mostrar el gráfico\n",
    "plt.tight_layout()\n",
    "plt.show()"
   ]
  },
  {
   "cell_type": "code",
   "execution_count": null,
   "metadata": {
    "id": "0Y1v8ZUz0q1P"
   },
   "outputs": [
    {
     "data": {
      "image/png": "[encoded data removed]",
      "text/plain": [
       "<Figure size 1200x600 with 1 Axes>"
      ]
     },
     "metadata": {},
     "output_type": "display_data"
    }
   ],
   "source": [
    "# Compara el número de income mensuales de cada plan. Traza un histograma.\n",
    "\n",
    "# Agrupar los datos por 'plan', 'user_id' y 'year_month', y calcular los income mensuales\n",
    "income_monthly = users_consolidated_4.groupby(['plan', 'user_id', 'year_month'])['income_monthly_user'].sum().reset_index()\n",
    "\n",
    "# Configuración del gráfico\n",
    "color_palette = {'surf': 'blue', 'ultimate': 'red'}\n",
    "plt.figure(figsize=(12, 6))\n",
    "\n",
    "# Usar Seaborn para crear el histograma\n",
    "sns.histplot(data=income_monthly, x='income_monthly_user', hue='plan', kde=True, bins=60, palette=color_palette)\n",
    "\n",
    "# Añadir título y etiquetas\n",
    "plt.title('Distribución de los incomes', fontsize=16)\n",
    "plt.xlabel('Income Mensuales', fontsize=12)\n",
    "plt.ylabel('Frecuencia', fontsize=12)\n",
    "\n",
    "# Mostrar el gráfico\n",
    "plt.tight_layout()\n",
    "plt.show()\n"
   ]
  },
  {
   "cell_type": "code",
   "execution_count": null,
   "metadata": {},
   "outputs": [
    {
     "name": "stdout",
     "output_type": "stream",
     "text": [
      "              Media     Varianza  Desviación Estándar\n",
      "plan                                                 \n",
      "surf      58.862638  2975.596549            54.549029\n",
      "ultimate  72.313889   129.848486            11.395108\n"
     ]
    }
   ],
   "source": [
    "income_monthly = users_consolidated_4.groupby(['plan', 'user_id', 'year_month'])['income_monthly_user'].sum().reset_index()\n",
    "\n",
    "#Calculo las métricas por plan, para tenerlas divididas \n",
    "stats_by_plan = income_monthly.groupby('plan')['income_monthly_user'].agg(['mean', 'var', 'std'])\n",
    "\n",
    "#Modifico el nombre de las columnas \n",
    "stats_by_plan.columns = ['Media', 'Varianza', 'Desviación Estándar']\n",
    "\n",
    "print(stats_by_plan)"
   ]
  },
  {
   "cell_type": "code",
   "execution_count": null,
   "metadata": {
    "id": "bYmwxyVh0q1P"
   },
   "outputs": [
    {
     "data": {
      "image/png": "[encoded data removed]",
      "text/plain": [
       "<Figure size 1000x600 with 1 Axes>"
      ]
     },
     "metadata": {},
     "output_type": "display_data"
    }
   ],
   "source": [
    "# Traza un diagrama de caja para visualizar la distribución de los ingresos por mes\n",
    "\n",
    "# Traza un diagrama de caja (boxplot)\n",
    "plt.figure(figsize=(10, 6))  \n",
    "sns.boxplot(x='plan', y='income_monthly_user', data=users_consolidated_4, palette={'surf': 'blue', 'ultimate': 'red'})\n",
    "\n",
    "# Personalizar el gráfico\n",
    "plt.title('Distribución de los ingresos por plan')\n",
    "plt.xlabel('Plan')\n",
    "plt.ylabel('Ingresos mensualmente')\n",
    "plt.show()"
   ]
  },
  {
   "cell_type": "markdown",
   "metadata": {
    "id": "KAFidcXZ0q1P"
   },
   "source": [
    "Es posible evidenciar que los usuarios de ambos planes tienden a pagar cargos adicionales a causa de uso mayor a los servicios ofrecidos por Surf y Ultimate, tendiendo esta ser más común en los usuarios de Ultimate a causa de los GB adicionales requeridos mensualmente, sin desconcer de que por parte de algunos usuarios de surf también se presenta un uso mayor a lo ofrecido de manera estándar por esta línea. "
   ]
  },
  {
   "cell_type": "markdown",
   "metadata": {
    "id": "ajJ7VKeI0q1Q"
   },
   "source": [
    "## Prueba las hipótesis estadísticas"
   ]
  },
  {
   "cell_type": "code",
   "execution_count": null,
   "metadata": {
    "id": "nFoPNlPq0q1R"
   },
   "outputs": [
    {
     "name": "stdout",
     "output_type": "stream",
     "text": [
      "Valor t: 9.344718611813233\n",
      "Valor p: 2.5613755181532966e-20\n",
      "Rechazamos la hipótesis nula. Hay una diferencia significativa en los ingresos promedio entre los planes 'Ultimate' y 'Surf'.\n"
     ]
    }
   ],
   "source": [
    "# Prueba las hipótesis\n",
    "\n",
    "# Filtro los datos para los planes 'surf' y 'ultimate'\n",
    "ultimate_income = users_consolidated_4[users_consolidated_4['plan'] == 'ultimate']['income_monthly_user']\n",
    "surf_income = users_consolidated_4[users_consolidated_4['plan'] == 'surf']['income_monthly_user']\n",
    "\n",
    "# Realizo la prueba t de Student para dos muestras independientes\n",
    "t_stat, p_value = stats.ttest_ind(ultimate_income, surf_income, equal_var=False)  # asumimos varianzas desiguales\n",
    "\n",
    "# Mostrar el valor t y el valor p\n",
    "print(f\"Valor t: {t_stat}\")\n",
    "print(f\"Valor p: {p_value}\")\n",
    "\n",
    "# Tomar la decisión\n",
    "alpha = 0.05\n",
    "if p_value < alpha:\n",
    "    print(\"Rechazamos la hipótesis nula. Hay una diferencia significativa en los ingresos promedio entre los planes 'Ultimate' y 'Surf'.\")\n",
    "else:\n",
    "    print(\"No podemos rechazar la hipótesis nula. No hay suficiente evidencia para afirmar que los ingresos promedio difieren entre los planes 'Ultimate' y 'Surf'.\")"
   ]
  },
  {
   "cell_type": "code",
   "execution_count": null,
   "metadata": {
    "id": "Cqcj7wrZ0q1S"
   },
   "outputs": [
    {
     "name": "stdout",
     "output_type": "stream",
     "text": [
      "Valor t: -2.1923231649466426\n",
      "Valor p: 0.028765503550625456\n",
      "Rechazamos la hipótesis nula. Hay una diferencia significativa en los ingresos promedio entre los usuarios del área NY-NJ y los de otras regiones.\n"
     ]
    }
   ],
   "source": [
    "# Prueba las hipótesis\n",
    "\n",
    "# Filtro los datos para los usuarios del área NY-NJ\n",
    "ny_nj_income = users_consolidated_4[users_consolidated_4['city'] == 'New York-Newark-Jersey City, NY-NJ-PA MSA']['income_monthly_user']\n",
    "\n",
    "# Filtro los datos para los usuarios de otras regiones\n",
    "other_regions_income = users_consolidated_4[users_consolidated_4['city'] != 'New York-Newark-Jersey City, NY-NJ-PA MSA']['income_monthly_user']\n",
    "\n",
    "# Realizola prueba t de Student para dos muestras independientes\n",
    "t_stat, p_value = stats.ttest_ind(ny_nj_income, other_regions_income, equal_var=False)  # asumimos varianzas desiguales\n",
    "\n",
    "# Muestro el valor t y el valor p\n",
    "print(f\"Valor t: {t_stat}\")\n",
    "print(f\"Valor p: {p_value}\")\n",
    "\n",
    "# Tomo la decisión\n",
    "alpha = 0.05\n",
    "if p_value < alpha:\n",
    "    print(\"Rechazamos la hipótesis nula. Hay una diferencia significativa en los ingresos promedio entre los usuarios del área NY-NJ y los de otras regiones.\")\n",
    "else:\n",
    "    print(\"No podemos rechazar la hipótesis nula. No hay suficiente evidencia para afirmar que los ingresos promedio difieren entre los usuarios del área NY-NJ y los de otras regiones.\")"
   ]
  },
  {
   "cell_type": "markdown",
   "metadata": {
    "id": "bbTR8UQO0q1T"
   },
   "source": [
    "## Conclusión general\n",
    "\n",
    "Después de realizar una organización de la información, inclusión de columnas adicionales con información valiosa y requerida para el análisis estadístico de la información, logre presentar diferentes consideraciones: \n",
    "\n",
    "1. Megaline cuenta con un sistema adecuado de registro de información, toda vez que no se presentó la necesidad de realizar ajustes de fondo sobre la información presentada en los diferentes dataframes. \n",
    "2. Los usuarios tienden a mostrar un comportamiento variable según la línea con la que cuenten (Surf o ultimate). \n",
    "3. Los usuarios de Surf tienden a tener un pago adicional mucho mayor en consideración a los que pueden tener los usuarios de Ultimate, esto quizás a que los planes ofrecidos por Ultimate contienen mejores beneficios. \n",
    "4. Como recomendación, aconsejaría a Megaline a iniciar el registro de uso de internet en GB en vez de MB, esto en función de que los análisis requeridos y realizados se dieron en GB. "
   ]
  }
 ],
 "metadata": {
  "ExecuteTimeLog": [
   {
    "duration": 828,
    "start_time": "2021-11-16T09:21:11.304Z"
   },
   {
    "duration": 893,
    "start_time": "2021-11-16T09:21:17.728Z"
   },
   {
    "duration": 1150,
    "start_time": "2021-11-16T09:21:29.568Z"
   },
   {
    "duration": 3,
    "start_time": "2021-11-16T09:24:14.495Z"
   },
   {
    "duration": 120,
    "start_time": "2021-11-16T09:24:46.630Z"
   },
   {
    "duration": 3,
    "start_time": "2021-11-16T09:28:27.882Z"
   },
   {
    "duration": 4,
    "start_time": "2021-11-16T09:29:54.281Z"
   },
   {
    "duration": 3,
    "start_time": "2021-11-16T09:30:45.936Z"
   },
   {
    "duration": 4,
    "start_time": "2021-11-16T09:31:06.300Z"
   },
   {
    "duration": 113,
    "start_time": "2021-11-16T09:31:37.208Z"
   },
   {
    "duration": 143,
    "start_time": "2021-11-16T09:31:48.656Z"
   },
   {
    "duration": 98,
    "start_time": "2021-11-16T09:31:55.678Z"
   },
   {
    "duration": 3,
    "start_time": "2021-11-16T09:32:08.535Z"
   },
   {
    "duration": 111,
    "start_time": "2021-11-16T09:32:10.120Z"
   },
   {
    "duration": 3,
    "start_time": "2021-11-16T09:32:15.732Z"
   },
   {
    "duration": 4,
    "start_time": "2021-11-16T09:32:29.423Z"
   },
   {
    "duration": 3,
    "start_time": "2021-11-16T10:03:03.074Z"
   },
   {
    "duration": 3,
    "start_time": "2021-11-16T10:10:01.288Z"
   },
   {
    "duration": 3,
    "start_time": "2021-11-16T10:10:46.923Z"
   },
   {
    "duration": 121,
    "start_time": "2021-11-16T10:37:46.494Z"
   },
   {
    "duration": 125,
    "start_time": "2021-11-16T10:38:20.632Z"
   },
   {
    "duration": 112,
    "start_time": "2021-11-16T10:46:53.001Z"
   },
   {
    "duration": 110,
    "start_time": "2021-11-16T10:48:25.775Z"
   },
   {
    "duration": 3,
    "start_time": "2021-11-16T10:50:18.720Z"
   },
   {
    "duration": 4,
    "start_time": "2021-11-16T10:50:37.649Z"
   },
   {
    "duration": 2,
    "start_time": "2021-11-16T10:50:51.884Z"
   },
   {
    "duration": 3,
    "start_time": "2021-11-16T10:51:56.237Z"
   },
   {
    "duration": 101,
    "start_time": "2021-11-16T10:53:13.791Z"
   },
   {
    "duration": 3,
    "start_time": "2021-11-16T10:55:59.186Z"
   },
   {
    "duration": 3,
    "start_time": "2021-11-16T10:56:10.751Z"
   },
   {
    "duration": 3,
    "start_time": "2021-11-16T10:56:49.038Z"
   },
   {
    "duration": 3,
    "start_time": "2021-11-16T10:56:49.174Z"
   },
   {
    "duration": 4,
    "start_time": "2021-11-16T10:56:49.414Z"
   },
   {
    "duration": 3,
    "start_time": "2021-11-16T10:56:49.680Z"
   },
   {
    "duration": 3,
    "start_time": "2021-11-16T10:56:50.370Z"
   },
   {
    "duration": 114,
    "start_time": "2021-11-16T10:59:34.518Z"
   },
   {
    "duration": 3,
    "start_time": "2021-11-16T11:01:41.201Z"
   },
   {
    "duration": 116,
    "start_time": "2021-11-16T11:01:48.754Z"
   },
   {
    "duration": 3,
    "start_time": "2021-11-16T11:02:16.685Z"
   },
   {
    "duration": 3,
    "start_time": "2021-11-16T11:02:19.479Z"
   },
   {
    "duration": 3,
    "start_time": "2021-11-16T11:02:47.067Z"
   },
   {
    "duration": 3,
    "start_time": "2021-11-16T11:02:49.353Z"
   },
   {
    "duration": 3,
    "start_time": "2021-11-16T11:03:07.835Z"
   },
   {
    "duration": 3,
    "start_time": "2021-11-16T11:03:07.953Z"
   },
   {
    "duration": 112,
    "start_time": "2021-11-16T11:07:52.072Z"
   },
   {
    "duration": 187,
    "start_time": "2021-11-16T11:09:23.468Z"
   },
   {
    "duration": 4,
    "start_time": "2021-11-16T11:10:01.455Z"
   },
   {
    "duration": 3,
    "start_time": "2021-11-16T11:10:05.069Z"
   },
   {
    "duration": 4,
    "start_time": "2021-11-16T11:10:13.376Z"
   },
   {
    "duration": 3,
    "start_time": "2021-11-16T11:10:14.434Z"
   },
   {
    "duration": 3,
    "start_time": "2021-11-16T11:10:22.853Z"
   },
   {
    "duration": 4,
    "start_time": "2021-11-16T11:27:29.279Z"
   },
   {
    "duration": 4,
    "start_time": "2021-11-16T11:29:08.919Z"
   },
   {
    "duration": 118,
    "start_time": "2021-11-16T11:29:46.703Z"
   },
   {
    "duration": 437,
    "start_time": "2021-11-16T11:36:02.181Z"
   },
   {
    "duration": 157,
    "start_time": "2021-11-16T11:36:14.388Z"
   },
   {
    "duration": 207,
    "start_time": "2021-11-16T11:47:15.898Z"
   },
   {
    "duration": 3,
    "start_time": "2021-11-16T11:53:52.092Z"
   },
   {
    "duration": 3,
    "start_time": "2021-11-16T11:53:52.236Z"
   },
   {
    "duration": 3,
    "start_time": "2021-11-16T11:59:12.005Z"
   },
   {
    "duration": 112,
    "start_time": "2021-11-16T12:00:33.446Z"
   },
   {
    "duration": 3,
    "start_time": "2021-11-16T12:02:14.453Z"
   },
   {
    "duration": 3,
    "start_time": "2021-11-16T12:02:39.512Z"
   },
   {
    "duration": 106,
    "start_time": "2021-11-16T12:03:03.460Z"
   },
   {
    "duration": 3,
    "start_time": "2021-11-17T20:37:21.139Z"
   },
   {
    "duration": 3,
    "start_time": "2021-11-17T20:37:22.229Z"
   },
   {
    "duration": 3,
    "start_time": "2021-11-17T20:38:38.806Z"
   },
   {
    "duration": 3,
    "start_time": "2021-11-17T20:38:41.958Z"
   },
   {
    "duration": 3,
    "start_time": "2021-11-17T20:43:46.551Z"
   },
   {
    "duration": 4,
    "start_time": "2021-11-17T20:58:21.835Z"
   },
   {
    "duration": 3,
    "start_time": "2021-11-17T20:59:21.872Z"
   },
   {
    "duration": 4,
    "start_time": "2021-11-17T20:59:45.352Z"
   },
   {
    "duration": 4,
    "start_time": "2021-11-17T20:59:49.646Z"
   },
   {
    "duration": 159,
    "start_time": "2021-11-17T21:02:26.949Z"
   },
   {
    "duration": 3,
    "start_time": "2021-11-17T21:03:53.461Z"
   },
   {
    "duration": 3,
    "start_time": "2021-11-17T21:03:53.694Z"
   },
   {
    "duration": 3,
    "start_time": "2021-11-17T21:05:28.145Z"
   },
   {
    "duration": 116,
    "start_time": "2021-11-17T21:05:57.787Z"
   },
   {
    "duration": 3,
    "start_time": "2021-11-17T21:06:37.993Z"
   },
   {
    "duration": 3,
    "start_time": "2021-11-17T21:06:38.261Z"
   },
   {
    "duration": 3,
    "start_time": "2021-11-17T21:11:54.358Z"
   },
   {
    "duration": 3,
    "start_time": "2021-11-17T21:12:43.846Z"
   },
   {
    "duration": 4,
    "start_time": "2021-11-17T21:13:08.773Z"
   },
   {
    "duration": 3,
    "start_time": "2021-11-17T21:14:44.441Z"
   },
   {
    "duration": 3,
    "start_time": "2021-11-17T21:15:42.059Z"
   },
   {
    "duration": 4,
    "start_time": "2021-11-17T21:15:51.995Z"
   },
   {
    "duration": 3,
    "start_time": "2021-11-17T21:15:53.923Z"
   },
   {
    "duration": 3,
    "start_time": "2021-11-17T21:15:55.282Z"
   },
   {
    "duration": 3,
    "start_time": "2021-11-17T21:16:28.492Z"
   },
   {
    "duration": 3,
    "start_time": "2021-11-17T21:16:32.603Z"
   },
   {
    "duration": 3,
    "start_time": "2021-11-17T21:17:06.941Z"
   },
   {
    "duration": 98,
    "start_time": "2021-11-17T21:18:05.733Z"
   },
   {
    "duration": 4,
    "start_time": "2021-11-17T21:21:35.255Z"
   },
   {
    "duration": 3,
    "start_time": "2021-11-17T21:21:37.804Z"
   },
   {
    "duration": 4,
    "start_time": "2021-11-17T21:23:06.071Z"
   },
   {
    "duration": 3,
    "start_time": "2021-11-17T21:23:24.799Z"
   },
   {
    "duration": 3,
    "start_time": "2021-11-17T21:23:32.591Z"
   },
   {
    "duration": 98,
    "start_time": "2021-11-17T21:28:31.559Z"
   },
   {
    "duration": 3,
    "start_time": "2021-11-17T21:28:45.448Z"
   },
   {
    "duration": 3,
    "start_time": "2021-11-17T21:29:17.303Z"
   },
   {
    "duration": 3,
    "start_time": "2021-11-17T21:29:29.617Z"
   },
   {
    "duration": 3,
    "start_time": "2021-11-17T21:29:32.681Z"
   },
   {
    "duration": 3,
    "start_time": "2021-11-17T21:36:11.474Z"
   },
   {
    "duration": 3,
    "start_time": "2021-11-17T21:36:14.791Z"
   },
   {
    "duration": 3,
    "start_time": "2021-11-17T21:36:53.943Z"
   },
   {
    "duration": 3,
    "start_time": "2021-11-17T21:36:56.165Z"
   },
   {
    "duration": 4,
    "start_time": "2021-11-17T21:37:16.590Z"
   },
   {
    "duration": 3,
    "start_time": "2021-11-17T21:37:22.702Z"
   },
   {
    "duration": 4,
    "start_time": "2021-11-17T21:38:03.479Z"
   },
   {
    "duration": 3,
    "start_time": "2021-11-17T21:38:08.601Z"
   },
   {
    "duration": 3,
    "start_time": "2021-11-17T21:38:12.928Z"
   },
   {
    "duration": 3,
    "start_time": "2021-11-17T21:38:48.896Z"
   },
   {
    "duration": 2,
    "start_time": "2021-11-17T21:38:49.171Z"
   },
   {
    "duration": 4,
    "start_time": "2021-11-17T21:39:57.889Z"
   },
   {
    "duration": 3,
    "start_time": "2021-11-17T21:39:58.057Z"
   },
   {
    "duration": 3,
    "start_time": "2021-11-17T21:41:20.108Z"
   },
   {
    "duration": 3,
    "start_time": "2021-11-17T21:41:20.629Z"
   },
   {
    "duration": 3,
    "start_time": "2021-11-17T21:42:49.136Z"
   },
   {
    "duration": 3,
    "start_time": "2021-11-17T21:43:15.137Z"
   },
   {
    "duration": 4,
    "start_time": "2021-11-17T21:43:16.766Z"
   },
   {
    "duration": 4,
    "start_time": "2021-11-17T21:43:31.711Z"
   },
   {
    "duration": 3,
    "start_time": "2021-11-17T21:43:36.312Z"
   },
   {
    "duration": 4,
    "start_time": "2021-11-17T21:45:08.825Z"
   },
   {
    "duration": 4,
    "start_time": "2021-11-17T21:45:10.119Z"
   },
   {
    "duration": 4,
    "start_time": "2021-11-17T21:45:13.748Z"
   },
   {
    "duration": 3,
    "start_time": "2021-11-17T21:45:22.219Z"
   },
   {
    "duration": 3,
    "start_time": "2021-11-17T21:45:33.412Z"
   },
   {
    "duration": 2,
    "start_time": "2021-11-17T21:46:01.885Z"
   },
   {
    "duration": 3,
    "start_time": "2021-11-17T21:46:03.628Z"
   },
   {
    "duration": 107,
    "start_time": "2021-11-17T21:47:32.512Z"
   },
   {
    "duration": 103,
    "start_time": "2021-11-17T21:50:36.243Z"
   },
   {
    "duration": 3,
    "start_time": "2021-11-18T06:28:31.440Z"
   },
   {
    "duration": 3,
    "start_time": "2021-11-18T06:29:00.168Z"
   },
   {
    "duration": 3,
    "start_time": "2021-11-18T06:31:27.008Z"
   },
   {
    "duration": 2,
    "start_time": "2021-11-18T06:35:34.288Z"
   },
   {
    "duration": 2,
    "start_time": "2021-11-18T06:38:04.527Z"
   },
   {
    "duration": 500,
    "start_time": "2025-03-16T17:03:23.729Z"
   },
   {
    "duration": 2392,
    "start_time": "2025-03-16T17:03:42.548Z"
   },
   {
    "duration": 365,
    "start_time": "2025-03-16T17:03:45.296Z"
   },
   {
    "duration": 226,
    "start_time": "2025-03-16T17:03:53.697Z"
   },
   {
    "duration": 18,
    "start_time": "2025-03-16T17:05:16.651Z"
   },
   {
    "duration": 22,
    "start_time": "2025-03-16T17:05:24.526Z"
   },
   {
    "duration": 20,
    "start_time": "2025-03-16T17:05:38.026Z"
   },
   {
    "duration": 15,
    "start_time": "2025-03-16T17:06:58.300Z"
   },
   {
    "duration": 6,
    "start_time": "2025-03-16T17:07:00.992Z"
   },
   {
    "duration": 5,
    "start_time": "2025-03-16T17:07:14.932Z"
   },
   {
    "duration": 155,
    "start_time": "2025-03-16T17:07:57.772Z"
   },
   {
    "duration": 9,
    "start_time": "2025-03-16T17:08:02.114Z"
   },
   {
    "duration": 5,
    "start_time": "2025-03-16T17:08:05.016Z"
   },
   {
    "duration": 5,
    "start_time": "2025-03-16T17:08:16.590Z"
   },
   {
    "duration": 6,
    "start_time": "2025-03-16T17:08:41.698Z"
   },
   {
    "duration": 11,
    "start_time": "2025-03-16T17:28:10.396Z"
   },
   {
    "duration": 427,
    "start_time": "2025-03-16T17:29:01.512Z"
   },
   {
    "duration": 43,
    "start_time": "2025-03-16T17:29:14.378Z"
   },
   {
    "duration": 41,
    "start_time": "2025-03-16T17:29:46.176Z"
   },
   {
    "duration": 5,
    "start_time": "2025-03-16T17:29:50.727Z"
   },
   {
    "duration": 42,
    "start_time": "2025-03-16T17:29:53.695Z"
   },
   {
    "duration": 156,
    "start_time": "2025-03-16T17:30:51.231Z"
   },
   {
    "duration": 8,
    "start_time": "2025-03-16T17:30:54.064Z"
   },
   {
    "duration": 5,
    "start_time": "2025-03-16T17:30:58.120Z"
   },
   {
    "duration": 12,
    "start_time": "2025-03-16T17:31:22.957Z"
   },
   {
    "duration": 14,
    "start_time": "2025-03-16T17:35:03.182Z"
   },
   {
    "duration": 7,
    "start_time": "2025-03-16T17:35:08.697Z"
   },
   {
    "duration": 44,
    "start_time": "2025-03-16T17:39:28.023Z"
   },
   {
    "duration": 47,
    "start_time": "2025-03-16T17:39:46.378Z"
   },
   {
    "duration": 6,
    "start_time": "2025-03-16T17:40:14.830Z"
   },
   {
    "duration": 40,
    "start_time": "2025-03-16T17:40:19.227Z"
   },
   {
    "duration": 10,
    "start_time": "2025-03-16T17:44:04.229Z"
   },
   {
    "duration": 5,
    "start_time": "2025-03-16T17:44:10.343Z"
   },
   {
    "duration": 41,
    "start_time": "2025-03-16T17:44:15.031Z"
   },
   {
    "duration": 190,
    "start_time": "2025-03-16T17:44:32.079Z"
   },
   {
    "duration": 9,
    "start_time": "2025-03-16T17:44:34.428Z"
   },
   {
    "duration": 5,
    "start_time": "2025-03-16T17:44:37.483Z"
   },
   {
    "duration": 11,
    "start_time": "2025-03-16T17:44:42.130Z"
   },
   {
    "duration": 5,
    "start_time": "2025-03-16T17:46:56.530Z"
   },
   {
    "duration": 12,
    "start_time": "2025-03-16T17:47:19.657Z"
   },
   {
    "duration": 15,
    "start_time": "2025-03-16T17:53:40.493Z"
   },
   {
    "duration": 9,
    "start_time": "2025-03-16T17:57:56.037Z"
   },
   {
    "duration": 14,
    "start_time": "2025-03-16T17:58:04.860Z"
   },
   {
    "duration": 8,
    "start_time": "2025-03-16T18:01:19.526Z"
   },
   {
    "duration": 9,
    "start_time": "2025-03-16T18:02:21.446Z"
   },
   {
    "duration": 10,
    "start_time": "2025-03-16T18:02:39.335Z"
   },
   {
    "duration": 9,
    "start_time": "2025-03-16T18:22:33.319Z"
   },
   {
    "duration": 17,
    "start_time": "2025-03-16T18:23:07.585Z"
   },
   {
    "duration": 11,
    "start_time": "2025-03-16T18:23:17.835Z"
   },
   {
    "duration": 11,
    "start_time": "2025-03-16T18:26:11.551Z"
   },
   {
    "duration": 12,
    "start_time": "2025-03-16T18:27:47.692Z"
   },
   {
    "duration": 12,
    "start_time": "2025-03-16T18:28:00.133Z"
   },
   {
    "duration": 16,
    "start_time": "2025-03-16T18:31:37.959Z"
   },
   {
    "duration": 10,
    "start_time": "2025-03-16T18:33:31.456Z"
   },
   {
    "duration": 42,
    "start_time": "2025-03-16T18:53:59.291Z"
   },
   {
    "duration": 22,
    "start_time": "2025-03-16T18:56:05.184Z"
   },
   {
    "duration": 104,
    "start_time": "2025-03-16T18:56:16.944Z"
   },
   {
    "duration": 23,
    "start_time": "2025-03-16T18:56:27.072Z"
   },
   {
    "duration": 28,
    "start_time": "2025-03-16T18:56:38.731Z"
   },
   {
    "duration": 2,
    "start_time": "2025-03-16T19:12:38.715Z"
   },
   {
    "duration": 3,
    "start_time": "2025-03-16T19:12:41.865Z"
   },
   {
    "duration": 154,
    "start_time": "2025-03-16T19:12:44.737Z"
   },
   {
    "duration": 13,
    "start_time": "2025-03-16T19:12:50.717Z"
   },
   {
    "duration": 8,
    "start_time": "2025-03-16T19:13:40.435Z"
   },
   {
    "duration": 8,
    "start_time": "2025-03-16T19:16:38.096Z"
   },
   {
    "duration": 11,
    "start_time": "2025-03-16T19:19:12.454Z"
   },
   {
    "duration": 9,
    "start_time": "2025-03-16T19:19:15.931Z"
   },
   {
    "duration": 23,
    "start_time": "2025-03-16T19:19:47.874Z"
   },
   {
    "duration": 15,
    "start_time": "2025-03-16T19:22:11.153Z"
   },
   {
    "duration": 10,
    "start_time": "2025-03-16T19:22:28.988Z"
   },
   {
    "duration": 22,
    "start_time": "2025-03-16T19:28:05.412Z"
   },
   {
    "duration": 10,
    "start_time": "2025-03-16T19:29:23.780Z"
   },
   {
    "duration": 10,
    "start_time": "2025-03-16T19:29:30.751Z"
   },
   {
    "duration": 11,
    "start_time": "2025-03-16T19:29:48.792Z"
   },
   {
    "duration": 345,
    "start_time": "2025-03-16T20:04:03.595Z"
   },
   {
    "duration": 33,
    "start_time": "2025-03-16T20:04:24.143Z"
   },
   {
    "duration": 30,
    "start_time": "2025-03-16T20:05:07.886Z"
   },
   {
    "duration": 30,
    "start_time": "2025-03-16T20:05:24.496Z"
   },
   {
    "duration": 171,
    "start_time": "2025-03-16T20:58:15.261Z"
   },
   {
    "duration": 12,
    "start_time": "2025-03-16T20:58:44.548Z"
   },
   {
    "duration": 2623,
    "start_time": "2025-03-16T20:58:48.772Z"
   },
   {
    "duration": 3,
    "start_time": "2025-03-16T20:58:53.600Z"
   },
   {
    "duration": 3,
    "start_time": "2025-03-16T20:58:56.212Z"
   },
   {
    "duration": 236,
    "start_time": "2025-03-16T20:58:58.346Z"
   },
   {
    "duration": 41,
    "start_time": "2025-03-16T20:59:06.184Z"
   },
   {
    "duration": 58,
    "start_time": "2025-03-16T20:59:11.376Z"
   },
   {
    "duration": 65,
    "start_time": "2025-03-16T21:00:29.150Z"
   },
   {
    "duration": 15,
    "start_time": "2025-03-16T21:05:22.900Z"
   },
   {
    "duration": 13,
    "start_time": "2025-03-16T21:07:32.527Z"
   },
   {
    "duration": 81,
    "start_time": "2025-03-16T21:09:53.492Z"
   },
   {
    "duration": 36,
    "start_time": "2025-03-16T21:10:16.804Z"
   },
   {
    "duration": 586,
    "start_time": "2025-03-16T21:10:33.943Z"
   },
   {
    "duration": 5,
    "start_time": "2025-03-16T21:10:59.101Z"
   },
   {
    "duration": 138,
    "start_time": "2025-03-16T21:11:13.655Z"
   },
   {
    "duration": 12,
    "start_time": "2025-03-16T21:13:18.150Z"
   },
   {
    "duration": 22,
    "start_time": "2025-03-16T21:14:05.986Z"
   },
   {
    "duration": 22,
    "start_time": "2025-03-16T21:14:17.363Z"
   },
   {
    "duration": 12,
    "start_time": "2025-03-16T21:14:34.423Z"
   },
   {
    "duration": 13,
    "start_time": "2025-03-16T21:14:56.411Z"
   },
   {
    "duration": 24,
    "start_time": "2025-03-16T21:17:59.238Z"
   },
   {
    "duration": 14,
    "start_time": "2025-03-16T21:18:15.024Z"
   },
   {
    "duration": 157,
    "start_time": "2025-03-16T21:18:57.026Z"
   },
   {
    "duration": 12,
    "start_time": "2025-03-16T21:19:12.893Z"
   },
   {
    "duration": 12,
    "start_time": "2025-03-16T21:19:28.908Z"
   },
   {
    "duration": 11,
    "start_time": "2025-03-16T21:19:32.591Z"
   },
   {
    "duration": 11,
    "start_time": "2025-03-16T21:19:39.474Z"
   },
   {
    "duration": 14,
    "start_time": "2025-03-16T21:22:24.362Z"
   },
   {
    "duration": 9,
    "start_time": "2025-03-16T21:22:27.425Z"
   },
   {
    "duration": 10,
    "start_time": "2025-03-16T21:22:45.252Z"
   },
   {
    "duration": 26,
    "start_time": "2025-03-16T21:23:26.143Z"
   },
   {
    "duration": 5,
    "start_time": "2025-03-16T21:28:26.667Z"
   },
   {
    "duration": 12,
    "start_time": "2025-03-16T21:28:54.675Z"
   },
   {
    "duration": 7,
    "start_time": "2025-03-16T21:29:02.339Z"
   },
   {
    "duration": 2,
    "start_time": "2025-03-16T21:46:30.273Z"
   },
   {
    "duration": 157,
    "start_time": "2025-03-16T21:46:32.816Z"
   },
   {
    "duration": 56,
    "start_time": "2025-03-16T21:46:41.746Z"
   },
   {
    "duration": 2,
    "start_time": "2025-03-16T21:48:09.518Z"
   },
   {
    "duration": 39,
    "start_time": "2025-03-16T21:49:43.167Z"
   },
   {
    "duration": 25,
    "start_time": "2025-03-16T21:51:25.477Z"
   },
   {
    "duration": 25,
    "start_time": "2025-03-16T21:51:38.636Z"
   },
   {
    "duration": 32,
    "start_time": "2025-03-16T21:52:24.346Z"
   },
   {
    "duration": 25,
    "start_time": "2025-03-16T21:54:04.050Z"
   },
   {
    "duration": 24,
    "start_time": "2025-03-16T21:54:34.163Z"
   },
   {
    "duration": 25,
    "start_time": "2025-03-16T21:57:24.561Z"
   },
   {
    "duration": 111,
    "start_time": "2025-03-16T21:57:29.016Z"
   },
   {
    "duration": 16,
    "start_time": "2025-03-16T22:00:40.115Z"
   },
   {
    "duration": 27,
    "start_time": "2025-03-16T22:00:45.662Z"
   },
   {
    "duration": 26,
    "start_time": "2025-03-16T22:00:50.096Z"
   },
   {
    "duration": 318,
    "start_time": "2025-03-16T22:10:13.960Z"
   },
   {
    "duration": 150,
    "start_time": "2025-03-16T22:10:24.179Z"
   },
   {
    "duration": 22,
    "start_time": "2025-03-16T22:10:38.536Z"
   },
   {
    "duration": 23,
    "start_time": "2025-03-16T22:12:29.633Z"
   },
   {
    "duration": 24,
    "start_time": "2025-03-16T22:12:52.325Z"
   },
   {
    "duration": 22,
    "start_time": "2025-03-16T22:13:21.138Z"
   },
   {
    "duration": 24,
    "start_time": "2025-03-16T22:13:34.794Z"
   },
   {
    "duration": 25,
    "start_time": "2025-03-16T22:13:50.242Z"
   },
   {
    "duration": 25,
    "start_time": "2025-03-16T22:14:51.956Z"
   },
   {
    "duration": 23,
    "start_time": "2025-03-16T22:15:10.594Z"
   },
   {
    "duration": 23,
    "start_time": "2025-03-16T22:16:40.893Z"
   },
   {
    "duration": 32,
    "start_time": "2025-03-16T22:19:12.498Z"
   },
   {
    "duration": 27,
    "start_time": "2025-03-16T22:19:21.747Z"
   },
   {
    "duration": 28,
    "start_time": "2025-03-16T22:20:09.258Z"
   },
   {
    "duration": 343,
    "start_time": "2025-03-16T22:21:51.696Z"
   },
   {
    "duration": 28,
    "start_time": "2025-03-16T22:22:37.056Z"
   },
   {
    "duration": 28,
    "start_time": "2025-03-16T22:23:41.546Z"
   },
   {
    "duration": 25,
    "start_time": "2025-03-16T22:24:04.787Z"
   },
   {
    "duration": 22,
    "start_time": "2025-03-16T22:32:32.541Z"
   },
   {
    "duration": 15,
    "start_time": "2025-03-16T22:33:27.461Z"
   },
   {
    "duration": 13,
    "start_time": "2025-03-16T22:33:55.973Z"
   },
   {
    "duration": 23,
    "start_time": "2025-03-16T22:38:08.327Z"
   },
   {
    "duration": 3,
    "start_time": "2025-03-16T22:38:10.238Z"
   },
   {
    "duration": 18,
    "start_time": "2025-03-16T22:43:29.298Z"
   },
   {
    "duration": 3,
    "start_time": "2025-03-16T22:56:35.178Z"
   },
   {
    "duration": 150,
    "start_time": "2025-03-16T22:56:38.373Z"
   },
   {
    "duration": 4,
    "start_time": "2025-03-16T22:56:44.139Z"
   },
   {
    "duration": 9,
    "start_time": "2025-03-16T22:56:52.809Z"
   },
   {
    "duration": 15,
    "start_time": "2025-03-16T23:01:46.986Z"
   },
   {
    "duration": 8,
    "start_time": "2025-03-16T23:05:08.988Z"
   },
   {
    "duration": 2,
    "start_time": "2025-03-16T23:05:22.074Z"
   },
   {
    "duration": 33,
    "start_time": "2025-03-16T23:17:22.793Z"
   },
   {
    "duration": 3,
    "start_time": "2025-03-16T23:28:52.050Z"
   },
   {
    "duration": 3,
    "start_time": "2025-03-16T23:29:11.786Z"
   },
   {
    "duration": 4,
    "start_time": "2025-03-16T23:33:15.496Z"
   },
   {
    "duration": 5,
    "start_time": "2025-03-16T23:33:45.436Z"
   },
   {
    "duration": 5,
    "start_time": "2025-03-16T23:34:05.203Z"
   },
   {
    "duration": 5,
    "start_time": "2025-03-16T23:34:23.764Z"
   },
   {
    "duration": 5,
    "start_time": "2025-03-16T23:35:27.881Z"
   },
   {
    "duration": 5,
    "start_time": "2025-03-16T23:36:01.687Z"
   },
   {
    "duration": 4,
    "start_time": "2025-03-16T23:37:26.906Z"
   },
   {
    "duration": 5,
    "start_time": "2025-03-16T23:37:45.857Z"
   },
   {
    "duration": 5,
    "start_time": "2025-03-16T23:37:51.198Z"
   },
   {
    "duration": 5,
    "start_time": "2025-03-16T23:38:02.698Z"
   },
   {
    "duration": 38,
    "start_time": "2025-03-16T23:38:34.070Z"
   },
   {
    "duration": 38,
    "start_time": "2025-03-16T23:39:04.166Z"
   },
   {
    "duration": 74,
    "start_time": "2025-03-16T23:39:20.549Z"
   },
   {
    "duration": 61,
    "start_time": "2025-03-16T23:39:48.116Z"
   },
   {
    "duration": 31,
    "start_time": "2025-03-16T23:40:26.109Z"
   },
   {
    "duration": 58,
    "start_time": "2025-03-16T23:40:30.121Z"
   },
   {
    "duration": 210,
    "start_time": "2025-03-16T23:47:58.486Z"
   },
   {
    "duration": 112,
    "start_time": "2025-03-16T23:48:15.695Z"
   },
   {
    "duration": 81,
    "start_time": "2025-03-16T23:48:44.818Z"
   },
   {
    "duration": 79,
    "start_time": "2025-03-16T23:52:26.050Z"
   },
   {
    "duration": 13,
    "start_time": "2025-03-16T23:55:54.696Z"
   },
   {
    "duration": 128,
    "start_time": "2025-03-16T23:56:19.796Z"
   },
   {
    "duration": 30,
    "start_time": "2025-03-16T23:56:56.142Z"
   },
   {
    "duration": 32,
    "start_time": "2025-03-16T23:57:24.330Z"
   },
   {
    "duration": 105,
    "start_time": "2025-03-17T00:04:57.873Z"
   },
   {
    "duration": 23,
    "start_time": "2025-03-17T00:05:42.030Z"
   },
   {
    "duration": 94,
    "start_time": "2025-03-17T00:11:37.266Z"
   },
   {
    "duration": 92,
    "start_time": "2025-03-17T00:12:08.207Z"
   },
   {
    "duration": 19,
    "start_time": "2025-03-17T00:12:22.854Z"
   },
   {
    "duration": 93,
    "start_time": "2025-03-17T00:12:26.604Z"
   },
   {
    "duration": 3,
    "start_time": "2025-03-17T00:12:36.096Z"
   },
   {
    "duration": 155,
    "start_time": "2025-03-17T00:12:39.012Z"
   },
   {
    "duration": 11,
    "start_time": "2025-03-17T00:12:41.870Z"
   },
   {
    "duration": 13,
    "start_time": "2025-03-17T00:12:44.712Z"
   },
   {
    "duration": 10,
    "start_time": "2025-03-17T00:12:48.368Z"
   },
   {
    "duration": 10,
    "start_time": "2025-03-17T00:12:51.626Z"
   },
   {
    "duration": 17,
    "start_time": "2025-03-17T00:12:54.615Z"
   },
   {
    "duration": 20,
    "start_time": "2025-03-17T00:12:58.542Z"
   },
   {
    "duration": 34,
    "start_time": "2025-03-17T00:13:03.674Z"
   },
   {
    "duration": 13,
    "start_time": "2025-03-17T00:13:08.002Z"
   },
   {
    "duration": 23,
    "start_time": "2025-03-17T00:13:11.462Z"
   },
   {
    "duration": 19,
    "start_time": "2025-03-17T00:13:14.933Z"
   },
   {
    "duration": 31,
    "start_time": "2025-03-17T00:13:18.463Z"
   },
   {
    "duration": 9,
    "start_time": "2025-03-17T00:13:23.393Z"
   },
   {
    "duration": 185,
    "start_time": "2025-03-17T00:13:27.486Z"
   },
   {
    "duration": 23,
    "start_time": "2025-03-17T00:13:32.647Z"
   },
   {
    "duration": 20,
    "start_time": "2025-03-17T00:13:35.328Z"
   },
   {
    "duration": 22,
    "start_time": "2025-03-17T00:13:41.604Z"
   },
   {
    "duration": 110,
    "start_time": "2025-03-17T00:13:45.401Z"
   },
   {
    "duration": 137,
    "start_time": "2025-03-17T00:14:18.640Z"
   },
   {
    "duration": 137,
    "start_time": "2025-03-17T00:14:47.445Z"
   },
   {
    "duration": 132,
    "start_time": "2025-03-17T00:15:13.650Z"
   },
   {
    "duration": 116,
    "start_time": "2025-03-17T00:15:50.051Z"
   },
   {
    "duration": 3,
    "start_time": "2025-03-17T00:19:42.095Z"
   },
   {
    "duration": 154,
    "start_time": "2025-03-17T00:19:44.847Z"
   },
   {
    "duration": 371,
    "start_time": "2025-03-17T00:21:09.077Z"
   },
   {
    "duration": 345,
    "start_time": "2025-03-17T00:23:27.510Z"
   },
   {
    "duration": 352,
    "start_time": "2025-03-17T00:23:55.536Z"
   },
   {
    "duration": 329,
    "start_time": "2025-03-17T00:24:17.309Z"
   },
   {
    "duration": 328,
    "start_time": "2025-03-17T00:24:41.902Z"
   },
   {
    "duration": 89,
    "start_time": "2025-03-17T00:24:53.187Z"
   },
   {
    "duration": 83,
    "start_time": "2025-03-17T00:24:58.327Z"
   },
   {
    "duration": 88,
    "start_time": "2025-03-17T00:25:32.497Z"
   },
   {
    "duration": 340,
    "start_time": "2025-03-17T00:25:58.497Z"
   },
   {
    "duration": 707,
    "start_time": "2025-03-17T00:29:48.360Z"
   },
   {
    "duration": 336,
    "start_time": "2025-03-17T00:30:53.126Z"
   },
   {
    "duration": 518,
    "start_time": "2025-03-17T00:30:56.889Z"
   },
   {
    "duration": 6,
    "start_time": "2025-03-17T00:36:08.010Z"
   },
   {
    "duration": 8,
    "start_time": "2025-03-17T00:36:43.262Z"
   },
   {
    "duration": 8,
    "start_time": "2025-03-17T00:40:03.696Z"
   },
   {
    "duration": 119,
    "start_time": "2025-03-17T00:44:43.621Z"
   },
   {
    "duration": 119,
    "start_time": "2025-03-17T00:45:42.032Z"
   },
   {
    "duration": 4,
    "start_time": "2025-03-17T00:48:13.405Z"
   },
   {
    "duration": 9,
    "start_time": "2025-03-17T00:48:32.779Z"
   },
   {
    "duration": 120,
    "start_time": "2025-03-17T00:48:37.846Z"
   },
   {
    "duration": 15,
    "start_time": "2025-03-17T01:00:11.656Z"
   },
   {
    "duration": 98,
    "start_time": "2025-03-17T01:00:47.379Z"
   },
   {
    "duration": 94,
    "start_time": "2025-03-17T01:01:43.144Z"
   },
   {
    "duration": 22,
    "start_time": "2025-03-17T01:07:34.642Z"
   },
   {
    "duration": 353,
    "start_time": "2025-03-17T01:08:03.702Z"
   },
   {
    "duration": 337,
    "start_time": "2025-03-17T01:10:31.547Z"
   },
   {
    "duration": 510,
    "start_time": "2025-03-17T01:10:41.290Z"
   },
   {
    "duration": 110,
    "start_time": "2025-03-17T01:12:03.438Z"
   },
   {
    "duration": 8,
    "start_time": "2025-03-17T01:15:14.902Z"
   },
   {
    "duration": 8,
    "start_time": "2025-03-17T01:16:05.716Z"
   },
   {
    "duration": 130,
    "start_time": "2025-03-17T01:18:38.152Z"
   },
   {
    "duration": 291,
    "start_time": "2025-03-17T01:22:29.821Z"
   },
   {
    "duration": 22,
    "start_time": "2025-03-17T01:22:46.876Z"
   },
   {
    "duration": 351,
    "start_time": "2025-03-17T01:22:57.266Z"
   },
   {
    "duration": 514,
    "start_time": "2025-03-17T01:24:06.396Z"
   },
   {
    "duration": 10,
    "start_time": "2025-03-17T01:26:08.865Z"
   },
   {
    "duration": 131,
    "start_time": "2025-03-17T01:27:12.347Z"
   },
   {
    "duration": 65,
    "start_time": "2025-03-17T01:34:34.583Z"
   },
   {
    "duration": 420,
    "start_time": "2025-03-17T01:34:55.733Z"
   },
   {
    "duration": 513,
    "start_time": "2025-03-17T01:37:11.927Z"
   },
   {
    "duration": 542,
    "start_time": "2025-03-17T01:39:04.490Z"
   },
   {
    "duration": 650,
    "start_time": "2025-03-17T01:39:15.982Z"
   },
   {
    "duration": 473,
    "start_time": "2025-03-17T01:39:28.042Z"
   },
   {
    "duration": 513,
    "start_time": "2025-03-17T01:39:40.676Z"
   },
   {
    "duration": 511,
    "start_time": "2025-03-17T01:39:45.510Z"
   },
   {
    "duration": 483,
    "start_time": "2025-03-17T01:39:53.246Z"
   },
   {
    "duration": 490,
    "start_time": "2025-03-17T01:40:18.715Z"
   },
   {
    "duration": 516,
    "start_time": "2025-03-17T01:40:26.168Z"
   },
   {
    "duration": 466,
    "start_time": "2025-03-17T01:40:44.147Z"
   },
   {
    "duration": 461,
    "start_time": "2025-03-17T01:40:51.959Z"
   },
   {
    "duration": 744,
    "start_time": "2025-03-17T01:41:01.077Z"
   },
   {
    "duration": 588,
    "start_time": "2025-03-17T01:41:09.498Z"
   },
   {
    "duration": 8,
    "start_time": "2025-03-17T01:43:51.507Z"
   },
   {
    "duration": 110,
    "start_time": "2025-03-17T01:44:43.634Z"
   },
   {
    "duration": 9,
    "start_time": "2025-03-17T01:45:02.044Z"
   },
   {
    "duration": 76,
    "start_time": "2025-03-17T01:50:21.724Z"
   },
   {
    "duration": 8,
    "start_time": "2025-03-17T01:50:45.148Z"
   },
   {
    "duration": 8,
    "start_time": "2025-03-17T01:51:21.070Z"
   },
   {
    "duration": 9,
    "start_time": "2025-03-17T01:51:41.982Z"
   },
   {
    "duration": 5,
    "start_time": "2025-03-17T01:54:13.414Z"
   },
   {
    "duration": 12,
    "start_time": "2025-03-17T01:54:36.535Z"
   },
   {
    "duration": 10,
    "start_time": "2025-03-17T01:56:27.511Z"
   },
   {
    "duration": 11,
    "start_time": "2025-03-17T01:57:30.106Z"
   },
   {
    "duration": 13,
    "start_time": "2025-03-17T01:57:56.190Z"
   },
   {
    "duration": 20,
    "start_time": "2025-03-17T02:10:46.888Z"
   },
   {
    "duration": 4,
    "start_time": "2025-03-17T02:11:14.551Z"
   },
   {
    "duration": 157,
    "start_time": "2025-03-17T02:11:17.833Z"
   },
   {
    "duration": 7,
    "start_time": "2025-03-17T02:11:33.782Z"
   },
   {
    "duration": 7,
    "start_time": "2025-03-17T02:16:49.749Z"
   },
   {
    "duration": 8,
    "start_time": "2025-03-17T02:17:36.902Z"
   },
   {
    "duration": 2606,
    "start_time": "2025-03-17T20:42:21.459Z"
   },
   {
    "duration": 231,
    "start_time": "2025-03-17T20:42:24.067Z"
   },
   {
    "duration": 10,
    "start_time": "2025-03-17T20:42:24.299Z"
   },
   {
    "duration": 6,
    "start_time": "2025-03-17T20:42:24.312Z"
   },
   {
    "duration": 12,
    "start_time": "2025-03-17T20:42:24.319Z"
   },
   {
    "duration": 7,
    "start_time": "2025-03-17T20:42:24.333Z"
   },
   {
    "duration": 11,
    "start_time": "2025-03-17T20:42:24.342Z"
   },
   {
    "duration": 40,
    "start_time": "2025-03-17T20:42:24.354Z"
   },
   {
    "duration": 14,
    "start_time": "2025-03-17T20:42:24.396Z"
   },
   {
    "duration": 10,
    "start_time": "2025-03-17T20:42:24.414Z"
   },
   {
    "duration": 35,
    "start_time": "2025-03-17T20:42:24.425Z"
   },
   {
    "duration": 12,
    "start_time": "2025-03-17T20:42:24.487Z"
   },
   {
    "duration": 8,
    "start_time": "2025-03-17T20:42:24.501Z"
   },
   {
    "duration": 22,
    "start_time": "2025-03-17T20:42:24.511Z"
   },
   {
    "duration": 14,
    "start_time": "2025-03-17T20:42:24.535Z"
   },
   {
    "duration": 46,
    "start_time": "2025-03-17T20:42:24.551Z"
   },
   {
    "duration": 31,
    "start_time": "2025-03-17T20:42:24.598Z"
   },
   {
    "duration": 8,
    "start_time": "2025-03-17T20:42:24.631Z"
   },
   {
    "duration": 55,
    "start_time": "2025-03-17T20:42:24.641Z"
   },
   {
    "duration": 30,
    "start_time": "2025-03-17T20:42:24.698Z"
   },
   {
    "duration": 23,
    "start_time": "2025-03-17T20:42:24.729Z"
   },
   {
    "duration": 48,
    "start_time": "2025-03-17T20:42:24.753Z"
   },
   {
    "duration": 18,
    "start_time": "2025-03-17T20:42:24.803Z"
   },
   {
    "duration": 28,
    "start_time": "2025-03-17T20:42:24.823Z"
   },
   {
    "duration": 205,
    "start_time": "2025-03-17T20:42:24.853Z"
   },
   {
    "duration": 375,
    "start_time": "2025-03-17T20:42:25.060Z"
   },
   {
    "duration": 530,
    "start_time": "2025-03-17T20:42:25.437Z"
   },
   {
    "duration": 13,
    "start_time": "2025-03-17T20:42:25.972Z"
   },
   {
    "duration": 127,
    "start_time": "2025-03-17T20:42:25.986Z"
   },
   {
    "duration": 373,
    "start_time": "2025-03-17T20:42:26.115Z"
   },
   {
    "duration": 539,
    "start_time": "2025-03-17T20:42:26.490Z"
   },
   {
    "duration": 13,
    "start_time": "2025-03-17T20:42:27.031Z"
   },
   {
    "duration": 146,
    "start_time": "2025-03-17T20:42:27.046Z"
   },
   {
    "duration": 333,
    "start_time": "2025-03-17T20:42:27.194Z"
   },
   {
    "duration": 589,
    "start_time": "2025-03-17T20:42:27.528Z"
   },
   {
    "duration": 15,
    "start_time": "2025-03-17T20:42:28.120Z"
   },
   {
    "duration": 135,
    "start_time": "2025-03-17T20:42:28.136Z"
   },
   {
    "duration": 382,
    "start_time": "2025-03-17T20:42:28.273Z"
   },
   {
    "duration": 542,
    "start_time": "2025-03-17T20:42:28.657Z"
   },
   {
    "duration": 13,
    "start_time": "2025-03-17T20:42:29.201Z"
   },
   {
    "duration": 138,
    "start_time": "2025-03-17T20:42:29.215Z"
   },
   {
    "duration": 8,
    "start_time": "2025-03-17T20:42:29.355Z"
   },
   {
    "duration": 22,
    "start_time": "2025-03-17T20:42:29.365Z"
   },
   {
    "duration": 27,
    "start_time": "2025-03-17T20:42:53.860Z"
   },
   {
    "duration": 19,
    "start_time": "2025-03-17T20:43:39.952Z"
   },
   {
    "duration": 22,
    "start_time": "2025-03-17T20:43:44.933Z"
   },
   {
    "duration": 215,
    "start_time": "2025-03-17T20:43:46.318Z"
   },
   {
    "duration": 36,
    "start_time": "2025-03-17T20:43:53.310Z"
   },
   {
    "duration": 23,
    "start_time": "2025-03-17T20:48:01.542Z"
   },
   {
    "duration": 22,
    "start_time": "2025-03-17T20:48:02.794Z"
   },
   {
    "duration": 253,
    "start_time": "2025-03-17T20:48:03.948Z"
   },
   {
    "duration": 24,
    "start_time": "2025-03-17T20:48:09.166Z"
   },
   {
    "duration": 23,
    "start_time": "2025-03-17T20:48:35.662Z"
   },
   {
    "duration": 25,
    "start_time": "2025-03-17T20:48:36.460Z"
   },
   {
    "duration": 148,
    "start_time": "2025-03-17T20:48:37.435Z"
   },
   {
    "duration": 25,
    "start_time": "2025-03-17T20:48:40.396Z"
   },
   {
    "duration": 585,
    "start_time": "2025-03-17T20:49:01.652Z"
   },
   {
    "duration": 19,
    "start_time": "2025-03-17T20:49:10.171Z"
   },
   {
    "duration": 3,
    "start_time": "2025-03-17T20:49:14.144Z"
   },
   {
    "duration": 167,
    "start_time": "2025-03-17T20:49:14.149Z"
   },
   {
    "duration": 9,
    "start_time": "2025-03-17T20:49:14.317Z"
   },
   {
    "duration": 5,
    "start_time": "2025-03-17T20:49:14.328Z"
   },
   {
    "duration": 12,
    "start_time": "2025-03-17T20:49:14.336Z"
   },
   {
    "duration": 8,
    "start_time": "2025-03-17T20:49:14.350Z"
   },
   {
    "duration": 31,
    "start_time": "2025-03-17T20:49:14.360Z"
   },
   {
    "duration": 11,
    "start_time": "2025-03-17T20:49:14.393Z"
   },
   {
    "duration": 15,
    "start_time": "2025-03-17T20:49:14.406Z"
   },
   {
    "duration": 10,
    "start_time": "2025-03-17T20:49:14.422Z"
   },
   {
    "duration": 70,
    "start_time": "2025-03-17T20:49:14.434Z"
   },
   {
    "duration": 12,
    "start_time": "2025-03-17T20:49:14.506Z"
   },
   {
    "duration": 8,
    "start_time": "2025-03-17T20:49:14.522Z"
   },
   {
    "duration": 21,
    "start_time": "2025-03-17T20:49:14.531Z"
   },
   {
    "duration": 37,
    "start_time": "2025-03-17T20:49:14.554Z"
   },
   {
    "duration": 12,
    "start_time": "2025-03-17T20:49:14.593Z"
   },
   {
    "duration": 30,
    "start_time": "2025-03-17T20:49:14.607Z"
   },
   {
    "duration": 8,
    "start_time": "2025-03-17T20:49:14.639Z"
   },
   {
    "duration": 57,
    "start_time": "2025-03-17T20:49:14.648Z"
   },
   {
    "duration": 25,
    "start_time": "2025-03-17T20:49:14.707Z"
   },
   {
    "duration": 19,
    "start_time": "2025-03-17T20:49:14.734Z"
   },
   {
    "duration": 46,
    "start_time": "2025-03-17T20:49:14.755Z"
   },
   {
    "duration": 18,
    "start_time": "2025-03-17T20:49:14.803Z"
   },
   {
    "duration": 20,
    "start_time": "2025-03-17T20:49:14.822Z"
   },
   {
    "duration": 137,
    "start_time": "2025-03-17T20:49:14.843Z"
   },
   {
    "duration": 343,
    "start_time": "2025-03-17T20:49:14.986Z"
   },
   {
    "duration": 560,
    "start_time": "2025-03-17T20:49:15.331Z"
   },
   {
    "duration": 11,
    "start_time": "2025-03-17T20:49:15.893Z"
   },
   {
    "duration": 135,
    "start_time": "2025-03-17T20:49:15.906Z"
   },
   {
    "duration": 360,
    "start_time": "2025-03-17T20:49:16.043Z"
   },
   {
    "duration": 501,
    "start_time": "2025-03-17T20:49:16.404Z"
   },
   {
    "duration": 10,
    "start_time": "2025-03-17T20:49:16.907Z"
   },
   {
    "duration": 125,
    "start_time": "2025-03-17T20:49:16.919Z"
   },
   {
    "duration": 352,
    "start_time": "2025-03-17T20:49:17.046Z"
   },
   {
    "duration": 525,
    "start_time": "2025-03-17T20:49:17.400Z"
   },
   {
    "duration": 11,
    "start_time": "2025-03-17T20:49:17.927Z"
   },
   {
    "duration": 128,
    "start_time": "2025-03-17T20:49:17.943Z"
   },
   {
    "duration": 375,
    "start_time": "2025-03-17T20:49:18.074Z"
   },
   {
    "duration": 686,
    "start_time": "2025-03-17T20:49:18.451Z"
   },
   {
    "duration": 11,
    "start_time": "2025-03-17T20:49:19.138Z"
   },
   {
    "duration": 135,
    "start_time": "2025-03-17T20:49:19.151Z"
   },
   {
    "duration": 8,
    "start_time": "2025-03-17T20:49:19.288Z"
   },
   {
    "duration": 6,
    "start_time": "2025-03-17T20:49:19.297Z"
   },
   {
    "duration": 855,
    "start_time": "2025-03-19T14:03:45.236Z"
   },
   {
    "duration": 166,
    "start_time": "2025-03-19T14:03:46.093Z"
   },
   {
    "duration": 10,
    "start_time": "2025-03-19T14:03:46.262Z"
   },
   {
    "duration": 12,
    "start_time": "2025-03-19T14:03:46.275Z"
   },
   {
    "duration": 13,
    "start_time": "2025-03-19T14:03:46.290Z"
   },
   {
    "duration": 10,
    "start_time": "2025-03-19T14:03:46.305Z"
   },
   {
    "duration": 14,
    "start_time": "2025-03-19T14:03:46.317Z"
   },
   {
    "duration": 13,
    "start_time": "2025-03-19T14:03:46.333Z"
   },
   {
    "duration": 50,
    "start_time": "2025-03-19T14:03:46.347Z"
   },
   {
    "duration": 14,
    "start_time": "2025-03-19T14:03:46.400Z"
   },
   {
    "duration": 36,
    "start_time": "2025-03-19T14:03:46.416Z"
   },
   {
    "duration": 38,
    "start_time": "2025-03-19T14:03:46.454Z"
   },
   {
    "duration": 11,
    "start_time": "2025-03-19T14:03:46.494Z"
   },
   {
    "duration": 31,
    "start_time": "2025-03-19T14:03:46.506Z"
   },
   {
    "duration": 13,
    "start_time": "2025-03-19T14:03:46.539Z"
   },
   {
    "duration": 43,
    "start_time": "2025-03-19T14:03:46.554Z"
   },
   {
    "duration": 32,
    "start_time": "2025-03-19T14:03:46.599Z"
   },
   {
    "duration": 9,
    "start_time": "2025-03-19T14:03:46.634Z"
   },
   {
    "duration": 53,
    "start_time": "2025-03-19T14:03:46.645Z"
   },
   {
    "duration": 42,
    "start_time": "2025-03-19T14:03:46.700Z"
   },
   {
    "duration": 107,
    "start_time": "2025-03-19T14:03:46.744Z"
   },
   {
    "duration": 41,
    "start_time": "2025-03-19T14:03:46.857Z"
   },
   {
    "duration": 30,
    "start_time": "2025-03-19T14:03:46.900Z"
   },
   {
    "duration": 29,
    "start_time": "2025-03-19T14:03:46.931Z"
   },
   {
    "duration": 211,
    "start_time": "2025-03-19T14:03:46.962Z"
   },
   {
    "duration": 386,
    "start_time": "2025-03-19T14:03:47.175Z"
   },
   {
    "duration": 596,
    "start_time": "2025-03-19T14:03:47.563Z"
   },
   {
    "duration": 11,
    "start_time": "2025-03-19T14:03:48.165Z"
   },
   {
    "duration": 122,
    "start_time": "2025-03-19T14:03:48.178Z"
   },
   {
    "duration": 342,
    "start_time": "2025-03-19T14:03:48.302Z"
   },
   {
    "duration": 574,
    "start_time": "2025-03-19T14:03:48.646Z"
   },
   {
    "duration": 11,
    "start_time": "2025-03-19T14:03:49.222Z"
   },
   {
    "duration": 135,
    "start_time": "2025-03-19T14:03:49.237Z"
   },
   {
    "duration": 350,
    "start_time": "2025-03-19T14:03:49.374Z"
   },
   {
    "duration": 492,
    "start_time": "2025-03-19T14:03:49.726Z"
   },
   {
    "duration": 12,
    "start_time": "2025-03-19T14:03:50.220Z"
   },
   {
    "duration": 130,
    "start_time": "2025-03-19T14:03:50.234Z"
   },
   {
    "duration": 388,
    "start_time": "2025-03-19T14:03:50.367Z"
   },
   {
    "duration": 682,
    "start_time": "2025-03-19T14:03:50.757Z"
   },
   {
    "duration": 12,
    "start_time": "2025-03-19T14:03:51.441Z"
   },
   {
    "duration": 129,
    "start_time": "2025-03-19T14:03:51.455Z"
   },
   {
    "duration": 9,
    "start_time": "2025-03-19T14:03:51.586Z"
   },
   {
    "duration": 8,
    "start_time": "2025-03-19T14:03:51.597Z"
   },
   {
    "duration": 16,
    "start_time": "2025-03-19T14:04:06.345Z"
   },
   {
    "duration": 2936,
    "start_time": "2025-03-19T21:58:45.283Z"
   },
   {
    "duration": 223,
    "start_time": "2025-03-19T21:58:48.224Z"
   },
   {
    "duration": 9,
    "start_time": "2025-03-19T21:58:48.449Z"
   },
   {
    "duration": 5,
    "start_time": "2025-03-19T21:58:48.461Z"
   },
   {
    "duration": 11,
    "start_time": "2025-03-19T21:58:48.468Z"
   },
   {
    "duration": 8,
    "start_time": "2025-03-19T21:58:48.480Z"
   },
   {
    "duration": 38,
    "start_time": "2025-03-19T21:58:48.490Z"
   },
   {
    "duration": 11,
    "start_time": "2025-03-19T21:58:48.530Z"
   },
   {
    "duration": 15,
    "start_time": "2025-03-19T21:58:48.542Z"
   },
   {
    "duration": 9,
    "start_time": "2025-03-19T21:58:48.560Z"
   },
   {
    "duration": 62,
    "start_time": "2025-03-19T21:58:48.571Z"
   },
   {
    "duration": 12,
    "start_time": "2025-03-19T21:58:48.635Z"
   },
   {
    "duration": 8,
    "start_time": "2025-03-19T21:58:48.649Z"
   },
   {
    "duration": 22,
    "start_time": "2025-03-19T21:58:48.659Z"
   },
   {
    "duration": 42,
    "start_time": "2025-03-19T21:58:48.683Z"
   },
   {
    "duration": 11,
    "start_time": "2025-03-19T21:58:48.726Z"
   },
   {
    "duration": 30,
    "start_time": "2025-03-19T21:58:48.739Z"
   },
   {
    "duration": 8,
    "start_time": "2025-03-19T21:58:48.770Z"
   },
   {
    "duration": 51,
    "start_time": "2025-03-19T21:58:48.780Z"
   },
   {
    "duration": 26,
    "start_time": "2025-03-19T21:58:48.833Z"
   },
   {
    "duration": 20,
    "start_time": "2025-03-19T21:58:48.861Z"
   },
   {
    "duration": 48,
    "start_time": "2025-03-19T21:58:48.884Z"
   },
   {
    "duration": 28,
    "start_time": "2025-03-19T21:58:48.934Z"
   },
   {
    "duration": 27,
    "start_time": "2025-03-19T21:58:48.964Z"
   },
   {
    "duration": 168,
    "start_time": "2025-03-19T21:58:48.993Z"
   },
   {
    "duration": 396,
    "start_time": "2025-03-19T21:58:49.163Z"
   },
   {
    "duration": 619,
    "start_time": "2025-03-19T21:58:49.561Z"
   },
   {
    "duration": 11,
    "start_time": "2025-03-19T21:58:50.184Z"
   },
   {
    "duration": 123,
    "start_time": "2025-03-19T21:58:50.197Z"
   },
   {
    "duration": 330,
    "start_time": "2025-03-19T21:58:50.324Z"
   },
   {
    "duration": 496,
    "start_time": "2025-03-19T21:58:50.656Z"
   },
   {
    "duration": 11,
    "start_time": "2025-03-19T21:58:51.154Z"
   },
   {
    "duration": 129,
    "start_time": "2025-03-19T21:58:51.166Z"
   },
   {
    "duration": 355,
    "start_time": "2025-03-19T21:58:51.297Z"
   },
   {
    "duration": 578,
    "start_time": "2025-03-19T21:58:51.654Z"
   },
   {
    "duration": 12,
    "start_time": "2025-03-19T21:58:52.235Z"
   },
   {
    "duration": 137,
    "start_time": "2025-03-19T21:58:52.248Z"
   },
   {
    "duration": 393,
    "start_time": "2025-03-19T21:58:52.387Z"
   },
   {
    "duration": 526,
    "start_time": "2025-03-19T21:58:52.782Z"
   },
   {
    "duration": 16,
    "start_time": "2025-03-19T21:58:53.309Z"
   },
   {
    "duration": 115,
    "start_time": "2025-03-19T21:58:53.326Z"
   },
   {
    "duration": 7,
    "start_time": "2025-03-19T21:58:53.443Z"
   },
   {
    "duration": 6,
    "start_time": "2025-03-19T21:58:53.452Z"
   },
   {
    "duration": 14,
    "start_time": "2025-03-19T21:59:10.105Z"
   },
   {
    "duration": 3018,
    "start_time": "2025-03-20T01:35:31.011Z"
   },
   {
    "duration": 241,
    "start_time": "2025-03-20T01:35:34.031Z"
   },
   {
    "duration": 10,
    "start_time": "2025-03-20T01:35:37.422Z"
   },
   {
    "duration": 14,
    "start_time": "2025-03-20T01:35:45.539Z"
   },
   {
    "duration": 10,
    "start_time": "2025-03-20T01:35:50.625Z"
   },
   {
    "duration": 14,
    "start_time": "2025-03-20T01:35:54.942Z"
   },
   {
    "duration": 20,
    "start_time": "2025-03-20T01:35:58.269Z"
   },
   {
    "duration": 46,
    "start_time": "2025-03-20T01:36:02.224Z"
   },
   {
    "duration": 13,
    "start_time": "2025-03-20T01:36:07.006Z"
   },
   {
    "duration": 30,
    "start_time": "2025-03-20T01:36:10.568Z"
   },
   {
    "duration": 14,
    "start_time": "2025-03-20T01:36:15.458Z"
   },
   {
    "duration": 34,
    "start_time": "2025-03-20T01:36:21.053Z"
   },
   {
    "duration": 21,
    "start_time": "2025-03-20T01:46:21.719Z"
   },
   {
    "duration": 21,
    "start_time": "2025-03-20T01:46:34.731Z"
   },
   {
    "duration": 14,
    "start_time": "2025-03-20T01:46:47.870Z"
   },
   {
    "duration": 23,
    "start_time": "2025-03-20T01:47:00.429Z"
   }
  ],
  "colab": {
   "provenance": []
  },
  "kernelspec": {
   "display_name": "Python 3 (ipykernel)",
   "language": "python",
   "name": "python3"
  },
  "language_info": {
   "codemirror_mode": {
    "name": "ipython",
    "version": 3
   },
   "file_extension": ".py",
   "mimetype": "text/x-python",
   "name": "python",
   "nbconvert_exporter": "python",
   "pygments_lexer": "ipython3",
   "version": "3.9.19"
  },
  "toc": {
   "base_numbering": 1,
   "nav_menu": {},
   "number_sections": true,
   "sideBar": true,
   "skip_h1_title": false,
   "title_cell": "Table of Contents",
   "title_sidebar": "Contents",
   "toc_cell": false,
   "toc_position": {},
   "toc_section_display": true,
   "toc_window_display": true
  }
 },
 "nbformat": 4,
 "nbformat_minor": 1
}
