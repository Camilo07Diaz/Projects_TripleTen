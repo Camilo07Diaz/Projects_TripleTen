{
 "cells": [
  {
   "cell_type": "markdown",
   "id": "e2077e74",
   "metadata": {},
   "source": [
    "# ¡Hola Camilo! 😊\n",
    "\n",
    "Mi nombre es **Alejandro Castellanos** y hoy tengo el placer de ser el revisor de tu proyecto.\n",
    "\n",
    "Voy a revisar todo tu código con detalle, buscando tanto los puntos fuertes como aquellos en los que podrías mejorar. Te dejaré comentarios a lo largo del notebook, destacando lo que has hecho bien y sugiriendo ajustes donde sea necesario. Si encuentro algún error, no te preocupes, te lo haré saber de forma clara y te daré información útil para que puedas corregirlo en la próxima iteración. Si en algún punto tienes comentarios, siéntete libre de dejarlos también.\n",
    "\n",
    "\n",
    "Encontrarás mis comentarios específicos dentro de cajas verdes, amarillas o rojas, es muy importante que no muevas, modifiques o borres mis comentarios, con el fin de tener un seguimiento adecuado de tu proceso:\n",
    "\n",
    "\n",
    "<div class=\"alert alert-block alert-success\">\n",
    "<b>Comentario del revisor</b> <a class=“tocSkip”></a>\n",
    "Si todo está perfecto.\n",
    "</div>\n",
    "\n",
    "<div class=\"alert alert-block alert-warning\">\n",
    "<b>Comentario del revisor</b> <a class=“tocSkip”></a>\n",
    "Si tu código está bien pero se puede mejorar o hay algún detalle que le hace falta.\n",
    "</div>\n",
    "\n",
    "<div class=\"alert alert-block alert-danger\">\n",
    "<b>Comentario del revisor</b> <a class=“tocSkip”></a>\n",
    "Si de pronto hace falta algo o existe algún problema con tu código o conclusiones.\n",
    "</div>\n",
    "\n",
    "Puedes responderme de esta forma:\n",
    "<div class=\"alert alert-block alert-info\">\n",
    "<b>Respuesta del estudiante</b> <a class=“tocSkip”></a>\n",
    "</div>\n",
    "\n",
    "A continuación te dejaré un comentario general con mi valoración del proyecto. **¡Mi objetivo es que sigas aprendiendo y mejorando con cada paso!**"
   ]
  },
  {
   "cell_type": "markdown",
   "id": "b6126241",
   "metadata": {},
   "source": [
    "----"
   ]
  },
  {
   "cell_type": "markdown",
   "id": "f05f4de2",
   "metadata": {},
   "source": [
    "<div class=\"alert alert-block alert-success\">\n",
    "<b>Comentario General del revisor (1ra Iteración)</b> <a class=“tocSkip”></a>\n",
    "\n",
    "Camilo hiciste un buen trabajo en este proyecto. En el análisis exploratorio de datos, demostraste una gran habilidad para manejar datos duplicados y faltantes, dejando los datasets en óptimas condiciones para las siguientes etapas de análisis. Respondiste acertadamente a todas las preguntas propuestas, evidenciando una sólida comprensión del caso de estudio, y supiste complementar tus respuestas con herramientas de visualización apropiadas, presentando la información de manera clara y precisa.\n",
    "    \n",
    "Respecto a la interpretación de la información obtenida, aunque incluiste tus ideas, éstas se quedan un poco cortas en ocasiones, estoy seguro que puedes llegar a desarrollarlas de una forma más detallada y que tengan mayor valor para el caso de estudio. Un proyecto en el contexto de ciencia o análisis de datos va más allá de escribir código y obtener valores; se trata de darles sentido y contexto para convertirlos en conocimiento útil. Este proceso permite tomar decisiones informadas, optimizar modelos y comunicar hallazgos de manera clara y efectiva, asegurando que el análisis no solo sea técnico, sino también comprensible y aplicable a la resolución de problemas real. Tenlo muy en cuenta para futuros proyectos.\n",
    "   \n",
    "¡Te deseo muchos éxitos en tu próximo Sprint! 🚀 \n",
    "\n",
    "*Estado del Proyecto:* **Aprobado**    \n",
    "\n",
    "\n",
    "</div>"
   ]
  },
  {
   "cell_type": "markdown",
   "id": "ac69e013",
   "metadata": {},
   "source": [
    "-----"
   ]
  },
  {
   "cell_type": "markdown",
   "id": "3Xg_RQfnafXz",
   "metadata": {
    "id": "3Xg_RQfnafXz"
   },
   "source": [
    "# ¡Llena ese carrito!"
   ]
  },
  {
   "cell_type": "markdown",
   "id": "mhIvmmkW414q",
   "metadata": {
    "id": "mhIvmmkW414q"
   },
   "source": [
    "# Introducción\n",
    "\n",
    "Instacart es una plataforma de entregas de comestibles donde la clientela puede registrar un pedido y hacer que se lo entreguen, similar a Uber Eats y Door Dash.\n",
    "El conjunto de datos que te hemos proporcionado tiene modificaciones del original. Redujimos el tamaño del conjunto para que tus cálculos se hicieran más rápido e introdujimos valores ausentes y duplicados. Tuvimos cuidado de conservar las distribuciones de los datos originales cuando hicimos los cambios.\n",
    "\n",
    "Debes completar tres pasos. Para cada uno de ellos, escribe una breve introducción que refleje con claridad cómo pretendes resolver cada paso, y escribe párrafos explicatorios que justifiquen tus decisiones al tiempo que avanzas en tu solución.  También escribe una conclusión que resuma tus hallazgos y elecciones.\n"
   ]
  },
  {
   "cell_type": "markdown",
   "id": "3MbyzpOQZ5Or",
   "metadata": {
    "id": "3MbyzpOQZ5Or"
   },
   "source": [
    "## Diccionario de datos\n",
    "\n",
    "Hay cinco tablas en el conjunto de datos, y tendrás que usarlas todas para hacer el preprocesamiento de datos y el análisis exploratorio de datos. A continuación se muestra un diccionario de datos que enumera las columnas de cada tabla y describe los datos que contienen.\n",
    "\n",
    "- `instacart_orders.csv`: cada fila corresponde a un pedido en la aplicación Instacart.\n",
    "    - `'order_id'`: número de ID que identifica de manera única cada pedido.\n",
    "    - `'user_id'`: número de ID que identifica de manera única la cuenta de cada cliente.\n",
    "    - `'order_number'`: el número de veces que este cliente ha hecho un pedido.\n",
    "    - `'order_dow'`: día de la semana en que se hizo el pedido (0 si es domingo).\n",
    "    - `'order_hour_of_day'`: hora del día en que se hizo el pedido.\n",
    "    - `'days_since_prior_order'`: número de días transcurridos desde que este cliente hizo su pedido anterior.\n",
    "- `products.csv`: cada fila corresponde a un producto único que pueden comprar los clientes.\n",
    "    - `'product_id'`: número ID que identifica de manera única cada producto.\n",
    "    - `'product_name'`: nombre del producto.\n",
    "    - `'aisle_id'`: número ID que identifica de manera única cada categoría de pasillo de víveres.\n",
    "    - `'department_id'`: número ID que identifica de manera única cada departamento de víveres.\n",
    "- `order_products.csv`: cada fila corresponde a un artículo pedido en un pedido.\n",
    "    - `'order_id'`: número de ID que identifica de manera única cada pedido.\n",
    "    - `'product_id'`: número ID que identifica de manera única cada producto.\n",
    "    - `'add_to_cart_order'`: el orden secuencial en el que se añadió cada artículo en el carrito.\n",
    "    - `'reordered'`: 0 si el cliente nunca ha pedido este producto antes, 1 si lo ha pedido.\n",
    "- `aisles.csv`\n",
    "    - `'aisle_id'`: número ID que identifica de manera única cada categoría de pasillo de víveres.\n",
    "    - `'aisle'`: nombre del pasillo.\n",
    "- `departments.csv`\n",
    "    - `'department_id'`: número ID que identifica de manera única cada departamento de víveres.\n",
    "    - `'department'`: nombre del departamento."
   ]
  },
  {
   "cell_type": "markdown",
   "id": "n3Ha_cNSZ8lK",
   "metadata": {
    "id": "n3Ha_cNSZ8lK"
   },
   "source": [
    "# Paso 1. Descripción de los datos\n",
    "\n",
    "Lee los archivos de datos (`/datasets/instacart_orders.csv`, `/datasets/products.csv`, `/datasets/aisles.csv`, `/datasets/departments.csv` y `/datasets/order_products.csv`) con `pd.read_csv()` usando los parámetros adecuados para leer los datos correctamente. Verifica la información para cada DataFrame creado.\n"
   ]
  },
  {
   "cell_type": "markdown",
   "id": "OmlQPLlyaAfR",
   "metadata": {
    "id": "OmlQPLlyaAfR"
   },
   "source": [
    "## Plan de solución\n",
    "\n",
    "Escribe aquí tu plan de solución para el Paso 1. Descripción de los datos. \n",
    "Lo primero que considero debe hacerse es llamar cada data frame para posteriormente ver su información, en el proceso de llamar cada uno, separaré las columnas para ver la información de manera más clara y consistente. "
   ]
  },
  {
   "cell_type": "code",
   "execution_count": 1,
   "id": "fbf1adab",
   "metadata": {
    "id": "fbf1adab"
   },
   "outputs": [],
   "source": [
    "import pandas as pd # importar librerías"
   ]
  },
  {
   "cell_type": "code",
   "execution_count": 2,
   "id": "ad36396d",
   "metadata": {
    "id": "ad36396d"
   },
   "outputs": [],
   "source": [
    "instacart_orders=pd.read_csv('/datasets/instacart_orders.csv',sep=';')\n",
    "products=pd.read_csv('/datasets/products.csv',sep=';')\n",
    "aisles=pd.read_csv('/datasets/aisles.csv',sep=';')\n",
    "departments=pd.read_csv('/datasets/departments.csv',sep=';')\n",
    "order_products=pd.read_csv('/datasets/order_products.csv',sep=';')# leer conjuntos de datos en los DataFrames"
   ]
  },
  {
   "cell_type": "code",
   "execution_count": 3,
   "id": "ad6a1efa",
   "metadata": {
    "id": "ad6a1efa"
   },
   "outputs": [
    {
     "name": "stdout",
     "output_type": "stream",
     "text": [
      "<class 'pandas.core.frame.DataFrame'>\n",
      "RangeIndex: 478967 entries, 0 to 478966\n",
      "Data columns (total 6 columns):\n",
      " #   Column                  Non-Null Count   Dtype  \n",
      "---  ------                  --------------   -----  \n",
      " 0   order_id                478967 non-null  int64  \n",
      " 1   user_id                 478967 non-null  int64  \n",
      " 2   order_number            478967 non-null  int64  \n",
      " 3   order_dow               478967 non-null  int64  \n",
      " 4   order_hour_of_day       478967 non-null  int64  \n",
      " 5   days_since_prior_order  450148 non-null  float64\n",
      "dtypes: float64(1), int64(5)\n",
      "memory usage: 21.9 MB\n"
     ]
    }
   ],
   "source": [
    "instacart_orders.info() # mostrar información del DataFrame"
   ]
  },
  {
   "cell_type": "code",
   "execution_count": 4,
   "id": "5130e05e",
   "metadata": {
    "id": "5130e05e"
   },
   "outputs": [
    {
     "name": "stdout",
     "output_type": "stream",
     "text": [
      "<class 'pandas.core.frame.DataFrame'>\n",
      "RangeIndex: 49694 entries, 0 to 49693\n",
      "Data columns (total 4 columns):\n",
      " #   Column         Non-Null Count  Dtype \n",
      "---  ------         --------------  ----- \n",
      " 0   product_id     49694 non-null  int64 \n",
      " 1   product_name   48436 non-null  object\n",
      " 2   aisle_id       49694 non-null  int64 \n",
      " 3   department_id  49694 non-null  int64 \n",
      "dtypes: int64(3), object(1)\n",
      "memory usage: 1.5+ MB\n"
     ]
    }
   ],
   "source": [
    "products.info()# mostrar información del DataFrame"
   ]
  },
  {
   "cell_type": "code",
   "execution_count": 5,
   "id": "d8370c05",
   "metadata": {
    "id": "d8370c05"
   },
   "outputs": [
    {
     "name": "stdout",
     "output_type": "stream",
     "text": [
      "<class 'pandas.core.frame.DataFrame'>\n",
      "RangeIndex: 134 entries, 0 to 133\n",
      "Data columns (total 2 columns):\n",
      " #   Column    Non-Null Count  Dtype \n",
      "---  ------    --------------  ----- \n",
      " 0   aisle_id  134 non-null    int64 \n",
      " 1   aisle     134 non-null    object\n",
      "dtypes: int64(1), object(1)\n",
      "memory usage: 2.2+ KB\n"
     ]
    }
   ],
   "source": [
    "aisles.info()# mostrar información del DataFrame"
   ]
  },
  {
   "cell_type": "code",
   "execution_count": 6,
   "id": "59e2090f",
   "metadata": {
    "id": "59e2090f"
   },
   "outputs": [
    {
     "name": "stdout",
     "output_type": "stream",
     "text": [
      "<class 'pandas.core.frame.DataFrame'>\n",
      "RangeIndex: 21 entries, 0 to 20\n",
      "Data columns (total 2 columns):\n",
      " #   Column         Non-Null Count  Dtype \n",
      "---  ------         --------------  ----- \n",
      " 0   department_id  21 non-null     int64 \n",
      " 1   department     21 non-null     object\n",
      "dtypes: int64(1), object(1)\n",
      "memory usage: 464.0+ bytes\n"
     ]
    }
   ],
   "source": [
    "departments.info()# mostrar información del DataFrame"
   ]
  },
  {
   "cell_type": "code",
   "execution_count": 7,
   "id": "6fc81694",
   "metadata": {
    "id": "6fc81694"
   },
   "outputs": [
    {
     "name": "stdout",
     "output_type": "stream",
     "text": [
      "<class 'pandas.core.frame.DataFrame'>\n",
      "RangeIndex: 4545007 entries, 0 to 4545006\n",
      "Data columns (total 4 columns):\n",
      " #   Column             Non-Null Count    Dtype  \n",
      "---  ------             --------------    -----  \n",
      " 0   order_id           4545007 non-null  int64  \n",
      " 1   product_id         4545007 non-null  int64  \n",
      " 2   add_to_cart_order  4544171 non-null  float64\n",
      " 3   reordered          4545007 non-null  int64  \n",
      "dtypes: float64(1), int64(3)\n",
      "memory usage: 138.7 MB\n"
     ]
    }
   ],
   "source": [
    "order_products.info(show_counts=True)# mostrar información del DataFrame"
   ]
  },
  {
   "cell_type": "markdown",
   "id": "t75BD19oaR5f",
   "metadata": {
    "id": "t75BD19oaR5f"
   },
   "source": [
    "## Conclusiones\n",
    "\n",
    "Escribe aquí tus conclusiones intermedias sobre el Paso 1. Descripción de los datos.\n",
    "Una vez llamado cada DataFrame y revisada su información de manera individual, es posible evidenciar que hay datos vacíos en algunas columnas de los diferentes Dataframes llamados. "
   ]
  },
  {
   "cell_type": "markdown",
   "id": "ffe16b9e",
   "metadata": {},
   "source": [
    "<div class=\"alert alert-block alert-success\">\n",
    "<b>Comentario del revisor (1ra Iteración)</b> <a class=“tocSkip”></a>\n",
    "\n",
    "Muy buen trabajo importando las librerías y los datos del proyecto. Adicionalmente usaste correctamente la función `info`, esto te permite hacer una primera revisión de los datos, su estructura y contenido. Con esta información, podemos establecer una hoja de ruta para ajustar, modificar y analizar los datos de una manera adecuada.\n",
    "\n",
    "</div>"
   ]
  },
  {
   "cell_type": "markdown",
   "id": "8RJHqxVmaVsF",
   "metadata": {
    "id": "8RJHqxVmaVsF"
   },
   "source": [
    "# Paso 2. Preprocesamiento de los datos\n",
    "\n",
    "Preprocesa los datos de la siguiente manera:\n",
    "\n",
    "- Verifica y corrige los tipos de datos (por ejemplo, asegúrate de que las columnas de ID sean números enteros).\n",
    "- Identifica y completa los valores ausentes.\n",
    "- Identifica y elimina los valores duplicados.\n",
    "\n",
    "Asegúrate de explicar qué tipos de valores ausentes y duplicados encontraste, cómo los completaste o eliminaste y por qué usaste esos métodos. ¿Por qué crees que estos valores ausentes y duplicados pueden haber estado presentes en el conjunto de datos?"
   ]
  },
  {
   "cell_type": "markdown",
   "id": "p6poABZQaZYb",
   "metadata": {
    "id": "p6poABZQaZYb"
   },
   "source": [
    "## Plan de solución\n",
    "\n",
    "Escribe aquí tu plan para el Paso 2. Preprocesamiento de los datos."
   ]
  },
  {
   "cell_type": "markdown",
   "id": "07357848-dc64-4156-9cc3-01ff4365226d",
   "metadata": {
    "id": "07357848-dc64-4156-9cc3-01ff4365226d"
   },
   "source": [
    "## Encuentra y elimina los valores duplicados (y describe cómo tomaste tus decisiones)."
   ]
  },
  {
   "cell_type": "markdown",
   "id": "f179f0a9",
   "metadata": {
    "id": "f179f0a9"
   },
   "source": [
    "### `orders` data frame"
   ]
  },
  {
   "cell_type": "code",
   "execution_count": 8,
   "id": "b99297a5-405a-463d-8535-9adc3da4ad74",
   "metadata": {
    "id": "b99297a5-405a-463d-8535-9adc3da4ad74"
   },
   "outputs": [
    {
     "name": "stdout",
     "output_type": "stream",
     "text": [
      "        order_id  user_id  order_number  order_dow  order_hour_of_day  \\\n",
      "30371    1918001   188546            14          3                  2   \n",
      "99462     794638    50898            24          3                  2   \n",
      "119251    408114    68324             4          3                  2   \n",
      "142258   2845099    31189            11          3                  2   \n",
      "145574    794638    50898            24          3                  2   \n",
      "164581   1112182   202304            84          3                  2   \n",
      "200059   1782114   106752             1          3                  2   \n",
      "204042   2125197    14050            48          3                  2   \n",
      "215294   2160484   107525            16          3                  2   \n",
      "223105   2160484   107525            16          3                  2   \n",
      "230807   1918001   188546            14          3                  2   \n",
      "242618   1021560    53767             3          3                  2   \n",
      "250626    467134    63189            21          3                  2   \n",
      "257934   1919531   191501            32          3                  2   \n",
      "259636   2282673    86751            49          3                  2   \n",
      "266232   1782114   106752             1          3                  2   \n",
      "273805   1112182   202304            84          3                  2   \n",
      "284038   2845099    31189            11          3                  2   \n",
      "311713   1021560    53767             3          3                  2   \n",
      "314427   1286742   183220            48          3                  2   \n",
      "321100    408114    68324             4          3                  2   \n",
      "323900   1919531   191501            32          3                  2   \n",
      "324868   2232988    82565             1          3                  2   \n",
      "345917   2232988    82565             1          3                  2   \n",
      "354993    391768    57671            19          3                  2   \n",
      "371905    391768    57671            19          3                  2   \n",
      "394347    467134    63189            21          3                  2   \n",
      "411408   1286742   183220            48          3                  2   \n",
      "415163   2282673    86751            49          3                  2   \n",
      "441599   2125197    14050            48          3                  2   \n",
      "\n",
      "        days_since_prior_order  \n",
      "30371                     16.0  \n",
      "99462                      2.0  \n",
      "119251                    18.0  \n",
      "142258                     7.0  \n",
      "145574                     2.0  \n",
      "164581                     6.0  \n",
      "200059                     NaN  \n",
      "204042                     3.0  \n",
      "215294                    30.0  \n",
      "223105                    30.0  \n",
      "230807                    16.0  \n",
      "242618                     9.0  \n",
      "250626                     2.0  \n",
      "257934                     7.0  \n",
      "259636                     2.0  \n",
      "266232                     NaN  \n",
      "273805                     6.0  \n",
      "284038                     7.0  \n",
      "311713                     9.0  \n",
      "314427                     4.0  \n",
      "321100                    18.0  \n",
      "323900                     7.0  \n",
      "324868                     NaN  \n",
      "345917                     NaN  \n",
      "354993                    10.0  \n",
      "371905                    10.0  \n",
      "394347                     2.0  \n",
      "411408                     4.0  \n",
      "415163                     2.0  \n",
      "441599                     3.0  \n"
     ]
    },
    {
     "data": {
      "text/plain": [
       "15"
      ]
     },
     "execution_count": 8,
     "metadata": {},
     "output_type": "execute_result"
    }
   ],
   "source": [
    "duplicados =instacart_orders[instacart_orders.duplicated(keep=False)]\n",
    "print(duplicados)\n",
    "duplicados.duplicated().sum() # Revisa si hay pedidos duplicados\n"
   ]
  },
  {
   "cell_type": "markdown",
   "id": "PEkwUX_gvt5A",
   "metadata": {
    "id": "PEkwUX_gvt5A"
   },
   "source": [
    "¿Tienes líneas duplicadas? Si sí, ¿qué tienen en común? \n",
    "Sí, sí hay líneas duplicadas y estas corresponden a que hay ordenes que se repiten con el mismo usuario y estas se realizaron el mismo día y a la misma hora"
   ]
  },
  {
   "cell_type": "code",
   "execution_count": 9,
   "id": "0d44de5d",
   "metadata": {
    "id": "0d44de5d"
   },
   "outputs": [
    {
     "name": "stdout",
     "output_type": "stream",
     "text": [
      "        order_id  user_id  order_number  order_dow  order_hour_of_day  \\\n",
      "4838     2766110   162084            41          3                  2   \n",
      "5156     2190225   138285            18          3                  2   \n",
      "15506     553049    58599            13          3                  2   \n",
      "18420     382357   120200            19          3                  2   \n",
      "24691     690242    77357             2          3                  2   \n",
      "...          ...      ...           ...        ...                ...   \n",
      "457013   3384021    14881             6          3                  2   \n",
      "458816    910166   164782            18          3                  2   \n",
      "459635   1680532   106435             6          3                  2   \n",
      "468324    222962    54979            59          3                  2   \n",
      "477526   2592344    46860            38          3                  2   \n",
      "\n",
      "        days_since_prior_order  \n",
      "4838                      16.0  \n",
      "5156                      11.0  \n",
      "15506                      7.0  \n",
      "18420                     11.0  \n",
      "24691                      9.0  \n",
      "...                        ...  \n",
      "457013                    30.0  \n",
      "458816                     4.0  \n",
      "459635                    21.0  \n",
      "468324                     3.0  \n",
      "477526                     3.0  \n",
      "\n",
      "[121 rows x 6 columns]\n"
     ]
    }
   ],
   "source": [
    "# Basándote en tus hallazgos,\n",
    "instacart_orders_grouped=instacart_orders.groupby(['order_dow','order_hour_of_day']) # Verifica todos los pedidos que se hicieron el miércoles a las 2:00 a.m.\n",
    "wednesday_2_am=instacart_orders_grouped.get_group((3,2))\n",
    "print(wednesday_2_am)\n"
   ]
  },
  {
   "cell_type": "markdown",
   "id": "vu2OWyoqwOx5",
   "metadata": {
    "id": "vu2OWyoqwOx5"
   },
   "source": [
    "¿Qué sugiere este resultado?\n",
    "Deduciría que, con base en el punto anterior, de primera impresión podría concluirse que todas las compras realizadas el miércoles a las 2:00 am son duplicadas, sin embargo, una vez filtradas las columnas, es posible evidenciar que, contrario a esto, existen más compras realizadas el mismo día, a la misma hora."
   ]
  },
  {
   "cell_type": "code",
   "execution_count": 10,
   "id": "480563c7",
   "metadata": {
    "id": "480563c7"
   },
   "outputs": [],
   "source": [
    "# Elimina los pedidos duplicados\n",
    "instacart_orders.drop_duplicates(inplace=True)\n"
   ]
  },
  {
   "cell_type": "code",
   "execution_count": 11,
   "id": "0b2396a2",
   "metadata": {
    "id": "0b2396a2"
   },
   "outputs": [
    {
     "name": "stdout",
     "output_type": "stream",
     "text": [
      "<class 'pandas.core.frame.DataFrame'>\n",
      "Int64Index: 478952 entries, 0 to 478966\n",
      "Data columns (total 6 columns):\n",
      " #   Column                  Non-Null Count   Dtype  \n",
      "---  ------                  --------------   -----  \n",
      " 0   order_id                478952 non-null  int64  \n",
      " 1   user_id                 478952 non-null  int64  \n",
      " 2   order_number            478952 non-null  int64  \n",
      " 3   order_dow               478952 non-null  int64  \n",
      " 4   order_hour_of_day       478952 non-null  int64  \n",
      " 5   days_since_prior_order  450135 non-null  float64\n",
      "dtypes: float64(1), int64(5)\n",
      "memory usage: 25.6 MB\n"
     ]
    }
   ],
   "source": [
    "# Vuelve a verificar si hay filas duplicadas\n",
    "instacart_orders.info()"
   ]
  },
  {
   "cell_type": "code",
   "execution_count": 12,
   "id": "f6113ef1",
   "metadata": {
    "id": "f6113ef1"
   },
   "outputs": [
    {
     "data": {
      "text/plain": [
       "0"
      ]
     },
     "execution_count": 12,
     "metadata": {},
     "output_type": "execute_result"
    }
   ],
   "source": [
    "# Vuelve a verificar únicamente si hay IDs duplicados de pedidos\n",
    "instacart_orders['order_id'].duplicated().sum()"
   ]
  },
  {
   "cell_type": "markdown",
   "id": "5e8905ae",
   "metadata": {
    "id": "5e8905ae"
   },
   "source": [
    "Describe brevemente tus hallazgos y lo que hiciste con ellos\\\n",
    "- Se encontraron valores duplicados y un patrón de compra para un día y hora específica, por lo que fue necesario eliminar los valores duplicados para verificar correctamente los datos únicos existentes. Para efecto de validación, se verificó la inextencia de datos duplicados al final del análisis. "
   ]
  },
  {
   "cell_type": "markdown",
   "id": "45e6bc46",
   "metadata": {
    "id": "45e6bc46"
   },
   "source": [
    "### `products` data frame"
   ]
  },
  {
   "cell_type": "code",
   "execution_count": 13,
   "id": "5f526b5b-8175-46fa-a0fd-441767d50e64",
   "metadata": {
    "id": "5f526b5b-8175-46fa-a0fd-441767d50e64"
   },
   "outputs": [
    {
     "data": {
      "text/plain": [
       "0"
      ]
     },
     "execution_count": 13,
     "metadata": {},
     "output_type": "execute_result"
    }
   ],
   "source": [
    "# Verifica si hay filas totalmente duplicadas\n",
    "products.duplicated().sum()"
   ]
  },
  {
   "cell_type": "code",
   "execution_count": 14,
   "id": "88daa4f4",
   "metadata": {
    "id": "88daa4f4"
   },
   "outputs": [
    {
     "data": {
      "text/plain": [
       "49673"
      ]
     },
     "execution_count": 14,
     "metadata": {},
     "output_type": "execute_result"
    }
   ],
   "source": [
    "# Revisa únicamente si hay ID de departamentos duplicados\n",
    "products['department_id'].duplicated().sum()"
   ]
  },
  {
   "cell_type": "code",
   "execution_count": 15,
   "id": "c773f0bf",
   "metadata": {
    "id": "c773f0bf"
   },
   "outputs": [
    {
     "name": "stdout",
     "output_type": "stream",
     "text": [
      "       product_id                                     product_name  aisle_id  \\\n",
      "37             38                                              NaN       100   \n",
      "41             42                                  Biotin 1000 mcg        47   \n",
      "71             72                                              NaN       100   \n",
      "109           110                                              NaN       100   \n",
      "185           186       Fresh Scent Dishwasher Detergent with Dawn        74   \n",
      "...           ...                                              ...       ...   \n",
      "49689       49690                    HIGH PERFORMANCE ENERGY DRINK        64   \n",
      "49690       49691                    ORIGINAL PANCAKE & WAFFLE MIX       130   \n",
      "49691       49692  ORGANIC INSTANT OATMEAL LIGHT MAPLE BROWN SUGAR       130   \n",
      "49692       49693                           SPRING WATER BODY WASH       127   \n",
      "49693       49694                          BURRITO- STEAK & CHEESE        38   \n",
      "\n",
      "       department_id  \n",
      "37                21  \n",
      "41                11  \n",
      "71                21  \n",
      "109               21  \n",
      "185               17  \n",
      "...              ...  \n",
      "49689              7  \n",
      "49690             14  \n",
      "49691             14  \n",
      "49692             11  \n",
      "49693              1  \n",
      "\n",
      "[1465 rows x 4 columns]\n"
     ]
    }
   ],
   "source": [
    "# Revisa únicamente si hay nombres duplicados de productos (convierte los nombres a letras mayúsculas para compararlos mejor)\n",
    "products_duplicated=products[products['product_name'].str.upper().duplicated(keep=False)]\n",
    "print(products_duplicated)"
   ]
  },
  {
   "cell_type": "code",
   "execution_count": 16,
   "id": "01efd02e",
   "metadata": {
    "id": "01efd02e"
   },
   "outputs": [
    {
     "data": {
      "text/html": [
       "<div>\n",
       "<style scoped>\n",
       "    .dataframe tbody tr th:only-of-type {\n",
       "        vertical-align: middle;\n",
       "    }\n",
       "\n",
       "    .dataframe tbody tr th {\n",
       "        vertical-align: top;\n",
       "    }\n",
       "\n",
       "    .dataframe thead th {\n",
       "        text-align: right;\n",
       "    }\n",
       "</style>\n",
       "<table border=\"1\" class=\"dataframe\">\n",
       "  <thead>\n",
       "    <tr style=\"text-align: right;\">\n",
       "      <th></th>\n",
       "      <th>product_id</th>\n",
       "      <th>product_name</th>\n",
       "      <th>aisle_id</th>\n",
       "      <th>department_id</th>\n",
       "    </tr>\n",
       "  </thead>\n",
       "  <tbody>\n",
       "    <tr>\n",
       "      <th>41</th>\n",
       "      <td>42</td>\n",
       "      <td>Biotin 1000 mcg</td>\n",
       "      <td>47</td>\n",
       "      <td>11</td>\n",
       "    </tr>\n",
       "    <tr>\n",
       "      <th>185</th>\n",
       "      <td>186</td>\n",
       "      <td>Fresh Scent Dishwasher Detergent with Dawn</td>\n",
       "      <td>74</td>\n",
       "      <td>17</td>\n",
       "    </tr>\n",
       "    <tr>\n",
       "      <th>515</th>\n",
       "      <td>516</td>\n",
       "      <td>American Cheese Slices</td>\n",
       "      <td>21</td>\n",
       "      <td>16</td>\n",
       "    </tr>\n",
       "    <tr>\n",
       "      <th>1538</th>\n",
       "      <td>1539</td>\n",
       "      <td>Cauliflower head</td>\n",
       "      <td>83</td>\n",
       "      <td>4</td>\n",
       "    </tr>\n",
       "    <tr>\n",
       "      <th>1783</th>\n",
       "      <td>1784</td>\n",
       "      <td>NUTrition Protein Mix Blueberry Nut</td>\n",
       "      <td>117</td>\n",
       "      <td>19</td>\n",
       "    </tr>\n",
       "    <tr>\n",
       "      <th>...</th>\n",
       "      <td>...</td>\n",
       "      <td>...</td>\n",
       "      <td>...</td>\n",
       "      <td>...</td>\n",
       "    </tr>\n",
       "    <tr>\n",
       "      <th>49689</th>\n",
       "      <td>49690</td>\n",
       "      <td>HIGH PERFORMANCE ENERGY DRINK</td>\n",
       "      <td>64</td>\n",
       "      <td>7</td>\n",
       "    </tr>\n",
       "    <tr>\n",
       "      <th>49690</th>\n",
       "      <td>49691</td>\n",
       "      <td>ORIGINAL PANCAKE &amp; WAFFLE MIX</td>\n",
       "      <td>130</td>\n",
       "      <td>14</td>\n",
       "    </tr>\n",
       "    <tr>\n",
       "      <th>49691</th>\n",
       "      <td>49692</td>\n",
       "      <td>ORGANIC INSTANT OATMEAL LIGHT MAPLE BROWN SUGAR</td>\n",
       "      <td>130</td>\n",
       "      <td>14</td>\n",
       "    </tr>\n",
       "    <tr>\n",
       "      <th>49692</th>\n",
       "      <td>49693</td>\n",
       "      <td>SPRING WATER BODY WASH</td>\n",
       "      <td>127</td>\n",
       "      <td>11</td>\n",
       "    </tr>\n",
       "    <tr>\n",
       "      <th>49693</th>\n",
       "      <td>49694</td>\n",
       "      <td>BURRITO- STEAK &amp; CHEESE</td>\n",
       "      <td>38</td>\n",
       "      <td>1</td>\n",
       "    </tr>\n",
       "  </tbody>\n",
       "</table>\n",
       "<p>207 rows × 4 columns</p>\n",
       "</div>"
      ],
      "text/plain": [
       "       product_id                                     product_name  aisle_id  \\\n",
       "41             42                                  Biotin 1000 mcg        47   \n",
       "185           186       Fresh Scent Dishwasher Detergent with Dawn        74   \n",
       "515           516                           American Cheese Slices        21   \n",
       "1538         1539                                 Cauliflower head        83   \n",
       "1783         1784              NUTrition Protein Mix Blueberry Nut       117   \n",
       "...           ...                                              ...       ...   \n",
       "49689       49690                    HIGH PERFORMANCE ENERGY DRINK        64   \n",
       "49690       49691                    ORIGINAL PANCAKE & WAFFLE MIX       130   \n",
       "49691       49692  ORGANIC INSTANT OATMEAL LIGHT MAPLE BROWN SUGAR       130   \n",
       "49692       49693                           SPRING WATER BODY WASH       127   \n",
       "49693       49694                          BURRITO- STEAK & CHEESE        38   \n",
       "\n",
       "       department_id  \n",
       "41                11  \n",
       "185               17  \n",
       "515               16  \n",
       "1538               4  \n",
       "1783              19  \n",
       "...              ...  \n",
       "49689              7  \n",
       "49690             14  \n",
       "49691             14  \n",
       "49692             11  \n",
       "49693              1  \n",
       "\n",
       "[207 rows x 4 columns]"
      ]
     },
     "execution_count": 16,
     "metadata": {},
     "output_type": "execute_result"
    }
   ],
   "source": [
    "# Revisa si hay nombres duplicados de productos no faltantes\n",
    "products_duplicated.dropna()"
   ]
  },
  {
   "cell_type": "markdown",
   "id": "9da8d293",
   "metadata": {
    "id": "9da8d293"
   },
   "source": [
    "Describe brevemente tus hallazgos y lo que hiciste con ellos.\n",
    "- Se filtraron los nombres de productos duplicados y se hicieron más visibles para una verificación más fácil, posteriormente, se eliminaron los valores faltantes para sintetizar la tabla. "
   ]
  },
  {
   "cell_type": "markdown",
   "id": "60f30db1",
   "metadata": {
    "id": "60f30db1"
   },
   "source": [
    "### `departments` data frame"
   ]
  },
  {
   "cell_type": "code",
   "execution_count": 17,
   "id": "fb410ad4-0fbf-4b80-bb09-23fdea79afe3",
   "metadata": {
    "id": "fb410ad4-0fbf-4b80-bb09-23fdea79afe3"
   },
   "outputs": [
    {
     "data": {
      "text/plain": [
       "0"
      ]
     },
     "execution_count": 17,
     "metadata": {},
     "output_type": "execute_result"
    }
   ],
   "source": [
    "departments.duplicated().sum()# Revisa si hay filas totalmente duplicadas"
   ]
  },
  {
   "cell_type": "code",
   "execution_count": 18,
   "id": "332b12bb",
   "metadata": {
    "id": "332b12bb"
   },
   "outputs": [
    {
     "data": {
      "text/plain": [
       "0"
      ]
     },
     "execution_count": 18,
     "metadata": {},
     "output_type": "execute_result"
    }
   ],
   "source": [
    "departments['department_id'].duplicated().sum()# Revisa únicamente si hay IDs duplicadas de productos"
   ]
  },
  {
   "cell_type": "markdown",
   "id": "bd30d78e",
   "metadata": {
    "id": "bd30d78e"
   },
   "source": [
    "Describe brevemente tus hallazgos y lo que hiciste con ellos.\n",
    "No se encuentran valores duplicados "
   ]
  },
  {
   "cell_type": "markdown",
   "id": "889349c1",
   "metadata": {
    "id": "889349c1"
   },
   "source": [
    "### `aisles` data frame"
   ]
  },
  {
   "cell_type": "code",
   "execution_count": 19,
   "id": "9da89fb9-4679-40f5-ad0d-c34df753a3f8",
   "metadata": {
    "id": "9da89fb9-4679-40f5-ad0d-c34df753a3f8"
   },
   "outputs": [
    {
     "data": {
      "text/plain": [
       "0"
      ]
     },
     "execution_count": 19,
     "metadata": {},
     "output_type": "execute_result"
    }
   ],
   "source": [
    "aisles.duplicated().sum()# Revisa si hay filas totalmente duplicadas"
   ]
  },
  {
   "cell_type": "code",
   "execution_count": 20,
   "id": "da7c2822",
   "metadata": {
    "id": "da7c2822"
   },
   "outputs": [
    {
     "data": {
      "text/plain": [
       "0"
      ]
     },
     "execution_count": 20,
     "metadata": {},
     "output_type": "execute_result"
    }
   ],
   "source": [
    "aisles['aisle_id'].duplicated().sum()# Revisa únicamente si hay IDs duplicadas de pasillos"
   ]
  },
  {
   "cell_type": "markdown",
   "id": "ac63826f",
   "metadata": {
    "id": "ac63826f"
   },
   "source": [
    "Describe brevemente tus hallazgos y lo que hiciste con ellos.\n",
    "No se encuentran valores duplicados"
   ]
  },
  {
   "cell_type": "markdown",
   "id": "274cd06a",
   "metadata": {
    "id": "274cd06a"
   },
   "source": [
    "### `order_products` data frame"
   ]
  },
  {
   "cell_type": "code",
   "execution_count": 21,
   "id": "52326689-84a8-4b8f-a881-7c68780f62c9",
   "metadata": {
    "id": "52326689-84a8-4b8f-a881-7c68780f62c9"
   },
   "outputs": [
    {
     "data": {
      "text/plain": [
       "0"
      ]
     },
     "execution_count": 21,
     "metadata": {},
     "output_type": "execute_result"
    }
   ],
   "source": [
    "# Revisa si hay filas totalmente duplicadas\n",
    "order_products.duplicated().sum()"
   ]
  },
  {
   "cell_type": "code",
   "execution_count": 22,
   "id": "7b861391",
   "metadata": {
    "id": "7b861391"
   },
   "outputs": [
    {
     "data": {
      "text/plain": [
       "order_id             450046\n",
       "product_id            45573\n",
       "add_to_cart_order        64\n",
       "reordered                 2\n",
       "dtype: int64"
      ]
     },
     "execution_count": 22,
     "metadata": {},
     "output_type": "execute_result"
    }
   ],
   "source": [
    "# Vuelve a verificar si hay cualquier otro duplicado engañoso\n",
    "order_products.nunique()"
   ]
  },
  {
   "cell_type": "markdown",
   "id": "0b890492",
   "metadata": {
    "id": "0b890492"
   },
   "source": [
    "Describe brevemente tus hallazgos y lo que hiciste con ellos.\n",
    "Aparentemente sí hay datos duplicados engañosos"
   ]
  },
  {
   "cell_type": "markdown",
   "id": "d0540063",
   "metadata": {},
   "source": [
    "<div class=\"alert alert-block alert-success\">\n",
    "<b>Comentario del revisor (1ra Iteración)</b> <a class=“tocSkip”></a>\n",
    "\n",
    "Muy buen trabajo identificando y eliminando los datos duplicados presentes en los datasets. Este tipo de datos se presentan por errores a la hora de ingresar y consolidar la información, identificarlos y removerlos evita sesgos en los resultados, reduce el consumo innecesario de recursos y mejora la calidad de los análisis. Si hay datos repetidos, las estadísticas pueden distorsionarse, los modelos predictivos pueden entrenarse con información redundante y las visualizaciones pueden ser mostrar información engañosa. Además, mantener datos limpios facilita su interpretación y optimiza el rendimiento de los algoritmos, garantizando conclusiones más precisas y representativas.\n",
    "\n",
    "</div>"
   ]
  },
  {
   "cell_type": "markdown",
   "id": "1e46de76",
   "metadata": {
    "id": "1e46de76"
   },
   "source": [
    "## Encuentra y elimina los valores ausentes\n",
    "\n",
    "Al trabajar con valores duplicados, pudimos observar que también nos falta investigar valores ausentes:\n",
    "\n",
    "* La columna `'product_name'` de la tabla products.\n",
    "* La columna `'days_since_prior_order'` de la tabla orders.\n",
    "* La columna `'add_to_cart_order'` de la tabla order_productos."
   ]
  },
  {
   "cell_type": "markdown",
   "id": "c0aebd78",
   "metadata": {
    "id": "c0aebd78"
   },
   "source": [
    "### `products` data frame"
   ]
  },
  {
   "cell_type": "code",
   "execution_count": 23,
   "id": "fe4a8b0f",
   "metadata": {
    "id": "fe4a8b0f"
   },
   "outputs": [
    {
     "data": {
      "text/plain": [
       "1258"
      ]
     },
     "execution_count": 23,
     "metadata": {},
     "output_type": "execute_result"
    }
   ],
   "source": [
    "# Encuentra los valores ausentes en la columna 'product_name'\n",
    "products['product_name'].isnull().sum()"
   ]
  },
  {
   "cell_type": "markdown",
   "id": "-A6x1AbJhjkp",
   "metadata": {
    "id": "-A6x1AbJhjkp"
   },
   "source": [
    "Describe brevemente cuáles son tus hallazgos.\n",
    "Fue posible evidenciar que hay 1258 datos ausente en la columna 'product_name'"
   ]
  },
  {
   "cell_type": "code",
   "execution_count": 24,
   "id": "e96167bc",
   "metadata": {
    "id": "e96167bc"
   },
   "outputs": [
    {
     "data": {
      "text/html": [
       "<div>\n",
       "<style scoped>\n",
       "    .dataframe tbody tr th:only-of-type {\n",
       "        vertical-align: middle;\n",
       "    }\n",
       "\n",
       "    .dataframe tbody tr th {\n",
       "        vertical-align: top;\n",
       "    }\n",
       "\n",
       "    .dataframe thead th {\n",
       "        text-align: right;\n",
       "    }\n",
       "</style>\n",
       "<table border=\"1\" class=\"dataframe\">\n",
       "  <thead>\n",
       "    <tr style=\"text-align: right;\">\n",
       "      <th></th>\n",
       "      <th>product_id</th>\n",
       "      <th>product_name</th>\n",
       "      <th>aisle_id</th>\n",
       "      <th>department_id</th>\n",
       "    </tr>\n",
       "  </thead>\n",
       "  <tbody>\n",
       "    <tr>\n",
       "      <th>37</th>\n",
       "      <td>38</td>\n",
       "      <td>NaN</td>\n",
       "      <td>100</td>\n",
       "      <td>21</td>\n",
       "    </tr>\n",
       "    <tr>\n",
       "      <th>71</th>\n",
       "      <td>72</td>\n",
       "      <td>NaN</td>\n",
       "      <td>100</td>\n",
       "      <td>21</td>\n",
       "    </tr>\n",
       "    <tr>\n",
       "      <th>109</th>\n",
       "      <td>110</td>\n",
       "      <td>NaN</td>\n",
       "      <td>100</td>\n",
       "      <td>21</td>\n",
       "    </tr>\n",
       "    <tr>\n",
       "      <th>296</th>\n",
       "      <td>297</td>\n",
       "      <td>NaN</td>\n",
       "      <td>100</td>\n",
       "      <td>21</td>\n",
       "    </tr>\n",
       "    <tr>\n",
       "      <th>416</th>\n",
       "      <td>417</td>\n",
       "      <td>NaN</td>\n",
       "      <td>100</td>\n",
       "      <td>21</td>\n",
       "    </tr>\n",
       "    <tr>\n",
       "      <th>...</th>\n",
       "      <td>...</td>\n",
       "      <td>...</td>\n",
       "      <td>...</td>\n",
       "      <td>...</td>\n",
       "    </tr>\n",
       "    <tr>\n",
       "      <th>49552</th>\n",
       "      <td>49553</td>\n",
       "      <td>NaN</td>\n",
       "      <td>100</td>\n",
       "      <td>21</td>\n",
       "    </tr>\n",
       "    <tr>\n",
       "      <th>49574</th>\n",
       "      <td>49575</td>\n",
       "      <td>NaN</td>\n",
       "      <td>100</td>\n",
       "      <td>21</td>\n",
       "    </tr>\n",
       "    <tr>\n",
       "      <th>49640</th>\n",
       "      <td>49641</td>\n",
       "      <td>NaN</td>\n",
       "      <td>100</td>\n",
       "      <td>21</td>\n",
       "    </tr>\n",
       "    <tr>\n",
       "      <th>49663</th>\n",
       "      <td>49664</td>\n",
       "      <td>NaN</td>\n",
       "      <td>100</td>\n",
       "      <td>21</td>\n",
       "    </tr>\n",
       "    <tr>\n",
       "      <th>49668</th>\n",
       "      <td>49669</td>\n",
       "      <td>NaN</td>\n",
       "      <td>100</td>\n",
       "      <td>21</td>\n",
       "    </tr>\n",
       "  </tbody>\n",
       "</table>\n",
       "<p>1258 rows × 4 columns</p>\n",
       "</div>"
      ],
      "text/plain": [
       "       product_id product_name  aisle_id  department_id\n",
       "37             38          NaN       100             21\n",
       "71             72          NaN       100             21\n",
       "109           110          NaN       100             21\n",
       "296           297          NaN       100             21\n",
       "416           417          NaN       100             21\n",
       "...           ...          ...       ...            ...\n",
       "49552       49553          NaN       100             21\n",
       "49574       49575          NaN       100             21\n",
       "49640       49641          NaN       100             21\n",
       "49663       49664          NaN       100             21\n",
       "49668       49669          NaN       100             21\n",
       "\n",
       "[1258 rows x 4 columns]"
      ]
     },
     "execution_count": 24,
     "metadata": {},
     "output_type": "execute_result"
    }
   ],
   "source": [
    "#  ¿Todos los nombres de productos ausentes están relacionados con el pasillo con ID 100?\n",
    "products[products['aisle_id']==100]"
   ]
  },
  {
   "cell_type": "markdown",
   "id": "WRpIfXRphpSL",
   "metadata": {
    "id": "WRpIfXRphpSL"
   },
   "source": [
    "Describe brevemente cuáles son tus hallazgos.\n",
    "\n",
    "Todos los nombres de productos faltantes corresponde al pasillo con ID 100"
   ]
  },
  {
   "cell_type": "code",
   "execution_count": 25,
   "id": "8fd0a541",
   "metadata": {
    "id": "8fd0a541"
   },
   "outputs": [
    {
     "data": {
      "text/html": [
       "<div>\n",
       "<style scoped>\n",
       "    .dataframe tbody tr th:only-of-type {\n",
       "        vertical-align: middle;\n",
       "    }\n",
       "\n",
       "    .dataframe tbody tr th {\n",
       "        vertical-align: top;\n",
       "    }\n",
       "\n",
       "    .dataframe thead th {\n",
       "        text-align: right;\n",
       "    }\n",
       "</style>\n",
       "<table border=\"1\" class=\"dataframe\">\n",
       "  <thead>\n",
       "    <tr style=\"text-align: right;\">\n",
       "      <th></th>\n",
       "      <th>product_id</th>\n",
       "      <th>product_name</th>\n",
       "      <th>aisle_id</th>\n",
       "      <th>department_id</th>\n",
       "    </tr>\n",
       "  </thead>\n",
       "  <tbody>\n",
       "    <tr>\n",
       "      <th>37</th>\n",
       "      <td>38</td>\n",
       "      <td>NaN</td>\n",
       "      <td>100</td>\n",
       "      <td>21</td>\n",
       "    </tr>\n",
       "    <tr>\n",
       "      <th>71</th>\n",
       "      <td>72</td>\n",
       "      <td>NaN</td>\n",
       "      <td>100</td>\n",
       "      <td>21</td>\n",
       "    </tr>\n",
       "    <tr>\n",
       "      <th>109</th>\n",
       "      <td>110</td>\n",
       "      <td>NaN</td>\n",
       "      <td>100</td>\n",
       "      <td>21</td>\n",
       "    </tr>\n",
       "    <tr>\n",
       "      <th>296</th>\n",
       "      <td>297</td>\n",
       "      <td>NaN</td>\n",
       "      <td>100</td>\n",
       "      <td>21</td>\n",
       "    </tr>\n",
       "    <tr>\n",
       "      <th>416</th>\n",
       "      <td>417</td>\n",
       "      <td>NaN</td>\n",
       "      <td>100</td>\n",
       "      <td>21</td>\n",
       "    </tr>\n",
       "    <tr>\n",
       "      <th>...</th>\n",
       "      <td>...</td>\n",
       "      <td>...</td>\n",
       "      <td>...</td>\n",
       "      <td>...</td>\n",
       "    </tr>\n",
       "    <tr>\n",
       "      <th>49552</th>\n",
       "      <td>49553</td>\n",
       "      <td>NaN</td>\n",
       "      <td>100</td>\n",
       "      <td>21</td>\n",
       "    </tr>\n",
       "    <tr>\n",
       "      <th>49574</th>\n",
       "      <td>49575</td>\n",
       "      <td>NaN</td>\n",
       "      <td>100</td>\n",
       "      <td>21</td>\n",
       "    </tr>\n",
       "    <tr>\n",
       "      <th>49640</th>\n",
       "      <td>49641</td>\n",
       "      <td>NaN</td>\n",
       "      <td>100</td>\n",
       "      <td>21</td>\n",
       "    </tr>\n",
       "    <tr>\n",
       "      <th>49663</th>\n",
       "      <td>49664</td>\n",
       "      <td>NaN</td>\n",
       "      <td>100</td>\n",
       "      <td>21</td>\n",
       "    </tr>\n",
       "    <tr>\n",
       "      <th>49668</th>\n",
       "      <td>49669</td>\n",
       "      <td>NaN</td>\n",
       "      <td>100</td>\n",
       "      <td>21</td>\n",
       "    </tr>\n",
       "  </tbody>\n",
       "</table>\n",
       "<p>1258 rows × 4 columns</p>\n",
       "</div>"
      ],
      "text/plain": [
       "       product_id product_name  aisle_id  department_id\n",
       "37             38          NaN       100             21\n",
       "71             72          NaN       100             21\n",
       "109           110          NaN       100             21\n",
       "296           297          NaN       100             21\n",
       "416           417          NaN       100             21\n",
       "...           ...          ...       ...            ...\n",
       "49552       49553          NaN       100             21\n",
       "49574       49575          NaN       100             21\n",
       "49640       49641          NaN       100             21\n",
       "49663       49664          NaN       100             21\n",
       "49668       49669          NaN       100             21\n",
       "\n",
       "[1258 rows x 4 columns]"
      ]
     },
     "execution_count": 25,
     "metadata": {},
     "output_type": "execute_result"
    }
   ],
   "source": [
    "# ¿Todos los nombres de productos ausentes están relacionados con el departamento con ID 21?\n",
    "products[products['department_id']==21]"
   ]
  },
  {
   "cell_type": "markdown",
   "id": "qDpdYn1Fht_I",
   "metadata": {
    "id": "qDpdYn1Fht_I"
   },
   "source": [
    "Describe brevemente cuáles son tus hallazgos.\n",
    "sí, todos los nombres faltantes corresponden al departamento de ID 21"
   ]
  },
  {
   "cell_type": "code",
   "execution_count": 26,
   "id": "325c3464",
   "metadata": {
    "id": "325c3464"
   },
   "outputs": [
    {
     "name": "stdout",
     "output_type": "stream",
     "text": [
      "    aisle_id    aisle\n",
      "99       100  missing\n",
      "    department_id department\n",
      "20             21    missing\n"
     ]
    }
   ],
   "source": [
    "pasillo_100 = aisles[aisles['aisle_id'] == 100]\n",
    "departamento_21 = departments[departments['department_id'] == 21]\n",
    "\n",
    "print(pasillo_100)\n",
    "print(departamento_21)\n",
    "# Usa las tablas department y aisle para revisar los datos del pasillo con ID 100 y el departamento con ID 21."
   ]
  },
  {
   "cell_type": "markdown",
   "id": "nqhSTUPhhvEJ",
   "metadata": {
    "id": "nqhSTUPhhvEJ"
   },
   "source": [
    "Describe brevemente cuáles son tus hallazgos."
   ]
  },
  {
   "cell_type": "code",
   "execution_count": 27,
   "id": "6b295120",
   "metadata": {
    "id": "6b295120"
   },
   "outputs": [
    {
     "data": {
      "text/plain": [
       "0                               Chocolate Sandwich Cookies\n",
       "1                                         All-Seasons Salt\n",
       "2                     Robust Golden Unsweetened Oolong Tea\n",
       "3        Smart Ones Classic Favorites Mini Rigatoni Wit...\n",
       "4                                Green Chile Anytime Sauce\n",
       "                               ...                        \n",
       "49689                        HIGH PERFORMANCE ENERGY DRINK\n",
       "49690                        ORIGINAL PANCAKE & WAFFLE MIX\n",
       "49691      ORGANIC INSTANT OATMEAL LIGHT MAPLE BROWN SUGAR\n",
       "49692                               SPRING WATER BODY WASH\n",
       "49693                              BURRITO- STEAK & CHEESE\n",
       "Name: product_name, Length: 49694, dtype: object"
      ]
     },
     "execution_count": 27,
     "metadata": {},
     "output_type": "execute_result"
    }
   ],
   "source": [
    "products['product_name'].fillna('Unknown') # Completa los nombres de productos ausentes con 'Unknown'\n"
   ]
  },
  {
   "cell_type": "markdown",
   "id": "fc70e5ad",
   "metadata": {
    "id": "fc70e5ad"
   },
   "source": [
    "Describe brevemente tus hallazgos y lo que hiciste con ellos."
   ]
  },
  {
   "cell_type": "code",
   "execution_count": null,
   "id": "2d860450",
   "metadata": {},
   "outputs": [],
   "source": []
  },
  {
   "cell_type": "markdown",
   "id": "7eb45c86",
   "metadata": {
    "id": "7eb45c86"
   },
   "source": [
    "### `orders` data frame"
   ]
  },
  {
   "cell_type": "code",
   "execution_count": 28,
   "id": "93e41d96",
   "metadata": {
    "id": "93e41d96"
   },
   "outputs": [
    {
     "data": {
      "text/plain": [
       "order_id                      0\n",
       "user_id                       0\n",
       "order_number                  0\n",
       "order_dow                     0\n",
       "order_hour_of_day             0\n",
       "days_since_prior_order    28817\n",
       "dtype: int64"
      ]
     },
     "execution_count": 28,
     "metadata": {},
     "output_type": "execute_result"
    }
   ],
   "source": [
    "instacart_orders.isnull().sum()# Encuentra los valores ausentes"
   ]
  },
  {
   "cell_type": "code",
   "execution_count": 29,
   "id": "166e5a86",
   "metadata": {
    "id": "166e5a86"
   },
   "outputs": [
    {
     "name": "stdout",
     "output_type": "stream",
     "text": [
      "Total de primeros pedidos con valores ausentes en 'days_since_prior_order': 7840\n",
      "        user_id  order_number  days_since_prior_order\n",
      "14           20             1                     NaN\n",
      "28           34             1                     NaN\n",
      "112         143             1                     NaN\n",
      "135         170             1                     NaN\n",
      "136         171             1                     NaN\n",
      "...         ...           ...                     ...\n",
      "157357   206110             1                     NaN\n",
      "157359   206115             1                     NaN\n",
      "157379   206142             1                     NaN\n",
      "157400   206167             1                     NaN\n",
      "157420   206190             1                     NaN\n",
      "\n",
      "[7840 rows x 3 columns]\n"
     ]
    }
   ],
   "source": [
    "instacart_orders = instacart_orders.sort_values(by=['user_id', 'order_number'])\n",
    "\n",
    "first_orders = instacart_orders.groupby('user_id').first().reset_index()\n",
    "\n",
    "first_orders_missing = first_orders[first_orders['days_since_prior_order'].isna()]\n",
    "\n",
    "print(f\"Total de primeros pedidos con valores ausentes en 'days_since_prior_order': {len(first_orders_missing)}\")\n",
    "\n",
    "print(first_orders_missing[['user_id', 'order_number', 'days_since_prior_order']])\n",
    "\n",
    "# ¿Hay algún valor ausente que no sea el primer pedido del cliente?\n"
   ]
  },
  {
   "cell_type": "markdown",
   "id": "4e23d089",
   "metadata": {
    "id": "4e23d089"
   },
   "source": [
    "Describe brevemente tus hallazgos y lo que hiciste con ellos.\n",
    "sí hay valores ausentes como primera orden\n"
   ]
  },
  {
   "cell_type": "markdown",
   "id": "69dc9ca4",
   "metadata": {
    "id": "69dc9ca4"
   },
   "source": [
    "### `order_products` data frame"
   ]
  },
  {
   "cell_type": "code",
   "execution_count": 30,
   "id": "b8240253",
   "metadata": {
    "id": "b8240253"
   },
   "outputs": [
    {
     "data": {
      "text/plain": [
       "order_id               0\n",
       "product_id             0\n",
       "add_to_cart_order    836\n",
       "reordered              0\n",
       "dtype: int64"
      ]
     },
     "execution_count": 30,
     "metadata": {},
     "output_type": "execute_result"
    }
   ],
   "source": [
    "# Encuentra los valores ausentes\n",
    "order_products.isnull().sum()"
   ]
  },
  {
   "cell_type": "code",
   "execution_count": 31,
   "id": "9a78e5ee",
   "metadata": {
    "id": "9a78e5ee"
   },
   "outputs": [
    {
     "data": {
      "text/plain": [
       "(1.0, 64.0)"
      ]
     },
     "execution_count": 31,
     "metadata": {},
     "output_type": "execute_result"
    }
   ],
   "source": [
    "# ¿Cuáles son los valores mínimos y máximos en esta columna?\n",
    "order_products['add_to_cart_order'].min(),order_products['add_to_cart_order'].max()"
   ]
  },
  {
   "cell_type": "markdown",
   "id": "-Z2Ja215jW78",
   "metadata": {
    "id": "-Z2Ja215jW78"
   },
   "source": [
    "Describe brevemente cuáles son tus hallazgos.\n",
    "\n",
    "se evidencia una diferencia considerable entre la cantidad de unidades que se compran por usuario "
   ]
  },
  {
   "cell_type": "code",
   "execution_count": 32,
   "id": "ab9d0c2b",
   "metadata": {
    "id": "ab9d0c2b"
   },
   "outputs": [
    {
     "name": "stdout",
     "output_type": "stream",
     "text": [
      "Número de pedidos con 'add_to_cart_order' ausente: 836\n",
      "[2449164, 1968313, 2926893, 1717990, 1959075, 844733, 61355, 936852, 264710, 1717990]\n"
     ]
    }
   ],
   "source": [
    "# Guarda todas las IDs de pedidos que tengan un valor ausente en 'add_to_cart_order'\n",
    "missing_order_ids = order_products[order_products['add_to_cart_order'].isnull()]['order_id']\n",
    "missing_order_ids = missing_order_ids.tolist()\n",
    "print(f\"Número de pedidos con 'add_to_cart_order' ausente: {len(missing_order_ids)}\")\n",
    "print(missing_order_ids[:10])"
   ]
  },
  {
   "cell_type": "code",
   "execution_count": 33,
   "id": "54c31695",
   "metadata": {
    "id": "54c31695"
   },
   "outputs": [
    {
     "name": "stdout",
     "output_type": "stream",
     "text": [
      "¿Todos los pedidos con valores ausentes tienen más de 64 productos?: False\n",
      "count    70.000000\n",
      "mean     11.942857\n",
      "std      12.898585\n",
      "min       1.000000\n",
      "25%       3.000000\n",
      "50%       7.000000\n",
      "75%      14.000000\n",
      "max      63.000000\n",
      "Name: order_id, dtype: float64\n",
      "order_id\n",
      "9310       1\n",
      "61355     63\n",
      "102236    31\n",
      "129627     5\n",
      "165801     6\n",
      "dtype: int64\n",
      "El número mínimo de productos en un pedido es: 1\n"
     ]
    }
   ],
   "source": [
    "# ¿Todos los pedidos con valores ausentes tienen más de 64 productos?\n",
    "missing_orders = order_products[order_products['add_to_cart_order'].isnull()]\n",
    "order_counts = missing_orders['order_id'].value_counts()\n",
    "all_above_64 = (order_counts > 64).all()\n",
    "print(f\"¿Todos los pedidos con valores ausentes tienen más de 64 productos?: {all_above_64}\")\n",
    "print(order_counts.describe())\n",
    "# Agrupa todos los pedidos con datos ausentes por su ID de pedido.\n",
    "missing_orders = order_products[order_products['add_to_cart_order'].isnull()]\n",
    "grouped_missing_orders = missing_orders.groupby('order_id').size()\n",
    "print(grouped_missing_orders.head())\n",
    "# Cuenta el número de 'product_id' en cada pedido y revisa el valor mínimo del conteo.\n",
    "order_product_counts = order_products.groupby('order_id')['product_id'].count()\n",
    "min_products_per_order = order_product_counts.min()\n",
    "print(f\"El número mínimo de productos en un pedido es: {min_products_per_order}\")\n"
   ]
  },
  {
   "cell_type": "markdown",
   "id": "p9V6pddtjglj",
   "metadata": {
    "id": "p9V6pddtjglj"
   },
   "source": [
    "Describe brevemente cuáles son tus hallazgos."
   ]
  },
  {
   "cell_type": "code",
   "execution_count": 34,
   "id": "7a987d08",
   "metadata": {
    "id": "7a987d08"
   },
   "outputs": [
    {
     "name": "stdout",
     "output_type": "stream",
     "text": [
      "order_id             int64\n",
      "product_id           int64\n",
      "add_to_cart_order    int64\n",
      "reordered            int64\n",
      "dtype: object\n"
     ]
    }
   ],
   "source": [
    "# Remplaza los valores ausentes en la columna 'add_to_cart? con 999 y convierte la columna al tipo entero.\n",
    "order_products['add_to_cart_order'].fillna(999,inplace=True)\n",
    "order_products['add_to_cart_order']=order_products['add_to_cart_order'].astype(int)\n",
    "print(order_products.dtypes)"
   ]
  },
  {
   "cell_type": "markdown",
   "id": "fea4bcc7",
   "metadata": {
    "id": "fea4bcc7"
   },
   "source": [
    "Describe brevemente tus hallazgos y lo que hiciste con ellos.\n",
    "Hay variedad en el comportamiento y patrón de compra por parte de los compradores "
   ]
  },
  {
   "cell_type": "markdown",
   "id": "RnplPFY1gSrb",
   "metadata": {
    "id": "RnplPFY1gSrb"
   },
   "source": [
    "## Conclusiones\n",
    "\n",
    "Escribe aquí tus conclusiones intermedias sobre el Paso 2. Preprocesamiento de los datos\n",
    "Para mí fue algo complejo, existe una variedad muy amplia para el procesamiento de los datos pero una vez realizado, fue posible evidenciar la necesidad de aplicar orden sobre los datos contenidos en cada DataFrame para poder analizar su información. La existencia de valores ausentes o nulos fue un patrón regular en los DataFrames analizados. "
   ]
  },
  {
   "cell_type": "markdown",
   "id": "62d47f0c",
   "metadata": {},
   "source": [
    "<div class=\"alert alert-block alert-success\">\n",
    "<b>Comentario del revisor (1ra Iteración)</b> <a class=“tocSkip”></a>\n",
    "\n",
    "Excelente trabajo identificando y ajustando los valores faltantes. Esta etapa es esencial en cualquier proyecto relacionado con datos, ya que la presencia de datos faltantes puede distorsionar los resultados, generar sesgos y reducir la efectividad de los modelos predictivos e inclusive generar errores en los mismos. Si no se manejan adecuadamente, pueden llevar a conclusiones incorrectas o a la pérdida innecesaria de información valiosa. Dependiendo del contexto, se pueden eliminar, imputar con valores puntuales o estadísticos, o también es hacer una estimación con algoritmos avanzados, logrando de esta manera que los análisis sean más precisos, representativos y útiles para la toma de decisiones. Te comparto un artículo donde se explican varias de las metodologías que se pueden utilizar para [ajustar los datos faltantes](https://www.kaggle.com/code/parulpandey/a-guide-to-handling-missing-values-in-python)\n",
    "\n",
    "</div>"
   ]
  },
  {
   "cell_type": "markdown",
   "id": "UjrOIwTcz3ri",
   "metadata": {
    "id": "UjrOIwTcz3ri"
   },
   "source": [
    "# Paso 3. Análisis de los datos\n",
    "\n",
    "Una vez los datos estén procesados y listos, haz el siguiente análisis:"
   ]
  },
  {
   "cell_type": "markdown",
   "id": "turkish-kidney",
   "metadata": {
    "id": "turkish-kidney"
   },
   "source": [
    "# [A] Fácil (deben completarse todos para aprobar)\n",
    "\n",
    "1. Verifica que los valores en las columnas `'order_hour_of_day'` y `'order_dow'` en la tabla orders sean razonables (es decir, `'order_hour_of_day'` oscile entre 0 y 23 y `'order_dow'` oscile entre 0 y 6).\n",
    "2. Crea un gráfico que muestre el número de personas que hacen pedidos dependiendo de la hora del día.\n",
    "3. Crea un gráfico que muestre qué día de la semana la gente hace sus compras.\n",
    "4. Crea un gráfico que muestre el tiempo que la gente espera hasta hacer su siguiente pedido, y comenta sobre los valores mínimos y máximos."
   ]
  },
  {
   "cell_type": "markdown",
   "id": "short-capability",
   "metadata": {
    "id": "short-capability"
   },
   "source": [
    "### [A1] Verifica que los valores sean sensibles"
   ]
  },
  {
   "cell_type": "code",
   "execution_count": 35,
   "id": "growing-fruit",
   "metadata": {
    "id": "growing-fruit"
   },
   "outputs": [
    {
     "name": "stdout",
     "output_type": "stream",
     "text": [
      "Valores único en order_hour_of_day: [11 10 12 18 16 15 19  9  8 21 22 14 13 17  7 20 23  5  3  6  0  4  1  2]\n",
      "Valores único en order_dow: [2 4 3 1 5 0 6]\n"
     ]
    }
   ],
   "source": [
    "print('Valores único en order_hour_of_day:',instacart_orders['order_hour_of_day'].unique())\n",
    "print('Valores único en order_dow:',instacart_orders['order_dow'].unique())"
   ]
  },
  {
   "cell_type": "code",
   "execution_count": null,
   "id": "accessory-malaysia",
   "metadata": {
    "id": "accessory-malaysia"
   },
   "outputs": [],
   "source": []
  },
  {
   "cell_type": "markdown",
   "id": "hmR2GNQ6lCsX",
   "metadata": {
    "id": "hmR2GNQ6lCsX"
   },
   "source": [
    "Escribe aquí tus conclusiones\n",
    "\n",
    "En efecto, los valores oscilan en el rango "
   ]
  },
  {
   "cell_type": "markdown",
   "id": "eb5df589",
   "metadata": {},
   "source": [
    "<div class=\"alert alert-block alert-success\">\n",
    "<b>Comentario del revisor (1ra Iteración)</b> <a class=“tocSkip”></a>\n",
    "\n",
    "Muy buen trabajo comprobando que los datos relacionados con la hora y el día de la semana están en un rango correcto. Hacer este tipo de validaciones es fundamental en el análisis de datos, ya que esto nos permite detectar de forma temprana posibles errores o inconsistencias que podrían afectar significativamente nuestros resultados y conclusiones posteriores.\n",
    "\n",
    "</div>"
   ]
  },
  {
   "cell_type": "markdown",
   "id": "a6743a70",
   "metadata": {
    "id": "a6743a70"
   },
   "source": [
    "### [A2] Para cada hora del día, ¿cuántas personas hacen órdenes?"
   ]
  },
  {
   "cell_type": "code",
   "execution_count": 36,
   "id": "25c7c1c2",
   "metadata": {},
   "outputs": [
    {
     "data": {
      "image/png": "[encoded data removed]",
      "text/plain": [
       "<Figure size 1000x500 with 1 Axes>"
      ]
     },
     "metadata": {},
     "output_type": "display_data"
    }
   ],
   "source": [
    "import matplotlib.pyplot as plt\n",
    "orders_by_hour = instacart_orders['order_hour_of_day'].value_counts().sort_index()\n",
    "plt.figure(figsize=(10, 5))\n",
    "plt.bar(orders_by_hour.index, orders_by_hour.values, color='skyblue')\n",
    "plt.xlabel('Hora del día')\n",
    "plt.ylabel('Número de órdenes')\n",
    "plt.title('Número de órdenes por hora del día')\n",
    "plt.xticks(range(0, 24))\n",
    "plt.grid(axis='y', linestyle='--', alpha=0.7)\n",
    "plt.show()"
   ]
  },
  {
   "cell_type": "markdown",
   "id": "11270eed",
   "metadata": {
    "id": "11270eed"
   },
   "source": [
    "Escribe aquí tus conclusiones, es posible evidenciar que más de 40000 compran sobre las 10:00 am"
   ]
  },
  {
   "cell_type": "markdown",
   "id": "568dc41a",
   "metadata": {},
   "source": [
    "<div class=\"alert alert-block alert-success\">\n",
    "<b>Comentario del revisor (1ra Iteración)</b> <a class=“tocSkip”></a>\n",
    "\n",
    "¡Excelente trabajo! Has representado correctamente la cantidad de órdenes realizadas en cada hora del día. El diagrama de barras muestra claramente que la mayoría de las compras ocurren entre las 9:00 y las 17:00, con un pico alrededor del mediodía.\n",
    "\n",
    "</div>"
   ]
  },
  {
   "cell_type": "markdown",
   "id": "documented-command",
   "metadata": {
    "id": "documented-command"
   },
   "source": [
    "### [A3] ¿Qué día de la semana compran víveres las personas?"
   ]
  },
  {
   "cell_type": "code",
   "execution_count": 37,
   "id": "chief-digit",
   "metadata": {
    "id": "chief-digit"
   },
   "outputs": [
    {
     "data": {
      "image/png": "[encoded data removed]",
      "text/plain": [
       "<Figure size 800x500 with 1 Axes>"
      ]
     },
     "metadata": {},
     "output_type": "display_data"
    }
   ],
   "source": [
    "import matplotlib.pyplot as plt\n",
    "orders_by_day = instacart_orders['order_dow'].value_counts().sort_index()\n",
    "plt.figure(figsize=(8,5))\n",
    "plt.bar(orders_by_day.index, orders_by_day.values, color='skyblue')\n",
    "plt.xlabel('Día de la semana (0 = Domingo, 6 = Sábado)')\n",
    "plt.ylabel('Número de órdenes')\n",
    "plt.title('Cantidad de compras según el día de la semana')\n",
    "plt.show()"
   ]
  },
  {
   "cell_type": "markdown",
   "id": "dominant-lightning",
   "metadata": {
    "id": "dominant-lightning"
   },
   "source": [
    "Escribe aquí tus conclusiones, domingos y lunes "
   ]
  },
  {
   "cell_type": "markdown",
   "id": "41bad09b",
   "metadata": {},
   "source": [
    "<div class=\"alert alert-block alert-success\">\n",
    "<b>Comentario del revisor (1ra Iteración)</b> <a class=“tocSkip”></a>\n",
    "\n",
    "Muy buen trabajo al mostrar las órdenes por día de la semana con el diagrama de barras. Si tomamos en cuenta que el valor 0 corresponde al domingo, podemos observar que la mayoría de las compras se realizan al comienzo de la semana. Esto es un detalle interesante que nos ayuda a entender mejor el comportamiento de los clientes\n",
    "\n",
    "</div>"
   ]
  },
  {
   "cell_type": "markdown",
   "id": "cutting-concert",
   "metadata": {
    "id": "cutting-concert"
   },
   "source": [
    "### [A4] ¿Cuánto tiempo esperan las personas hasta hacer otro pedido? Comenta sobre los valores mínimos y máximos."
   ]
  },
  {
   "cell_type": "code",
   "execution_count": 38,
   "id": "c231f523",
   "metadata": {
    "id": "c231f523"
   },
   "outputs": [
    {
     "data": {
      "image/png": "[encoded data removed]",
      "text/plain": [
       "<Figure size 1000x500 with 1 Axes>"
      ]
     },
     "metadata": {},
     "output_type": "display_data"
    },
    {
     "name": "stdout",
     "output_type": "stream",
     "text": [
      "El tiempo mínimo de espera es 0.0 días y el máximo es 30.0 días.\n"
     ]
    }
   ],
   "source": [
    "import matplotlib.pyplot as plt\n",
    "days_waited = instacart_orders['days_since_prior_order'].value_counts().sort_index()\n",
    "plt.figure(figsize=(10,5))\n",
    "plt.bar(days_waited.index, days_waited.values, color='lightcoral')\n",
    "plt.xlabel('Días desde el pedido anterior')\n",
    "plt.ylabel('Cantidad de pedidos')\n",
    "plt.title('Tiempo de espera entre pedidos')\n",
    "plt.show()\n",
    "min_days = instacart_orders['days_since_prior_order'].min()\n",
    "max_days = instacart_orders['days_since_prior_order'].max()\n",
    "print(f'El tiempo mínimo de espera es {min_days} días y el máximo es {max_days} días.')"
   ]
  },
  {
   "cell_type": "markdown",
   "id": "discrete-vertex",
   "metadata": {
    "id": "discrete-vertex"
   },
   "source": [
    "Escribe aquí tus conclusiones, esperan con mayor tendencia más de 20 días "
   ]
  },
  {
   "cell_type": "markdown",
   "id": "75f0ab06",
   "metadata": {},
   "source": [
    "<div class=\"alert alert-block alert-success\">\n",
    "<b>Comentario del revisor (1ra Iteración)</b> <a class=“tocSkip”></a>\n",
    "\n",
    "Excelente elección de la visualización. Aquí podemos identificar aspectos clave: los valores de 0 probablemente corresponden a clientes que realizaron más de un pedido en el mismo día. Muchos de los clientes hacen compras semanales (cada 7 días), y parece que una gran proporción de usuarios realiza compras mensuales (cada 30 días). Sin embargo, la tendencia decreciente en los últimos días podría indicar un error común al registrar los datos correspondientes al día 30, ya que, cuando no hay información disponible, algunos sistemas suelen asignar automáticamente el último valor de la serie de tiempo (última hora, último día de la semana, del mes o del año). Es un detalle importante a tener en cuenta para mejorar la precisión de los datos.\n",
    "\n",
    "</div>"
   ]
  },
  {
   "cell_type": "markdown",
   "id": "tight-staff",
   "metadata": {
    "id": "tight-staff"
   },
   "source": [
    "# [B] Intermedio (deben completarse todos para aprobar)\n",
    "\n",
    "1. ¿Existe alguna diferencia entre las distribuciones `'order_hour_of_day'` de los miércoles y los sábados? Traza gráficos de barra de `'order_hour_of_day'` para ambos días en la misma figura y describe las diferencias que observes.\n",
    "2. Grafica la distribución para el número de órdenes que hacen los clientes (es decir, cuántos clientes hicieron solo 1 pedido, cuántos hicieron 2, cuántos 3, y así sucesivamente...).\n",
    "3. ¿Cuáles son los 20 principales productos que se piden con más frecuencia (muestra su identificación y nombre)?"
   ]
  },
  {
   "cell_type": "markdown",
   "id": "packed-classic",
   "metadata": {
    "id": "packed-classic"
   },
   "source": [
    "### [B1] Diferencia entre miércoles y sábados para  `'order_hour_of_day'`. Traza gráficos de barra para los dos días y describe las diferencias que veas."
   ]
  },
  {
   "cell_type": "code",
   "execution_count": 39,
   "id": "d89b8403",
   "metadata": {
    "id": "d89b8403"
   },
   "outputs": [
    {
     "data": {
      "image/png": "[encoded data removed]",
      "text/plain": [
       "<Figure size 1200x500 with 1 Axes>"
      ]
     },
     "metadata": {},
     "output_type": "display_data"
    }
   ],
   "source": [
    "import matplotlib.pyplot as plt\n",
    "\n",
    "\n",
    "wednesday_orders = instacart_orders[instacart_orders['order_dow'] == 2]['order_hour_of_day'].value_counts().sort_index()\n",
    "saturday_orders = instacart_orders[instacart_orders['order_dow'] == 5]['order_hour_of_day'].value_counts().sort_index()\n",
    "plt.figure(figsize=(12, 5))\n",
    "plt.bar(wednesday_orders.index, wednesday_orders.values, alpha=0.7, label='Miércoles', color='blue')\n",
    "plt.bar(saturday_orders.index, saturday_orders.values, alpha=0.7, label='Sábado', color='orange')\n",
    "plt.xlabel('Hora del día')\n",
    "plt.ylabel('Cantidad de pedidos')\n",
    "plt.title('Comparación de pedidos por hora entre miércoles y sábado')\n",
    "plt.legend()\n",
    "plt.show()"
   ]
  },
  {
   "cell_type": "code",
   "execution_count": null,
   "id": "94e54e8a",
   "metadata": {
    "id": "94e54e8a"
   },
   "outputs": [],
   "source": []
  },
  {
   "cell_type": "code",
   "execution_count": null,
   "id": "797c90a8",
   "metadata": {
    "id": "797c90a8"
   },
   "outputs": [],
   "source": []
  },
  {
   "cell_type": "markdown",
   "id": "22050aae",
   "metadata": {
    "id": "35bcea30"
   },
   "source": [
    "<div class=\"alert alert-block alert-success\">\n",
    "<b>Comentario del revisor (1ra Iteración)</b> <a class=“tocSkip”></a>\n",
    "\n",
    "Buen trabajo Camilo. Algo interesante que podemos observar es que hay una pequeña caída en las órdenes entre las 11:00 y las 13:00 los miércoles, algo que no ocurre los sábados. Esta disminución podría estar relacionada con el hecho de que muchas personas no usan Instacart durante ese horario porque están ocupadas comiendo o haciendo otras actividades relacionadas con la hora del almuerzo. \n",
    "\n",
    "</div>"
   ]
  },
  {
   "cell_type": "markdown",
   "id": "charitable-congo",
   "metadata": {
    "id": "charitable-congo"
   },
   "source": [
    "Escribe aquí tus conclusiones, los sábados mueven significativamente mayor volumen de compra "
   ]
  },
  {
   "cell_type": "markdown",
   "id": "e3891143",
   "metadata": {
    "id": "e3891143"
   },
   "source": [
    "### [B2] ¿Cuál es la distribución para el número de pedidos por cliente?"
   ]
  },
  {
   "cell_type": "code",
   "execution_count": 40,
   "id": "d8c26c23",
   "metadata": {
    "id": "d8c26c23"
   },
   "outputs": [
    {
     "data": {
      "image/png": "[encoded data removed]",
      "text/plain": [
       "<Figure size 1200x500 with 1 Axes>"
      ]
     },
     "metadata": {},
     "output_type": "display_data"
    }
   ],
   "source": [
    "import matplotlib.pyplot as plt\n",
    "\n",
    "orders_per_customer = instacart_orders['user_id'].value_counts()\n",
    "\n",
    "plt.figure(figsize=(12, 5))\n",
    "plt.hist(orders_per_customer, bins=30, edgecolor='black', alpha=0.7)\n",
    "\n",
    "plt.xlabel('Número de pedidos por cliente')\n",
    "plt.ylabel('Frecuencia')\n",
    "plt.title('Distribución del número de pedidos por cliente')\n",
    "\n",
    "plt.show()"
   ]
  },
  {
   "cell_type": "code",
   "execution_count": null,
   "id": "00e69a66",
   "metadata": {
    "id": "00e69a66"
   },
   "outputs": [],
   "source": []
  },
  {
   "cell_type": "markdown",
   "id": "d2eff7d5",
   "metadata": {
    "id": "d2eff7d5"
   },
   "source": [
    "Escribe aquí tus conclusiones, los clientes con mayor frecuencia hacen mayor cantidad de compras. "
   ]
  },
  {
   "cell_type": "markdown",
   "id": "ba883bf8",
   "metadata": {},
   "source": [
    "<div class=\"alert alert-block alert-warning\">\n",
    "<b>Comentario del revisor (1ra Iteración)</b> <a class=“tocSkip”></a>\n",
    "\n",
    "Tu análisis no es del toco correcto. En este caso, podemos observar que la mayoría de los clientes en el conjunto de datos han realizado entre 1 y 10 pedidos. Además, se nota un comportamiento de decrecimiento uniforme, lo cual es algo totalmente esperado cuando se analizan órdenes de compra. \n",
    "\n",
    "</div>"
   ]
  },
  {
   "cell_type": "markdown",
   "id": "54a0319c",
   "metadata": {
    "id": "54a0319c"
   },
   "source": [
    "### [B3] ¿Cuáles son los 20 productos más populares (muestra su ID y nombre)?"
   ]
  },
  {
   "cell_type": "code",
   "execution_count": 41,
   "id": "exterior-arizona",
   "metadata": {
    "id": "exterior-arizona",
    "scrolled": true
   },
   "outputs": [
    {
     "name": "stdout",
     "output_type": "stream",
     "text": [
      "    product_id  count              product_name\n",
      "0        24852  66050                    Banana\n",
      "1        13176  53297    Bag of Organic Bananas\n",
      "2        21137  37039      Organic Strawberries\n",
      "3        21903  33971      Organic Baby Spinach\n",
      "4        47209  29773      Organic Hass Avocado\n",
      "5        47766  24689           Organic Avocado\n",
      "6        47626  21495               Large Lemon\n",
      "7        16797  20018              Strawberries\n",
      "8        26209  19690                     Limes\n",
      "9        27845  19600        Organic Whole Milk\n",
      "10       27966  19197       Organic Raspberries\n",
      "11       22935  15898      Organic Yellow Onion\n",
      "12       24964  15292            Organic Garlic\n",
      "13       45007  14584          Organic Zucchini\n",
      "14       39275  13879       Organic Blueberries\n",
      "15       49683  13675            Cucumber Kirby\n",
      "16       28204  12544        Organic Fuji Apple\n",
      "17        5876  12232             Organic Lemon\n",
      "18        8277  11993  Apple Honeycrisp Organic\n",
      "19       40706  11781    Organic Grape Tomatoes\n"
     ]
    }
   ],
   "source": [
    "\n",
    "top_products = order_products['product_id'].value_counts().head(20)\n",
    "\n",
    "\n",
    "top_products = top_products.reset_index()\n",
    "top_products.columns = ['product_id', 'count']\n",
    "top_products = top_products.merge(products[['product_id', 'product_name']], on='product_id', how='left')\n",
    "\n",
    "print(top_products)"
   ]
  },
  {
   "cell_type": "code",
   "execution_count": null,
   "id": "universal-facial",
   "metadata": {
    "id": "universal-facial"
   },
   "outputs": [],
   "source": []
  },
  {
   "cell_type": "code",
   "execution_count": null,
   "id": "bbcdd20b",
   "metadata": {
    "id": "bbcdd20b"
   },
   "outputs": [],
   "source": []
  },
  {
   "cell_type": "markdown",
   "id": "7df00f47",
   "metadata": {
    "id": "7df00f47"
   },
   "source": [
    "Escribe aquí tus conclusiones, productos orgánicos. "
   ]
  },
  {
   "cell_type": "markdown",
   "id": "ce562861",
   "metadata": {},
   "source": [
    "<div class=\"alert alert-block alert-success\">\n",
    "<b>Comentario del revisor (1ra Iteración)</b> <a class=“tocSkip”></a>\n",
    "\n",
    "¡Perfecto! Has identificado correctamente el Top 20 de los productos más populares. Podemos observar que plátanos, fresas, aguacates y limones están en lo más alto de la lista, lo que sugiere que estos artículos son los favoritos entre los clientes. Además, es interesante notar que los usuarios muestran una clara preferencia por los productos con etiquetas \"Organic\". Esto nos da una idea valiosa sobre las tendencias de consumo y las prioridades de los compradores. \n",
    "\n",
    "</div>"
   ]
  },
  {
   "cell_type": "markdown",
   "id": "gross-theme",
   "metadata": {
    "id": "gross-theme"
   },
   "source": [
    "# [C] Difícil (deben completarse todos para aprobar)\n",
    "\n",
    "1. ¿Cuántos artículos suelen comprar las personas en un pedido? ¿Cómo es la distribución?\n",
    "2. ¿Cuáles son los 20 principales artículos que vuelven a pedirse con mayor frecuencia (muestra sus nombres e IDs de los productos)?\n",
    "3. Para cada producto, ¿cuál es la tasa de repetición del pedido (número de repeticiones de pedido/total de pedidos?\n",
    "4. Para cada cliente, ¿qué proporción de los productos que pidió ya los había pedido? Calcula la tasa de repetición de pedido para cada usuario en lugar de para cada producto.\n",
    "5. ¿Cuáles son los 20 principales artículos que la gente pone primero en sus carritos (muestra las IDs de los productos, sus nombres, y el número de veces en que fueron el primer artículo en añadirse al carrito)?"
   ]
  },
  {
   "cell_type": "markdown",
   "id": "romantic-deposit",
   "metadata": {
    "id": "romantic-deposit"
   },
   "source": [
    "### [C1] ¿Cuántos artículos compran normalmente las personas en un pedido? ¿Cómo es la distribución?"
   ]
  },
  {
   "cell_type": "code",
   "execution_count": 42,
   "id": "virtual-punch",
   "metadata": {
    "id": "virtual-punch"
   },
   "outputs": [
    {
     "name": "stdout",
     "output_type": "stream",
     "text": [
      "count    450046.000000\n",
      "mean         10.098983\n",
      "std           7.540206\n",
      "min           1.000000\n",
      "25%           5.000000\n",
      "50%           8.000000\n",
      "75%          14.000000\n",
      "max         127.000000\n",
      "Name: product_id, dtype: float64\n"
     ]
    },
    {
     "data": {
      "image/png": "[encoded data removed]",
      "text/plain": [
       "<Figure size 1000x500 with 1 Axes>"
      ]
     },
     "metadata": {},
     "output_type": "display_data"
    }
   ],
   "source": [
    "import matplotlib.pyplot as plt\n",
    "\n",
    "items_per_order = order_products.groupby('order_id')['product_id'].count()\n",
    "\n",
    "print(items_per_order.describe())\n",
    "\n",
    "plt.figure(figsize=(10,5))\n",
    "plt.hist(items_per_order, bins=50, edgecolor='black')\n",
    "plt.xlabel('Número de artículos por pedido')\n",
    "plt.ylabel('Frecuencia')\n",
    "plt.title('Distribución del número de artículos por pedido')\n",
    "plt.ylim(0, 50000)  # Ajuste para mejorar la visualización\n",
    "plt.grid(axis='y', linestyle='--', alpha=0.7)\n",
    "plt.show()"
   ]
  },
  {
   "cell_type": "code",
   "execution_count": null,
   "id": "sensitive-breathing",
   "metadata": {
    "id": "sensitive-breathing"
   },
   "outputs": [],
   "source": []
  },
  {
   "cell_type": "code",
   "execution_count": null,
   "id": "completed-frank",
   "metadata": {
    "id": "completed-frank"
   },
   "outputs": [],
   "source": []
  },
  {
   "cell_type": "markdown",
   "id": "designed-mortality",
   "metadata": {
    "id": "designed-mortality"
   },
   "source": [
    "Escribe aquí tus conclusiones, las personas compran mayormente entre 0 a 20 productos. "
   ]
  },
  {
   "cell_type": "markdown",
   "id": "5ebd5aac",
   "metadata": {},
   "source": [
    "<div class=\"alert alert-block alert-success\">\n",
    "<b>Comentario del revisor (1ra Iteración)</b> <a class=“tocSkip”></a>\n",
    "\n",
    "La distribución que has encontrado nos permite identificar que los clientes suelen comprar pocas unidades en cada orden. Una orden típica contiene entre 5 y 6 artículos, lo que sugiere que los clientes prefieren hacer compras más frecuentes en lugar de acumular grandes cantidades de productos de una sola vez. Este patrón es muy útil para entender los hábitos de compra y podría indicar que los usuarios valoran la frescura o la conveniencia de adquirir productos según sus necesidades inmediatas.\n",
    "\n",
    "<div class=\"alert alert-block alert-warning\">\n",
    "<b>Comentario del revisor (1ra Iteración)</b> <a class=“tocSkip”></a>\n",
    "\n",
    "No es recomendable limitar los ejes de esta forma. Como puedes notar parte de los datos están cortados\n",
    "\n",
    "</div>\n",
    "</div>"
   ]
  },
  {
   "cell_type": "markdown",
   "id": "5e6b5537",
   "metadata": {
    "id": "5e6b5537"
   },
   "source": [
    "### [C2] ¿Cuáles son los 20 principales artículos que vuelven a pedirse con mayor frecuencia (muestra sus nombres e IDs de los productos)?"
   ]
  },
  {
   "cell_type": "code",
   "execution_count": 43,
   "id": "9374e55a",
   "metadata": {
    "id": "9374e55a"
   },
   "outputs": [
    {
     "name": "stdout",
     "output_type": "stream",
     "text": [
      "    product_id              product_name  reorder_count\n",
      "0        24852                    Banana          55763\n",
      "1        13176    Bag of Organic Bananas          44450\n",
      "2        21137      Organic Strawberries          28639\n",
      "3        21903      Organic Baby Spinach          26233\n",
      "4        47209      Organic Hass Avocado          23629\n",
      "5        47766           Organic Avocado          18743\n",
      "6        27845        Organic Whole Milk          16251\n",
      "7        47626               Large Lemon          15044\n",
      "8        27966       Organic Raspberries          14748\n",
      "9        16797              Strawberries          13945\n",
      "10       26209                     Limes          13327\n",
      "11       22935      Organic Yellow Onion          11145\n",
      "12       24964            Organic Garlic          10411\n",
      "13       45007          Organic Zucchini          10076\n",
      "14       49683            Cucumber Kirby           9538\n",
      "15       28204        Organic Fuji Apple           8989\n",
      "16        8277  Apple Honeycrisp Organic           8836\n",
      "17       39275       Organic Blueberries           8799\n",
      "18        5876             Organic Lemon           8412\n",
      "19       49235       Organic Half & Half           8389\n"
     ]
    }
   ],
   "source": [
    "\n",
    "reordered_products = order_products[order_products['reordered'] == 1]\n",
    "\n",
    "top_reordered_products = reordered_products['product_id'].value_counts().head(20)\n",
    "\n",
    "top_reordered_products = top_reordered_products.reset_index()\n",
    "top_reordered_products.columns = ['product_id', 'reorder_count']\n",
    "top_reordered_products = top_reordered_products.merge(products, on='product_id', how='left')\n",
    "\n",
    "print(top_reordered_products[['product_id', 'product_name', 'reorder_count']])"
   ]
  },
  {
   "cell_type": "code",
   "execution_count": null,
   "id": "possible-change",
   "metadata": {
    "id": "possible-change",
    "scrolled": true
   },
   "outputs": [],
   "source": []
  },
  {
   "cell_type": "code",
   "execution_count": null,
   "id": "professional-surfing",
   "metadata": {
    "id": "professional-surfing",
    "scrolled": true
   },
   "outputs": [],
   "source": []
  },
  {
   "cell_type": "code",
   "execution_count": null,
   "id": "48dd3658",
   "metadata": {
    "id": "48dd3658"
   },
   "outputs": [],
   "source": []
  },
  {
   "cell_type": "markdown",
   "id": "80e70c74",
   "metadata": {
    "id": "80e70c74"
   },
   "source": [
    "Escribe aquí tus conclusiones, los productos orgnánicos, tal como se expresó anteiormente presentan una gran demanda."
   ]
  },
  {
   "cell_type": "markdown",
   "id": "d5a319d3",
   "metadata": {},
   "source": [
    "<div class=\"alert alert-block alert-success\">\n",
    "<b>Comentario del revisor (1ra Iteración)</b> <a class=“tocSkip”></a>\n",
    "\n",
    "¡Gran trabajo! Has identificado correctamente el Top 20 de productos que más se vuelven a pedir, y esta lista es muy similar a la que encontraste anteriormente. Podemos notar que los productos agrícolas y los lácteos son los que más se reordenan, lo cual tiene mucho sentido, ya que los productos perecederos suelen ser artículos de consumo frecuente. Esto refleja un patrón de compra coherente con las necesidades cotidianas de los clientes\n",
    "\n",
    "</div>"
   ]
  },
  {
   "cell_type": "markdown",
   "id": "9d312b14",
   "metadata": {
    "id": "9d312b14"
   },
   "source": [
    "### [C3] Para cada producto, ¿cuál es la proporción de las veces que se pide y que se vuelve a pedir?"
   ]
  },
  {
   "cell_type": "code",
   "execution_count": 44,
   "id": "8ae9f4b1",
   "metadata": {
    "id": "8ae9f4b1"
   },
   "outputs": [
    {
     "name": "stdout",
     "output_type": "stream",
     "text": [
      "    product_id                                       product_name  \\\n",
      "0            1                         Chocolate Sandwich Cookies   \n",
      "1            2                                   All-Seasons Salt   \n",
      "2            3               Robust Golden Unsweetened Oolong Tea   \n",
      "3            4  Smart Ones Classic Favorites Mini Rigatoni Wit...   \n",
      "4            7                     Pure Coconut Water With Orange   \n",
      "5            8                  Cut Russet Potatoes Steam N' Mash   \n",
      "6            9                  Light Strawberry Blueberry Yogurt   \n",
      "7           10     Sparkling Orange Juice & Prickly Pear Beverage   \n",
      "8           11                                  Peach Mango Juice   \n",
      "9           12                         Chocolate Fudge Layer Cake   \n",
      "10          13                                  Saline Nasal Mist   \n",
      "11          14                     Fresh Scent Dishwasher Cleaner   \n",
      "12          17                                  Rendered Duck Fat   \n",
      "13          18                Pizza for One Suprema  Frozen Pizza   \n",
      "14          19   Gluten Free Quinoa Three Cheese & Mushroom Blend   \n",
      "15          21                   Small & Medium Dental Dog Treats   \n",
      "16          22                  Fresh Breath Oral Rinse Mild Mint   \n",
      "17          23                             Organic Turkey Burgers   \n",
      "18          24  Tri-Vi-Sol® Vitamins A-C-and D Supplement Drop...   \n",
      "19          25            Salted Caramel Lean Protein & Fiber Bar   \n",
      "\n",
      "    reorder_ratio  \n",
      "0        0.564286  \n",
      "1        0.000000  \n",
      "2        0.738095  \n",
      "3        0.510204  \n",
      "4        0.500000  \n",
      "5        0.315789  \n",
      "6        0.761905  \n",
      "7        0.448071  \n",
      "8        0.625000  \n",
      "9        0.390244  \n",
      "10       0.500000  \n",
      "11       0.000000  \n",
      "12       0.000000  \n",
      "13       0.533333  \n",
      "14       0.000000  \n",
      "15       0.000000  \n",
      "16       0.500000  \n",
      "17       0.380952  \n",
      "18       0.000000  \n",
      "19       0.674576  \n"
     ]
    }
   ],
   "source": [
    "\n",
    "\n",
    "total_orders_per_product = order_products['product_id'].value_counts()\n",
    "\n",
    "reordered_per_product = order_products[order_products['reordered'] == 1]['product_id'].value_counts()\n",
    "\n",
    "reorder_ratio = (reordered_per_product / total_orders_per_product).fillna(0)\n",
    "\n",
    "reorder_ratio_df = reorder_ratio.reset_index()\n",
    "reorder_ratio_df.columns = ['product_id', 'reorder_ratio']\n",
    "\n",
    "reorder_ratio_df = reorder_ratio_df.merge(products, on='product_id', how='left')\n",
    "\n",
    "print(reorder_ratio_df[['product_id', 'product_name', 'reorder_ratio']].head(20))  # Mostrar los primeros 20"
   ]
  },
  {
   "cell_type": "code",
   "execution_count": null,
   "id": "103e7fe1",
   "metadata": {
    "id": "103e7fe1"
   },
   "outputs": [],
   "source": []
  },
  {
   "cell_type": "code",
   "execution_count": null,
   "id": "social-individual",
   "metadata": {
    "id": "social-individual"
   },
   "outputs": [],
   "source": []
  },
  {
   "cell_type": "markdown",
   "id": "I10dEIAyldcO",
   "metadata": {
    "id": "I10dEIAyldcO"
   },
   "source": [
    "Escribe aquí tus conclusiones, hay productos con alta demanda y compra recurrente estos, sin embargo, se cuentan con otros productos que aunque tienen stock, no son objeto de compra"
   ]
  },
  {
   "cell_type": "markdown",
   "id": "cefad6fb",
   "metadata": {},
   "source": [
    "<div class=\"alert alert-block alert-success\">\n",
    "<b>Comentario del revisor (1ra Iteración)</b> <a class=“tocSkip”></a>\n",
    "\n",
    "¡Has hecho un excelente trabajo calculando la tasa de reorden de los productos! Esta información es muy útil, ya que los productos con tasas de reorden altas podrían considerarse esenciales en el inventario, asegurando su disponibilidad constante, mientras que los productos con tasas bajas podrían beneficiarse de descuentos para incentivar su recompra. Además, estos datos son ideales para construir modelos de predicción que ayuden a anticipar compras futuras y optimizar la gestión de stock. \n",
    "\n",
    "</div>"
   ]
  },
  {
   "cell_type": "markdown",
   "id": "subject-boxing",
   "metadata": {
    "id": "subject-boxing"
   },
   "source": [
    "### [C4] Para cada cliente, ¿qué proporción de sus productos ya los había pedido?"
   ]
  },
  {
   "cell_type": "code",
   "execution_count": 45,
   "id": "medical-couple",
   "metadata": {
    "id": "medical-couple",
    "scrolled": true
   },
   "outputs": [
    {
     "name": "stdout",
     "output_type": "stream",
     "text": [
      "    user_id  reorder_ratio\n",
      "0         2       0.038462\n",
      "1         4       0.000000\n",
      "2         5       0.666667\n",
      "3         6       0.000000\n",
      "4         7       0.928571\n",
      "5        11       0.200000\n",
      "6        12       0.250000\n",
      "7        13       0.565217\n",
      "8        14       0.360656\n",
      "9        15       0.538462\n",
      "10       16       0.531250\n",
      "11       17       0.716981\n",
      "12       19       0.291667\n",
      "13       20       0.000000\n",
      "14       21       0.400000\n",
      "15       22       1.000000\n",
      "16       24       0.500000\n",
      "17       26       0.437500\n",
      "18       27       0.658824\n",
      "19       28       0.500000\n"
     ]
    }
   ],
   "source": [
    "\n",
    "total_products_per_customer = instacart_orders.merge(order_products, on='order_id').groupby('user_id')['product_id'].count()\n",
    "\n",
    "reordered_products_per_customer = instacart_orders.merge(order_products[order_products['reordered'] == 1], on='order_id').groupby('user_id')['product_id'].count()\n",
    "\n",
    "reorder_ratio_per_customer = (reordered_products_per_customer / total_products_per_customer).fillna(0)\n",
    "\n",
    "reorder_ratio_per_customer_df = reorder_ratio_per_customer.reset_index()\n",
    "reorder_ratio_per_customer_df.columns = ['user_id', 'reorder_ratio']\n",
    "\n",
    "print(reorder_ratio_per_customer_df.head(20))"
   ]
  },
  {
   "cell_type": "code",
   "execution_count": null,
   "id": "8892e4b4",
   "metadata": {
    "id": "8892e4b4"
   },
   "outputs": [],
   "source": []
  },
  {
   "cell_type": "markdown",
   "id": "BgJSvXDsleXz",
   "metadata": {
    "id": "BgJSvXDsleXz"
   },
   "source": [
    "Escribe aquí tus conclusiones. Es posible evidenciar la compra recurrente de algunos productos por parte de algunos clientes, asimismo, se evidencian compras singulares por parte de algunos clientes. "
   ]
  },
  {
   "cell_type": "markdown",
   "id": "c5841ef7",
   "metadata": {},
   "source": [
    "<div class=\"alert alert-block alert-success\">\n",
    "<b>Comentario del revisor (1ra Iteración)</b> <a class=“tocSkip”></a>\n",
    "\n",
    "¡Genial! Has calculado correctamente la tasa de productos que cada cliente ha vuelto a pedir. Aunque vemos una amplia distribución de valores, esta información es muy útil, ya que nos ayuda a identificar clientes leales que frecuentemente repiten sus compras, lo cual es clave para fidelizarlos. Además, puede ser fundamental para diseñar estrategias de marketing dirigidas a aumentar la tasa de reorden en aquellos clientes con porcentajes más bajos, incentivándolos a comprar con mayor frecuencia.\n",
    "\n",
    "</div>"
   ]
  },
  {
   "cell_type": "markdown",
   "id": "92d35137",
   "metadata": {
    "id": "92d35137"
   },
   "source": [
    "### [C5] ¿Cuáles son los 20 principales artículos que las personas ponen primero en sus carritos?"
   ]
  },
  {
   "cell_type": "code",
   "execution_count": 46,
   "id": "0ae57274",
   "metadata": {
    "id": "0ae57274",
    "scrolled": true
   },
   "outputs": [
    {
     "name": "stdout",
     "output_type": "stream",
     "text": [
      "    product_id                 product_name  count\n",
      "0        24852                       Banana  15562\n",
      "1        13176       Bag of Organic Bananas  11026\n",
      "2        27845           Organic Whole Milk   4363\n",
      "3        21137         Organic Strawberries   3946\n",
      "4        47209         Organic Hass Avocado   3390\n",
      "5        21903         Organic Baby Spinach   3336\n",
      "6        47766              Organic Avocado   3044\n",
      "7        19660                 Spring Water   2336\n",
      "8        16797                 Strawberries   2308\n",
      "9        27966          Organic Raspberries   2024\n",
      "10       44632   Sparkling Water Grapefruit   1914\n",
      "11       49235          Organic Half & Half   1797\n",
      "12       47626                  Large Lemon   1737\n",
      "13         196                         Soda   1733\n",
      "14       38689     Organic Reduced Fat Milk   1397\n",
      "15       26209                        Limes   1370\n",
      "16       12341                Hass Avocados   1340\n",
      "17        5785  Organic Reduced Fat 2% Milk   1310\n",
      "18       27086                  Half & Half   1309\n",
      "19       22935         Organic Yellow Onion   1246\n"
     ]
    }
   ],
   "source": [
    "\n",
    "first_added_products = order_products[order_products['add_to_cart_order'] == 1]\n",
    "\n",
    "top_first_added = first_added_products['product_id'].value_counts().reset_index()\n",
    "\n",
    "top_first_added.columns = ['product_id', 'count']\n",
    "\n",
    "top_first_added_df = top_first_added.merge(products, on='product_id')[['product_id', 'product_name', 'count']]\n",
    "\n",
    "top_first_added_df = top_first_added_df.head(20)\n",
    "\n",
    "print(top_first_added_df)"
   ]
  },
  {
   "cell_type": "code",
   "execution_count": null,
   "id": "forty-netherlands",
   "metadata": {
    "id": "forty-netherlands",
    "scrolled": true
   },
   "outputs": [],
   "source": []
  },
  {
   "cell_type": "code",
   "execution_count": null,
   "id": "08e41ec2",
   "metadata": {
    "id": "08e41ec2"
   },
   "outputs": [],
   "source": []
  },
  {
   "cell_type": "markdown",
   "id": "28ce9872",
   "metadata": {
    "id": "28ce9872"
   },
   "source": [
    "Escribe aquí tus conclusiones, bananos en sus dos variedades. "
   ]
  },
  {
   "cell_type": "markdown",
   "id": "0a4d828d",
   "metadata": {},
   "source": [
    "<div class=\"alert alert-block alert-success\">\n",
    "<b>Comentario del revisor (1ra Iteración)</b> <a class=“tocSkip”></a>\n",
    "\n",
    "¡Excelente trabajo al encontrar el Top 20 de productos que son agregados inicialmente a los carritos de compras! Podemos observar que se mantiene una tendencia clara: los productos frescos, especialmente las frutas, suelen ser los primeros en ser agregados al carrito. Además, los productos orgánicos tienen una fuerte presencia en esta lista, y los artículos básicos de alimentación funcionan como \"productos ancla\" que inician las sesiones de compra. Esta información es muy valiosa, ya que puede ayudarnos a diseñar la disposición de la tienda en línea, planificar el inventario, crear estrategias de marketing más efectivas y optimizar la experiencia de compra en línea.\n",
    "\n",
    "</div>"
   ]
  },
  {
   "cell_type": "markdown",
   "id": "uITbFCEoDosC",
   "metadata": {
    "id": "uITbFCEoDosC"
   },
   "source": [
    "### Conclusion general del proyecto:"
   ]
  },
  {
   "cell_type": "code",
   "execution_count": 47,
   "id": "Nk-4GS7mDwqY",
   "metadata": {
    "id": "Nk-4GS7mDwqY"
   },
   "outputs": [
    {
     "ename": "SyntaxError",
     "evalue": "invalid syntax (3843171036.py, line 1)",
     "output_type": "error",
     "traceback": [
      "\u001b[0;36m  Cell \u001b[0;32mIn[47], line 1\u001b[0;36m\u001b[0m\n\u001b[0;31m    Por medio de los gráficos fue posible visualizar de manera más clara diferentes comportamientos y patrones de compra por parte de los usuarios sobre algunos pedidos, en horas y días específicos, conociendo valores máximos, mínimos, cantidades en las que se repite la compra de un producto o en la que un cliente compra un producto específico de forma única.\u001b[0m\n\u001b[0m        ^\u001b[0m\n\u001b[0;31mSyntaxError\u001b[0m\u001b[0;31m:\u001b[0m invalid syntax\n"
     ]
    }
   ],
   "source": [
    "Por medio de los gráficos fue posible visualizar de manera más clara diferentes comportamientos y patrones de compra por parte de los usuarios sobre algunos pedidos, en horas y días específicos, conociendo valores máximos, mínimos, cantidades en las que se repite la compra de un producto o en la que un cliente compra un producto específico de forma única. \n",
    "\n",
    "Si embargo, y aunque las gráficas permiten visualizar de una manera mucho más sencilla la información, requiere de un trabajo previo de filtrado de información, organización de datos y manejo de la información para porder presentar los gráficos acorde a las necesidades y solicitudes particulares del cliente. "
   ]
  },
  {
   "cell_type": "markdown",
   "id": "8d54ecd3",
   "metadata": {},
   "source": [
    "<div class=\"alert alert-block alert-warning\">\n",
    "<b>Comentario del revisor (1ra Iteración)</b> <a class=“tocSkip”></a>\n",
    "\n",
    "Ten cuidado al incluir texto en el notebook. Asegúrate siempre de que en el menú desplegable de la barra de herramientas esté seleccionado el formato **Markdown** para la celda donde quieres agregar texto. De lo contrario, al ejecutar todas las celdas del notebook, el texto se interpretará como código y generará errores.\n",
    "\n",
    "</div>"
   ]
  }
 ],
 "metadata": {
  "ExecuteTimeLog": [
   {
    "duration": 161,
    "start_time": "2025-03-05T23:35:05.017Z"
   },
   {
    "duration": 295,
    "start_time": "2025-03-05T23:35:30.121Z"
   },
   {
    "duration": 2316,
    "start_time": "2025-03-05T23:35:37.466Z"
   },
   {
    "duration": 23,
    "start_time": "2025-03-05T23:35:48.729Z"
   },
   {
    "duration": 19,
    "start_time": "2025-03-05T23:45:06.700Z"
   },
   {
    "duration": 2011,
    "start_time": "2025-03-05T23:45:10.598Z"
   },
   {
    "duration": 12,
    "start_time": "2025-03-05T23:45:13.533Z"
   },
   {
    "duration": 13,
    "start_time": "2025-03-05T23:45:47.571Z"
   },
   {
    "duration": 2038,
    "start_time": "2025-03-05T23:46:00.325Z"
   },
   {
    "duration": 13,
    "start_time": "2025-03-05T23:46:03.147Z"
   },
   {
    "duration": 900,
    "start_time": "2025-03-05T23:46:24.501Z"
   },
   {
    "duration": 11,
    "start_time": "2025-03-05T23:46:28.499Z"
   },
   {
    "duration": 11,
    "start_time": "2025-03-05T23:46:35.619Z"
   },
   {
    "duration": 23,
    "start_time": "2025-03-05T23:46:39.624Z"
   },
   {
    "duration": 920,
    "start_time": "2025-03-05T23:51:37.272Z"
   },
   {
    "duration": 68,
    "start_time": "2025-03-06T00:04:00.450Z"
   },
   {
    "duration": 72,
    "start_time": "2025-03-06T00:45:47.457Z"
   },
   {
    "duration": 36,
    "start_time": "2025-03-06T00:54:06.043Z"
   },
   {
    "duration": 12,
    "start_time": "2025-03-06T00:55:35.381Z"
   },
   {
    "duration": 3,
    "start_time": "2025-03-06T00:57:26.470Z"
   },
   {
    "duration": 3,
    "start_time": "2025-03-06T00:58:11.279Z"
   },
   {
    "duration": 23,
    "start_time": "2025-03-06T01:02:05.223Z"
   },
   {
    "duration": 75,
    "start_time": "2025-03-06T01:15:51.477Z"
   },
   {
    "duration": 10,
    "start_time": "2025-03-06T01:15:54.124Z"
   },
   {
    "duration": 22,
    "start_time": "2025-03-06T01:20:05.854Z"
   },
   {
    "duration": 15,
    "start_time": "2025-03-06T01:37:21.634Z"
   },
   {
    "duration": 5,
    "start_time": "2025-03-06T01:37:34.300Z"
   },
   {
    "duration": 23,
    "start_time": "2025-03-06T01:37:47.233Z"
   },
   {
    "duration": 20,
    "start_time": "2025-03-06T01:43:31.116Z"
   },
   {
    "duration": 13,
    "start_time": "2025-03-06T01:47:27.620Z"
   },
   {
    "duration": 4,
    "start_time": "2025-03-06T01:47:36.275Z"
   },
   {
    "duration": 4,
    "start_time": "2025-03-06T01:51:07.107Z"
   },
   {
    "duration": 5,
    "start_time": "2025-03-06T01:52:54.283Z"
   },
   {
    "duration": 16,
    "start_time": "2025-03-06T01:52:56.814Z"
   },
   {
    "duration": 4,
    "start_time": "2025-03-06T01:53:19.691Z"
   },
   {
    "duration": 12,
    "start_time": "2025-03-06T02:05:34.788Z"
   },
   {
    "duration": 386,
    "start_time": "2025-03-06T02:09:05.600Z"
   },
   {
    "duration": 206,
    "start_time": "2025-03-06T02:10:21.181Z"
   },
   {
    "duration": 5,
    "start_time": "2025-03-06T02:13:49.115Z"
   },
   {
    "duration": 10,
    "start_time": "2025-03-06T02:18:49.665Z"
   },
   {
    "duration": 8,
    "start_time": "2025-03-06T02:20:19.900Z"
   },
   {
    "duration": 10,
    "start_time": "2025-03-06T02:21:20.149Z"
   },
   {
    "duration": 167,
    "start_time": "2025-03-07T00:07:48.628Z"
   },
   {
    "duration": 13,
    "start_time": "2025-03-07T00:09:34.867Z"
   },
   {
    "duration": 282,
    "start_time": "2025-03-07T00:09:40.374Z"
   },
   {
    "duration": 1076,
    "start_time": "2025-03-07T00:09:42.593Z"
   },
   {
    "duration": 15,
    "start_time": "2025-03-07T00:09:45.191Z"
   },
   {
    "duration": 11,
    "start_time": "2025-03-07T00:09:47.802Z"
   },
   {
    "duration": 8,
    "start_time": "2025-03-07T00:09:49.853Z"
   },
   {
    "duration": 8,
    "start_time": "2025-03-07T00:09:52.273Z"
   },
   {
    "duration": 24,
    "start_time": "2025-03-07T00:09:54.306Z"
   },
   {
    "duration": 105,
    "start_time": "2025-03-07T00:10:00.472Z"
   },
   {
    "duration": 25,
    "start_time": "2025-03-07T00:10:05.228Z"
   },
   {
    "duration": 115,
    "start_time": "2025-03-07T00:10:12.293Z"
   },
   {
    "duration": 13,
    "start_time": "2025-03-07T00:10:14.279Z"
   },
   {
    "duration": 30,
    "start_time": "2025-03-07T00:10:17.085Z"
   },
   {
    "duration": 13,
    "start_time": "2025-03-07T00:10:22.439Z"
   },
   {
    "duration": 4,
    "start_time": "2025-03-07T00:10:25.050Z"
   },
   {
    "duration": 25,
    "start_time": "2025-03-07T00:10:29.853Z"
   },
   {
    "duration": 32,
    "start_time": "2025-03-07T00:10:33.145Z"
   },
   {
    "duration": 4,
    "start_time": "2025-03-07T00:10:37.744Z"
   },
   {
    "duration": 4,
    "start_time": "2025-03-07T00:10:39.597Z"
   },
   {
    "duration": 5,
    "start_time": "2025-03-07T00:10:43.149Z"
   },
   {
    "duration": 4,
    "start_time": "2025-03-07T00:10:45.355Z"
   },
   {
    "duration": 799,
    "start_time": "2025-03-07T00:10:50.633Z"
   },
   {
    "duration": 240,
    "start_time": "2025-03-07T00:10:52.518Z"
   },
   {
    "duration": 6,
    "start_time": "2025-03-07T00:10:59.540Z"
   },
   {
    "duration": 10,
    "start_time": "2025-03-07T00:11:06.041Z"
   },
   {
    "duration": 10,
    "start_time": "2025-03-07T00:11:10.643Z"
   },
   {
    "duration": 7,
    "start_time": "2025-03-07T00:11:13.585Z"
   },
   {
    "duration": 7,
    "start_time": "2025-03-07T00:12:05.069Z"
   },
   {
    "duration": 6,
    "start_time": "2025-03-07T00:15:35.304Z"
   },
   {
    "duration": 18,
    "start_time": "2025-03-07T00:17:19.139Z"
   },
   {
    "duration": 36,
    "start_time": "2025-03-07T00:18:35.033Z"
   },
   {
    "duration": 12,
    "start_time": "2025-03-07T00:19:19.548Z"
   },
   {
    "duration": 17,
    "start_time": "2025-03-07T00:19:39.119Z"
   },
   {
    "duration": 9,
    "start_time": "2025-03-07T00:43:17.845Z"
   },
   {
    "duration": 172,
    "start_time": "2025-03-07T01:01:27.020Z"
   },
   {
    "duration": 16,
    "start_time": "2025-03-07T01:03:32.464Z"
   },
   {
    "duration": 29,
    "start_time": "2025-03-07T01:04:25.527Z"
   },
   {
    "duration": 7,
    "start_time": "2025-03-07T01:06:53.674Z"
   },
   {
    "duration": 267,
    "start_time": "2025-03-07T01:07:29.354Z"
   },
   {
    "duration": 3,
    "start_time": "2025-03-07T01:12:05.886Z"
   },
   {
    "duration": 24,
    "start_time": "2025-03-07T01:12:14.767Z"
   },
   {
    "duration": 7,
    "start_time": "2025-03-07T01:19:05.436Z"
   },
   {
    "duration": 3,
    "start_time": "2025-03-07T01:20:02.462Z"
   },
   {
    "duration": 8,
    "start_time": "2025-03-07T01:20:10.375Z"
   },
   {
    "duration": 8,
    "start_time": "2025-03-07T01:20:36.464Z"
   },
   {
    "duration": 2105,
    "start_time": "2025-03-07T01:22:27.671Z"
   },
   {
    "duration": 127,
    "start_time": "2025-03-07T01:22:46.553Z"
   },
   {
    "duration": 156,
    "start_time": "2025-03-07T01:23:05.688Z"
   },
   {
    "duration": 6,
    "start_time": "2025-03-07T01:23:24.457Z"
   },
   {
    "duration": 195,
    "start_time": "2025-03-07T01:23:30.919Z"
   },
   {
    "duration": 5,
    "start_time": "2025-03-07T01:24:55.295Z"
   },
   {
    "duration": 155,
    "start_time": "2025-03-07T01:26:34.257Z"
   },
   {
    "duration": 99,
    "start_time": "2025-03-07T01:27:17.087Z"
   },
   {
    "duration": 451,
    "start_time": "2025-03-07T01:27:56.436Z"
   },
   {
    "duration": 5,
    "start_time": "2025-03-07T01:28:44.124Z"
   },
   {
    "duration": 165,
    "start_time": "2025-03-07T01:29:17.587Z"
   },
   {
    "duration": 37,
    "start_time": "2025-03-07T01:30:15.474Z"
   },
   {
    "duration": 1158,
    "start_time": "2025-03-07T01:31:40.264Z"
   },
   {
    "duration": 41,
    "start_time": "2025-03-07T01:32:24.185Z"
   },
   {
    "duration": 10,
    "start_time": "2025-03-07T01:41:55.932Z"
   },
   {
    "duration": 3,
    "start_time": "2025-03-07T01:41:56.396Z"
   },
   {
    "duration": 2,
    "start_time": "2025-03-07T01:42:01.987Z"
   },
   {
    "duration": 9255,
    "start_time": "2025-03-07T01:42:24.012Z"
   },
   {
    "duration": 4184,
    "start_time": "2025-03-07T01:42:37.332Z"
   },
   {
    "duration": 186,
    "start_time": "2025-03-07T01:42:44.663Z"
   },
   {
    "duration": 167,
    "start_time": "2025-03-07T01:53:12.180Z"
   },
   {
    "duration": 315,
    "start_time": "2025-03-07T20:03:56.699Z"
   },
   {
    "duration": 1059,
    "start_time": "2025-03-07T20:03:57.017Z"
   },
   {
    "duration": 11,
    "start_time": "2025-03-07T20:03:58.078Z"
   },
   {
    "duration": 10,
    "start_time": "2025-03-07T20:03:58.091Z"
   },
   {
    "duration": 24,
    "start_time": "2025-03-07T20:03:58.105Z"
   },
   {
    "duration": 9,
    "start_time": "2025-03-07T20:03:58.132Z"
   },
   {
    "duration": 25,
    "start_time": "2025-03-07T20:03:58.142Z"
   },
   {
    "duration": 127,
    "start_time": "2025-03-07T20:03:58.169Z"
   },
   {
    "duration": 36,
    "start_time": "2025-03-07T20:03:58.298Z"
   },
   {
    "duration": 120,
    "start_time": "2025-03-07T20:03:58.336Z"
   },
   {
    "duration": 10,
    "start_time": "2025-03-07T20:03:58.458Z"
   },
   {
    "duration": 28,
    "start_time": "2025-03-07T20:03:58.470Z"
   },
   {
    "duration": 28,
    "start_time": "2025-03-07T20:03:58.499Z"
   },
   {
    "duration": 4,
    "start_time": "2025-03-07T20:03:58.531Z"
   },
   {
    "duration": 24,
    "start_time": "2025-03-07T20:03:58.536Z"
   },
   {
    "duration": 11,
    "start_time": "2025-03-07T20:03:58.562Z"
   },
   {
    "duration": 4,
    "start_time": "2025-03-07T20:03:58.574Z"
   },
   {
    "duration": 5,
    "start_time": "2025-03-07T20:03:58.580Z"
   },
   {
    "duration": 39,
    "start_time": "2025-03-07T20:03:58.586Z"
   },
   {
    "duration": 5,
    "start_time": "2025-03-07T20:03:58.626Z"
   },
   {
    "duration": 813,
    "start_time": "2025-03-07T20:03:58.632Z"
   },
   {
    "duration": 235,
    "start_time": "2025-03-07T20:03:59.448Z"
   },
   {
    "duration": 6,
    "start_time": "2025-03-07T20:03:59.685Z"
   },
   {
    "duration": 9,
    "start_time": "2025-03-07T20:03:59.693Z"
   },
   {
    "duration": 28,
    "start_time": "2025-03-07T20:03:59.704Z"
   },
   {
    "duration": 6,
    "start_time": "2025-03-07T20:03:59.734Z"
   },
   {
    "duration": 7,
    "start_time": "2025-03-07T20:03:59.741Z"
   },
   {
    "duration": 6,
    "start_time": "2025-03-07T20:03:59.750Z"
   },
   {
    "duration": 213,
    "start_time": "2025-03-07T20:03:59.758Z"
   },
   {
    "duration": 17,
    "start_time": "2025-03-07T20:03:59.973Z"
   },
   {
    "duration": 47,
    "start_time": "2025-03-07T20:03:59.991Z"
   },
   {
    "duration": 7,
    "start_time": "2025-03-07T20:04:00.039Z"
   },
   {
    "duration": 313,
    "start_time": "2025-03-07T20:04:00.048Z"
   },
   {
    "duration": 25,
    "start_time": "2025-03-07T20:04:00.363Z"
   },
   {
    "duration": 7,
    "start_time": "2025-03-07T20:04:00.390Z"
   },
   {
    "duration": 2109,
    "start_time": "2025-03-07T20:04:00.399Z"
   },
   {
    "duration": 136,
    "start_time": "2025-03-07T20:04:02.510Z"
   },
   {
    "duration": 162,
    "start_time": "2025-03-07T20:04:02.649Z"
   },
   {
    "duration": 191,
    "start_time": "2025-03-07T20:04:02.813Z"
   },
   {
    "duration": 212,
    "start_time": "2025-03-07T20:04:03.006Z"
   },
   {
    "duration": 112,
    "start_time": "2025-03-07T20:04:03.222Z"
   },
   {
    "duration": 489,
    "start_time": "2025-03-07T20:04:03.336Z"
   },
   {
    "duration": 174,
    "start_time": "2025-03-07T20:04:03.827Z"
   },
   {
    "duration": 218,
    "start_time": "2025-03-07T20:04:04.002Z"
   },
   {
    "duration": 1258,
    "start_time": "2025-03-07T20:04:04.224Z"
   },
   {
    "duration": 51,
    "start_time": "2025-03-07T20:04:05.485Z"
   },
   {
    "duration": 7,
    "start_time": "2025-03-07T20:04:05.537Z"
   }
  ],
  "colab": {
   "provenance": []
  },
  "kernelspec": {
   "display_name": "Python 3 (ipykernel)",
   "language": "python",
   "name": "python3"
  },
  "language_info": {
   "codemirror_mode": {
    "name": "ipython",
    "version": 3
   },
   "file_extension": ".py",
   "mimetype": "text/x-python",
   "name": "python",
   "nbconvert_exporter": "python",
   "pygments_lexer": "ipython3",
   "version": "3.9.19"
  },
  "toc": {
   "base_numbering": 1,
   "nav_menu": {},
   "number_sections": true,
   "sideBar": true,
   "skip_h1_title": true,
   "title_cell": "Table of Contents",
   "title_sidebar": "Contents",
   "toc_cell": false,
   "toc_position": {},
   "toc_section_display": true,
   "toc_window_display": false
  },
  "vscode": {
   "interpreter": {
    "hash": "01a7be9ec63e704a62cefc5fe7a4756944464ee731be31632bdf42a4cb4688cf"
   }
  }
 },
 "nbformat": 4,
 "nbformat_minor": 5
}
